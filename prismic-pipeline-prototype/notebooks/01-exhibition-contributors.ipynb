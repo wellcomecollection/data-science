{
 "cells": [
  {
   "cell_type": "code",
   "execution_count": null,
   "metadata": {},
   "outputs": [],
   "source": [
    "import pandas as pd\n",
    "from collections import Counter\n",
    "import json\n",
    "from pathlib import Path"
   ]
  },
  {
   "attachments": {},
   "cell_type": "markdown",
   "metadata": {},
   "source": [
    "load all of the exhibitions from `data/prismic/exhibitions/{id}.json`"
   ]
  },
  {
   "cell_type": "code",
   "execution_count": null,
   "metadata": {},
   "outputs": [],
   "source": [
    "data_path = Path(\"../data/prismic/exhibitions\")\n",
    "\n",
    "exhibitions = [\n",
    "    json.load(open(file))\n",
    "    for file in data_path.glob(\"*.json\")\n",
    "]\n",
    "    "
   ]
  },
  {
   "attachments": {},
   "cell_type": "markdown",
   "metadata": {},
   "source": [
    "empty contributors look like this:"
   ]
  },
  {
   "cell_type": "raw",
   "metadata": {},
   "source": [
    "\"contributors\": [\n",
    "    {\n",
    "        \"role\": {\n",
    "            \"link_type\": \"Document\"\n",
    "        },\n",
    "        \"contributor\": {\n",
    "            \"link_type\": \"Document\"\n",
    "        },\n",
    "        \"description\": []\n",
    "    }\n",
    "],"
   ]
  },
  {
   "attachments": {},
   "cell_type": "markdown",
   "metadata": {},
   "source": [
    "populated contributors look like this:"
   ]
  },
  {
   "attachments": {},
   "cell_type": "raw",
   "metadata": {},
   "source": [
    "\"contributors\": [\n",
    "    {\n",
    "        \"role\": {\n",
    "            \"id\": \"Wux6DyIAAO5n3lzk\",\n",
    "            \"type\": \"editorial-contributor-roles\",\n",
    "            \"tags\": [],\n",
    "            \"lang\": \"en-gb\",\n",
    "            \"slug\": \"artist\",\n",
    "            \"first_publication_date\": \"2018-05-04T15:19:48+0000\",\n",
    "            \"last_publication_date\": \"2019-08-14T14:31:04+0000\",\n",
    "            \"link_type\": \"Document\",\n",
    "            \"isBroken\": false\n",
    "        },\n",
    "        \"contributor\": {\n",
    "            \"id\": \"WqqTpiAAACAAH7aY\",\n",
    "            \"type\": \"people\",\n",
    "            \"tags\": [],\n",
    "            \"lang\": \"en-gb\",\n",
    "            \"slug\": \"martina-amati\",\n",
    "            \"first_publication_date\": \"2018-03-15T15:39:30+0000\",\n",
    "            \"last_publication_date\": \"2019-01-16T16:18:08+0000\",\n",
    "            \"link_type\": \"Document\",\n",
    "            \"isBroken\": false\n",
    "        },\n",
    "        \"description\": [\n",
    "            {\n",
    "                \"type\": \"paragraph\",\n",
    "                \"text\": \"\",\n",
    "                \"spans\": []\n",
    "            }\n",
    "        ]\n",
    "    },\n",
    "    {\n",
    "        \"role\": {\n",
    "            \"id\": \"Wux58SIAACh53lxV\",\n",
    "            \"type\": \"editorial-contributor-roles\",\n",
    "            \"tags\": [],\n",
    "            \"lang\": \"en-gb\",\n",
    "            \"slug\": \"scientist\",\n",
    "            \"first_publication_date\": \"2018-05-04T15:19:32+0000\",\n",
    "            \"last_publication_date\": \"2018-05-04T15:19:32+0000\",\n",
    "            \"link_type\": \"Document\",\n",
    "            \"isBroken\": false\n",
    "        },\n",
    "        \"contributor\": {\n",
    "            \"id\": \"WurpgSIAAJP413dn\",\n",
    "            \"type\": \"people\",\n",
    "            \"tags\": [],\n",
    "            \"lang\": \"en-gb\",\n",
    "            \"slug\": \"professor-kevin--fong\",\n",
    "            \"first_publication_date\": \"2018-05-03T10:50:49+0000\",\n",
    "            \"last_publication_date\": \"2019-01-16T16:18:08+0000\",\n",
    "            \"link_type\": \"Document\",\n",
    "            \"isBroken\": false\n",
    "        },\n",
    "        \"description\": [\n",
    "            {\n",
    "                \"type\": \"paragraph\",\n",
    "                \"text\": \"\",\n",
    "                \"spans\": []\n",
    "            }\n",
    "        ]\n",
    "    }\n",
    "],"
   ]
  },
  {
   "attachments": {},
   "cell_type": "markdown",
   "metadata": {},
   "source": [
    "find all of the contributors in `exhibitions[\"data\"]`"
   ]
  },
  {
   "cell_type": "code",
   "execution_count": null,
   "metadata": {},
   "outputs": [],
   "source": [
    "results = pd.Series(Counter([\n",
    "    contributor[\"contributor\"][\"slug\"]\n",
    "    for exhibition in exhibitions \n",
    "    for contributor in exhibition[\"data\"][\"contributors\"]\n",
    "    if \"slug\" in contributor[\"contributor\"]\n",
    "]))\n",
    "\n",
    "print(results.to_markdown())"
   ]
  },
  {
   "cell_type": "code",
   "execution_count": null,
   "metadata": {},
   "outputs": [],
   "source": []
  }
 ],
 "metadata": {
  "kernelspec": {
   "display_name": "Python 3",
   "language": "python",
   "name": "python3"
  },
  "language_info": {
   "codemirror_mode": {
    "name": "ipython",
    "version": 3
   },
   "file_extension": ".py",
   "mimetype": "text/x-python",
   "name": "python",
   "nbconvert_exporter": "python",
   "pygments_lexer": "ipython3",
   "version": "3.10.9"
  },
  "vscode": {
   "interpreter": {
    "hash": "eda7e54fe21129b67f77862937907ee926f057597a3e2fa1e18ac955e40912b3"
   }
  }
 },
 "nbformat": 4,
 "nbformat_minor": 2
}

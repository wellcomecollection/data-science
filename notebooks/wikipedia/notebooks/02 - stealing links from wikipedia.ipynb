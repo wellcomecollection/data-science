{
 "cells": [
  {
   "cell_type": "code",
   "execution_count": null,
   "metadata": {},
   "outputs": [],
   "source": [
    "import re\n",
    "import json\n",
    "import requests\n",
    "import wikipedia\n",
    "import pandas as pd\n",
    "from bs4 import BeautifulSoup\n",
    "from tqdm import tqdm_notebook as tqdm\n",
    "from IPython.core.display import display, HTML"
   ]
  },
  {
   "cell_type": "raw",
   "metadata": {},
   "source": [
    "calm_records = pd.read_json('/Users/pimh/datasets/wellcome/calm_records.json')"
   ]
  },
  {
   "cell_type": "markdown",
   "metadata": {},
   "source": [
    "# dummy data from [PP/CRI](http://archives.wellcomelibrary.org/DServe/dserve.exe?dsqIni=Dserve.ini&dsqApp=Archive&dsqCmd=Show.tcl&dsqDb=Catalog&dsqPos=8&dsqSearch=%28%28text%29%3D%27crick%27%29)"
   ]
  },
  {
   "cell_type": "code",
   "execution_count": null,
   "metadata": {},
   "outputs": [],
   "source": [
    "title = \"Francis Crick (1916-2004): archives\""
   ]
  },
  {
   "cell_type": "code",
   "execution_count": null,
   "metadata": {},
   "outputs": [],
   "source": [
    "archive_material = \"\"\"\n",
    "<p><b>Career</b>\n",
    "<p>Francis Harry Compton <span class=\"HIT\">Crick</span> was born 8 June, 1916, in Northampton, England, the elder child of Harry <span class=\"HIT\">Crick</span> and Annie Elizabeth Wilkins.  He was educated at Northampton Grammar School and Mill Hill School, London.  Subsequently, <span class=\"HIT\">Crick</span> studied physics at University College London (UCL), obtaining his BSc in 1937.  He remained at UCL, and commenced doctoral research under Professor E N da C Andrade, investigating the viscosity of water at temperatures above 100ºC, but his study was interrupted by the outbreak of war in 1939.</p>\n",
    "\n",
    "<p>During World War II, <span class=\"HIT\">Crick</span> was a scientist at the British Admiralty Research Laboratory, working on non-contact magnetic and acoustic mines.  He continued to work at the Admiralty immediately after the war.  In 1947, he obtained a Medical Council Research Studentship and re-commenced graduate study, this time at Strangeways Laboratory in Cambridge.  There, he worked under Arthur Hughes, studying the physical properties of cytoplasm in cultured fibroblast cells, but did not submit a dissertation.  During this period, <span class=\"HIT\">Crick</span> began to read widely and purposefully in biology and chemistry, developing a particular interest in the nature of genetic material and in protein structure.  In June, 1949, <span class=\"HIT\">Crick</span> joined the staff of the Medical Research Council Unit at the Cavendish Laboratory, Cambridge.  With the encouragement of Sir Edward Mellenby, Secretary to the MRC, he also re-registered his research degree at Gonville and Caius College, Cambridge.</p>\n",
    "\n",
    "<p>At the Cavendish, headed by Sir Lawrence Bragg, <span class=\"HIT\">Crick</span> joined a small team that included Max Perutz and John Kendrew, investigating the structure of proteins through X-ray crystallography, an investigative technique which was then entirely new to <span class=\"HIT\">Crick</span>.  He proved a rapid learner.  Together with W Cochran and V Vand, <span class=\"HIT\">Crick</span> determined the general theory of X-ray diffraction patterns produced by continuous and discontinuous helices.  The theory of helices formed a major component of his PhD thesis, by now entirely concerned with X-ray crystallography.  Drafted during 1952-53, <i>X-ray diffraction: polypeptides and proteins</i> was submitted to Gonville and Caius College, Cambridge, in July, 1953, shortly after the publication of his first papers with James D Watson on the structure of DNA.</p>\n",
    "\n",
    "<p>James Watson came to the Cavendish Laboratory in the autumn of 1951 as a young man of twenty-three, with a PhD in genetics and an equally passionate interest in identifying the structure of genetic material.  Drawing upon experimental data produced at King's College by Rosalind Franklin and Maurice Wilkins, <span class=\"HIT\">Crick</span> and Watson published four papers during 1953-54, in which they elaborated a double-helical structure for DNA, and postulated a relationship between that structure and the transmission of genetic information.</p>\n",
    "\n",
    "<p><span class=\"HIT\">Crick</span> continued to explore the structure of other molecules, in his work on collagen with Alexander Rich (from 1955), and further work with Watson on the structure of viruses (1956).  He also continued to explore practical and theoretical aspects of crystallography, collaborating with Beatrice Magdoff on isomorphous replacement (1956).  The majority of his attention, however, was given to understanding the way in which genetic information is encoded in DNA, and the manner of its determination of protein formation.  During the 1950s and 1960s, <span class=\"HIT\">Crick</span> published a number of influential theoretical papers which addressed the transfer of genetic information, including:  \"On degenerate templates and the adaptor hypothesis: a note for the RNA Tie Club\" (privately circulated, 1955), \"On protein synthesis\" (1958), \"General nature of the genetic code for proteins\" (1961), \"On the genetic code\" (1962), \"Codon-anticodon pairing: the wobble hypothesis\" (1966), and \"The central dogma of molecular biology\" (1970).</p>\n",
    "\n",
    "<p>In February 1962, <span class=\"HIT\">Crick</span> and Sydney Brenner took joint charge of the Molecular Genetics Division, at the newly-opened Laboratory of Molecular Biology, in Cambridge.  Brenner and <span class=\"HIT\">Crick</span> had worked together since Brenner's arrival from South Africa, in 1956, when he joined the MRC Unit at the Cavendish.  Together, they established, in 1961, through genetic work with acridine mutants, that the genetic code had a triple ratio.  Under <span class=\"HIT\">Crick</span> and Brenner, the Molecular Genetics Division concentrated its research on the genetics and biochemistry of control mechanisms in cellular development.  Brenner began comprehensive research on <i>Caenorhabditis elegans</i>, a small (1 mm long) soil nematode, establishing it as a powerful experimental system for the analysis of complex biological processes.  <span class=\"HIT\">Crick</span> became interested in embryogenesis and in chromosome structure.  By now, he was in great demand as a speaker, a role in which he excelled, and he regularly undertook, in addition to his work at Cambridge, a considerable number of lecture engagements across the world.</p>\n",
    "\n",
    "<p>From 1976-1977, <span class=\"HIT\">Crick</span> was Ferkhauf Foundation Visiting Professor at the Salk Institute for Biological Studies, a privately-funded research institute based at La Jolla, California.  From 1977, his position there became permanent with his appointment as J W Kieckhefer Distinguished Research Professor.  His decision to leave Cambridge grew from a longstanding involvement with the work of the American Institute and a desire to tackle a fresh field of study: the neurobiological basis of consciousness.  In 1962, <span class=\"HIT\">Crick</span> had become a Non-Resident Fellow of the newly-formed Salk Institute (the first laboratory was opened in 1963).  In addition to <span class=\"HIT\">Crick</span>, the first faculty of resident and non-resident Fellows gathered by Jonas Salk included Jacob Bronowski, Melvin Cohn, Renato Dulbecco, Edwin Lennox, Leslie Orgel, Leo Szilard,  Salvador Luria, Jaques Monod, and Warren Weaver.  From 1962 until 1976, <span class=\"HIT\">Crick</span> made regular trips to the Salk Institute, often incorporating his time there with other American academic commitments.  <span class=\"HIT\">Crick</span> also served as President of the Salk Institute (1994-1995).</p>\n",
    "\n",
    "<p>After moving to America, <span class=\"HIT\">Crick</span> published a number of papers in neurobiology.  Proceeding from the position that consciousness derives from bio-chemical reactions in the brain, <span class=\"HIT\">Crick</span> rejected a 'black-box' approach, electing to begin - as he and Watson had done many years before with DNA - from an understanding of physical structure.  <span class=\"HIT\">Crick</span> worked closely with Christoph Koch and others on the neural basis of attention to discover the neural correlates of consciousness.</p>\n",
    "\n",
    "<p>In 1940 <span class=\"HIT\">Crick</span> married Ruth Doreen Dodd, with whom he had a son, Michael.  The marriage was dissolved in 1947, and in 1949 he married Odile Speed, with whom he had two daughters, Gabrielle and Jacqueline.</p>\n",
    "\n",
    "<p><span class=\"HIT\">Crick</span> died on 28 July 2004 at Thornton Hospital, San Diego.</p>\n",
    "\n",
    "<p><b>Publications</b><br>\n",
    "In addition to his many scientific papers, <span class=\"HIT\">Crick</span> published:  <i>Of Molecules and Men</i> (1966), <i>Life Itself: Its Origin and Nature</i> (1981), <i>What Mad Pursuit: A Personal View of Scientific Discovery</i> (1988), and <i>The Astonishing Hypothesis: The Scientific Search for the Soul</i> (1994).</p>\n",
    "\n",
    "<p><b>Awards and Honours</b><br>\n",
    "In 1962, <span class=\"HIT\">Crick</span> shared the Nobel Prize in Physiology or Medicine with James Watson and Maurice Wilkins, in recognition of their respective contributions to the discovery of the structure of DNA.  Although <span class=\"HIT\">Crick</span> consistently declined honorary degrees, he was the recipient of a number of awards and honours.  They include:  Fellow of the Royal Society (1959), Warren Triennial Prize (1959), Albert Lasker Award (1960), Le Prix Charles-Léopold Mayer (1961), Royal Society Royal Medal (1972), Royal Society Copley Medal (1975), Order of Merit (1991), and University of California (San Diego Division of Biological Sciences) inaugural Life Sciences Achievement Award (2003). Francis <span class=\"HIT\">Crick</span> was a Fellow of University College, London, Honorary Fellow of Churchill College Cambridge, and Honorary Fellow of Caius College, Cambridge.</p>\n",
    "\"\"\""
   ]
  },
  {
   "cell_type": "markdown",
   "metadata": {},
   "source": [
    "# get the links from crick's wikipedia page"
   ]
  },
  {
   "cell_type": "code",
   "execution_count": null,
   "metadata": {},
   "outputs": [],
   "source": [
    "print(wikipedia.page(title).url)"
   ]
  },
  {
   "cell_type": "code",
   "execution_count": null,
   "metadata": {},
   "outputs": [],
   "source": [
    "wikipedia_page_links = [\n",
    "    re.sub(r\"\\ \\(.*\\)\", \"\", link) for link in wikipedia.page(title).links\n",
    "]\n",
    "\n",
    "wikipedia_page_links.sort(key=lambda x: len(x.split()), reverse=True)"
   ]
  },
  {
   "cell_type": "code",
   "execution_count": null,
   "metadata": {},
   "outputs": [],
   "source": [
    "wikipedia_page_links"
   ]
  },
  {
   "cell_type": "markdown",
   "metadata": {},
   "source": [
    "# find instances of those links in the archive description"
   ]
  },
  {
   "cell_type": "code",
   "execution_count": null,
   "metadata": {},
   "outputs": [],
   "source": [
    "html_dict = {}\n",
    "found_link_titles = []\n",
    "\n",
    "for link_title in tqdm(wikipedia_page_links):\n",
    "    if link_title in archive_material:\n",
    "        try:\n",
    "            url = wikipedia.page(link_title).url\n",
    "            link_html = f'<a href=\"{url}\">{link_title}</a>'\n",
    "            archive_material = archive_material.replace(\n",
    "                link_title, str(hash(link_html))\n",
    "            )\n",
    "            html_dict[str(hash(link_html))] = link_html\n",
    "            found_link_titles.append(link_title)\n",
    "        except wikipedia.DisambiguationError:\n",
    "            print(\"couldn't disambiguate\", link_title)\n",
    "\n",
    "for key, value in html_dict.items():\n",
    "    archive_material = archive_material.replace(key, value)"
   ]
  },
  {
   "cell_type": "code",
   "execution_count": null,
   "metadata": {},
   "outputs": [],
   "source": [
    "display(HTML(archive_material))"
   ]
  },
  {
   "cell_type": "markdown",
   "metadata": {},
   "source": [
    "# use wikidata to grab authority ids for all the linkable things in the archive record"
   ]
  },
  {
   "cell_type": "code",
   "execution_count": null,
   "metadata": {},
   "outputs": [],
   "source": [
    "def find_authorities(name):\n",
    "    url = wikipedia.page(name).url\n",
    "    html = requests.get(url).content\n",
    "    soup = BeautifulSoup(html)\n",
    "\n",
    "    wikidata_id = [\n",
    "        link.get(\"href\").split(\"/\")[-1]\n",
    "        for link in soup.find_all(\"a\")\n",
    "        if link.text == \"Wikidata item\"\n",
    "    ][0]\n",
    "\n",
    "    wikidata_url = (\n",
    "        f\"https://www.wikidata.org/wiki/Special:EntityData/{wikidata_id}.json\"\n",
    "    )\n",
    "    wikidata_json = requests.get(wikidata_url).json()\n",
    "\n",
    "    try:\n",
    "        LCSH_id = wikidata_json[\"entities\"][wikidata_id][\"claims\"][\"P244\"][0][\n",
    "            \"mainsnak\"\n",
    "        ][\"datavalue\"][\"value\"]\n",
    "    except:\n",
    "        LCSH_id = None\n",
    "\n",
    "    authorities = {\"name\": name, \"wikidata_id\": wikidata_id, \"LCSH_id\": LCSH_id}\n",
    "\n",
    "    return authorities"
   ]
  },
  {
   "cell_type": "code",
   "execution_count": null,
   "metadata": {},
   "outputs": [],
   "source": [
    "authorities = pd.DataFrame(\n",
    "    [find_authorities(title) for title in tqdm(found_link_titles)]\n",
    ").drop_duplicates(\"wikidata_id\")"
   ]
  },
  {
   "cell_type": "code",
   "execution_count": null,
   "metadata": {},
   "outputs": [],
   "source": [
    "authorities"
   ]
  },
  {
   "cell_type": "code",
   "execution_count": null,
   "metadata": {},
   "outputs": [],
   "source": []
  }
 ],
 "metadata": {
  "kernelspec": {
   "display_name": "Python [conda env:pytorch_p36]",
   "language": "python",
   "name": "conda-env-pytorch_p36-py"
  },
  "language_info": {
   "codemirror_mode": {
    "name": "ipython",
    "version": 3
   },
   "file_extension": ".py",
   "mimetype": "text/x-python",
   "name": "python",
   "nbconvert_exporter": "python",
   "pygments_lexer": "ipython3",
   "version": "3.6.4"
  }
 },
 "nbformat": 4,
 "nbformat_minor": 2
}

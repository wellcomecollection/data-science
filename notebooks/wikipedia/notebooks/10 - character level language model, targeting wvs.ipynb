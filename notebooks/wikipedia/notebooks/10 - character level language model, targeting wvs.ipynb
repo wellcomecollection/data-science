{
 "cells": [
  {
   "cell_type": "code",
   "execution_count": null,
   "metadata": {},
   "outputs": [],
   "source": [
    "%matplotlib inline\n",
    "import matplotlib.pyplot as plt\n",
    "import seaborn as sns\n",
    "\n",
    "sns.set_style(\"whitegrid\")\n",
    "plt.rcParams[\"figure.figsize\"] = (20, 20)\n",
    "\n",
    "import re\n",
    "import os\n",
    "import io\n",
    "import nltk\n",
    "import numpy as np\n",
    "import pandas as pd\n",
    "from bs4 import BeautifulSoup\n",
    "from tqdm import tqdm_notebook as tqdm\n",
    "from nltk import word_tokenize, sent_tokenize\n",
    "from sklearn.preprocessing import OneHotEncoder\n",
    "\n",
    "import torch\n",
    "from torch import nn, optim\n",
    "from torch.utils.data import Dataset, DataLoader\n",
    "from torch.nn.utils.rnn import pack_padded_sequence, pad_packed_sequence, pad_sequence\n",
    "\n",
    "nltk.download(\"punkt\")\n",
    "device = torch.device(\"cuda\" if torch.cuda.is_available() else \"cpu\")"
   ]
  },
  {
   "cell_type": "markdown",
   "metadata": {},
   "source": [
    "# data"
   ]
  },
  {
   "cell_type": "code",
   "execution_count": null,
   "metadata": {},
   "outputs": [],
   "source": [
    "base_path = \"/mnt/efs/wikipedia/dumps/text/\"\n",
    "paths = np.random.choice(os.listdir(base_path), size=1)\n",
    "\n",
    "all_text = \"\"\n",
    "for path in paths:\n",
    "    for filename in tqdm(os.listdir(base_path + path)):\n",
    "        with open(base_path + path + \"/\" + filename, \"rb\") as f:\n",
    "            all_text += f.read().decode(\"latin1\")\n",
    "\n",
    "pattern = r\"(?:<doc.+>)((.|\\s|\\S)*?)(?:<\\/doc>)\"\n",
    "articles = [article[0] for article in re.findall(pattern, all_text)]"
   ]
  },
  {
   "cell_type": "code",
   "execution_count": null,
   "metadata": {},
   "outputs": [],
   "source": [
    "articles = np.random.choice(articles, size=20000)"
   ]
  },
  {
   "cell_type": "markdown",
   "metadata": {},
   "source": [
    "### cleaning pipeline"
   ]
  },
  {
   "cell_type": "code",
   "execution_count": null,
   "metadata": {},
   "outputs": [],
   "source": [
    "def tokenize(sentence):\n",
    "    \"\"\"moses tokeniser\"\"\"\n",
    "    seq = \" \".join(word_tokenize(sentence))\n",
    "    seq = seq.replace(\" n't \", \"n 't \")\n",
    "    return seq.split()\n",
    "\n",
    "\n",
    "def label_linkable_tokens(sentence, label_all=True):\n",
    "    parsed_html = BeautifulSoup(sentence, \"html.parser\")\n",
    "\n",
    "    link_text = [link.text for link in parsed_html.find_all(\"a\")]\n",
    "    tokenised_links = [tokenize(link) for link in link_text]\n",
    "    tokenised_text = tokenize(parsed_html.text)\n",
    "    target_sequence = np.zeros(len(tokenised_text))\n",
    "\n",
    "    for link in tokenised_links:\n",
    "        start_positions = kmp(tokenised_text, link)\n",
    "        if label_all:\n",
    "            for pos in start_positions:\n",
    "                target_sequence[pos : pos + len(link)] = 1\n",
    "        elif label_all == False and len(start_positions) > 0:\n",
    "            pos = start_positions[0]\n",
    "            target_sequence[pos : pos + len(link)] = 1\n",
    "        else:\n",
    "            pass\n",
    "\n",
    "    return tokenised_text, target_sequence.reshape(-1, 1)\n",
    "\n",
    "\n",
    "def kmp(sequence, sub):\n",
    "    \"\"\"\n",
    "    Knuth–Morris–Pratt algorithm, returning the starting position\n",
    "    of a specified subsequence within another, larger sequence.\n",
    "    Usually used for string matching.\n",
    "    \"\"\"\n",
    "    partial = [0]\n",
    "    for i in range(1, len(sub)):\n",
    "        j = partial[i - 1]\n",
    "        while j > 0 and sub[j] != sub[i]:\n",
    "            j = partial[j - 1]\n",
    "        partial.append(j + 1 if sub[j] == sub[i] else j)\n",
    "\n",
    "    positions, j = [], 0\n",
    "    for i in range(len(sequence)):\n",
    "        while j > 0 and sequence[i] != sub[j]:\n",
    "            j = partial[j - 1]\n",
    "        if sequence[i] == sub[j]:\n",
    "            j += 1\n",
    "        if j == len(sub):\n",
    "            positions.append(i - (j - 1))\n",
    "            j = 0\n",
    "\n",
    "    return positions"
   ]
  },
  {
   "cell_type": "code",
   "execution_count": null,
   "metadata": {},
   "outputs": [],
   "source": [
    "token_sequences, target_sequences = [], []\n",
    "\n",
    "for i, article in enumerate(tqdm(articles)):\n",
    "    for j, sentence in enumerate(sent_tokenize(article)):\n",
    "        try:\n",
    "            tokenized_sentence, target_sequence = label_linkable_tokens(sentence)\n",
    "            token_sequences.append(tokenized_sentence)\n",
    "            target_sequences.append(target_sequence)\n",
    "        except:\n",
    "            pass"
   ]
  },
  {
   "cell_type": "code",
   "execution_count": null,
   "metadata": {},
   "outputs": [],
   "source": [
    "len(token_sequences)"
   ]
  },
  {
   "cell_type": "markdown",
   "metadata": {},
   "source": [
    "# character level inputs"
   ]
  },
  {
   "cell_type": "code",
   "execution_count": null,
   "metadata": {},
   "outputs": [],
   "source": [
    "unique_characters = set(\" \".join([token for seq in token_sequences for token in seq]))"
   ]
  },
  {
   "cell_type": "code",
   "execution_count": null,
   "metadata": {},
   "outputs": [],
   "source": [
    "special_cases = [\"xxunk\", \"xxpad\", \"xxbos\", \"xxeos\"]\n",
    "\n",
    "for case in special_cases:\n",
    "    unique_characters.add(case)"
   ]
  },
  {
   "cell_type": "code",
   "execution_count": null,
   "metadata": {},
   "outputs": [],
   "source": [
    "char_to_ix = {char: ix for ix, char in enumerate(unique_characters)}\n",
    "ix_to_char = {ix: char for ix, char in enumerate(unique_characters)}"
   ]
  },
  {
   "cell_type": "markdown",
   "metadata": {},
   "source": [
    "# fasttext and a word vector embedding matrix "
   ]
  },
  {
   "cell_type": "code",
   "execution_count": null,
   "metadata": {},
   "outputs": [],
   "source": [
    "n_wvs = 100000\n",
    "wv_path = \"/mnt/efs/text/word_vectors/wiki-news-300d-1M.vec\"\n",
    "wv_file = io.open(wv_path, \"r\", encoding=\"utf-8\", newline=\"\\n\", errors=\"ignore\")\n",
    "lines_to_parse = list(wv_file)[1:n_wvs]\n",
    "\n",
    "fasttext = {\n",
    "    line.split()[0]: np.array(line.split()[1:]).astype(np.float32)\n",
    "    for line in tqdm(lines_to_parse)\n",
    "}"
   ]
  },
  {
   "cell_type": "code",
   "execution_count": null,
   "metadata": {},
   "outputs": [],
   "source": [
    "from collections import Counter\n",
    "\n",
    "all_tokens = [tok for seq in token_sequences for tok in seq]\n",
    "\n",
    "article_vocabulary, _ = zip(*Counter(all_tokens).most_common(n_wvs))\n",
    "article_vocabulary = set(article_vocabulary)"
   ]
  },
  {
   "cell_type": "code",
   "execution_count": null,
   "metadata": {},
   "outputs": [],
   "source": [
    "for case in special_cases:\n",
    "    article_vocabulary.add(case)\n",
    "    fasttext[case] = np.random.random(300)"
   ]
  },
  {
   "cell_type": "code",
   "execution_count": null,
   "metadata": {},
   "outputs": [],
   "source": [
    "len(article_vocabulary)"
   ]
  },
  {
   "cell_type": "code",
   "execution_count": null,
   "metadata": {},
   "outputs": [],
   "source": [
    "article_vocabulary_list = list(article_vocabulary)\n",
    "token_to_ix = {token: index for index, token in enumerate(article_vocabulary_list)}\n",
    "ix_to_token = {index: token for index, token in enumerate(article_vocabulary_list)}"
   ]
  },
  {
   "cell_type": "code",
   "execution_count": null,
   "metadata": {},
   "outputs": [],
   "source": [
    "word_vector_embedding_matrix = torch.FloatTensor(\n",
    "    [\n",
    "        fasttext[token] if token in fasttext else fasttext[\"xxunk\"]\n",
    "        for token in article_vocabulary\n",
    "    ]\n",
    ")"
   ]
  },
  {
   "cell_type": "markdown",
   "metadata": {},
   "source": [
    "# dataset and dataloader"
   ]
  },
  {
   "cell_type": "code",
   "execution_count": null,
   "metadata": {},
   "outputs": [],
   "source": [
    "class SentenceDataset(Dataset):\n",
    "    def __init__(self, token_seqs, word_vector_embedding_matrix):\n",
    "        self.wv_embedding = nn.Embedding.from_pretrained(word_vector_embedding_matrix)\n",
    "\n",
    "        # impose length constraint\n",
    "        where_big_enough = np.where([len(seq) > 3 for seq in token_seqs])\n",
    "        self.token_seqs = np.array(token_seqs)[where_big_enough]\n",
    "\n",
    "        # find prediction points for language model\n",
    "        self.exit_ix_seqs = [self.find_exit_points(seq) for seq in self.token_seqs]\n",
    "\n",
    "        # indexify\n",
    "        self.char_ix_seqs = [self.indexify_chars(seq) for seq in self.token_seqs]\n",
    "\n",
    "        self.token_wv_seqs = [self.vectorise_tokens(seq) for seq in self.token_seqs]\n",
    "\n",
    "    def __getitem__(self, ix):\n",
    "        char_ix_seq = self.char_ix_seqs[ix]\n",
    "        token_wv_seq = self.token_wv_seqs[ix]\n",
    "        exit_ix_seq = self.exit_ix_seqs[ix]\n",
    "        return char_ix_seq, token_wv_seq, exit_ix_seq\n",
    "\n",
    "    def __len__(self):\n",
    "        return len(self.token_seqs)\n",
    "\n",
    "    def vectorise_tokens(self, token_seq):\n",
    "        ix_seq = torch.LongTensor(\n",
    "            np.array(\n",
    "                [\n",
    "                    token_to_ix[token]\n",
    "                    if token in article_vocabulary\n",
    "                    else token_to_ix[\"xxunk\"]\n",
    "                    for token in token_seq\n",
    "                ]\n",
    "                + [token_to_ix[\"xxeos\"]]\n",
    "            )\n",
    "        )\n",
    "        wv_seq = self.wv_embedding(ix_seq)\n",
    "        return wv_seq\n",
    "\n",
    "    def indexify_chars(self, token_seq):\n",
    "        ix_seq = np.array(\n",
    "            [char_to_ix[char] for char in \" \".join(token_seq)]\n",
    "            + [char_to_ix[\" \"], char_to_ix[\"xxeos\"]]\n",
    "        )\n",
    "        return torch.LongTensor(ix_seq)\n",
    "\n",
    "    def find_exit_points(self, token_seq):\n",
    "        exit_positions = np.cumsum([len(token) + 1 for token in token_seq])\n",
    "        return torch.LongTensor(exit_positions) - 1"
   ]
  },
  {
   "cell_type": "code",
   "execution_count": null,
   "metadata": {},
   "outputs": [],
   "source": [
    "def collate_fn(batch):\n",
    "    char_ix_seqs, token_wv_seqs, exit_ix_seqs = zip(*batch)\n",
    "\n",
    "    char_seq_lens = torch.LongTensor([len(char_seq) for char_seq in char_ix_seqs])\n",
    "\n",
    "    sorted_lengths, sort_indicies = char_seq_lens.sort(dim=0, descending=True)\n",
    "\n",
    "    sorted_char_seqs = [char_ix_seqs[i] for i in sort_indicies]\n",
    "    sorted_wv_seqs = [token_wv_seqs[i] for i in sort_indicies]\n",
    "    sorted_exit_seqs = [exit_ix_seqs[i] for i in sort_indicies]\n",
    "\n",
    "    padded_char_seqs = pad_sequence(\n",
    "        sequences=sorted_char_seqs, padding_value=char_to_ix[\"xxpad\"], batch_first=True\n",
    "    )\n",
    "\n",
    "    padded_wv_seqs = pad_sequence(\n",
    "        sequences=sorted_wv_seqs, padding_value=token_to_ix[\"xxpad\"], batch_first=True\n",
    "    )\n",
    "\n",
    "    padded_exit_seqs = pad_sequence(\n",
    "        sequences=sorted_exit_seqs, padding_value=0, batch_first=True\n",
    "    )\n",
    "\n",
    "    return padded_char_seqs, padded_wv_seqs, padded_exit_seqs, sorted_lengths"
   ]
  },
  {
   "cell_type": "code",
   "execution_count": null,
   "metadata": {},
   "outputs": [],
   "source": [
    "train_token_sequences, test_token_sequences = train_test_split(\n",
    "    token_sequences, target_sequences, test_size=0.20, random_state=42\n",
    ")"
   ]
  },
  {
   "cell_type": "code",
   "execution_count": null,
   "metadata": {},
   "outputs": [],
   "source": [
    "train_dataset = SentenceDataset(train_token_sequences, word_vector_embedding_matrix)\n",
    "\n",
    "train_loader = DataLoader(\n",
    "    dataset=train_dataset,\n",
    "    batch_size=32,\n",
    "    num_workers=5,\n",
    "    shuffle=True,\n",
    "    collate_fn=collate_fn,\n",
    ")"
   ]
  },
  {
   "cell_type": "code",
   "execution_count": null,
   "metadata": {},
   "outputs": [],
   "source": [
    "test_dataset = SentenceDataset(test_token_sequences, word_vector_embedding_matrix)\n",
    "\n",
    "test_loader = DataLoader(\n",
    "    dataset=test_dataset,\n",
    "    batch_size=32,\n",
    "    num_workers=5,\n",
    "    shuffle=True,\n",
    "    collate_fn=collate_fn,\n",
    ")"
   ]
  },
  {
   "cell_type": "markdown",
   "metadata": {},
   "source": [
    "# model"
   ]
  },
  {
   "cell_type": "code",
   "execution_count": null,
   "metadata": {},
   "outputs": [],
   "source": [
    "class LanguageModel(nn.Module):\n",
    "    def __init__(\n",
    "        self, input_dim=len(unique_characters), embedding_dim=50, hidden_dim=512\n",
    "    ):\n",
    "\n",
    "        super(LanguageModel, self).__init__()\n",
    "\n",
    "        self.embedding = nn.Embedding(input_dim, embedding_dim)\n",
    "\n",
    "        self.enc_lstm = nn.LSTM(\n",
    "            input_size=embedding_dim,\n",
    "            hidden_size=hidden_dim,\n",
    "            num_layers=1,\n",
    "            bidirectional=False,\n",
    "            # dropout=0.2\n",
    "        )\n",
    "\n",
    "        self.head = nn.Sequential(\n",
    "            nn.Dropout(0.3),\n",
    "            nn.Linear(hidden_dim, hidden_dim),\n",
    "            nn.ReLU(),\n",
    "            nn.Dropout(0.3),\n",
    "            nn.Linear(hidden_dim, 300),\n",
    "        )\n",
    "\n",
    "    def forward(self, padded_char_seqs, exit_ix_seqs, sorted_lengths):\n",
    "        x = self.embedding(padded_char_seqs)\n",
    "\n",
    "        x = pack_padded_sequence(x, lengths=sorted_lengths, batch_first=True)\n",
    "\n",
    "        x, _ = self.enc_lstm(x)\n",
    "        x, _ = pad_packed_sequence(x, batch_first=True)\n",
    "\n",
    "        # pop out the character embeddings at position of the end of each token\n",
    "        x = torch.stack([x[i, exit_ix_seqs[i]] for i in range(len(x))])\n",
    "\n",
    "        return self.head(x)"
   ]
  },
  {
   "cell_type": "code",
   "execution_count": null,
   "metadata": {},
   "outputs": [],
   "source": [
    "model = LanguageModel().to(device)"
   ]
  },
  {
   "cell_type": "markdown",
   "metadata": {},
   "source": [
    "# training"
   ]
  },
  {
   "cell_type": "code",
   "execution_count": null,
   "metadata": {},
   "outputs": [],
   "source": [
    "losses = []\n",
    "\n",
    "torch.backends.cudnn.benchmark = True\n",
    "\n",
    "trainable_parameters = filter(lambda p: p.requires_grad, model.parameters())\n",
    "\n",
    "optimiser = optim.Adam(trainable_parameters, lr=0.0001)\n",
    "\n",
    "loss_function = nn.CosineEmbeddingLoss()"
   ]
  },
  {
   "cell_type": "code",
   "execution_count": null,
   "metadata": {},
   "outputs": [],
   "source": [
    "def train(model, train_loader, loss_function, optimiser, n_epochs):\n",
    "    model.train()\n",
    "    for epoch in range(n_epochs):\n",
    "        loop = tqdm(train_loader)\n",
    "        flags = torch.ones(300).cuda()\n",
    "        for char_seqs, target_wvs, exit_ix_seqs, lengths in loop:\n",
    "            char_seqs = torch.LongTensor(char_seqs).cuda(non_blocking=True)\n",
    "            target_wvs = torch.FloatTensor(target_wvs).cuda(non_blocking=True)[:, 1:]\n",
    "            exit_ix_seqs = torch.LongTensor(exit_ix_seqs).cuda(non_blocking=True)\n",
    "            lengths = torch.LongTensor(lengths).cuda(non_blocking=True)\n",
    "\n",
    "            optimiser.zero_grad()\n",
    "            preds = model(char_seqs, exit_ix_seqs, lengths)\n",
    "\n",
    "            loss = loss_function(preds, target_wvs, flags)\n",
    "            loss.backward()\n",
    "            optimiser.step()\n",
    "\n",
    "            losses.append(loss.item())\n",
    "            loop.set_description(\"Epoch {}/{}\".format(epoch + 1, n_epochs))\n",
    "            loop.set_postfix(loss=np.mean(losses[-100:]))"
   ]
  },
  {
   "cell_type": "code",
   "execution_count": null,
   "metadata": {},
   "outputs": [],
   "source": [
    "train(\n",
    "    model=model,\n",
    "    train_loader=train_loader,\n",
    "    loss_function=loss_function,\n",
    "    optimiser=optimiser,\n",
    "    n_epochs=1,\n",
    ")"
   ]
  },
  {
   "cell_type": "code",
   "execution_count": null,
   "metadata": {},
   "outputs": [],
   "source": [
    "loss_data = pd.Series(losses[20:]).rolling(window=50).mean()\n",
    "ax = loss_data.plot()\n",
    "ax.set_ylim(0, 0.06);"
   ]
  },
  {
   "cell_type": "markdown",
   "metadata": {},
   "source": [
    "# test"
   ]
  },
  {
   "cell_type": "code",
   "execution_count": null,
   "metadata": {},
   "outputs": [],
   "source": [
    "sentence = 'Traditionally, the term \"philosophy\" referred to any body of knowledge.'\n",
    "token_seq = tokenize(sentence)\n",
    "\n",
    "exit_ix_seq = np.cumsum([len(token) + 1 for token in token_seq]) - 1\n",
    "exit_ix_seq = torch.LongTensor(exit_ix_seq).cuda()\n",
    "\n",
    "char_seq = \" \".join(token_seq)\n",
    "char_ix_seq = torch.LongTensor([[char_to_ix[c] for c in char_seq]]).cuda()\n",
    "\n",
    "x = model.embedding(char_ix_seq)\n",
    "x, _ = model.enc_lstm(x)\n",
    "x = x[0, exit_ix_seq]"
   ]
  },
  {
   "cell_type": "code",
   "execution_count": null,
   "metadata": {},
   "outputs": [],
   "source": []
  },
  {
   "cell_type": "code",
   "execution_count": null,
   "metadata": {},
   "outputs": [],
   "source": []
  },
  {
   "cell_type": "code",
   "execution_count": null,
   "metadata": {},
   "outputs": [],
   "source": []
  },
  {
   "cell_type": "code",
   "execution_count": null,
   "metadata": {},
   "outputs": [],
   "source": []
  },
  {
   "cell_type": "code",
   "execution_count": null,
   "metadata": {},
   "outputs": [],
   "source": []
  },
  {
   "cell_type": "code",
   "execution_count": null,
   "metadata": {},
   "outputs": [],
   "source": []
  },
  {
   "cell_type": "code",
   "execution_count": null,
   "metadata": {},
   "outputs": [],
   "source": []
  },
  {
   "cell_type": "code",
   "execution_count": null,
   "metadata": {},
   "outputs": [],
   "source": []
  },
  {
   "cell_type": "code",
   "execution_count": null,
   "metadata": {},
   "outputs": [],
   "source": []
  }
 ],
 "metadata": {
  "kernelspec": {
   "display_name": "Python [conda env:pytorch_p36]",
   "language": "python",
   "name": "conda-env-pytorch_p36-py"
  },
  "language_info": {
   "codemirror_mode": {
    "name": "ipython",
    "version": 3
   },
   "file_extension": ".py",
   "mimetype": "text/x-python",
   "name": "python",
   "nbconvert_exporter": "python",
   "pygments_lexer": "ipython3",
   "version": "3.6.4"
  }
 },
 "nbformat": 4,
 "nbformat_minor": 2
}

{
 "cells": [
  {
   "cell_type": "code",
   "execution_count": null,
   "metadata": {},
   "outputs": [],
   "source": [
    "%matplotlib inline\n",
    "import matplotlib.pyplot as plt\n",
    "import seaborn as sns\n",
    "\n",
    "sns.set_style(\"whitegrid\")\n",
    "plt.rcParams[\"figure.figsize\"] = (30, 30)\n",
    "\n",
    "import wikipedia\n",
    "import torch\n",
    "from torch import nn\n",
    "import pickle\n",
    "import pandas as pd\n",
    "import numpy as np\n",
    "\n",
    "import os\n",
    "import more_itertools as mit\n",
    "from copy import deepcopy\n",
    "from IPython.core.display import display, HTML\n",
    "from itertools import groupby"
   ]
  },
  {
   "cell_type": "markdown",
   "metadata": {},
   "source": [
    "# load data"
   ]
  },
  {
   "cell_type": "code",
   "execution_count": null,
   "metadata": {},
   "outputs": [],
   "source": [
    "with open(\"/mnt/efs/disambiguation_data/ix_to_token.pkl\", \"rb\") as f:\n",
    "    ix_to_token = pickle.load(f)\n",
    "\n",
    "token_to_ix = {token: ix for ix, token in ix_to_token.items()}"
   ]
  },
  {
   "cell_type": "code",
   "execution_count": null,
   "metadata": {},
   "outputs": [],
   "source": [
    "ix = np.random.choice(100)\n",
    "base_path = \"/mnt/efs/disambiguation_data/{}/{}.pt\"\n",
    "\n",
    "tokens = torch.load(base_path.format(\"tokens\", ix), map_location=\"cpu\").numpy()\n",
    "predictions = torch.load(\n",
    "    base_path.format(\"predictions\", ix), map_location=\"cpu\"\n",
    ").numpy()"
   ]
  },
  {
   "cell_type": "markdown",
   "metadata": {},
   "source": [
    "# do science"
   ]
  },
  {
   "cell_type": "code",
   "execution_count": null,
   "metadata": {},
   "outputs": [],
   "source": [
    "index = np.random.choice(128)\n",
    "to_keep = tokens[index] != 91282"
   ]
  },
  {
   "cell_type": "code",
   "execution_count": null,
   "metadata": {},
   "outputs": [],
   "source": [
    "token_seq = [ix_to_token[ix] for ix in tokens[index] if ix != token_to_ix[\"xxpad\"]]\n",
    "\" \".join(token_seq)"
   ]
  },
  {
   "cell_type": "code",
   "execution_count": null,
   "metadata": {},
   "outputs": [],
   "source": [
    "val_seq = predictions[index][1][to_keep]"
   ]
  },
  {
   "cell_type": "code",
   "execution_count": null,
   "metadata": {},
   "outputs": [],
   "source": [
    "# pd.Series(val_seq).plot.bar();"
   ]
  },
  {
   "cell_type": "code",
   "execution_count": null,
   "metadata": {},
   "outputs": [],
   "source": [
    "prev_seq = np.concatenate([[0], val_seq[:-1]])\n",
    "next_seq = np.concatenate([val_seq[1:], [0]])"
   ]
  },
  {
   "cell_type": "code",
   "execution_count": null,
   "metadata": {},
   "outputs": [],
   "source": [
    "indexes_to_include = []"
   ]
  },
  {
   "cell_type": "code",
   "execution_count": null,
   "metadata": {},
   "outputs": [],
   "source": [
    "standard_threshold = 0\n",
    "lower_threshold = -0.5\n",
    "\n",
    "for i in range(len(val_seq)):\n",
    "    p, v, n = prev_seq[i], val_seq[i], next_seq[i]\n",
    "    to_include = (v > standard_threshold) or (\n",
    "        (v > lower_threshold) and ((p > standard_threshold) or (n > standard_threshold))\n",
    "    )\n",
    "    # print('\\t'.join([str(round(p, 2)),\n",
    "    #                 str(round(v, 2)),\n",
    "    #                 str(round(n, 2)),\n",
    "    #                 str(to_include)]))\n",
    "\n",
    "    indexes_to_include.append(to_include)"
   ]
  },
  {
   "cell_type": "code",
   "execution_count": null,
   "metadata": {},
   "outputs": [],
   "source": [
    "groups = [\n",
    "    list(group) for group in mit.consecutive_groups(np.where(indexes_to_include)[0])\n",
    "]\n",
    "bool_groups = [list(group) for _, group in groupby(indexes_to_include)]"
   ]
  },
  {
   "cell_type": "code",
   "execution_count": null,
   "metadata": {},
   "outputs": [],
   "source": [
    "links = []\n",
    "\n",
    "for group in groups:\n",
    "    try:\n",
    "        text = \" \".join([token_seq[g] for g in group])\n",
    "        url = wikipedia.page(text).url\n",
    "        links.append(f'<a href=\"{url}\">{text}</a>')\n",
    "\n",
    "    except:\n",
    "        links.append(\" \".join([token_seq[g] for g in group]))"
   ]
  },
  {
   "cell_type": "code",
   "execution_count": null,
   "metadata": {},
   "outputs": [],
   "source": [
    "new_token_seq = deepcopy(token_seq)\n",
    "\n",
    "for i, group in enumerate(groups):\n",
    "    new_token_seq[group[0]] = links[i]\n",
    "    if len(group) > 1:\n",
    "        for g in group[1:]:\n",
    "            new_token_seq[g] = \"\""
   ]
  },
  {
   "cell_type": "code",
   "execution_count": null,
   "metadata": {},
   "outputs": [],
   "source": [
    "display(HTML(\" \".join(new_token_seq)))"
   ]
  },
  {
   "cell_type": "code",
   "execution_count": null,
   "metadata": {},
   "outputs": [],
   "source": []
  },
  {
   "cell_type": "code",
   "execution_count": null,
   "metadata": {},
   "outputs": [],
   "source": []
  },
  {
   "cell_type": "code",
   "execution_count": null,
   "metadata": {},
   "outputs": [],
   "source": []
  },
  {
   "cell_type": "code",
   "execution_count": null,
   "metadata": {},
   "outputs": [],
   "source": []
  },
  {
   "cell_type": "code",
   "execution_count": null,
   "metadata": {},
   "outputs": [],
   "source": []
  },
  {
   "cell_type": "markdown",
   "metadata": {},
   "source": [
    "we want the shortest version of the most specific thing. precise precision"
   ]
  },
  {
   "cell_type": "code",
   "execution_count": null,
   "metadata": {},
   "outputs": [],
   "source": []
  },
  {
   "cell_type": "code",
   "execution_count": null,
   "metadata": {},
   "outputs": [],
   "source": []
  },
  {
   "cell_type": "code",
   "execution_count": null,
   "metadata": {},
   "outputs": [],
   "source": []
  },
  {
   "cell_type": "code",
   "execution_count": null,
   "metadata": {},
   "outputs": [],
   "source": []
  },
  {
   "cell_type": "code",
   "execution_count": null,
   "metadata": {},
   "outputs": [],
   "source": []
  },
  {
   "cell_type": "code",
   "execution_count": null,
   "metadata": {},
   "outputs": [],
   "source": []
  }
 ],
 "metadata": {
  "kernelspec": {
   "display_name": "Python [conda env:pytorch_p36]",
   "language": "python",
   "name": "conda-env-pytorch_p36-py"
  },
  "language_info": {
   "codemirror_mode": {
    "name": "ipython",
    "version": 3
   },
   "file_extension": ".py",
   "mimetype": "text/x-python",
   "name": "python",
   "nbconvert_exporter": "python",
   "pygments_lexer": "ipython3",
   "version": "3.6.4"
  }
 },
 "nbformat": 4,
 "nbformat_minor": 2
}

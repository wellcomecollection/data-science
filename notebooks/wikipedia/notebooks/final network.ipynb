{
 "cells": [
  {
   "cell_type": "code",
   "execution_count": null,
   "metadata": {},
   "outputs": [],
   "source": [
    "%matplotlib inline\n",
    "import matplotlib.pyplot as plt\n",
    "import seaborn as sns\n",
    "\n",
    "sns.set_style(\"whitegrid\")\n",
    "plt.rcParams[\"figure.figsize\"] = (20, 15)\n",
    "\n",
    "import re\n",
    "import os\n",
    "import io\n",
    "import nltk\n",
    "import pickle\n",
    "import numpy as np\n",
    "import pandas as pd\n",
    "from bs4 import BeautifulSoup\n",
    "from tqdm import tqdm_notebook as tqdm\n",
    "from nltk import word_tokenize, sent_tokenize\n",
    "from sklearn.model_selection import train_test_split\n",
    "from IPython.core.display import display, HTML\n",
    "\n",
    "import torch\n",
    "from torch import nn, optim\n",
    "from torch.utils.data import Dataset, DataLoader\n",
    "from torch.nn.utils.rnn import pack_padded_sequence, pad_packed_sequence, pad_sequence\n",
    "\n",
    "nltk.download(\"punkt\")\n",
    "device = torch.device(\"cuda\" if torch.cuda.is_available() else \"cpu\")"
   ]
  },
  {
   "cell_type": "markdown",
   "metadata": {},
   "source": [
    "# data"
   ]
  },
  {
   "cell_type": "code",
   "execution_count": null,
   "metadata": {},
   "outputs": [],
   "source": [
    "def remove_title(article):\n",
    "    return \"\\n\\n\".join(article.split(\"\\n\\n\")[1:])"
   ]
  },
  {
   "cell_type": "code",
   "execution_count": null,
   "metadata": {},
   "outputs": [],
   "source": [
    "base_path = \"/mnt/efs/wikipedia/dumps/text/\"\n",
    "paths = np.random.choice(os.listdir(base_path), size=2)\n",
    "\n",
    "all_text = \"\"\n",
    "for path in paths:\n",
    "    for filename in tqdm(os.listdir(base_path + path)):\n",
    "        with open(base_path + path + \"/\" + filename, \"rb\") as f:\n",
    "            all_text += f.read().decode(\"latin1\")\n",
    "\n",
    "pattern = r\"(?:<doc.+>)((.|\\s|\\S)*?)(?:<\\/doc>)\"\n",
    "articles = [remove_title(article[0]) for article in re.findall(pattern, all_text)]"
   ]
  },
  {
   "cell_type": "code",
   "execution_count": null,
   "metadata": {},
   "outputs": [],
   "source": [
    "len(articles)"
   ]
  },
  {
   "cell_type": "markdown",
   "metadata": {},
   "source": [
    "### cleaning pipeline"
   ]
  },
  {
   "cell_type": "code",
   "execution_count": null,
   "metadata": {},
   "outputs": [],
   "source": [
    "def tokenize(sentence):\n",
    "    \"\"\"moses tokeniser\"\"\"\n",
    "    seq = \" \".join(word_tokenize(sentence))\n",
    "    seq = seq.replace(\" n't \", \"n 't \")\n",
    "    return seq.split()\n",
    "\n",
    "\n",
    "def kmp(sequence, sub):\n",
    "    \"\"\"\n",
    "    Knuth–Morris–Pratt algorithm, returning the starting position\n",
    "    of a specified subsequence within another, larger sequence.\n",
    "    Usually used for string matching.\n",
    "    \"\"\"\n",
    "    partial = [0]\n",
    "    for i in range(1, len(sub)):\n",
    "        j = partial[i - 1]\n",
    "        while j > 0 and sub[j] != sub[i]:\n",
    "            j = partial[j - 1]\n",
    "        partial.append(j + 1 if sub[j] == sub[i] else j)\n",
    "\n",
    "    positions, j = [], 0\n",
    "    for i in range(len(sequence)):\n",
    "        while j > 0 and sequence[i] != sub[j]:\n",
    "            j = partial[j - 1]\n",
    "        if sequence[i] == sub[j]:\n",
    "            j += 1\n",
    "        if j == len(sub):\n",
    "            positions.append(i - (j - 1))\n",
    "            j = 0\n",
    "\n",
    "    return positions\n",
    "\n",
    "\n",
    "def label(tokenised_sequences, link_tokens):\n",
    "    target_sequences = []\n",
    "\n",
    "    for i, sequence in enumerate(tokenised_sequences):\n",
    "        target_sequence = np.zeros(len(sequence))\n",
    "\n",
    "        for link in link_tokens:\n",
    "            start_positions = kmp(sequence, link)\n",
    "            for pos in start_positions:\n",
    "                target_sequence[pos : pos + len(link)] = 1\n",
    "\n",
    "        target_sequences.append(target_sequence)\n",
    "\n",
    "    return target_sequences\n",
    "\n",
    "\n",
    "def label_linkable_tokens(text, label_all=True):\n",
    "    parsed_html = BeautifulSoup(text, \"html.parser\")\n",
    "\n",
    "    link_tokens = [tokenize(link.text) for link in parsed_html.find_all(\"a\")]\n",
    "\n",
    "    tokenised_sequences = [\n",
    "        tokenize(sentence) for sentence in sent_tokenize(parsed_html.text)\n",
    "    ]\n",
    "\n",
    "    target_sequences = label(tokenised_sequences, link_tokens)\n",
    "\n",
    "    return tokenised_sequences, target_sequences"
   ]
  },
  {
   "cell_type": "code",
   "execution_count": null,
   "metadata": {},
   "outputs": [],
   "source": [
    "token_sequences, target_sequences = [], []\n",
    "\n",
    "for article in tqdm(articles):\n",
    "    try:\n",
    "        tokenised_seqs, target_seqs = label_linkable_tokens(article)\n",
    "        token_sequences.extend(tokenised_seqs)\n",
    "        target_sequences.extend(target_seqs)\n",
    "    except:\n",
    "        pass"
   ]
  },
  {
   "cell_type": "markdown",
   "metadata": {},
   "source": [
    "# character level inputs"
   ]
  },
  {
   "cell_type": "code",
   "execution_count": null,
   "metadata": {},
   "outputs": [],
   "source": [
    "unique_characters = set(\" \".join([token for seq in token_sequences for token in seq]))"
   ]
  },
  {
   "cell_type": "code",
   "execution_count": null,
   "metadata": {},
   "outputs": [],
   "source": [
    "special_cases = [\"xxunk\", \"xxpad\", \"xxbos\", \"xxeos\"]\n",
    "\n",
    "for case in special_cases:\n",
    "    unique_characters.add(case)"
   ]
  },
  {
   "cell_type": "code",
   "execution_count": null,
   "metadata": {},
   "outputs": [],
   "source": [
    "char_to_ix = {char: ix for ix, char in enumerate(unique_characters)}\n",
    "ix_to_char = {ix: char for ix, char in enumerate(unique_characters)}"
   ]
  },
  {
   "cell_type": "markdown",
   "metadata": {},
   "source": [
    "# fasttext and a word vector embedding matrix "
   ]
  },
  {
   "cell_type": "code",
   "execution_count": null,
   "metadata": {},
   "outputs": [],
   "source": [
    "wv_path = \"/mnt/efs/text/word_vectors/wiki-news-300d-1M.vec\"\n",
    "wv_file = io.open(wv_path, \"r\", encoding=\"utf-8\", newline=\"\\n\", errors=\"ignore\")\n",
    "lines_to_parse = list(wv_file)[1:]\n",
    "\n",
    "fasttext = {\n",
    "    line.split()[0]: np.array(line.split()[1:]).astype(np.float32)\n",
    "    for line in tqdm(lines_to_parse)\n",
    "}"
   ]
  },
  {
   "cell_type": "code",
   "execution_count": null,
   "metadata": {},
   "outputs": [],
   "source": [
    "from collections import Counter\n",
    "\n",
    "all_tokens = [tok for seq in token_sequences for tok in seq]\n",
    "\n",
    "article_vocabulary, _ = zip(*Counter(all_tokens).most_common(10000000000))\n",
    "article_vocabulary = set(article_vocabulary)"
   ]
  },
  {
   "cell_type": "code",
   "execution_count": null,
   "metadata": {},
   "outputs": [],
   "source": [
    "for case in special_cases:\n",
    "    article_vocabulary.add(case)\n",
    "    fasttext[case] = np.random.random(300)"
   ]
  },
  {
   "cell_type": "code",
   "execution_count": null,
   "metadata": {},
   "outputs": [],
   "source": [
    "len(article_vocabulary)"
   ]
  },
  {
   "cell_type": "code",
   "execution_count": null,
   "metadata": {},
   "outputs": [],
   "source": [
    "article_vocabulary_list = list(article_vocabulary)\n",
    "token_to_ix = {token: index for index, token in enumerate(article_vocabulary_list)}\n",
    "ix_to_token = {index: token for index, token in enumerate(article_vocabulary_list)}"
   ]
  },
  {
   "cell_type": "code",
   "execution_count": null,
   "metadata": {},
   "outputs": [],
   "source": [
    "word_vector_embedding_matrix = torch.FloatTensor(\n",
    "    [\n",
    "        fasttext[token] if token in fasttext else fasttext[\"xxunk\"]\n",
    "        for token in article_vocabulary\n",
    "    ]\n",
    ")"
   ]
  },
  {
   "cell_type": "markdown",
   "metadata": {},
   "source": [
    "# dataset and dataloader"
   ]
  },
  {
   "cell_type": "code",
   "execution_count": null,
   "metadata": {},
   "outputs": [],
   "source": [
    "class SentenceDataset(Dataset):\n",
    "    def __init__(self, token_seqs, target_seqs):\n",
    "        # impose length constraint\n",
    "        where_big_enough = np.where([len(seq) > 3 for seq in token_seqs])\n",
    "        self.token_seqs = np.array(token_seqs)[where_big_enough]\n",
    "        self.target_seqs = np.array(target_seqs)[where_big_enough]\n",
    "\n",
    "        # indexify\n",
    "        self.char_ix_seqs = [self.indexify_chars(seq) for seq in self.token_seqs]\n",
    "\n",
    "        self.token_seqs = [self.indexify_tokens(seq) for seq in self.token_seqs]\n",
    "\n",
    "        # find prediction points for language model\n",
    "        self.exit_ix_seqs = [self.find_exit_points(seq) for seq in self.char_ix_seqs]\n",
    "\n",
    "    def __getitem__(self, ix):\n",
    "        char_ix_seq = self.char_ix_seqs[ix]\n",
    "        token_seq = self.token_seqs[ix]\n",
    "        exit_ix_seq = self.exit_ix_seqs[ix]\n",
    "        target_seq = self.target_seqs[ix]\n",
    "        return char_ix_seq, token_seq, exit_ix_seq, target_seq\n",
    "\n",
    "    def __len__(self):\n",
    "        return len(self.token_seqs)\n",
    "\n",
    "    def indexify_tokens(self, token_seq):\n",
    "        ix_seq = np.array(\n",
    "            [\n",
    "                token_to_ix[token]\n",
    "                if token in article_vocabulary\n",
    "                else token_to_ix[\"xxunk\"]\n",
    "                for token in token_seq\n",
    "            ]\n",
    "        )\n",
    "        return torch.LongTensor(ix_seq)\n",
    "\n",
    "    def indexify_chars(self, token_seq):\n",
    "        ix_seq = np.array(\n",
    "            [char_to_ix[\"xxbos\"], char_to_ix[\" \"]]\n",
    "            + [char_to_ix[char] for char in \" \".join(token_seq)]\n",
    "            + [char_to_ix[\" \"], char_to_ix[\"xxeos\"]]\n",
    "        )\n",
    "        return torch.LongTensor(ix_seq)\n",
    "\n",
    "    def find_exit_points(self, char_ix_seq):\n",
    "        binary = char_ix_seq == char_to_ix[\" \"]\n",
    "        return binary.nonzero().squeeze()"
   ]
  },
  {
   "cell_type": "code",
   "execution_count": null,
   "metadata": {},
   "outputs": [],
   "source": [
    "def collate_fn(batch):\n",
    "    char_ix_seqs, token_seqs, exit_ix_seqs, target_seqs = zip(*batch)\n",
    "\n",
    "    char_seq_lens = torch.LongTensor([len(char_seq) for char_seq in char_ix_seqs])\n",
    "\n",
    "    sorted_char_lengths, sort_indicies = char_seq_lens.sort(dim=0, descending=True)\n",
    "\n",
    "    sorted_char_seqs = [char_ix_seqs[i] for i in sort_indicies]\n",
    "    sorted_token_seqs = [token_seqs[i] for i in sort_indicies]\n",
    "    sorted_exit_seqs = [exit_ix_seqs[i] for i in sort_indicies]\n",
    "    sorted_target_seqs = [torch.LongTensor(target_seqs[i]) for i in sort_indicies]\n",
    "    sorted_token_lengths = torch.LongTensor([len(seq) for seq in sorted_token_seqs])\n",
    "\n",
    "    padded_char_seqs = pad_sequence(\n",
    "        sequences=sorted_char_seqs, padding_value=char_to_ix[\"xxpad\"], batch_first=True\n",
    "    )\n",
    "\n",
    "    padded_token_seqs = pad_sequence(\n",
    "        sequences=sorted_token_seqs,\n",
    "        padding_value=token_to_ix[\"xxpad\"],\n",
    "        batch_first=True,\n",
    "    )\n",
    "\n",
    "    padded_exit_seqs = pad_sequence(\n",
    "        sequences=sorted_exit_seqs, padding_value=0, batch_first=True\n",
    "    )\n",
    "\n",
    "    padded_target_seqs = pad_sequence(\n",
    "        sequences=sorted_target_seqs, padding_value=0, batch_first=True\n",
    "    )\n",
    "\n",
    "    return (\n",
    "        padded_char_seqs,\n",
    "        padded_token_seqs,\n",
    "        padded_exit_seqs,\n",
    "        sorted_char_lengths,\n",
    "        sorted_token_lengths,\n",
    "        padded_target_seqs,\n",
    "    )"
   ]
  },
  {
   "cell_type": "code",
   "execution_count": null,
   "metadata": {},
   "outputs": [],
   "source": [
    "train_tokens, test_tokens, train_targets, test_targets = train_test_split(\n",
    "    token_sequences, target_sequences, test_size=0.05, random_state=42\n",
    ")"
   ]
  },
  {
   "cell_type": "code",
   "execution_count": null,
   "metadata": {},
   "outputs": [],
   "source": [
    "train_dataset = SentenceDataset(train_tokens, train_targets)\n",
    "\n",
    "train_loader = DataLoader(\n",
    "    dataset=train_dataset,\n",
    "    batch_size=64,\n",
    "    num_workers=5,\n",
    "    shuffle=True,\n",
    "    collate_fn=collate_fn,\n",
    ")"
   ]
  },
  {
   "cell_type": "code",
   "execution_count": null,
   "metadata": {},
   "outputs": [],
   "source": [
    "test_dataset = SentenceDataset(test_tokens, test_targets)\n",
    "\n",
    "test_loader = DataLoader(\n",
    "    dataset=test_dataset,\n",
    "    batch_size=1,\n",
    "    num_workers=5,\n",
    "    shuffle=True,\n",
    "    collate_fn=collate_fn,\n",
    ")"
   ]
  },
  {
   "cell_type": "markdown",
   "metadata": {},
   "source": [
    "# model"
   ]
  },
  {
   "cell_type": "code",
   "execution_count": null,
   "metadata": {},
   "outputs": [],
   "source": [
    "class CharacterLevelNetwork(nn.Module):\n",
    "    def __init__(self, input_dim, embedding_dim, hidden_dim, output_dim):\n",
    "        super(CharacterLevelNetwork, self).__init__()\n",
    "        self.output_dim = output_dim\n",
    "        self.embedding = nn.Embedding(input_dim, embedding_dim)\n",
    "\n",
    "        self.char_level_lstm = nn.LSTM(\n",
    "            input_size=embedding_dim,\n",
    "            hidden_size=hidden_dim,\n",
    "            num_layers=1,\n",
    "            bidirectional=True,\n",
    "        )\n",
    "\n",
    "        self.head_fwd = nn.Sequential(\n",
    "            nn.Dropout(0.3),\n",
    "            nn.Linear(hidden_dim, hidden_dim // 2),\n",
    "            nn.ReLU(),\n",
    "            nn.Dropout(0.3),\n",
    "            nn.Linear(hidden_dim // 2, output_dim),\n",
    "        )\n",
    "\n",
    "        self.head_bwd = nn.Sequential(\n",
    "            nn.Dropout(0.3),\n",
    "            nn.Linear(hidden_dim, hidden_dim // 2),\n",
    "            nn.ReLU(),\n",
    "            nn.Dropout(0.3),\n",
    "            nn.Linear(hidden_dim // 2, output_dim),\n",
    "        )\n",
    "\n",
    "    def forward(self, char_seqs, exit_seqs, lengths):\n",
    "        x = self.embedding(char_seqs)\n",
    "\n",
    "        x = pack_padded_sequence(x, lengths=lengths, batch_first=True)\n",
    "\n",
    "        x, _ = self.char_level_lstm(x)\n",
    "        out, _ = pad_packed_sequence(x, batch_first=True)\n",
    "\n",
    "        # pop out the character embeddings at position of the end of each token\n",
    "        out = torch.stack([out[i, exit_seqs[i]] for i in range(len(out))])\n",
    "\n",
    "        out_fwd, out_bwd = torch.chunk(out, 2, 2)\n",
    "\n",
    "        pred_fwd = self.head_fwd(out_fwd[:, 1:])\n",
    "        pred_bwd = self.head_bwd(out_bwd[:, :-1])\n",
    "\n",
    "        return pred_fwd, pred_bwd"
   ]
  },
  {
   "cell_type": "code",
   "execution_count": null,
   "metadata": {},
   "outputs": [],
   "source": [
    "class LinkLabeller(nn.Module):\n",
    "    def __init__(self, word_vector_embedding_matrix, hidden_dim=1024):\n",
    "        super(LinkLabeller, self).__init__()\n",
    "        self.wv_embedding = nn.Embedding.from_pretrained(word_vector_embedding_matrix)\n",
    "\n",
    "        self.cln = CharacterLevelNetwork(\n",
    "            input_dim=len(unique_characters),\n",
    "            embedding_dim=50,\n",
    "            hidden_dim=128,\n",
    "            output_dim=50,\n",
    "        )\n",
    "\n",
    "        self.lstm_input_size = word_vector_embedding_matrix.shape[1] + (\n",
    "            self.cln.output_dim * 2\n",
    "        )\n",
    "\n",
    "        self.word_level_lstm = nn.LSTM(\n",
    "            input_size=self.lstm_input_size,\n",
    "            hidden_size=hidden_dim,\n",
    "            num_layers=2,\n",
    "            bidirectional=True,\n",
    "            dropout=0.2,\n",
    "        )\n",
    "\n",
    "        self.head = nn.Sequential(\n",
    "            nn.Dropout(0.3),\n",
    "            nn.Linear(hidden_dim * 2, hidden_dim // 32),\n",
    "            nn.ReLU(),\n",
    "            nn.Dropout(0.3),\n",
    "            nn.Linear(hidden_dim // 32, 2),\n",
    "        )\n",
    "\n",
    "    def forward(self, char_seqs, token_seqs, exit_seqs, c_lens, t_lens):\n",
    "        wv_seqs = self.wv_embedding(token_seqs)\n",
    "        char_fwd, char_bwd = self.cln(char_seqs, exit_seqs, c_lens)\n",
    "\n",
    "        concats = torch.cat([char_fwd, char_bwd, wv_seqs], dim=2)\n",
    "\n",
    "        sorted_lengths, sort_indicies = t_lens.sort(dim=0, descending=True)\n",
    "\n",
    "        concats = torch.stack([concats[i] for i in sort_indicies])\n",
    "\n",
    "        packed = pack_padded_sequence(concats, lengths=sorted_lengths, batch_first=True)\n",
    "\n",
    "        packed_embedded, _ = self.word_level_lstm(packed)\n",
    "        embedded, _ = pad_packed_sequence(packed_embedded)\n",
    "\n",
    "        output = self.head(embedded).permute(1, 2, 0)\n",
    "        return output, sort_indicies"
   ]
  },
  {
   "cell_type": "code",
   "execution_count": null,
   "metadata": {},
   "outputs": [],
   "source": [
    "model = LinkLabeller(word_vector_embedding_matrix).to(device)"
   ]
  },
  {
   "cell_type": "markdown",
   "metadata": {},
   "source": [
    "# training"
   ]
  },
  {
   "cell_type": "code",
   "execution_count": null,
   "metadata": {},
   "outputs": [],
   "source": [
    "stacked = np.hstack(train_targets)\n",
    "a = len(stacked) - stacked.sum()\n",
    "b = stacked.sum()\n",
    "class_weights = torch.Tensor([b, a]) / (b + a)"
   ]
  },
  {
   "cell_type": "code",
   "execution_count": null,
   "metadata": {},
   "outputs": [],
   "source": [
    "losses = []\n",
    "\n",
    "torch.backends.cudnn.benchmark = True\n",
    "\n",
    "trainable_parameters = filter(lambda p: p.requires_grad, model.parameters())\n",
    "\n",
    "optimiser = optim.Adam(trainable_parameters, lr=0.001)\n",
    "\n",
    "loss_function = nn.CrossEntropyLoss(weight=class_weights.cuda())"
   ]
  },
  {
   "cell_type": "code",
   "execution_count": null,
   "metadata": {},
   "outputs": [],
   "source": [
    "def train(model, train_loader, loss_function, optimiser, n_epochs):\n",
    "    model.train()\n",
    "    for epoch in range(n_epochs):\n",
    "        loop = tqdm(train_loader)\n",
    "        for c_seqs, t_seqs, exit_seqs, c_lens, t_lens, targets in loop:\n",
    "            c_seqs = torch.LongTensor(c_seqs).cuda(non_blocking=True)\n",
    "            t_seqs = torch.LongTensor(t_seqs).cuda(non_blocking=True)\n",
    "            exit_seqs = torch.LongTensor(exit_seqs).cuda(non_blocking=True)\n",
    "            c_lens = torch.LongTensor(c_lens).cuda(non_blocking=True)\n",
    "            t_lens = torch.LongTensor(t_lens).cuda(non_blocking=True)\n",
    "            targets = torch.LongTensor(targets).cuda(non_blocking=True)\n",
    "\n",
    "            optimiser.zero_grad()\n",
    "            preds, sort_indicies = model(c_seqs, t_seqs, exit_seqs, c_lens, t_lens)\n",
    "\n",
    "            targets = torch.stack([targets[i] for i in sort_indicies])\n",
    "\n",
    "            loss = loss_function(preds, targets)\n",
    "            loss.backward()\n",
    "            optimiser.step()\n",
    "\n",
    "            losses.append(loss.item())\n",
    "            loop.set_description(\"Epoch {}/{}\".format(epoch + 1, n_epochs))\n",
    "            loop.set_postfix(loss=np.mean(losses[-100:]))\n",
    "\n",
    "        torch.save(model.state_dict(), \"/mnt/efs/models/model_state_dict.pt\")"
   ]
  },
  {
   "cell_type": "code",
   "execution_count": null,
   "metadata": {},
   "outputs": [],
   "source": [
    "train(\n",
    "    model=model,\n",
    "    train_loader=train_loader,\n",
    "    loss_function=loss_function,\n",
    "    optimiser=optimiser,\n",
    "    n_epochs=3,\n",
    ")"
   ]
  },
  {
   "cell_type": "code",
   "execution_count": null,
   "metadata": {},
   "outputs": [],
   "source": [
    "loss_data = pd.Series(losses[20:]).rolling(window=100).mean()\n",
    "ax = loss_data.plot()\n",
    "ax.set_ylim(0.1, 0.3);"
   ]
  },
  {
   "cell_type": "markdown",
   "metadata": {},
   "source": [
    "# test the model on unseen data"
   ]
  },
  {
   "cell_type": "code",
   "execution_count": null,
   "metadata": {},
   "outputs": [],
   "source": [
    "iterable_loader = iter(test_loader)"
   ]
  },
  {
   "cell_type": "code",
   "execution_count": null,
   "metadata": {},
   "outputs": [],
   "source": [
    "def format_output(tokens, targets, preds):\n",
    "    target_string, pred_string = \"\", \"\"\n",
    "\n",
    "    for token_id, target, pred in zip(tokens, targets, preds):\n",
    "        token = ix_to_token[token_id.item()]\n",
    "\n",
    "        if target.item() == 1:\n",
    "            target_string += \"<b>\" + token + \"</b> \"\n",
    "        else:\n",
    "            target_string += token + \" \"\n",
    "\n",
    "        if pred.item() == 1:\n",
    "            pred_string += \"<b>\" + token + \"</b> \"\n",
    "        else:\n",
    "            pred_string += token + \" \"\n",
    "\n",
    "    output_string = (\n",
    "        \"PRED:<br>\"\n",
    "        + pred_string\n",
    "        + \"<br><br>TARG:<br>\"\n",
    "        + target_string\n",
    "        + \"<br><br>------------------------<br><br>\"\n",
    "    )\n",
    "\n",
    "    return output_string"
   ]
  },
  {
   "cell_type": "code",
   "execution_count": null,
   "metadata": {},
   "outputs": [],
   "source": [
    "output = \"\"\n",
    "samples = [next(iterable_loader) for i in range(10)]\n",
    "\n",
    "for (c_seqs, t_seqs, exit_seqs, c_lens, t_lens, targets) in samples:\n",
    "    c_seqs = torch.LongTensor(c_seqs).cuda(non_blocking=True)\n",
    "    t_seqs = torch.LongTensor(t_seqs).cuda(non_blocking=True)\n",
    "    exit_seqs = torch.LongTensor(exit_seqs).cuda(non_blocking=True)\n",
    "    c_lens = torch.LongTensor(c_lens).cuda(non_blocking=True)\n",
    "    t_lens = torch.LongTensor(t_lens).cuda(non_blocking=True)\n",
    "    targets = torch.LongTensor(targets).cuda(non_blocking=True)\n",
    "\n",
    "    optimiser.zero_grad()\n",
    "    preds, sort_indicies = model(c_seqs, t_seqs, exit_seqs, c_lens, t_lens)\n",
    "    preds = nn.LogSoftmax(dim=1)(preds).argmax(dim=1)\n",
    "\n",
    "    targets = torch.stack([targets[i] for i in sort_indicies])\n",
    "\n",
    "    target_string = []\n",
    "    pred_string = []\n",
    "\n",
    "    output += format_output(t_seqs[0], targets[0], preds[0])\n",
    "\n",
    "display(HTML(output))"
   ]
  },
  {
   "cell_type": "code",
   "execution_count": null,
   "metadata": {},
   "outputs": [],
   "source": [
    "torch.save(model.state_dict(), \"/mnt/efs/models/nerd/model_state_dict.pt\")\n",
    "\n",
    "with open(\"/mnt/efs/models/nerd/token_to_ix.pkl\", \"wb\") as f:\n",
    "    pickle.dump(token_to_ix, f)\n",
    "\n",
    "with open(\"/mnt/efs/models/nerd/ix_to_token.pkl\", \"wb\") as f:\n",
    "    pickle.dump(ix_to_token, f)\n",
    "\n",
    "with open(\"/mnt/efs/models/nerd/char_to_ix.pkl\", \"wb\") as f:\n",
    "    pickle.dump(char_to_ix, f)\n",
    "\n",
    "with open(\"/mnt/efs/models/nerd/unique_characters.pkl\", \"wb\") as f:\n",
    "    pickle.dump(unique_characters, f)\n",
    "\n",
    "with open(\"/mnt/efs/models/nerd/article_vocabulary.pkl\", \"wb\") as f:\n",
    "    pickle.dump(article_vocabulary, f)\n",
    "\n",
    "torch.save(word_vector_embedding_matrix, \"/mnt/efs/models/nerd/embedding_matrix.pt\")"
   ]
  },
  {
   "cell_type": "code",
   "execution_count": null,
   "metadata": {},
   "outputs": [],
   "source": []
  }
 ],
 "metadata": {
  "kernelspec": {
   "display_name": "Python [conda env:pytorch_p36]",
   "language": "python",
   "name": "conda-env-pytorch_p36-py"
  },
  "language_info": {
   "codemirror_mode": {
    "name": "ipython",
    "version": 3
   },
   "file_extension": ".py",
   "mimetype": "text/x-python",
   "name": "python",
   "nbconvert_exporter": "python",
   "pygments_lexer": "ipython3",
   "version": "3.6.4"
  }
 },
 "nbformat": 4,
 "nbformat_minor": 2
}

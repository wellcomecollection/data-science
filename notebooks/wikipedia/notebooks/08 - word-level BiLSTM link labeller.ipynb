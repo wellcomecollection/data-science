{
 "cells": [
  {
   "cell_type": "code",
   "execution_count": null,
   "metadata": {},
   "outputs": [],
   "source": [
    "%matplotlib inline\n",
    "import matplotlib.pyplot as plt\n",
    "import seaborn as sns\n",
    "\n",
    "sns.set_style(\"whitegrid\")\n",
    "plt.rcParams[\"figure.figsize\"] = (20, 20)\n",
    "\n",
    "import re\n",
    "import os\n",
    "import io\n",
    "import nltk\n",
    "import numpy as np\n",
    "import pandas as pd\n",
    "from bs4 import BeautifulSoup\n",
    "from tqdm import tqdm_notebook as tqdm\n",
    "from nltk import word_tokenize, sent_tokenize\n",
    "from sklearn.model_selection import train_test_split\n",
    "\n",
    "import torch\n",
    "from torch import nn, optim\n",
    "from torch.utils.data import Dataset, DataLoader\n",
    "from torch.nn.utils.rnn import pack_padded_sequence, pad_packed_sequence\n",
    "\n",
    "nltk.download(\"punkt\")\n",
    "device = torch.device(\"cuda\" if torch.cuda.is_available() else \"cpu\")"
   ]
  },
  {
   "cell_type": "markdown",
   "metadata": {},
   "source": [
    "# data"
   ]
  },
  {
   "cell_type": "code",
   "execution_count": null,
   "metadata": {},
   "outputs": [],
   "source": [
    "base_path = \"/mnt/efs/wikipedia/dumps/text/\"\n",
    "paths = np.random.choice(os.listdir(base_path), size=1)\n",
    "\n",
    "all_text = \"\"\n",
    "for path in paths:\n",
    "    for filename in tqdm(os.listdir(base_path + path)):\n",
    "        with open(base_path + path + \"/\" + filename, \"rb\") as f:\n",
    "            all_text += f.read().decode(\"latin1\")\n",
    "\n",
    "pattern = r\"(?:<doc.+>)((.|\\s|\\S)*?)(?:<\\/doc>)\"\n",
    "articles = [article[0] for article in re.findall(pattern, all_text)]"
   ]
  },
  {
   "cell_type": "markdown",
   "metadata": {},
   "source": [
    "### cleaning pipeline"
   ]
  },
  {
   "cell_type": "code",
   "execution_count": null,
   "metadata": {},
   "outputs": [],
   "source": [
    "def tokenize(sentence):\n",
    "    \"\"\"moses tokeniser\"\"\"\n",
    "    seq = \" \".join(word_tokenize(sentence))\n",
    "    seq = seq.replace(\" n't \", \"n 't \")\n",
    "    return seq.split()\n",
    "\n",
    "\n",
    "def label_linkable_tokens(sentence, label_all=True):\n",
    "    parsed_html = BeautifulSoup(sentence, \"html.parser\")\n",
    "\n",
    "    link_text = [link.text for link in parsed_html.find_all(\"a\")]\n",
    "    tokenised_links = [tokenize(link) for link in link_text]\n",
    "    tokenised_text = tokenize(parsed_html.text)\n",
    "    target_sequence = np.zeros(len(tokenised_text))\n",
    "\n",
    "    for link in tokenised_links:\n",
    "        start_positions = kmp(tokenised_text, link)\n",
    "        if label_all:\n",
    "            for pos in start_positions:\n",
    "                target_sequence[pos : pos + len(link)] = 1\n",
    "        elif label_all == False and len(start_positions) > 0:\n",
    "            pos = start_positions[0]\n",
    "            target_sequence[pos : pos + len(link)] = 1\n",
    "        else:\n",
    "            pass\n",
    "\n",
    "    return tokenised_text, target_sequence.reshape(-1, 1)\n",
    "\n",
    "\n",
    "def kmp(sequence, sub):\n",
    "    \"\"\"\n",
    "    Knuth–Morris–Pratt algorithm, returning the starting position\n",
    "    of a specified subsequence within another, larger sequence.\n",
    "    Usually used for string matching.\n",
    "    \"\"\"\n",
    "    partial = [0]\n",
    "    for i in range(1, len(sub)):\n",
    "        j = partial[i - 1]\n",
    "        while j > 0 and sub[j] != sub[i]:\n",
    "            j = partial[j - 1]\n",
    "        partial.append(j + 1 if sub[j] == sub[i] else j)\n",
    "\n",
    "    positions, j = [], 0\n",
    "    for i in range(len(sequence)):\n",
    "        while j > 0 and sequence[i] != sub[j]:\n",
    "            j = partial[j - 1]\n",
    "        if sequence[i] == sub[j]:\n",
    "            j += 1\n",
    "        if j == len(sub):\n",
    "            positions.append(i - (j - 1))\n",
    "            j = 0\n",
    "\n",
    "    return positions"
   ]
  },
  {
   "cell_type": "code",
   "execution_count": null,
   "metadata": {},
   "outputs": [],
   "source": [
    "token_sequences, target_sequences = [], []\n",
    "\n",
    "for i, article in enumerate(tqdm(articles)):\n",
    "    for j, sentence in enumerate(sent_tokenize(article)):\n",
    "        try:\n",
    "            tokenized_sentence, target_sequence = label_linkable_tokens(sentence)\n",
    "            token_sequences.append(tokenized_sentence)\n",
    "            target_sequences.append(target_sequence)\n",
    "        except:\n",
    "            pass"
   ]
  },
  {
   "cell_type": "markdown",
   "metadata": {},
   "source": [
    "# fasttext and a word vector embedding matrix "
   ]
  },
  {
   "cell_type": "code",
   "execution_count": null,
   "metadata": {},
   "outputs": [],
   "source": [
    "wv_path = \"/mnt/efs/text/word_vectors/wiki-news-300d-1M.vec\"\n",
    "wv_file = io.open(wv_path, \"r\", encoding=\"utf-8\", newline=\"\\n\", errors=\"ignore\")\n",
    "lines_to_parse = list(wv_file)[1:]\n",
    "\n",
    "fasttext = {\n",
    "    line.split()[0]: np.array(line.split()[1:]).astype(np.float32)\n",
    "    for line in tqdm(lines_to_parse)\n",
    "}"
   ]
  },
  {
   "cell_type": "code",
   "execution_count": null,
   "metadata": {},
   "outputs": [],
   "source": [
    "article_vocabulary = list(set([tok for seq in token_sequences for tok in seq]))"
   ]
  },
  {
   "cell_type": "code",
   "execution_count": null,
   "metadata": {},
   "outputs": [],
   "source": [
    "special_cases = [\"xxunk\", \"xxpad\"]\n",
    "\n",
    "for case in special_cases:\n",
    "    fasttext[case] = np.random.random(300)\n",
    "\n",
    "article_vocabulary = np.append(article_vocabulary, special_cases)"
   ]
  },
  {
   "cell_type": "code",
   "execution_count": null,
   "metadata": {},
   "outputs": [],
   "source": [
    "token_to_index = {token: index for index, token in enumerate(article_vocabulary)}\n",
    "index_to_token = {index: token for index, token in enumerate(article_vocabulary)}"
   ]
  },
  {
   "cell_type": "code",
   "execution_count": null,
   "metadata": {},
   "outputs": [],
   "source": [
    "word_vector_embedding_matrix = torch.FloatTensor(\n",
    "    [\n",
    "        fasttext[token] if token in fasttext else fasttext[\"xxunk\"]\n",
    "        for token in article_vocabulary\n",
    "    ]\n",
    ")"
   ]
  },
  {
   "cell_type": "markdown",
   "metadata": {},
   "source": [
    "# dataset and dataloader"
   ]
  },
  {
   "cell_type": "code",
   "execution_count": null,
   "metadata": {},
   "outputs": [],
   "source": [
    "class SentenceDataset(Dataset):\n",
    "    def __init__(self, token_sequences, target_sequences):\n",
    "        self.token_index_sequences = np.array(\n",
    "            [self.indexify(seq) for seq in token_sequences]\n",
    "        )\n",
    "        self.target_sequences = np.array(target_sequences)\n",
    "\n",
    "        # impose length constraint\n",
    "        where_big_enough = np.where([len(seq) > 3 for seq in target_sequences])\n",
    "        self.token_index_sequences = self.token_index_sequences[where_big_enough]\n",
    "        self.target_sequences = self.target_sequences[where_big_enough]\n",
    "\n",
    "    def __getitem__(self, index):\n",
    "        token_index_sequence = self.token_index_sequences[index]\n",
    "        target_sequence = self.target_sequences[index]\n",
    "        length = len(token_index_sequence)\n",
    "        return token_index_sequence, target_sequence, length\n",
    "\n",
    "    def __len__(self):\n",
    "        return len(self.token_index_sequences)\n",
    "\n",
    "    def indexify(self, token_sequence):\n",
    "        index_sequence = np.array([token_to_index[token] for token in token_sequence])\n",
    "        return index_sequence"
   ]
  },
  {
   "cell_type": "code",
   "execution_count": null,
   "metadata": {},
   "outputs": [],
   "source": [
    "def pad(sequences, pad_value):\n",
    "    pad_length = max([len(seq) for seq in sequences])\n",
    "    padded = np.full((len(sequences), pad_length, 1), pad_value)\n",
    "    for i, seq in enumerate(sequences):\n",
    "        padded[i][pad_length - len(seq) :] = seq.reshape(-1, 1)\n",
    "    return padded.squeeze()\n",
    "\n",
    "\n",
    "def collate_fn(batch):\n",
    "    indexes, targets, lengths = zip(*batch)\n",
    "\n",
    "    sorted_lengths, sort_indicies = torch.Tensor(lengths).sort(dim=0, descending=True)\n",
    "\n",
    "    sorted_indexes = np.array(indexes)[sort_indicies]\n",
    "    sorted_targets = np.array(targets)[sort_indicies]\n",
    "\n",
    "    padded_indexes = pad(sorted_indexes, token_to_index[\"xxpad\"])\n",
    "    padded_targets = pad(sorted_targets, 0)\n",
    "\n",
    "    return padded_indexes, padded_targets, sorted_lengths"
   ]
  },
  {
   "cell_type": "code",
   "execution_count": null,
   "metadata": {},
   "outputs": [],
   "source": [
    "(\n",
    "    train_token_sequences,\n",
    "    test_token_sequences,\n",
    "    train_target_sequences,\n",
    "    test_target_sequences,\n",
    ") = train_test_split(token_sequences, target_sequences, test_size=0.20, random_state=42)"
   ]
  },
  {
   "cell_type": "code",
   "execution_count": null,
   "metadata": {},
   "outputs": [],
   "source": [
    "train_dataset = SentenceDataset(train_token_sequences, train_target_sequences)\n",
    "\n",
    "train_loader = DataLoader(\n",
    "    dataset=train_dataset,\n",
    "    batch_size=64,\n",
    "    num_workers=5,\n",
    "    shuffle=True,\n",
    "    collate_fn=collate_fn,\n",
    ")"
   ]
  },
  {
   "cell_type": "code",
   "execution_count": null,
   "metadata": {},
   "outputs": [],
   "source": [
    "test_dataset = SentenceDataset(test_token_sequences, test_target_sequences)\n",
    "\n",
    "test_loader = DataLoader(\n",
    "    dataset=test_dataset,\n",
    "    batch_size=64,\n",
    "    num_workers=5,\n",
    "    shuffle=True,\n",
    "    collate_fn=collate_fn,\n",
    ")"
   ]
  },
  {
   "cell_type": "markdown",
   "metadata": {},
   "source": [
    "# models"
   ]
  },
  {
   "cell_type": "code",
   "execution_count": null,
   "metadata": {},
   "outputs": [],
   "source": [
    "class LinkLabeller(nn.Module):\n",
    "    def __init__(self, word_vectors, hidden_dim=1024):\n",
    "        super(LinkLabeller, self).__init__()\n",
    "        self.hidden_dim = hidden_dim\n",
    "        self.embedding = nn.Embedding.from_pretrained(word_vectors)\n",
    "        self.enc_lstm = nn.LSTM(\n",
    "            input_size=300,\n",
    "            hidden_size=self.hidden_dim,\n",
    "            num_layers=2,\n",
    "            bidirectional=True,\n",
    "            dropout=0.2,\n",
    "        )\n",
    "\n",
    "        self.head = nn.Sequential(\n",
    "            nn.Linear(self.hidden_dim * 2, self.hidden_dim // 32),\n",
    "            nn.ReLU(),\n",
    "            nn.Dropout(0.3),\n",
    "            nn.Linear(self.hidden_dim // 32, 2),\n",
    "        )\n",
    "\n",
    "    def forward(self, index_sequence, sequence_lengths):\n",
    "        word_vectors = self.embedding(index_sequence)\n",
    "\n",
    "        packed = pack_padded_sequence(word_vectors, sequence_lengths, batch_first=True)\n",
    "\n",
    "        embedded_packed, _ = self.enc_lstm(packed)\n",
    "\n",
    "        embedded, batch_lengths = pad_packed_sequence(embedded_packed, batch_first=True)\n",
    "\n",
    "        categorised = self.head(embedded)\n",
    "        return categorised"
   ]
  },
  {
   "cell_type": "code",
   "execution_count": null,
   "metadata": {},
   "outputs": [],
   "source": [
    "# model_path = '/mnt/efs/models/20180114_link_labeller.pt'\n",
    "model = LinkLabeller(word_vector_embedding_matrix).to(device)"
   ]
  },
  {
   "cell_type": "markdown",
   "metadata": {},
   "source": [
    "# training"
   ]
  },
  {
   "cell_type": "code",
   "execution_count": null,
   "metadata": {},
   "outputs": [],
   "source": [
    "stacked = np.vstack(target_sequences)\n",
    "a = len(stacked) - stacked.sum()\n",
    "b = stacked.sum()\n",
    "class_weights = torch.Tensor([b, a]) / (b + a)"
   ]
  },
  {
   "cell_type": "code",
   "execution_count": null,
   "metadata": {},
   "outputs": [],
   "source": [
    "losses = []\n",
    "\n",
    "torch.backends.cudnn.benchmark = True\n",
    "\n",
    "trainable_parameters = filter(lambda p: p.requires_grad, model.parameters())\n",
    "\n",
    "optimiser = optim.Adam(trainable_parameters, lr=0.0001)\n",
    "\n",
    "loss_function = nn.CrossEntropyLoss(weight=class_weights.cuda())"
   ]
  },
  {
   "cell_type": "code",
   "execution_count": null,
   "metadata": {},
   "outputs": [],
   "source": [
    "def train(model, train_loader, loss_function, optimiser, n_epochs):\n",
    "    model.train()\n",
    "    for epoch in range(n_epochs):\n",
    "        loop = tqdm(train_loader)\n",
    "        for indexes, targets, sequence_lengths in loop:\n",
    "            indexes = torch.LongTensor(indexes).cuda(non_blocking=True)\n",
    "            targets = torch.LongTensor(targets).cuda(non_blocking=True)\n",
    "\n",
    "            optimiser.zero_grad()\n",
    "            preds = model(indexes, sequence_lengths).permute(0, 2, 1)\n",
    "\n",
    "            loss = loss_function(preds, targets)\n",
    "            loss.backward()\n",
    "            optimiser.step()\n",
    "\n",
    "            losses.append(loss.item())\n",
    "            loop.set_description(\"Epoch {}/{}\".format(epoch + 1, n_epochs))\n",
    "            loop.set_postfix(loss=np.mean(losses[-100:]))"
   ]
  },
  {
   "cell_type": "code",
   "execution_count": null,
   "metadata": {},
   "outputs": [],
   "source": [
    "train(\n",
    "    model=model,\n",
    "    train_loader=train_loader,\n",
    "    loss_function=loss_function,\n",
    "    optimiser=optimiser,\n",
    "    n_epochs=3,\n",
    ")"
   ]
  },
  {
   "cell_type": "code",
   "execution_count": null,
   "metadata": {},
   "outputs": [],
   "source": [
    "loss_data = pd.Series(losses[20:]).rolling(window=300).mean()\n",
    "ax = loss_data.plot()\n",
    "# ax.set_ylim(0.4, 0.5);"
   ]
  },
  {
   "cell_type": "markdown",
   "metadata": {},
   "source": [
    "# test the model on unseen data"
   ]
  },
  {
   "cell_type": "code",
   "execution_count": null,
   "metadata": {},
   "outputs": [],
   "source": [
    "random_ixs = np.random.randint(len(test_token_sequences), size=30)\n",
    "\n",
    "for random_ix in random_ixs:\n",
    "    i, t, l = test_dataset.__getitem__(random_ix)\n",
    "\n",
    "    p = model(torch.LongTensor([i]).cuda(), torch.Tensor([l]).cuda())[0]\n",
    "    p = nn.LogSoftmax(dim=1)(p).argmax(dim=1)\n",
    "    for bksgh in range(len(i)):\n",
    "        print(p[bksgh].item(), int(t[bksgh][0]), index_to_token[i[bksgh]])\n",
    "    print()"
   ]
  },
  {
   "cell_type": "markdown",
   "metadata": {},
   "source": [
    "# save model"
   ]
  },
  {
   "cell_type": "code",
   "execution_count": null,
   "metadata": {},
   "outputs": [],
   "source": [
    "torch.save(model.state_dict(), \"/mnt/efs/models/20180117_link_labeller.pt\")\n",
    "\n",
    "torch.save(word_vector_embedding_matrix, \"/mnt/efs/models/20180117_embeddings.pt\")"
   ]
  },
  {
   "cell_type": "code",
   "execution_count": null,
   "metadata": {},
   "outputs": [],
   "source": [
    "model_path = \"/mnt/efs/models/20180114_link_labeller.pt\"\n",
    "model = LinkLabeller(word_vector_embedding_matrix)\n",
    "model.load_state_dict(torch.load(model_path))"
   ]
  },
  {
   "cell_type": "code",
   "execution_count": null,
   "metadata": {},
   "outputs": [],
   "source": []
  }
 ],
 "metadata": {
  "kernelspec": {
   "display_name": "Python [conda env:pytorch_p36]",
   "language": "python",
   "name": "conda-env-pytorch_p36-py"
  },
  "language_info": {
   "codemirror_mode": {
    "name": "ipython",
    "version": 3
   },
   "file_extension": ".py",
   "mimetype": "text/x-python",
   "name": "python",
   "nbconvert_exporter": "python",
   "pygments_lexer": "ipython3",
   "version": "3.6.4"
  }
 },
 "nbformat": 4,
 "nbformat_minor": 2
}

{
 "cells": [
  {
   "cell_type": "code",
   "execution_count": null,
   "metadata": {},
   "outputs": [],
   "source": [
    "%matplotlib inline\n",
    "import matplotlib.pyplot as plt\n",
    "import seaborn as sns\n",
    "\n",
    "sns.set_style(\"whitegrid\")\n",
    "plt.rcParams[\"figure.figsize\"] = (30, 30)\n",
    "\n",
    "import re\n",
    "import os\n",
    "import io\n",
    "import nltk\n",
    "import numpy as np\n",
    "import pandas as pd\n",
    "from bs4 import BeautifulSoup\n",
    "from collections import Counter\n",
    "from tqdm import tqdm_notebook as tqdm\n",
    "from nltk import word_tokenize, sent_tokenize\n",
    "from sklearn.model_selection import train_test_split\n",
    "from IPython.core.display import display, HTML\n",
    "\n",
    "import torch\n",
    "from torch import nn, optim\n",
    "from torch.utils.data import Dataset, DataLoader\n",
    "from torch.nn.utils.rnn import pack_padded_sequence, pad_packed_sequence, pad_sequence\n",
    "\n",
    "from infersent import InferSent\n",
    "\n",
    "nltk.download(\"punkt\")\n",
    "device = torch.device(\"cuda\" if torch.cuda.is_available() else \"cpu\")"
   ]
  },
  {
   "cell_type": "markdown",
   "metadata": {},
   "source": [
    "# data"
   ]
  },
  {
   "cell_type": "code",
   "execution_count": null,
   "metadata": {},
   "outputs": [],
   "source": [
    "base_path = \"/mnt/efs/wikipedia/dumps/text/\"\n",
    "paths = np.random.choice(os.listdir(base_path), size=1)\n",
    "\n",
    "all_text = \"\"\n",
    "for path in paths:\n",
    "    for filename in tqdm(os.listdir(base_path + path)):\n",
    "        with open(base_path + path + \"/\" + filename, \"rb\") as f:\n",
    "            all_text += f.read().decode(\"latin1\")\n",
    "\n",
    "pattern = r\"(?:<doc.+>)((.|\\s|\\S)*?)(?:<\\/doc>)\"\n",
    "articles = [article[0] for article in re.findall(pattern, all_text)]"
   ]
  },
  {
   "cell_type": "code",
   "execution_count": null,
   "metadata": {},
   "outputs": [],
   "source": [
    "articles = [articles[ix] for ix in np.random.choice(range(len(articles)), 10000)]"
   ]
  },
  {
   "cell_type": "markdown",
   "metadata": {},
   "source": [
    "### cleaning pipeline"
   ]
  },
  {
   "cell_type": "code",
   "execution_count": null,
   "metadata": {},
   "outputs": [],
   "source": [
    "def tokenize(sentence):\n",
    "    \"\"\"moses tokeniser, matching infersent\"\"\"\n",
    "    seq = \" \".join(word_tokenize(sentence))\n",
    "    seq = seq.replace(\" n't \", \"n 't \")\n",
    "    return seq.split()\n",
    "\n",
    "\n",
    "def label_linkable_tokens(sentence, label_all=True):\n",
    "    parsed_html = BeautifulSoup(sentence, \"html.parser\")\n",
    "\n",
    "    link_text = [link.text for link in parsed_html.find_all(\"a\")]\n",
    "    tokenised_links = [tokenize(link) for link in link_text]\n",
    "    clean_sentence = parsed_html.text\n",
    "    tokenised_text = tokenize(clean_sentence)\n",
    "    target_sequence = np.zeros(len(tokenised_text))\n",
    "\n",
    "    for link in tokenised_links:\n",
    "        start_positions = kmp(tokenised_text, link)\n",
    "        if label_all:\n",
    "            for pos in start_positions:\n",
    "                target_sequence[pos : pos + len(link)] = 1\n",
    "        elif label_all == False and len(start_positions) > 0:\n",
    "            pos = start_positions[0]\n",
    "            target_sequence[pos : pos + len(link)] = 1\n",
    "        else:\n",
    "            pass\n",
    "\n",
    "    return clean_sentence, tokenised_text, target_sequence\n",
    "\n",
    "\n",
    "def kmp(sequence, sub):\n",
    "    \"\"\"\n",
    "    Knuth–Morris–Pratt algorithm, returning the starting position\n",
    "    of a specified subsequence within another, larger sequence.\n",
    "    Usually used for string matching.\n",
    "    \"\"\"\n",
    "    partial = [0]\n",
    "    for i in range(1, len(sub)):\n",
    "        j = partial[i - 1]\n",
    "        while j > 0 and sub[j] != sub[i]:\n",
    "            j = partial[j - 1]\n",
    "        partial.append(j + 1 if sub[j] == sub[i] else j)\n",
    "\n",
    "    positions, j = [], 0\n",
    "    for i in range(len(sequence)):\n",
    "        while j > 0 and sequence[i] != sub[j]:\n",
    "            j = partial[j - 1]\n",
    "        if sequence[i] == sub[j]:\n",
    "            j += 1\n",
    "        if j == len(sub):\n",
    "            positions.append(i - (j - 1))\n",
    "            j = 0\n",
    "\n",
    "    return positions"
   ]
  },
  {
   "cell_type": "code",
   "execution_count": null,
   "metadata": {},
   "outputs": [],
   "source": [
    "sequence_data, article_lengths = [], []\n",
    "\n",
    "for i, article in enumerate(tqdm(articles)):\n",
    "    new_sentences = sent_tokenize(article)\n",
    "    good_sentence_count = 0\n",
    "\n",
    "    for sentence in new_sentences:\n",
    "        try:\n",
    "            clean, tokenised, targets = label_linkable_tokens(sentence)\n",
    "            sequence_data.append([clean, tokenised, targets, i])\n",
    "            good_sentence_count += 1\n",
    "        except:\n",
    "            pass\n",
    "    article_lengths.append(good_sentence_count)\n",
    "\n",
    "sentences, token_sequences, target_sequences, article_markers = zip(*sequence_data)"
   ]
  },
  {
   "cell_type": "markdown",
   "metadata": {},
   "source": [
    "if we've done this right, the sum of the article lengths should be equal to the number of captured sentences"
   ]
  },
  {
   "cell_type": "code",
   "execution_count": null,
   "metadata": {},
   "outputs": [],
   "source": [
    "assert sum(article_lengths) == len(sentences)"
   ]
  },
  {
   "cell_type": "code",
   "execution_count": null,
   "metadata": {},
   "outputs": [],
   "source": [
    "len(sentences)"
   ]
  },
  {
   "cell_type": "markdown",
   "metadata": {},
   "source": [
    "# character level inputs"
   ]
  },
  {
   "cell_type": "code",
   "execution_count": null,
   "metadata": {},
   "outputs": [],
   "source": [
    "unique_characters = set(\" \".join([token for seq in token_sequences for token in seq]))"
   ]
  },
  {
   "cell_type": "code",
   "execution_count": null,
   "metadata": {},
   "outputs": [],
   "source": [
    "special_cases = [\"xxunk\", \"xxpad\", \"xxbos\", \"xxeos\"]\n",
    "\n",
    "for case in special_cases:\n",
    "    unique_characters.add(case)"
   ]
  },
  {
   "cell_type": "code",
   "execution_count": null,
   "metadata": {},
   "outputs": [],
   "source": [
    "char_to_ix = {char: ix for ix, char in enumerate(unique_characters)}\n",
    "ix_to_char = {ix: char for ix, char in enumerate(unique_characters)}"
   ]
  },
  {
   "cell_type": "markdown",
   "metadata": {},
   "source": [
    "# fasttext and a word vector embedding matrix "
   ]
  },
  {
   "cell_type": "code",
   "execution_count": null,
   "metadata": {},
   "outputs": [],
   "source": [
    "n_wvs = 1000000\n",
    "wv_path = \"/mnt/efs/text/word_vectors/wiki-news-300d-1M.vec\"\n",
    "wv_file = io.open(wv_path, \"r\", encoding=\"utf-8\", newline=\"\\n\", errors=\"ignore\")\n",
    "lines_to_parse = list(wv_file)[1:n_wvs]\n",
    "\n",
    "fasttext = {\n",
    "    line.split()[0]: np.array(line.split()[1:]).astype(np.float32)\n",
    "    for line in tqdm(lines_to_parse)\n",
    "}"
   ]
  },
  {
   "cell_type": "code",
   "execution_count": null,
   "metadata": {},
   "outputs": [],
   "source": [
    "all_tokens = [tok for seq in token_sequences for tok in seq]\n",
    "\n",
    "article_vocabulary, _ = zip(*Counter(all_tokens).most_common(n_wvs))\n",
    "article_vocabulary = set(article_vocabulary)"
   ]
  },
  {
   "cell_type": "code",
   "execution_count": null,
   "metadata": {},
   "outputs": [],
   "source": [
    "for case in special_cases:\n",
    "    article_vocabulary.add(case)\n",
    "    fasttext[case] = np.random.random(300)"
   ]
  },
  {
   "cell_type": "code",
   "execution_count": null,
   "metadata": {},
   "outputs": [],
   "source": [
    "len(article_vocabulary)"
   ]
  },
  {
   "cell_type": "code",
   "execution_count": null,
   "metadata": {},
   "outputs": [],
   "source": [
    "article_vocabulary_list = list(article_vocabulary)\n",
    "token_to_ix = {token: index for index, token in enumerate(article_vocabulary_list)}\n",
    "ix_to_token = {index: token for index, token in enumerate(article_vocabulary_list)}"
   ]
  },
  {
   "cell_type": "code",
   "execution_count": null,
   "metadata": {},
   "outputs": [],
   "source": [
    "word_vector_embedding_matrix = torch.FloatTensor(\n",
    "    [\n",
    "        fasttext[token] if token in fasttext else fasttext[\"xxunk\"]\n",
    "        for token in article_vocabulary\n",
    "    ]\n",
    ")"
   ]
  },
  {
   "cell_type": "markdown",
   "metadata": {},
   "source": [
    "# infersent embeddings"
   ]
  },
  {
   "cell_type": "code",
   "execution_count": null,
   "metadata": {},
   "outputs": [],
   "source": [
    "model_path = \"/mnt/efs/text/infersent/infersent2.pkl\"\n",
    "model_params = {\n",
    "    \"bsize\": 32,\n",
    "    \"word_emb_dim\": 300,\n",
    "    \"enc_lstm_dim\": 2048,\n",
    "    \"pool_type\": \"max\",\n",
    "    \"dpout_model\": 0.0,\n",
    "    \"version\": 2,\n",
    "}\n",
    "\n",
    "infersent = InferSent(model_params).to(device)\n",
    "infersent.load_state_dict(torch.load(model_path))"
   ]
  },
  {
   "cell_type": "code",
   "execution_count": null,
   "metadata": {},
   "outputs": [],
   "source": [
    "word_vector_path = \"/mnt/efs/text/word_vectors/crawl-300d-2M.vec\"\n",
    "infersent.set_w2v_path(word_vector_path)"
   ]
  },
  {
   "cell_type": "code",
   "execution_count": null,
   "metadata": {},
   "outputs": [],
   "source": [
    "infersent.build_vocab(sentences, tokenize=True)"
   ]
  },
  {
   "cell_type": "code",
   "execution_count": null,
   "metadata": {},
   "outputs": [],
   "source": [
    "sentence_vectors = torch.Tensor(infersent.encode(sentences, tokenize=True))"
   ]
  },
  {
   "cell_type": "code",
   "execution_count": null,
   "metadata": {},
   "outputs": [],
   "source": [
    "article_vectors = []\n",
    "for T in tqdm(sentence_vectors.split(article_lengths)):\n",
    "    try:\n",
    "        article_vectors.append(torch.max(T, 0)[0])\n",
    "    except:\n",
    "        article_vectors.append(sentence_vectors.mean(0))\n",
    "\n",
    "article_vectors = torch.stack(article_vectors)"
   ]
  },
  {
   "cell_type": "code",
   "execution_count": null,
   "metadata": {},
   "outputs": [],
   "source": [
    "sentence_vectors.shape, article_vectors.shape"
   ]
  },
  {
   "cell_type": "markdown",
   "metadata": {},
   "source": [
    "# dataset and dataloader"
   ]
  },
  {
   "cell_type": "code",
   "execution_count": null,
   "metadata": {},
   "outputs": [],
   "source": [
    "class SentenceDataset(Dataset):\n",
    "    def __init__(\n",
    "        self,\n",
    "        token_seqs,\n",
    "        target_seqs,\n",
    "        article_markers,\n",
    "        sent_vectors=sentence_vectors,\n",
    "        article_vectors=article_vectors,\n",
    "    ):\n",
    "        self.sent_vectors = sent_vectors\n",
    "        self.article_vectors = article_vectors\n",
    "\n",
    "        # impose length constraint\n",
    "        where_big_enough = np.where([len(seq) > 3 for seq in token_seqs])\n",
    "        self.token_seqs = np.array(token_seqs)[where_big_enough]\n",
    "        self.target_seqs = np.array(target_seqs)[where_big_enough]\n",
    "        self.article_markers = np.array(article_markers)[where_big_enough]\n",
    "\n",
    "        # indexify\n",
    "        self.char_ix_seqs = [self.indexify_chars(seq) for seq in self.token_seqs]\n",
    "\n",
    "        self.token_seqs = [self.indexify_tokens(seq) for seq in self.token_seqs]\n",
    "\n",
    "        # find exit points for character level sequences\n",
    "        self.exit_ix_seqs = [self.find_exit_points(seq) for seq in self.char_ix_seqs]\n",
    "\n",
    "        self.max_ix = len(sent_vectors) - 1\n",
    "\n",
    "    def __getitem__(self, ix):\n",
    "        char_ix_seq = self.char_ix_seqs[ix]\n",
    "        token_seq = self.token_seqs[ix]\n",
    "        exit_ix_seq = self.exit_ix_seqs[ix]\n",
    "        target_seq = self.target_seqs[ix]\n",
    "        context_vector = self.get_context_vector(ix)\n",
    "        return char_ix_seq, token_seq, exit_ix_seq, target_seq, context_vector\n",
    "\n",
    "    def __len__(self):\n",
    "        return len(self.token_seqs)\n",
    "\n",
    "    def indexify_tokens(self, token_seq):\n",
    "        ix_seq = np.array(\n",
    "            [\n",
    "                token_to_ix[token]\n",
    "                if token in article_vocabulary\n",
    "                else token_to_ix[\"xxunk\"]\n",
    "                for token in token_seq\n",
    "            ]\n",
    "        )\n",
    "        return torch.LongTensor(ix_seq)\n",
    "\n",
    "    def indexify_chars(self, token_seq):\n",
    "        ix_seq = np.array(\n",
    "            [char_to_ix[\"xxbos\"], char_to_ix[\" \"]]\n",
    "            + [char_to_ix[char] for char in \" \".join(token_seq)]\n",
    "            + [char_to_ix[\" \"], char_to_ix[\"xxeos\"]]\n",
    "        )\n",
    "        return torch.LongTensor(ix_seq)\n",
    "\n",
    "    def find_exit_points(self, char_ix_seq):\n",
    "        binary = char_ix_seq == char_to_ix[\" \"]\n",
    "        return binary.nonzero().squeeze()\n",
    "\n",
    "    def get_context_vector(self, ix):\n",
    "        if ix in [0, 1, 2]:\n",
    "            previous_1 = torch.rand(4096)\n",
    "            previous_2 = torch.rand(4096)\n",
    "            following = self.sent_vectors[ix + 1]\n",
    "        elif ix == self.max_ix:\n",
    "            previous_1 = self.sent_vectors[ix - 1]\n",
    "            previous_2 = self.sent_vectors[ix - 2]\n",
    "            following = torch.rand(14096)\n",
    "        else:\n",
    "            previous_1 = self.sent_vectors[ix - 1]\n",
    "            previous_2 = self.sent_vectors[ix - 2]\n",
    "            following = self.sent_vectors[ix + 1]\n",
    "\n",
    "        article_vector = self.article_vectors[self.article_markers[ix]]\n",
    "        previous = torch.max(torch.stack([previous_1, previous_2]), 0)[0]\n",
    "        context_vector = torch.cat([article_vector, previous, following])\n",
    "        return context_vector"
   ]
  },
  {
   "cell_type": "code",
   "execution_count": null,
   "metadata": {},
   "outputs": [],
   "source": [
    "def collate_fn(batch):\n",
    "    char_ix_seqs, token_seqs, exit_ix_seqs, target_seqs, context_vectors = zip(*batch)\n",
    "\n",
    "    char_seq_lens = torch.LongTensor([len(char_seq) for char_seq in char_ix_seqs])\n",
    "\n",
    "    sorted_char_lengths, sort_indicies = char_seq_lens.sort(dim=0, descending=True)\n",
    "\n",
    "    sorted_char_seqs = [char_ix_seqs[i] for i in sort_indicies]\n",
    "    sorted_token_seqs = [token_seqs[i] for i in sort_indicies]\n",
    "    sorted_exit_seqs = [exit_ix_seqs[i] for i in sort_indicies]\n",
    "    sorted_context_vectors = torch.stack([context_vectors[i] for i in sort_indicies])\n",
    "    sorted_target_seqs = [torch.LongTensor(target_seqs[i]) for i in sort_indicies]\n",
    "    sorted_token_lengths = torch.LongTensor([len(seq) for seq in sorted_token_seqs])\n",
    "\n",
    "    padded_char_seqs = pad_sequence(\n",
    "        sequences=sorted_char_seqs, padding_value=char_to_ix[\"xxpad\"], batch_first=True\n",
    "    )\n",
    "\n",
    "    padded_token_seqs = pad_sequence(\n",
    "        sequences=sorted_token_seqs,\n",
    "        padding_value=token_to_ix[\"xxpad\"],\n",
    "        batch_first=True,\n",
    "    )\n",
    "\n",
    "    padded_exit_seqs = pad_sequence(\n",
    "        sequences=sorted_exit_seqs, padding_value=0, batch_first=True\n",
    "    )\n",
    "\n",
    "    padded_target_seqs = pad_sequence(\n",
    "        sequences=sorted_target_seqs, padding_value=0, batch_first=True\n",
    "    )\n",
    "\n",
    "    return (\n",
    "        padded_char_seqs,\n",
    "        padded_token_seqs,\n",
    "        padded_exit_seqs,\n",
    "        sorted_context_vectors,\n",
    "        sorted_char_lengths,\n",
    "        sorted_token_lengths,\n",
    "        padded_target_seqs,\n",
    "    )"
   ]
  },
  {
   "cell_type": "code",
   "execution_count": null,
   "metadata": {},
   "outputs": [],
   "source": [
    "(\n",
    "    train_tokens,\n",
    "    test_tokens,\n",
    "    train_targets,\n",
    "    test_targets,\n",
    "    train_markers,\n",
    "    test_markers,\n",
    ") = train_test_split(\n",
    "    token_sequences, target_sequences, article_markers, test_size=0.20, random_state=42\n",
    ")"
   ]
  },
  {
   "cell_type": "code",
   "execution_count": null,
   "metadata": {},
   "outputs": [],
   "source": [
    "train_dataset = SentenceDataset(train_tokens, train_targets, train_markers)\n",
    "\n",
    "train_loader = DataLoader(\n",
    "    dataset=train_dataset,\n",
    "    batch_size=64,\n",
    "    num_workers=5,\n",
    "    shuffle=True,\n",
    "    collate_fn=collate_fn,\n",
    ")"
   ]
  },
  {
   "cell_type": "code",
   "execution_count": null,
   "metadata": {},
   "outputs": [],
   "source": [
    "test_dataset = SentenceDataset(test_tokens, test_targets, test_markers)\n",
    "\n",
    "test_loader = DataLoader(\n",
    "    dataset=test_dataset,\n",
    "    batch_size=1,\n",
    "    num_workers=5,\n",
    "    shuffle=True,\n",
    "    collate_fn=collate_fn,\n",
    ")"
   ]
  },
  {
   "cell_type": "markdown",
   "metadata": {},
   "source": [
    "# model"
   ]
  },
  {
   "cell_type": "code",
   "execution_count": null,
   "metadata": {},
   "outputs": [],
   "source": [
    "class CharacterLevelNetwork(nn.Module):\n",
    "    def __init__(self, input_dim, embedding_dim, hidden_dim, output_dim):\n",
    "\n",
    "        super(CharacterLevelNetwork, self).__init__()\n",
    "        self.output_dim = output_dim\n",
    "        self.embedding = nn.Embedding(input_dim, embedding_dim)\n",
    "\n",
    "        self.char_level_lstm = nn.LSTM(\n",
    "            input_size=embedding_dim,\n",
    "            hidden_size=hidden_dim,\n",
    "            num_layers=1,\n",
    "            bidirectional=True,\n",
    "        )\n",
    "\n",
    "        self.head_fwd = nn.Sequential(\n",
    "            nn.Dropout(0.3),\n",
    "            nn.Linear(hidden_dim, hidden_dim // 2),\n",
    "            nn.ReLU(),\n",
    "            nn.Dropout(0.3),\n",
    "            nn.Linear(hidden_dim // 2, output_dim),\n",
    "        )\n",
    "\n",
    "        self.head_bwd = nn.Sequential(\n",
    "            nn.Dropout(0.3),\n",
    "            nn.Linear(hidden_dim, hidden_dim // 2),\n",
    "            nn.ReLU(),\n",
    "            nn.Dropout(0.3),\n",
    "            nn.Linear(hidden_dim // 2, output_dim),\n",
    "        )\n",
    "\n",
    "    def forward(self, char_seqs, exit_seqs, lengths):\n",
    "        x = self.embedding(char_seqs)\n",
    "\n",
    "        x = pack_padded_sequence(x, lengths=lengths, batch_first=True)\n",
    "\n",
    "        x, _ = self.char_level_lstm(x)\n",
    "        out, _ = pad_packed_sequence(x, batch_first=True)\n",
    "\n",
    "        # pop out the character embeddings at position of the end of each token\n",
    "        out = torch.stack([out[i, exit_seqs[i]] for i in range(len(out))])\n",
    "\n",
    "        out_fwd, out_bwd = torch.chunk(out, 2, 2)\n",
    "\n",
    "        pred_fwd = self.head_fwd(out_fwd[:, 1:])\n",
    "        pred_bwd = self.head_bwd(out_bwd[:, :-1])\n",
    "\n",
    "        return pred_fwd, pred_bwd"
   ]
  },
  {
   "cell_type": "code",
   "execution_count": null,
   "metadata": {},
   "outputs": [],
   "source": [
    "class LinkLabeller(nn.Module):\n",
    "    def __init__(self, word_vector_embedding_matrix, hidden_dim=1024):\n",
    "        super(LinkLabeller, self).__init__()\n",
    "        self.wv_embedding = nn.Embedding.from_pretrained(word_vector_embedding_matrix)\n",
    "        self.distil_dim = 512\n",
    "\n",
    "        self.cln = CharacterLevelNetwork(\n",
    "            input_dim=len(unique_characters),\n",
    "            embedding_dim=30,\n",
    "            hidden_dim=256,\n",
    "            output_dim=30,\n",
    "        )\n",
    "\n",
    "        self.lstm_input_size = word_vector_embedding_matrix.shape[1] + (\n",
    "            self.cln.output_dim * 2\n",
    "        )\n",
    "\n",
    "        self.word_level_lstm = nn.LSTM(\n",
    "            input_size=self.lstm_input_size,\n",
    "            hidden_size=hidden_dim,\n",
    "            num_layers=1,\n",
    "            bidirectional=True,\n",
    "            # dropout=0.2\n",
    "        )\n",
    "\n",
    "        self.distill = nn.Sequential(\n",
    "            nn.Dropout(0.3),\n",
    "            nn.Linear(4096 * 3, 2048),\n",
    "            nn.ReLU(),\n",
    "            nn.Dropout(0.3),\n",
    "            nn.Linear(2048, self.distil_dim),\n",
    "        )\n",
    "\n",
    "        self.head = nn.Sequential(\n",
    "            nn.Dropout(0.3),\n",
    "            nn.Linear(hidden_dim * 2 + self.distil_dim, hidden_dim // 16),\n",
    "            nn.ReLU(),\n",
    "            nn.Dropout(0.3),\n",
    "            nn.Linear(hidden_dim // 16, 2),\n",
    "        )\n",
    "\n",
    "    def forward(self, char_seqs, token_seqs, exit_seqs, context, c_lens, t_lens):\n",
    "        wv_seqs = self.wv_embedding(token_seqs)\n",
    "        char_fwd, char_bwd = self.cln(char_seqs, exit_seqs, c_lens)\n",
    "\n",
    "        concats = torch.cat([char_fwd, char_bwd, wv_seqs], dim=2)\n",
    "\n",
    "        sorted_lengths, sort_indicies = t_lens.sort(dim=0, descending=True)\n",
    "\n",
    "        concats = torch.stack([concats[i] for i in sort_indicies])\n",
    "\n",
    "        packed = pack_padded_sequence(concats, lengths=sorted_lengths, batch_first=True)\n",
    "\n",
    "        embedded, _ = self.word_level_lstm(concats)\n",
    "\n",
    "        distilled_context = torch.cat(\n",
    "            [self.distill(context).unsqueeze(1)] * embedded.shape[1], dim=1\n",
    "        )\n",
    "\n",
    "        with_context = torch.cat([distilled_context, embedded], dim=2)\n",
    "        output = self.head(with_context).permute(0, 2, 1)\n",
    "        return output, sort_indicies"
   ]
  },
  {
   "cell_type": "code",
   "execution_count": null,
   "metadata": {},
   "outputs": [],
   "source": [
    "model = LinkLabeller(word_vector_embedding_matrix).to(device)"
   ]
  },
  {
   "cell_type": "markdown",
   "metadata": {},
   "source": [
    "# training"
   ]
  },
  {
   "cell_type": "code",
   "execution_count": null,
   "metadata": {},
   "outputs": [],
   "source": [
    "stacked = np.hstack(train_targets)\n",
    "a = len(stacked) - stacked.sum()\n",
    "b = stacked.sum()\n",
    "class_weights = torch.Tensor([b, a]) / (b + a)"
   ]
  },
  {
   "cell_type": "code",
   "execution_count": null,
   "metadata": {},
   "outputs": [],
   "source": [
    "losses = []"
   ]
  },
  {
   "cell_type": "code",
   "execution_count": null,
   "metadata": {},
   "outputs": [],
   "source": [
    "torch.backends.cudnn.benchmark = True\n",
    "\n",
    "trainable_parameters = filter(lambda p: p.requires_grad, model.parameters())\n",
    "\n",
    "optimiser = optim.Adam(trainable_parameters, lr=0.0001)\n",
    "\n",
    "loss_function = nn.CrossEntropyLoss(weight=class_weights.cuda())"
   ]
  },
  {
   "cell_type": "code",
   "execution_count": null,
   "metadata": {},
   "outputs": [],
   "source": [
    "def train(model, train_loader, loss_function, optimiser, n_epochs):\n",
    "    model.train()\n",
    "    for epoch in range(n_epochs):\n",
    "        loop = tqdm(train_loader)\n",
    "        for c_seqs, t_seqs, exit_seqs, context, c_lens, t_lens, targets in loop:\n",
    "            c_seqs = torch.LongTensor(c_seqs).cuda(non_blocking=True)\n",
    "            t_seqs = torch.LongTensor(t_seqs).cuda(non_blocking=True)\n",
    "            exit_seqs = torch.LongTensor(exit_seqs).cuda(non_blocking=True)\n",
    "            context = torch.Tensor(context).cuda(non_blocking=True)\n",
    "            c_lens = torch.LongTensor(c_lens).cuda(non_blocking=True)\n",
    "            t_lens = torch.LongTensor(t_lens).cuda(non_blocking=True)\n",
    "            targets = torch.LongTensor(targets).cuda(non_blocking=True)\n",
    "\n",
    "            optimiser.zero_grad()\n",
    "            preds, sort_indicies = model(\n",
    "                c_seqs, t_seqs, exit_seqs, context, c_lens, t_lens\n",
    "            )\n",
    "\n",
    "            targets = torch.stack([targets[i] for i in sort_indicies])\n",
    "\n",
    "            loss = loss_function(preds, targets)\n",
    "            loss.backward()\n",
    "            optimiser.step()\n",
    "\n",
    "            losses.append(loss.item())\n",
    "            loop.set_description(\"Epoch {}/{}\".format(epoch + 1, n_epochs))\n",
    "            loop.set_postfix(loss=np.mean(losses[-100:]))"
   ]
  },
  {
   "cell_type": "code",
   "execution_count": null,
   "metadata": {},
   "outputs": [],
   "source": [
    "train(\n",
    "    model=model,\n",
    "    train_loader=train_loader,\n",
    "    loss_function=loss_function,\n",
    "    optimiser=optimiser,\n",
    "    n_epochs=8,\n",
    ")"
   ]
  },
  {
   "cell_type": "code",
   "execution_count": null,
   "metadata": {},
   "outputs": [],
   "source": [
    "loss_data = pd.Series(losses[20:]).rolling(window=500).mean()\n",
    "ax = loss_data.plot()\n",
    "ax.set_ylim(0.12, 0.26);"
   ]
  },
  {
   "cell_type": "markdown",
   "metadata": {},
   "source": [
    "# test the model on unseen data"
   ]
  },
  {
   "cell_type": "code",
   "execution_count": null,
   "metadata": {},
   "outputs": [],
   "source": [
    "def format_output(tokens, targets, preds):\n",
    "    target_string, pred_string = \"\", \"\"\n",
    "\n",
    "    for token_id, target, pred in zip(tokens, targets, preds):\n",
    "        token = tokenizer.convert_ids_to_tokens([token_id.item()])[0]\n",
    "\n",
    "        if target == 1:\n",
    "            target_string += \"<b>\" + token + \"</b> \"\n",
    "        else:\n",
    "            target_string += token + \" \"\n",
    "\n",
    "        if pred == 1:\n",
    "            pred_string += \"<b>\" + token + \"</b> \"\n",
    "        else:\n",
    "            pred_string += token + \" \"\n",
    "\n",
    "    output_string = (\n",
    "        \"PRED:<br>\"\n",
    "        + clean(pred_string)\n",
    "        + \"<br><br>TARG:<br>\"\n",
    "        + clean(target_string)\n",
    "        + \"<br><br>--------<br><br>\"\n",
    "    )\n",
    "\n",
    "    return output_string"
   ]
  },
  {
   "cell_type": "code",
   "execution_count": null,
   "metadata": {},
   "outputs": [],
   "source": [
    "output = \"\"\n",
    "\n",
    "for i, (c_seqs, t_seqs, exit_seqs, context, c_lens, t_lens, targets) in enumerate(\n",
    "    test_loader\n",
    "):\n",
    "    if i < 10:\n",
    "        try:\n",
    "            c_seqs = torch.LongTensor(c_seqs).cuda()\n",
    "            t_seqs = torch.LongTensor(t_seqs).cuda()\n",
    "            exit_seqs = torch.LongTensor(exit_seqs).cuda()\n",
    "            context = torch.Tensor(context).cuda()\n",
    "            c_lens = torch.LongTensor(c_lens).cuda()\n",
    "            t_lens = torch.LongTensor(t_lens).cuda()\n",
    "            targets = torch.LongTensor(targets).cuda()\n",
    "\n",
    "            optimiser.zero_grad()\n",
    "            preds, sort_indicies = model(\n",
    "                c_seqs, t_seqs, exit_seqs, context, c_lens, t_lens\n",
    "            )\n",
    "            preds = nn.LogSoftmax(dim=1)(preds).argmax(dim=1)\n",
    "\n",
    "            targets = torch.stack([targets[i] for i in sort_indicies])\n",
    "\n",
    "            target_string = []\n",
    "            pred_string = []\n",
    "\n",
    "            output += format_output(tokens[0], targets[0], preds)\n",
    "        except:\n",
    "            pass\n",
    "    else:\n",
    "        break\n",
    "\n",
    "display(HTML(output))"
   ]
  },
  {
   "cell_type": "markdown",
   "metadata": {},
   "source": [
    "# colourful visualisation"
   ]
  },
  {
   "cell_type": "code",
   "execution_count": null,
   "metadata": {},
   "outputs": [],
   "source": [
    "test_dataset = SentenceDataset(test_tokens, test_targets, test_markers)\n",
    "\n",
    "test_loader = DataLoader(\n",
    "    dataset=test_dataset,\n",
    "    batch_size=1,\n",
    "    num_workers=5,\n",
    "    shuffle=True,\n",
    "    collate_fn=collate_fn,\n",
    ")"
   ]
  },
  {
   "cell_type": "code",
   "execution_count": null,
   "metadata": {},
   "outputs": [],
   "source": [
    "c_seqs, t_seqs, exit_seqs, context, c_lens, t_lens, targets = next(iter(test_loader))"
   ]
  },
  {
   "cell_type": "code",
   "execution_count": null,
   "metadata": {},
   "outputs": [],
   "source": [
    "c_seqs = torch.LongTensor(c_seqs).cuda()\n",
    "t_seqs = torch.LongTensor(t_seqs).cuda()\n",
    "exit_seqs = torch.LongTensor(exit_seqs).cuda()\n",
    "context = torch.Tensor(context).cuda()\n",
    "c_lens = torch.LongTensor(c_lens).cuda()\n",
    "t_lens = torch.LongTensor(t_lens).cuda()\n",
    "targets = torch.LongTensor(targets).cuda()\n",
    "\n",
    "preds, sort_indicies = model(c_seqs, t_seqs, exit_seqs, context, c_lens, t_lens)\n",
    "\n",
    "softmaxed = nn.LogSoftmax(dim=1)(preds).argmax(dim=1)"
   ]
  },
  {
   "cell_type": "code",
   "execution_count": null,
   "metadata": {},
   "outputs": [],
   "source": [
    "cpu_preds = preds.squeeze().detach().cpu().numpy()[1]\n",
    "pd.Series(cpu_preds).plot.bar(color=\"#606060\");"
   ]
  },
  {
   "cell_type": "code",
   "execution_count": null,
   "metadata": {},
   "outputs": [],
   "source": [
    "sigmoid = nn.Sigmoid()(preds).squeeze().detach().cpu().numpy()[1]\n",
    "vals = (200 * (sigmoid - np.min(sigmoid)) / np.ptp(sigmoid)).astype(int)"
   ]
  },
  {
   "cell_type": "code",
   "execution_count": null,
   "metadata": {},
   "outputs": [],
   "source": [
    "words = [ix_to_token[ix.item()] for ix in t_seqs[0]]"
   ]
  },
  {
   "cell_type": "code",
   "execution_count": null,
   "metadata": {},
   "outputs": [],
   "source": [
    "def to_hex_colour(val):\n",
    "    return \"#%02x%02x%02x\" % (val, 0, 0)"
   ]
  },
  {
   "cell_type": "code",
   "execution_count": null,
   "metadata": {},
   "outputs": [],
   "source": [
    "coloured_text = \" \".join(\n",
    "    [\"<b>\"]\n",
    "    + [\n",
    "        f'<font color=\"{to_hex_colour(val)}\">{word}</font>'\n",
    "        for word, val in list(zip(words, vals))\n",
    "    ]\n",
    "    + [\"<b>\"]\n",
    ")"
   ]
  },
  {
   "cell_type": "code",
   "execution_count": null,
   "metadata": {},
   "outputs": [],
   "source": [
    "display(HTML(coloured_text))"
   ]
  },
  {
   "cell_type": "markdown",
   "metadata": {},
   "source": [
    "# greedily climb the predicted values\n",
    "- start with a threshold just below zero\n",
    "- find groups of tokens which exist as potential complete links\n",
    "- search and disambiguate\n",
    "- increase value and repeat until some threshold\n",
    "- take the strongest groupings in the hierarchy as links to include"
   ]
  },
  {
   "cell_type": "markdown",
   "metadata": {},
   "source": [
    "# generate dataset for testing disambiguation"
   ]
  },
  {
   "cell_type": "code",
   "execution_count": null,
   "metadata": {},
   "outputs": [],
   "source": [
    "test_dataset = SentenceDataset(test_tokens, test_targets, test_markers)\n",
    "\n",
    "test_loader = DataLoader(\n",
    "    dataset=test_dataset,\n",
    "    batch_size=128,\n",
    "    num_workers=5,\n",
    "    shuffle=True,\n",
    "    collate_fn=collate_fn,\n",
    ")"
   ]
  },
  {
   "cell_type": "code",
   "execution_count": null,
   "metadata": {},
   "outputs": [],
   "source": [
    "tokens, predictions = [], []\n",
    "\n",
    "with torch.no_grad():\n",
    "    loop = tqdm(test_loader)\n",
    "    for c_seqs, t_seqs, exit_seqs, context, c_lens, t_lens, targets in loop:\n",
    "        c_seqs = torch.LongTensor(c_seqs).cuda(non_blocking=True)\n",
    "        t_seqs = torch.LongTensor(t_seqs).cuda(non_blocking=True)\n",
    "        exit_seqs = torch.LongTensor(exit_seqs).cuda(non_blocking=True)\n",
    "        context = torch.Tensor(context).cuda(non_blocking=True)\n",
    "        c_lens = torch.LongTensor(c_lens).cuda(non_blocking=True)\n",
    "        t_lens = torch.LongTensor(t_lens).cuda(non_blocking=True)\n",
    "        targets = torch.LongTensor(targets).cuda(non_blocking=True)\n",
    "\n",
    "        preds, sort_indicies = model(c_seqs, t_seqs, exit_seqs, context, c_lens, t_lens)\n",
    "\n",
    "        t_seqs = torch.stack([t_seqs[i] for i in sort_indicies])\n",
    "\n",
    "        tokens.append(t_seqs)\n",
    "        predictions.append(preds)"
   ]
  },
  {
   "cell_type": "code",
   "execution_count": null,
   "metadata": {},
   "outputs": [],
   "source": [
    "import pickle\n",
    "\n",
    "for i in tqdm(range(len(predictions))):\n",
    "    torch.save(predictions[i], f\"/mnt/efs/disambiguation_data/predictions/{i}.pt\")\n",
    "    torch.save(tokens[i], f\"/mnt/efs/disambiguation_data/tokens/{i}.pt\")\n",
    "\n",
    "with open(\"/mnt/efs/disambiguation_data/ix_to_token.pkl\", \"wb\") as f:\n",
    "    pickle.dump(ix_to_token, f)"
   ]
  },
  {
   "cell_type": "code",
   "execution_count": null,
   "metadata": {},
   "outputs": [],
   "source": []
  },
  {
   "cell_type": "code",
   "execution_count": null,
   "metadata": {},
   "outputs": [],
   "source": []
  }
 ],
 "metadata": {
  "kernelspec": {
   "display_name": "Python [conda env:pytorch_p36]",
   "language": "python",
   "name": "conda-env-pytorch_p36-py"
  },
  "language_info": {
   "codemirror_mode": {
    "name": "ipython",
    "version": 3
   },
   "file_extension": ".py",
   "mimetype": "text/x-python",
   "name": "python",
   "nbconvert_exporter": "python",
   "pygments_lexer": "ipython3",
   "version": "3.6.4"
  }
 },
 "nbformat": 4,
 "nbformat_minor": 2
}

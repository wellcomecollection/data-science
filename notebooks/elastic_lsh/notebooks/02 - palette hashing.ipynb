{
 "cells": [
  {
   "cell_type": "code",
   "execution_count": null,
   "metadata": {},
   "outputs": [],
   "source": [
    "import os\n",
    "import numpy as np\n",
    "from PIL import Image\n",
    "from io import BytesIO\n",
    "import requests\n",
    "from scipy.spatial.distance import jaccard\n",
    "import pandas as pd\n",
    "from elasticsearch import Elasticsearch, helpers\n",
    "from sklearn.cluster import KMeans\n",
    "from tqdm import tqdm"
   ]
  },
  {
   "cell_type": "markdown",
   "metadata": {},
   "source": [
    "# load features"
   ]
  },
  {
   "cell_type": "code",
   "execution_count": null,
   "metadata": {},
   "outputs": [],
   "source": [
    "feature_vector_dir = \"/Users/pimh/Desktop/palette_vectors/\""
   ]
  },
  {
   "cell_type": "code",
   "execution_count": null,
   "metadata": {},
   "outputs": [],
   "source": [
    "with open(os.path.join(feature_vector_dir, \"image_ids.npy\"), \"rb\") as f:\n",
    "    feature_vector_ids = np.load(f)"
   ]
  },
  {
   "cell_type": "code",
   "execution_count": null,
   "metadata": {},
   "outputs": [],
   "source": [
    "with open(os.path.join(feature_vector_dir, \"palette_embeddings.npy\"), \"rb\") as f:\n",
    "    feature_vectors = np.load(f)"
   ]
  },
  {
   "cell_type": "code",
   "execution_count": null,
   "metadata": {},
   "outputs": [],
   "source": [
    "feature_vectors"
   ]
  },
  {
   "cell_type": "code",
   "execution_count": null,
   "metadata": {},
   "outputs": [],
   "source": [
    "feature_vectors.shape"
   ]
  },
  {
   "cell_type": "markdown",
   "metadata": {},
   "source": [
    "# images"
   ]
  },
  {
   "cell_type": "code",
   "execution_count": null,
   "metadata": {},
   "outputs": [],
   "source": [
    "def get_image(query_id):\n",
    "    base_url = (\n",
    "        \"https://iiif.wellcomecollection.org/image/{}.jpg/full/,300/0/default.jpg\"\n",
    "    )\n",
    "    response = requests.get(base_url.format(query_id))\n",
    "    image = Image.open(BytesIO(response.content))\n",
    "    return image"
   ]
  },
  {
   "cell_type": "code",
   "execution_count": null,
   "metadata": {},
   "outputs": [],
   "source": [
    "images = [get_image(feature_vector_ids[np.random.choice(25_000)]) for _ in range(10)]"
   ]
  },
  {
   "cell_type": "code",
   "execution_count": null,
   "metadata": {},
   "outputs": [],
   "source": [
    "query_id = np.random.choice(feature_vector_ids)\n",
    "\n",
    "get_image(query_id)"
   ]
  },
  {
   "cell_type": "markdown",
   "metadata": {},
   "source": [
    "# divide and binarize from sub-clusters "
   ]
  },
  {
   "cell_type": "code",
   "execution_count": null,
   "metadata": {},
   "outputs": [],
   "source": [
    "feature_sections = np.split(feature_vectors, indices_or_sections=10, axis=1)"
   ]
  },
  {
   "cell_type": "code",
   "execution_count": null,
   "metadata": {},
   "outputs": [],
   "source": [
    "clusters = []\n",
    "for i, section in enumerate(feature_sections):\n",
    "    kmeans = KMeans(n_clusters=64).fit(section)\n",
    "    clusters.append(kmeans.labels_)\n",
    "    print(i)"
   ]
  },
  {
   "cell_type": "code",
   "execution_count": null,
   "metadata": {},
   "outputs": [],
   "source": [
    "clusters = np.vstack(clusters).T"
   ]
  },
  {
   "cell_type": "code",
   "execution_count": null,
   "metadata": {},
   "outputs": [],
   "source": [
    "clusters.shape"
   ]
  },
  {
   "cell_type": "raw",
   "metadata": {},
   "source": [
    "def make_binary(section, cluster):\n",
    "    binary_section = bin(section)[2:].zfill(6)\n",
    "    binary_cluster = bin(cluster)[2:].zfill(7)\n",
    "    return binary_section + binary_cluster\n",
    "\n",
    "def stringify_for_es(cluster_array):\n",
    "    binary_representation = [\n",
    "        make_binary(section, cluster) \n",
    "        for section, cluster in enumerate(cluster_array)\n",
    "    ]\n",
    "    return ' '.join(binary_representation)"
   ]
  },
  {
   "cell_type": "code",
   "execution_count": null,
   "metadata": {},
   "outputs": [],
   "source": [
    "def listify_for_es(cluster_array):\n",
    "    return [f\"{i}-{val}\" for i, val in enumerate(cluster_array)]"
   ]
  },
  {
   "cell_type": "markdown",
   "metadata": {},
   "source": [
    "# send data to elasticsearch"
   ]
  },
  {
   "cell_type": "code",
   "execution_count": null,
   "metadata": {},
   "outputs": [],
   "source": [
    "def get_es_client():\n",
    "    username = \"\"\n",
    "    password = \"\"\n",
    "    url = \"\"\n",
    "    return Elasticsearch(url, http_auth=(username, password))"
   ]
  },
  {
   "cell_type": "code",
   "execution_count": null,
   "metadata": {},
   "outputs": [],
   "source": [
    "es = get_es_client()\n",
    "es.indices.delete(index=\"palette-similarity\")"
   ]
  },
  {
   "cell_type": "code",
   "execution_count": null,
   "metadata": {},
   "outputs": [],
   "source": [
    "es.indices.create(index=\"palette-similarity\")"
   ]
  },
  {
   "cell_type": "code",
   "execution_count": null,
   "metadata": {},
   "outputs": [],
   "source": [
    "actions = [\n",
    "    {\n",
    "        \"_index\": \"palette-similarity\",\n",
    "        \"_type\": \"feature_vector\",\n",
    "        \"_id\": feature_vector_id,\n",
    "        \"_source\": {\"feature_vector\": listify_for_es(cluster_array)},\n",
    "    }\n",
    "    for feature_vector_id, cluster_array in tqdm(zip(feature_vector_ids, clusters))\n",
    "]"
   ]
  },
  {
   "cell_type": "code",
   "execution_count": null,
   "metadata": {},
   "outputs": [],
   "source": [
    "helpers.bulk(es, actions)"
   ]
  },
  {
   "cell_type": "markdown",
   "metadata": {},
   "source": [
    "# search"
   ]
  },
  {
   "cell_type": "code",
   "execution_count": null,
   "metadata": {},
   "outputs": [],
   "source": [
    "def stack_images(images):\n",
    "    return Image.fromarray(\n",
    "        np.concatenate([np.array(image) for image in images], axis=1)\n",
    "    )\n",
    "\n",
    "\n",
    "def get_neighbour_images(query_id, n=10):\n",
    "    res = es.search(\n",
    "        index=\"palette-similarity\",\n",
    "        size=n,\n",
    "        body={\n",
    "            \"query\": {\n",
    "                \"more_like_this\": {\n",
    "                    \"fields\": [\"feature_vector.keyword\"],\n",
    "                    \"like\": [{\"_index\": \"palette-similarity\", \"_id\": query_id}],\n",
    "                    \"min_term_freq\": 1,\n",
    "                }\n",
    "            }\n",
    "        },\n",
    "    )\n",
    "\n",
    "    neighbour_ids = [hit[\"_id\"] for hit in res[\"hits\"][\"hits\"]]\n",
    "    print(res[\"hits\"][\"total\"][\"value\"])\n",
    "    neighbour_images = [get_image(id) for id in neighbour_ids]\n",
    "    return stack_images(neighbour_images)"
   ]
  },
  {
   "cell_type": "code",
   "execution_count": null,
   "metadata": {},
   "outputs": [],
   "source": [
    "query_id = np.random.choice(feature_vector_ids)\n",
    "print(query_id)\n",
    "\n",
    "get_image(query_id)"
   ]
  },
  {
   "cell_type": "code",
   "execution_count": null,
   "metadata": {},
   "outputs": [],
   "source": [
    "get_neighbour_images(query_id)"
   ]
  },
  {
   "cell_type": "code",
   "execution_count": null,
   "metadata": {},
   "outputs": [],
   "source": []
  }
 ],
 "metadata": {
  "kernelspec": {
   "display_name": "Python 3",
   "language": "python",
   "name": "python3"
  },
  "language_info": {
   "codemirror_mode": {
    "name": "ipython",
    "version": 3
   },
   "file_extension": ".py",
   "mimetype": "text/x-python",
   "name": "python",
   "nbconvert_exporter": "python",
   "pygments_lexer": "ipython3",
   "version": "3.7.2"
  }
 },
 "nbformat": 4,
 "nbformat_minor": 2
}

{
 "cells": [
  {
   "cell_type": "code",
   "execution_count": null,
   "metadata": {},
   "outputs": [],
   "source": [
    "import os\n",
    "import numpy as np\n",
    "from PIL import Image\n",
    "from io import BytesIO\n",
    "import requests\n",
    "from scipy.spatial.distance import jaccard\n",
    "import pandas as pd\n",
    "from elasticsearch import Elasticsearch, helpers\n",
    "from sklearn.cluster import KMeans\n",
    "from tqdm import tqdm"
   ]
  },
  {
   "cell_type": "markdown",
   "execution_count": null,
   "metadata": {},
   "outputs": [],
   "source": [
    "# load features"
   ]
  },
  {
   "cell_type": "code",
   "execution_count": null,
   "metadata": {},
   "outputs": [],
   "source": [
    "feature_vector_dir = \"/Users/pimh/Desktop/feature_vectors/\""
   ]
  },
  {
   "cell_type": "code",
   "execution_count": null,
   "metadata": {},
   "outputs": [],
   "source": [
    "feature_vector_ids = np.random.choice(os.listdir(feature_vector_dir), 2_000)\n",
    "# feature_vector_ids = os.listdir(feature_vector_dir)"
   ]
  },
  {
   "cell_type": "code",
   "execution_count": null,
   "metadata": {},
   "outputs": [],
   "source": [
    "feature_vector_paths = [\n",
    "    os.path.join(feature_vector_dir, id) for id in feature_vector_ids\n",
    "]"
   ]
  },
  {
   "cell_type": "code",
   "execution_count": null,
   "metadata": {},
   "outputs": [],
   "source": [
    "feature_vectors = []\n",
    "for path in feature_vector_paths:\n",
    "    with open(path) as f:\n",
    "        feature_vector = np.fromfile(f, dtype=np.float32)\n",
    "        feature_vectors.append(feature_vector)\n",
    "\n",
    "feature_vectors = np.stack(feature_vectors)"
   ]
  },
  {
   "cell_type": "code",
   "execution_count": null,
   "metadata": {},
   "outputs": [],
   "source": [
    "feature_vectors"
   ]
  },
  {
   "cell_type": "markdown",
   "execution_count": null,
   "metadata": {},
   "outputs": [],
   "source": [
    "# images"
   ]
  },
  {
   "cell_type": "code",
   "execution_count": null,
   "metadata": {},
   "outputs": [],
   "source": [
    "def get_image(query_id):\n",
    "    base_url = (\n",
    "        \"https://iiif.wellcomecollection.org/image/{}.jpg/full/,300/0/default.jpg\"\n",
    "    )\n",
    "    response = requests.get(base_url.format(query_id))\n",
    "    image = Image.open(BytesIO(response.content))\n",
    "    return image"
   ]
  },
  {
   "cell_type": "code",
   "execution_count": null,
   "metadata": {},
   "outputs": [],
   "source": [
    "query_ix = np.random.choice(len(feature_vectors))\n",
    "query_id = feature_vector_ids[query_ix]\n",
    "\n",
    "get_image(query_id)"
   ]
  },
  {
   "cell_type": "markdown",
   "execution_count": null,
   "metadata": {},
   "outputs": [],
   "source": [
    "# reduce dims to 512"
   ]
  },
  {
   "cell_type": "code",
   "execution_count": null,
   "metadata": {},
   "outputs": [],
   "source": [
    "from sklearn.decomposition import PCA"
   ]
  },
  {
   "cell_type": "code",
   "execution_count": null,
   "metadata": {},
   "outputs": [],
   "source": [
    "reduced_dim_feature_vectors = PCA(n_components=256).fit_transform(feature_vectors)"
   ]
  },
  {
   "cell_type": "markdown",
   "execution_count": null,
   "metadata": {},
   "outputs": [],
   "source": [
    "# send data to elasticsearch"
   ]
  },
  {
   "cell_type": "code",
   "execution_count": null,
   "metadata": {},
   "outputs": [],
   "source": [
    "def get_es_client():\n",
    "    username = \"\"\n",
    "    password = \"\"\n",
    "    url = \"\"\n",
    "    return Elasticsearch(url, http_auth=(username, password))"
   ]
  },
  {
   "cell_type": "code",
   "execution_count": null,
   "metadata": {},
   "outputs": [],
   "source": [
    "es = get_es_client()\n",
    "es.indices.delete(index=\"dense-vectors\")"
   ]
  },
  {
   "cell_type": "code",
   "execution_count": null,
   "metadata": {},
   "outputs": [],
   "source": [
    "es.indices.create(\n",
    "    index=\"dense-vectors\",\n",
    "    body={\n",
    "        \"mappings\": {\n",
    "            \"properties\": {\"feature_vector\": {\"type\": \"dense_vector\", \"dims\": 256}}\n",
    "        }\n",
    "    },\n",
    ")"
   ]
  },
  {
   "cell_type": "code",
   "execution_count": null,
   "metadata": {},
   "outputs": [],
   "source": [
    "from pprint import pprint\n",
    "\n",
    "pprint(es.indices.get_field_mapping(index=\"dense-vectors\", fields=[\"feature_vector\"]))"
   ]
  },
  {
   "cell_type": "code",
   "execution_count": null,
   "metadata": {},
   "outputs": [],
   "source": [
    "actions = [\n",
    "    {\n",
    "        \"_index\": \"dense-vectors\",\n",
    "        \"_type\": \"feature_vector\",\n",
    "        \"_id\": feature_vector_id,\n",
    "        \"_source\": {\n",
    "            \"feature_vector\": feature_vector.tolist(),\n",
    "            \"another_field\": \"some text\",\n",
    "        },\n",
    "    }\n",
    "    for feature_vector_id, feature_vector in tqdm(\n",
    "        zip(feature_vector_ids, reduced_dim_feature_vectors)\n",
    "    )\n",
    "]"
   ]
  },
  {
   "cell_type": "code",
   "execution_count": null,
   "metadata": {},
   "outputs": [],
   "source": [
    "helpers.bulk(es, actions)"
   ]
  },
  {
   "cell_type": "code",
   "execution_count": null,
   "metadata": {},
   "outputs": [],
   "source": []
  }
 ],
 "metadata": {
  "kernelspec": {
   "display_name": "Python 3",
   "language": "python",
   "name": "python3"
  },
  "language_info": {
   "codemirror_mode": {
    "name": "ipython",
    "version": 3
   },
   "file_extension": ".py",
   "mimetype": "text/x-python",
   "name": "python",
   "nbconvert_exporter": "python",
   "pygments_lexer": "ipython3",
   "version": "3.7.2"
  }
 },
 "nbformat": 4,
 "nbformat_minor": 2
}

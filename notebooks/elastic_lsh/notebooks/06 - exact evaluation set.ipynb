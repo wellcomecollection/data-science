{
 "cells": [
  {
   "cell_type": "markdown",
   "execution_count": null,
   "metadata": {},
   "outputs": [],
   "source": [
    "# Exact calculation for a set of randomly chosen images"
   ]
  },
  {
   "cell_type": "code",
   "execution_count": null,
   "metadata": {},
   "outputs": [],
   "source": [
    "import os\n",
    "import numpy as np\n",
    "from PIL import Image\n",
    "from io import BytesIO\n",
    "import requests\n",
    "from scipy.spatial.distance import jaccard\n",
    "import pandas as pd\n",
    "from elasticsearch import Elasticsearch, helpers\n",
    "from sklearn.cluster import KMeans\n",
    "from tqdm import tqdm\n",
    "from scipy.spatial.distance import cosine, cdist"
   ]
  },
  {
   "cell_type": "markdown",
   "execution_count": null,
   "metadata": {},
   "outputs": [],
   "source": [
    "# load features"
   ]
  },
  {
   "cell_type": "code",
   "execution_count": null,
   "metadata": {},
   "outputs": [],
   "source": [
    "feature_vector_dir = \"/Users/pimh/Desktop/feature_vectors/\""
   ]
  },
  {
   "cell_type": "code",
   "execution_count": null,
   "metadata": {},
   "outputs": [],
   "source": [
    "# feature_vector_ids = np.random.choice(os.listdir(feature_vector_dir), 25_000)\n",
    "feature_vector_ids = os.listdir(feature_vector_dir)"
   ]
  },
  {
   "cell_type": "code",
   "execution_count": null,
   "metadata": {},
   "outputs": [],
   "source": [
    "feature_vector_paths = [\n",
    "    os.path.join(feature_vector_dir, id) for id in feature_vector_ids\n",
    "]"
   ]
  },
  {
   "cell_type": "code",
   "execution_count": null,
   "metadata": {},
   "outputs": [],
   "source": [
    "feature_vectors = []\n",
    "for path in feature_vector_paths:\n",
    "    with open(path) as f:\n",
    "        feature_vector = np.fromfile(f, dtype=np.float32)\n",
    "        feature_vectors.append(feature_vector)\n",
    "\n",
    "feature_vectors = np.stack(feature_vectors)"
   ]
  },
  {
   "cell_type": "code",
   "execution_count": null,
   "metadata": {},
   "outputs": [],
   "source": [
    "feature_vectors"
   ]
  },
  {
   "cell_type": "markdown",
   "execution_count": null,
   "metadata": {},
   "outputs": [],
   "source": [
    "# images"
   ]
  },
  {
   "cell_type": "code",
   "execution_count": null,
   "metadata": {},
   "outputs": [],
   "source": [
    "def get_image(query_id):\n",
    "    base_url = (\n",
    "        \"https://iiif.wellcomecollection.org/image/{}.jpg/full/,300/0/default.jpg\"\n",
    "    )\n",
    "    response = requests.get(base_url.format(query_id))\n",
    "    image = Image.open(BytesIO(response.content))\n",
    "    return image\n",
    "\n",
    "\n",
    "def stack_images(images):\n",
    "    return Image.fromarray(\n",
    "        np.concatenate([np.array(image) for image in images], axis=1)\n",
    "    )\n",
    "\n",
    "\n",
    "def images_from_ids(ids, n=10):\n",
    "    neighbour_images = [get_image(id) for id in ids[:n]]\n",
    "    return stack_images(neighbour_images)"
   ]
  },
  {
   "cell_type": "code",
   "execution_count": null,
   "metadata": {},
   "outputs": [],
   "source": [
    "def nearest_neighbours(query_id):\n",
    "    query_index = np.where(np.array(feature_vector_ids) == query_id)[0][0]\n",
    "    query = feature_vectors[query_index].reshape(1, -1)\n",
    "    distances = cdist(query, feature_vectors, \"cosine\")\n",
    "    ordered_indexes = np.argsort(distances)[0]\n",
    "    ordered_ids = [feature_vector_ids[index] for index in ordered_indexes]\n",
    "\n",
    "    return ordered_ids"
   ]
  },
  {
   "cell_type": "code",
   "execution_count": null,
   "metadata": {},
   "outputs": [],
   "source": [
    "query_id = np.random.choice(feature_vector_ids)\n",
    "\n",
    "print(query_id)\n",
    "get_image(query_id)"
   ]
  },
  {
   "cell_type": "code",
   "execution_count": null,
   "metadata": {},
   "outputs": [],
   "source": [
    "neighbour_ids = nearest_neighbours(query_id)\n",
    "images_from_ids(neighbour_ids)"
   ]
  },
  {
   "cell_type": "code",
   "execution_count": null,
   "metadata": {},
   "outputs": [],
   "source": [
    "query_ids = np.random.choice(feature_vector_ids, 1000, replace=False)\n",
    "exact_nearest_neighbour_dict = {}\n",
    "\n",
    "for _ in tqdm(query_ids):\n",
    "    query_id = np.random.choice(feature_vector_ids)\n",
    "    exact_nearest_neighbour_dict[query_id] = nearest_neighbours(query_id)"
   ]
  },
  {
   "cell_type": "code",
   "execution_count": null,
   "metadata": {},
   "outputs": [],
   "source": [
    "import pickle\n",
    "\n",
    "with open(\"exact_nearest_neighbour.pkl\", \"wb\") as f:\n",
    "    pickle.dump(exact_nearest_neighbour_dict, f)"
   ]
  },
  {
   "cell_type": "code",
   "execution_count": null,
   "metadata": {},
   "outputs": [],
   "source": []
  }
 ],
 "metadata": {
  "kernelspec": {
   "display_name": "Python 3",
   "language": "python",
   "name": "python3"
  },
  "language_info": {
   "codemirror_mode": {
    "name": "ipython",
    "version": 3
   },
   "file_extension": ".py",
   "mimetype": "text/x-python",
   "name": "python",
   "nbconvert_exporter": "python",
   "pygments_lexer": "ipython3",
   "version": "3.7.2"
  }
 },
 "nbformat": 4,
 "nbformat_minor": 2
}

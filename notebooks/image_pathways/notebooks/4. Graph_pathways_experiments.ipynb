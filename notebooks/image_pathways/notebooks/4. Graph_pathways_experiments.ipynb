{
 "cells": [
  {
   "cell_type": "markdown",
   "metadata": {},
   "source": [
    "In this notebook we:\n",
    "- Download the feature vectors/reduced dim feature vectors from S3 (7 options)\n",
    "- Get the distance matrices for each of these\n",
    "- Pick the nodes you are going to go between in the network\n",
    "- Build the graphs using 3 types of neighbour definitions (top neighbours, or neighbours close defined by a threshold, a mixture of these or a fully connected graph)\n",
    "- Run different pathways (dijkstra path, the a* path or my defined path) using these graphs\n",
    "\n",
    "The outcome of this notebook points to using the __raw feature vectors, and with a network where each node is connected to its top 3 neighbours__."
   ]
  },
  {
   "cell_type": "code",
   "execution_count": null,
   "metadata": {},
   "outputs": [],
   "source": [
    "%load_ext autoreload\n",
    "%autoreload 2"
   ]
  },
  {
   "cell_type": "code",
   "execution_count": null,
   "metadata": {},
   "outputs": [],
   "source": [
    "from tqdm import tqdm\n",
    "import os\n",
    "from io import BytesIO\n",
    "import ast\n",
    "import numpy as np\n",
    "import pickle\n",
    "from itertools import compress\n",
    "from collections import Counter\n",
    "import operator\n",
    "from functools import partial\n",
    "\n",
    "from PIL import Image\n",
    "import torch\n",
    "import boto3\n",
    "from scipy.spatial.distance import cdist\n",
    "import networkx as nx\n",
    "import matplotlib.pyplot as plt\n",
    "from matplotlib.offsetbox import OffsetImage, AnnotationBbox\n",
    "from itertools import combinations\n",
    "import umap.umap_ as umap"
   ]
  },
  {
   "cell_type": "code",
   "execution_count": null,
   "metadata": {},
   "outputs": [],
   "source": [
    "cd .."
   ]
  },
  {
   "cell_type": "code",
   "execution_count": null,
   "metadata": {},
   "outputs": [],
   "source": [
    "from src.network_functions import (\n",
    "    import_feature_vectors,\n",
    "    get_all_s3_keys,\n",
    "    get_distances,\n",
    "    image_pathway_plot,\n",
    "    get_top_neighbours,\n",
    "    get_high_neighbours,\n",
    "    get_top_high_neighbours,\n",
    "    create_network_graph,\n",
    "    plot_graph,\n",
    "    defined_path,\n",
    ")"
   ]
  },
  {
   "cell_type": "code",
   "execution_count": null,
   "metadata": {},
   "outputs": [],
   "source": [
    "images_dir = \"data/\"\n",
    "image_type = \".png\""
   ]
  },
  {
   "cell_type": "markdown",
   "metadata": {},
   "source": [
    "### 1. Get the names of the ~5000 feature vectors which I found different dimensionality reductions\n",
    "\n",
    "Pick a sample if you want to make it quicker"
   ]
  },
  {
   "cell_type": "code",
   "execution_count": null,
   "metadata": {},
   "outputs": [],
   "source": [
    "bucket_name = \"miro-images-feature-vectors\"\n",
    "bucket_name = bucket_name\n",
    "s3 = boto3.client(\"s3\")"
   ]
  },
  {
   "cell_type": "code",
   "execution_count": null,
   "metadata": {},
   "outputs": [],
   "source": [
    "keys = get_all_s3_keys(bucket_name, s3)"
   ]
  },
  {
   "cell_type": "code",
   "execution_count": null,
   "metadata": {},
   "outputs": [],
   "source": [
    "folder_name = \"reduced_feature_vectors_100_dims\"\n",
    "\n",
    "image_names = [os.path.split(k)[1] for k in keys if folder_name in k]"
   ]
  },
  {
   "cell_type": "code",
   "execution_count": null,
   "metadata": {},
   "outputs": [],
   "source": [
    "n_sample = 1000\n",
    "np.random.seed(0)  # For dev\n",
    "image_names = np.random.choice(image_names, n_sample, replace=False)"
   ]
  },
  {
   "cell_type": "code",
   "execution_count": null,
   "metadata": {},
   "outputs": [],
   "source": [
    "len(image_names)"
   ]
  },
  {
   "cell_type": "markdown",
   "metadata": {},
   "source": [
    "### 2. Download the feature vectors/reduced dim feature vectors from S3"
   ]
  },
  {
   "cell_type": "code",
   "execution_count": null,
   "metadata": {},
   "outputs": [],
   "source": [
    "feature_vectors, _ = import_feature_vectors(\n",
    "    s3, bucket_name, \"feature_vectors\", image_names\n",
    ")\n",
    "feature_vectors_2_dims, _ = import_feature_vectors(\n",
    "    s3, bucket_name, \"reduced_feature_vectors_2_dims\", image_names\n",
    ")\n",
    "feature_vectors_20_dims, _ = import_feature_vectors(\n",
    "    s3, bucket_name, \"reduced_feature_vectors_20_dims\", image_names\n",
    ")\n",
    "feature_vectors_80_dims, _ = import_feature_vectors(\n",
    "    s3, bucket_name, \"reduced_feature_vectors_80_dims\", image_names\n",
    ")\n",
    "feature_vectors_100_dims, _ = import_feature_vectors(\n",
    "    s3, bucket_name, \"reduced_feature_vectors_100_dims\", image_names\n",
    ")\n",
    "feature_vectors_500_dims, _ = import_feature_vectors(\n",
    "    s3, bucket_name, \"reduced_feature_vectors_500_dims\", image_names\n",
    ")\n",
    "feature_vectors_1000_dims, _ = import_feature_vectors(\n",
    "    s3, bucket_name, \"reduced_feature_vectors_1000_dims\", image_names\n",
    ")"
   ]
  },
  {
   "cell_type": "code",
   "execution_count": null,
   "metadata": {},
   "outputs": [],
   "source": [
    "# Remove the name of this image from the list if no feature vector data was found for it\n",
    "image_names = [x for x in image_names if x in list(feature_vectors.keys())]\n",
    "image_names = [x for x in image_names if x in list(feature_vectors_100_dims.keys())]\n",
    "len(image_names)"
   ]
  },
  {
   "cell_type": "code",
   "execution_count": null,
   "metadata": {},
   "outputs": [],
   "source": [
    "image_names_dict = {k: v for k, v in enumerate(image_names)}"
   ]
  },
  {
   "cell_type": "markdown",
   "metadata": {},
   "source": [
    "### 3. Get the distance matrices"
   ]
  },
  {
   "cell_type": "code",
   "execution_count": null,
   "metadata": {},
   "outputs": [],
   "source": [
    "dist_mat_fv = get_distances(feature_vectors)\n",
    "dist_mat_fv2 = get_distances(feature_vectors_2_dims)\n",
    "dist_mat_fv20 = get_distances(feature_vectors_20_dims)\n",
    "dist_mat_fv80 = get_distances(feature_vectors_80_dims)\n",
    "dist_mat_fv100 = get_distances(feature_vectors_100_dims)\n",
    "dist_mat_fv500 = get_distances(feature_vectors_500_dims)\n",
    "dist_mat_fv1000 = get_distances(feature_vectors_1000_dims)"
   ]
  },
  {
   "cell_type": "markdown",
   "metadata": {},
   "source": [
    "### 4. To save running time, build the graphs, then mess with pathway algos.\n",
    "\n",
    "I build four types of graphs using the parameters (when applicable):\n",
    "- number_neighbours = 3\n",
    "- dist_threshold = 0.35\n",
    "\n",
    "Types of graphs:\n",
    "1. Using the top n neighbours : each node is connected to its n closest neighbours\n",
    "2. Using all connections < threshold distance : each node is connected to all it's closest neighbours, defined by a threshold\n",
    "3. Using all connections < threshold distance or top n : each node is connected to all it's closest neighbours, defined by a threshold, and if there are no 'close' neighbours, then the top n\n",
    "4. Fully connected graph : every node is connected to each other\n"
   ]
  },
  {
   "cell_type": "code",
   "execution_count": null,
   "metadata": {},
   "outputs": [],
   "source": [
    "def run_graph(\n",
    "    dist_mat, neighbour_function, number_neighbours=None, dist_threshold=None\n",
    "):\n",
    "\n",
    "    if neighbour_function == get_top_neighbours:\n",
    "        dist_mat_neighbours = neighbour_function(dist_mat=dist_mat, n=number_neighbours)\n",
    "    elif neighbour_function == get_high_neighbours:\n",
    "        dist_mat_neighbours = neighbour_function(\n",
    "            dist_mat=dist_mat, dist_threshold=dist_threshold\n",
    "        )\n",
    "    elif neighbour_function == get_top_high_neighbours:\n",
    "        dist_mat_neighbours = neighbour_function(\n",
    "            dist_mat=dist_mat, n=number_neighbours, dist_threshold=dist_threshold\n",
    "        )\n",
    "\n",
    "    G = create_network_graph(dist_mat_neighbours)\n",
    "\n",
    "    return G"
   ]
  },
  {
   "cell_type": "code",
   "execution_count": null,
   "metadata": {},
   "outputs": [],
   "source": [
    "neighbour_function = get_top_neighbours\n",
    "number_neighbours = 3\n",
    "\n",
    "run_graph_partial = partial(\n",
    "    run_graph,\n",
    "    neighbour_function=neighbour_function,\n",
    "    number_neighbours=number_neighbours,\n",
    ")\n",
    "\n",
    "G_top_fv = run_graph_partial(dist_mat_fv)\n",
    "G_top_fv2 = run_graph_partial(dist_mat_fv2)\n",
    "G_top_fv20 = run_graph_partial(dist_mat_fv20)\n",
    "G_top_fv80 = run_graph_partial(dist_mat_fv80)\n",
    "G_top_fv100 = run_graph_partial(dist_mat_fv100)\n",
    "G_top_fv500 = run_graph_partial(dist_mat_fv500)\n",
    "G_top_fv1000 = run_graph_partial(dist_mat_fv1000)"
   ]
  },
  {
   "cell_type": "code",
   "execution_count": null,
   "metadata": {},
   "outputs": [],
   "source": [
    "G_top_dict = {\n",
    "    \"G_top_fv\": G_top_fv,\n",
    "    \"G_top_fv2\": G_top_fv2,\n",
    "    \"G_top_fv20\": G_top_fv20,\n",
    "    \"G_top_fv80\": G_top_fv80,\n",
    "    \"G_top_fv100\": G_top_fv100,\n",
    "    \"G_top_fv500\": G_top_fv500,\n",
    "    \"G_top_fv1000\": G_top_fv1000,\n",
    "}"
   ]
  },
  {
   "cell_type": "code",
   "execution_count": null,
   "metadata": {},
   "outputs": [],
   "source": [
    "_ = plot_graph(G_top_fv, figsize=(3, 3))\n",
    "_ = plot_graph(G_top_fv2, figsize=(3, 3))\n",
    "_ = plot_graph(G_top_fv20, figsize=(3, 3))\n",
    "_ = plot_graph(G_top_fv80, figsize=(3, 3))\n",
    "_ = plot_graph(G_top_fv100, figsize=(3, 3))\n",
    "_ = plot_graph(G_top_fv500, figsize=(3, 3))\n",
    "_ = plot_graph(G_top_fv1000, figsize=(3, 3))"
   ]
  },
  {
   "cell_type": "code",
   "execution_count": null,
   "metadata": {},
   "outputs": [],
   "source": [
    "neighbour_function = get_high_neighbours\n",
    "dist_threshold = 0.8\n",
    "\n",
    "run_graph_partial = partial(\n",
    "    run_graph, neighbour_function=neighbour_function, dist_threshold=dist_threshold\n",
    ")\n",
    "\n",
    "G_high_fv = run_graph_partial(dist_mat_fv)\n",
    "G_high_fv2 = run_graph_partial(dist_mat_fv2)\n",
    "G_high_fv20 = run_graph_partial(dist_mat_fv20)\n",
    "G_high_fv80 = run_graph_partial(dist_mat_fv80)\n",
    "G_high_fv100 = run_graph_partial(dist_mat_fv100)\n",
    "G_high_fv500 = run_graph_partial(dist_mat_fv500)\n",
    "G_high_fv1000 = run_graph_partial(dist_mat_fv1000)"
   ]
  },
  {
   "cell_type": "code",
   "execution_count": null,
   "metadata": {},
   "outputs": [],
   "source": [
    "G_high_dict = {\n",
    "    \"G_high_fv\": G_high_fv,\n",
    "    \"G_high_fv2\": G_high_fv2,\n",
    "    \"G_high_fv20\": G_high_fv20,\n",
    "    \"G_high_fv80\": G_high_fv80,\n",
    "    \"G_high_fv100\": G_high_fv100,\n",
    "    \"G_high_fv500\": G_high_fv500,\n",
    "    \"G_high_fv1000\": G_high_fv1000,\n",
    "}"
   ]
  },
  {
   "cell_type": "code",
   "execution_count": null,
   "metadata": {},
   "outputs": [],
   "source": [
    "_ = plot_graph(G_high_fv, figsize=(3, 3))\n",
    "_ = plot_graph(G_high_fv2, figsize=(3, 3))\n",
    "_ = plot_graph(G_high_fv20, figsize=(3, 3))\n",
    "_ = plot_graph(G_high_fv80, figsize=(3, 3))\n",
    "_ = plot_graph(G_high_fv100, figsize=(3, 3))\n",
    "_ = plot_graph(G_high_fv500, figsize=(3, 3))\n",
    "_ = plot_graph(G_high_fv1000, figsize=(3, 3))"
   ]
  },
  {
   "cell_type": "code",
   "execution_count": null,
   "metadata": {},
   "outputs": [],
   "source": [
    "neighbour_function = get_top_high_neighbours\n",
    "dist_threshold = 0.8\n",
    "number_neighbours = 3\n",
    "\n",
    "run_graph_partial = partial(\n",
    "    run_graph,\n",
    "    neighbour_function=neighbour_function,\n",
    "    number_neighbours=number_neighbours,\n",
    "    dist_threshold=dist_threshold,\n",
    ")\n",
    "\n",
    "G_tophigh_fv = run_graph_partial(dist_mat_fv)\n",
    "G_tophigh_fv2 = run_graph_partial(dist_mat_fv2)\n",
    "G_tophigh_fv20 = run_graph_partial(dist_mat_fv20)\n",
    "G_tophigh_fv80 = run_graph_partial(dist_mat_fv80)\n",
    "G_tophigh_fv100 = run_graph_partial(dist_mat_fv100)\n",
    "G_tophigh_fv500 = run_graph_partial(dist_mat_fv500)\n",
    "G_tophigh_fv1000 = run_graph_partial(dist_mat_fv1000)"
   ]
  },
  {
   "cell_type": "code",
   "execution_count": null,
   "metadata": {},
   "outputs": [],
   "source": [
    "G_tophigh_dict = {\n",
    "    \"G_tophigh_fv\": G_tophigh_fv,\n",
    "    \"G_tophigh_fv2\": G_tophigh_fv2,\n",
    "    \"G_tophigh_fv20\": G_tophigh_fv20,\n",
    "    \"G_tophigh_fv80\": G_tophigh_fv80,\n",
    "    \"G_tophigh_fv100\": G_tophigh_fv100,\n",
    "    \"G_tophigh_fv500\": G_tophigh_fv500,\n",
    "    \"G_tophigh_fv1000\": G_tophigh_fv1000,\n",
    "}"
   ]
  },
  {
   "cell_type": "code",
   "execution_count": null,
   "metadata": {},
   "outputs": [],
   "source": [
    "_ = plot_graph(G_tophigh_fv, figsize=(3, 3))\n",
    "_ = plot_graph(G_tophigh_fv2, figsize=(3, 3))\n",
    "_ = plot_graph(G_tophigh_fv20, figsize=(3, 3))\n",
    "_ = plot_graph(G_tophigh_fv80, figsize=(3, 3))\n",
    "_ = plot_graph(G_tophigh_fv100, figsize=(3, 3))\n",
    "_ = plot_graph(G_tophigh_fv500, figsize=(3, 3))\n",
    "_ = plot_graph(G_tophigh_fv1000, figsize=(3, 3))"
   ]
  },
  {
   "cell_type": "code",
   "execution_count": null,
   "metadata": {},
   "outputs": [],
   "source": [
    "# Fully connected graphs\n",
    "G_full_fv = create_network_graph(dist_mat_fv)\n",
    "G_full_fv2 = create_network_graph(dist_mat_fv2)\n",
    "G_full_fv20 = create_network_graph(dist_mat_fv20)\n",
    "G_full_fv80 = create_network_graph(dist_mat_fv80)\n",
    "G_full_fv100 = create_network_graph(dist_mat_fv100)\n",
    "G_full_fv500 = create_network_graph(dist_mat_fv500)\n",
    "G_full_fv1000 = create_network_graph(dist_mat_fv1000)"
   ]
  },
  {
   "cell_type": "code",
   "execution_count": null,
   "metadata": {},
   "outputs": [],
   "source": [
    "G_full_dict = {\n",
    "    \"G_full_fv\": G_full_fv,\n",
    "    \"G_full_fv2\": G_full_fv2,\n",
    "    \"G_full_fv20\": G_full_fv20,\n",
    "    \"G_full_fv80\": G_full_fv80,\n",
    "    \"G_full_fv100\": G_full_fv100,\n",
    "    \"G_full_fv500\": G_full_fv500,\n",
    "    \"G_full_fv1000\": G_full_fv1000,\n",
    "}"
   ]
  },
  {
   "cell_type": "code",
   "execution_count": null,
   "metadata": {},
   "outputs": [],
   "source": [
    "_ = plot_graph(G_full_fv, figsize=(3, 3))\n",
    "_ = plot_graph(G_full_fv80, figsize=(3, 3))\n",
    "_ = plot_graph(G_full_fv1000, figsize=(3, 3))"
   ]
  },
  {
   "cell_type": "markdown",
   "metadata": {},
   "source": [
    "### 5. Pick the nodes you are going to go between in the network\n",
    "\n",
    "- Furthest apart? High cosine distance = different image features\n",
    "- Random?"
   ]
  },
  {
   "cell_type": "code",
   "execution_count": null,
   "metadata": {},
   "outputs": [],
   "source": [
    "high_coords = np.where(dist_mat_fv == np.amax(dist_mat_fv))\n",
    "print(\n",
    "    \"Picking the first highest cosine out of {} with the same highest value\".format(\n",
    "        len(high_coords)\n",
    "    )\n",
    ")\n",
    "node1 = list(zip(high_coords[0], high_coords[1]))[0][0]\n",
    "node2 = list(zip(high_coords[0], high_coords[1]))[0][1]\n",
    "print(node1)\n",
    "print(node2)\n",
    "print(image_names_dict[node1])\n",
    "print(image_names_dict[node2])"
   ]
  },
  {
   "cell_type": "code",
   "execution_count": null,
   "metadata": {},
   "outputs": [],
   "source": [
    "np.random.seed(4)\n",
    "node1 = np.random.choice(list(image_names_dict))\n",
    "node2 = np.random.choice(list(image_names_dict))\n",
    "print(node1)\n",
    "print(node2)\n",
    "print(image_names_dict[node1])  # V0040357EL\n",
    "print(image_names_dict[node2])  # V0020158"
   ]
  },
  {
   "cell_type": "markdown",
   "metadata": {},
   "source": [
    "# Run different pathways using these graphs"
   ]
  },
  {
   "cell_type": "code",
   "execution_count": null,
   "metadata": {},
   "outputs": [],
   "source": [
    "def run_pathway(\n",
    "    G_dict,\n",
    "    pathway_algo,\n",
    "    node1,\n",
    "    node2,\n",
    "    image_names_dict,\n",
    "    images_dir,\n",
    "    image_type,\n",
    "    path_size=None,\n",
    "    best_path=True,\n",
    "    best_type=\"sum\",\n",
    "):\n",
    "\n",
    "    G = G_dict[1]\n",
    "    try:\n",
    "        if pathway_algo == nx.dijkstra_path:\n",
    "            node_path = pathway_algo(G, node1, node2, weight=None)\n",
    "        elif pathway_algo == nx.astar_path:\n",
    "            node_path = pathway_algo(G, node1, node2, weight=None)\n",
    "        elif pathway_algo == defined_path:\n",
    "            G_weights = nx.to_numpy_matrix(G)\n",
    "            node_path = pathway_algo(\n",
    "                G, node1, node2, G_weights, path_size, best_path, best_type\n",
    "            )\n",
    "\n",
    "        image_names_path = [image_names_dict[n] for n in node_path]\n",
    "\n",
    "        title = \"Graph type is {}.\\nPathway algo is {}.\\nBest type is {}\".format(\n",
    "            G_dict[0], str(locals()[\"pathway_algo\"]), best_type\n",
    "        )\n",
    "\n",
    "        return (\n",
    "            image_pathway_plot(images_dir, image_type, image_names_path, title),\n",
    "            node_path,\n",
    "        )\n",
    "    except:\n",
    "        return print(\"There is no pathway between nodes\"), _"
   ]
  },
  {
   "cell_type": "markdown",
   "metadata": {},
   "source": [
    "## Play with the dijkstra_path pathway"
   ]
  },
  {
   "cell_type": "code",
   "execution_count": null,
   "metadata": {},
   "outputs": [],
   "source": [
    "pathway_algo = nx.dijkstra_path\n",
    "\n",
    "run_pathway_partial = partial(\n",
    "    run_pathway,\n",
    "    pathway_algo=pathway_algo,\n",
    "    node1=node1,\n",
    "    node2=node2,\n",
    "    image_names_dict=image_names_dict,\n",
    "    images_dir=images_dir,\n",
    "    image_type=image_type,\n",
    ")"
   ]
  },
  {
   "cell_type": "code",
   "execution_count": null,
   "metadata": {},
   "outputs": [],
   "source": [
    "for G_top in G_top_dict.items():\n",
    "    run_pathway_partial(G_top)"
   ]
  },
  {
   "cell_type": "code",
   "execution_count": null,
   "metadata": {},
   "outputs": [],
   "source": [
    "for G_high in G_high_dict.items():\n",
    "    run_pathway_partial(G_high)"
   ]
  },
  {
   "cell_type": "code",
   "execution_count": null,
   "metadata": {},
   "outputs": [],
   "source": [
    "for G_tophigh in G_tophigh_dict.items():\n",
    "    run_pathway_partial(G_tophigh)"
   ]
  },
  {
   "cell_type": "markdown",
   "metadata": {},
   "source": [
    "Try using my defined path function. In this I can use the fully connected graph too. Note that using the fully connected graph with an undefined number of nodes will just return a direct pathway from the first image to the second."
   ]
  },
  {
   "cell_type": "markdown",
   "metadata": {},
   "source": [
    "### Play with the A* path"
   ]
  },
  {
   "cell_type": "code",
   "execution_count": null,
   "metadata": {},
   "outputs": [],
   "source": [
    "pathway_algo = nx.astar_path\n",
    "\n",
    "run_astar_pathway_partial = partial(\n",
    "    run_pathway,\n",
    "    pathway_algo=pathway_algo,\n",
    "    node1=node1,\n",
    "    node2=node2,\n",
    "    image_names_dict=image_names_dict,\n",
    "    images_dir=images_dir,\n",
    "    image_type=image_type,\n",
    ")"
   ]
  },
  {
   "cell_type": "code",
   "execution_count": null,
   "metadata": {},
   "outputs": [],
   "source": [
    "for G_top in G_top_dict.items():\n",
    "    run_astar_pathway_partial(G_top)"
   ]
  },
  {
   "cell_type": "code",
   "execution_count": null,
   "metadata": {},
   "outputs": [],
   "source": [
    "run_astar_pathway_partial((\"G_full_fv\", G_full_dict[\"G_full_fv\"]))"
   ]
  },
  {
   "cell_type": "markdown",
   "metadata": {},
   "source": [
    "### Play with the defined_path"
   ]
  },
  {
   "cell_type": "code",
   "execution_count": null,
   "metadata": {},
   "outputs": [],
   "source": [
    "pathway_algo = defined_path\n",
    "\n",
    "run_defined_pathway_partial = partial(\n",
    "    run_pathway,\n",
    "    pathway_algo=pathway_algo,\n",
    "    node1=node1,\n",
    "    node2=node2,\n",
    "    image_names_dict=image_names_dict,\n",
    "    images_dir=images_dir,\n",
    "    image_type=image_type,\n",
    ")"
   ]
  },
  {
   "cell_type": "code",
   "execution_count": null,
   "metadata": {},
   "outputs": [],
   "source": [
    "run_defined_pathway_partial(\n",
    "    (\"G_top_fv\", G_top_dict[\"G_top_fv\"]), path_size=10, best_type=\"sum\"\n",
    ")"
   ]
  },
  {
   "cell_type": "code",
   "execution_count": null,
   "metadata": {},
   "outputs": [],
   "source": [
    "run_defined_pathway_partial(\n",
    "    (\"G_top_fv\", G_top_dict[\"G_top_fv\"]), path_size=10, best_type=\"average\"\n",
    ")"
   ]
  },
  {
   "cell_type": "code",
   "execution_count": null,
   "metadata": {},
   "outputs": [],
   "source": [
    "run_defined_pathway_partial(\n",
    "    (\"G_top_fv\", G_top_dict[\"G_top_fv\"]), path_size=10, best_type=\"variance\"\n",
    ")"
   ]
  },
  {
   "cell_type": "code",
   "execution_count": null,
   "metadata": {},
   "outputs": [],
   "source": [
    "for G_top in G_top_dict.items():\n",
    "    run_defined_pathway_partial(G_top, path_size=9, best_type=\"sum\")\n",
    "    run_defined_pathway_partial(G_top, path_size=9, best_type=\"variance\")"
   ]
  },
  {
   "cell_type": "code",
   "execution_count": null,
   "metadata": {},
   "outputs": [],
   "source": [
    "run_defined_pathway_partial(\n",
    "    (\"G_full_fv\", G_full_dict[\"G_full_fv\"]), path_size=3, best_type=\"variance\"\n",
    ")"
   ]
  },
  {
   "cell_type": "code",
   "execution_count": null,
   "metadata": {},
   "outputs": [],
   "source": [
    "# Takes so long!\n",
    "# run_defined_pathway_partial(('G_full_fv', G_full_dict['G_full_fv']), path_size=5)"
   ]
  }
 ],
 "metadata": {
  "kernelspec": {
   "display_name": "Environment (conda_pytorch_p36)",
   "language": "python",
   "name": "conda_pytorch_p36"
  },
  "language_info": {
   "codemirror_mode": {
    "name": "ipython",
    "version": 3
   },
   "file_extension": ".py",
   "mimetype": "text/x-python",
   "name": "python",
   "nbconvert_exporter": "python",
   "pygments_lexer": "ipython3",
   "version": "3.6.5"
  }
 },
 "nbformat": 4,
 "nbformat_minor": 2
}

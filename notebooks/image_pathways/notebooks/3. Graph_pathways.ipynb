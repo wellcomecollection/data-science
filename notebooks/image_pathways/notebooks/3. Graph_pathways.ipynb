{
 "cells": [
  {
   "cell_type": "markdown",
   "metadata": {},
   "source": [
    "In this notebook we:\n",
    "- Get the distances between each feature vector (using a sample)\n",
    "- Create graphs with different types of distance matrices (whether you use a top n neighbour approach or a cosine distance threshold)\n",
    "- Get the dijkstra_path between 2 random nodes using G_top, G_threshold and G_top_threshold networks\n",
    "- Plot the umap reduced plot of images with the path shown\n"
   ]
  },
  {
   "cell_type": "code",
   "execution_count": null,
   "metadata": {},
   "outputs": [],
   "source": [
    "%load_ext autoreload\n",
    "%autoreload 2"
   ]
  },
  {
   "cell_type": "code",
   "execution_count": null,
   "metadata": {},
   "outputs": [],
   "source": [
    "from tqdm import tqdm\n",
    "import os\n",
    "from io import BytesIO\n",
    "import ast\n",
    "import numpy as np\n",
    "import pickle\n",
    "\n",
    "from PIL import Image\n",
    "import torch\n",
    "import boto3\n",
    "from scipy.spatial.distance import cdist\n",
    "import networkx as nx\n",
    "import matplotlib.pyplot as plt\n",
    "from matplotlib.offsetbox import OffsetImage, AnnotationBbox\n",
    "from itertools import combinations\n",
    "import umap.umap_ as umap"
   ]
  },
  {
   "cell_type": "code",
   "execution_count": null,
   "metadata": {},
   "outputs": [],
   "source": [
    "cd .."
   ]
  },
  {
   "cell_type": "code",
   "execution_count": null,
   "metadata": {},
   "outputs": [],
   "source": [
    "from src.network_functions import (\n",
    "    load_images,\n",
    "    load_specific_images,\n",
    "    get_all_s3_keys,\n",
    "    import_feature_vectors,\n",
    "    get_distances,\n",
    "    get_top_neighbours,\n",
    "    get_high_neighbours,\n",
    "    get_top_high_neighbours,\n",
    "    create_graph,\n",
    "    plot_graph,\n",
    "    create_network_graph,\n",
    "    visualise_clusters,\n",
    "    reduce_data,\n",
    "    get_random_node_path,\n",
    "    image_pathway_plot,\n",
    "    visualize_scatter_with_images,\n",
    "    reorder_images,\n",
    ")"
   ]
  },
  {
   "cell_type": "code",
   "execution_count": null,
   "metadata": {},
   "outputs": [],
   "source": [
    "# Get all the png image names from the data folder\n",
    "images_dir = \"data/\"\n",
    "image_type = \".png\"\n",
    "\n",
    "image_names = os.listdir(images_dir)\n",
    "image_names = [os.path.splitext(file)[0] for file in image_names if image_type in file]\n",
    "len(image_names)"
   ]
  },
  {
   "cell_type": "markdown",
   "metadata": {},
   "source": [
    "### Create a sample of images to work with (can use all if you want, but takes a long time).\n",
    "At the moment not all these will have feature vectors in s3"
   ]
  },
  {
   "cell_type": "code",
   "execution_count": null,
   "metadata": {},
   "outputs": [],
   "source": [
    "n_sample = 2000\n",
    "np.random.seed(0)  # For dev\n",
    "image_name_list = np.random.choice(image_names, n_sample, replace=False)"
   ]
  },
  {
   "cell_type": "markdown",
   "metadata": {},
   "source": [
    "## Import feature vectors as they are (>4000 dimensions)"
   ]
  },
  {
   "cell_type": "code",
   "execution_count": null,
   "metadata": {},
   "outputs": [],
   "source": [
    "bucket_name = \"miro-images-feature-vectors\"\n",
    "folder_name = \"feature_vectors\"\n",
    "\n",
    "bucket_name = bucket_name\n",
    "s3 = boto3.client(\"s3\")"
   ]
  },
  {
   "cell_type": "code",
   "execution_count": null,
   "metadata": {},
   "outputs": [],
   "source": [
    "feature_vectors, _ = import_feature_vectors(\n",
    "    s3, bucket_name, folder_name, image_name_list\n",
    ")\n",
    "\n",
    "# Remove the name of this image from the list if no feature vector was found for it\n",
    "image_name_list = [x for x in image_name_list if x in list(feature_vectors.keys())]"
   ]
  },
  {
   "cell_type": "code",
   "execution_count": null,
   "metadata": {},
   "outputs": [],
   "source": [
    "len(feature_vectors)"
   ]
  },
  {
   "cell_type": "markdown",
   "metadata": {},
   "source": [
    "## Look into the cosine distances between feature vectors"
   ]
  },
  {
   "cell_type": "code",
   "execution_count": null,
   "metadata": {},
   "outputs": [],
   "source": [
    "dist_mat = get_distances(feature_vectors)"
   ]
  },
  {
   "cell_type": "code",
   "execution_count": null,
   "metadata": {},
   "outputs": [],
   "source": [
    "percentile_var = 0.2\n",
    "p = np.percentile(dist_mat, percentile_var)\n",
    "print(\n",
    "    \"{}% of the data (number of neighbours\".format(percentile_var),\n",
    "    \"for each node will be about {})\".format(len(dist_mat) * (percentile_var / 100)),\n",
    "    \"has a cosine distance below {}\".format(round(p, 2)),\n",
    ")\n",
    "fig = plt.figure(figsize=(10, 5))\n",
    "plt.hist(dist_mat.flatten(), bins=30)\n",
    "plt.xlabel(\"Cosine distance\")\n",
    "plt.ylabel(\"Frequency\")\n",
    "plt.savefig(\"cosine_dists.png\")\n",
    "plt.close(fig)\n",
    "plt.show()"
   ]
  },
  {
   "cell_type": "code",
   "execution_count": null,
   "metadata": {},
   "outputs": [],
   "source": [
    "n = 3 # X degrees of separation uses 15, but perhaps this is too much, should it be a fraction of the n_sample?\n",
    "dist_threshold = 0.17"
   ]
  },
  {
   "cell_type": "code",
   "execution_count": null,
   "metadata": {},
   "outputs": [],
   "source": [
    "dist_mat_top = get_top_neighbours(dist_mat, n)"
   ]
  },
  {
   "cell_type": "code",
   "execution_count": null,
   "metadata": {},
   "outputs": [],
   "source": [
    "dist_mat_threshold = get_high_neighbours(dist_mat, dist_threshold)"
   ]
  },
  {
   "cell_type": "code",
   "execution_count": null,
   "metadata": {},
   "outputs": [],
   "source": [
    "dist_mat_top_threshold = get_top_high_neighbours(dist_mat, n, dist_threshold)"
   ]
  },
  {
   "cell_type": "markdown",
   "metadata": {},
   "source": [
    "### Create graphs with different types of distance matrices (whether you use a top n neighbour approach or a cosine distance threshold)"
   ]
  },
  {
   "cell_type": "code",
   "execution_count": null,
   "metadata": {},
   "outputs": [],
   "source": [
    "G_top = create_network_graph(dist_mat_top)"
   ]
  },
  {
   "cell_type": "code",
   "execution_count": null,
   "metadata": {},
   "outputs": [],
   "source": [
    "G_threshold = create_network_graph(dist_mat_threshold)"
   ]
  },
  {
   "cell_type": "code",
   "execution_count": null,
   "metadata": {},
   "outputs": [],
   "source": [
    "G_top_threshold = create_network_graph(dist_mat_top_threshold)"
   ]
  },
  {
   "cell_type": "code",
   "execution_count": null,
   "metadata": {},
   "outputs": [],
   "source": [
    "print(len(G_top.edges()))\n",
    "print(len(G_threshold.edges()))\n",
    "print(len(G_top_threshold.edges()))"
   ]
  },
  {
   "cell_type": "code",
   "execution_count": null,
   "metadata": {},
   "outputs": [],
   "source": [
    "figsize = (5, 5)\n",
    "_ = plot_graph(G_top, figsize=figsize)\n",
    "_ = plot_graph(G_threshold, figsize=figsize)\n",
    "_ = plot_graph(G_top_threshold, figsize=figsize)"
   ]
  },
  {
   "cell_type": "code",
   "execution_count": null,
   "metadata": {},
   "outputs": [],
   "source": [
    "image_names_dict = {k: v for k, v in enumerate(image_name_list)}"
   ]
  },
  {
   "cell_type": "code",
   "execution_count": null,
   "metadata": {},
   "outputs": [],
   "source": [
    "# Get the dijkstra_path between 2 random nodes using G_top_threshold\n",
    "node_path = get_random_node_path(G_top_threshold, image_names_dict)\n",
    "image_pathway_plot(images_dir, image_type, node_path)"
   ]
  },
  {
   "cell_type": "code",
   "execution_count": null,
   "metadata": {},
   "outputs": [],
   "source": [
    "# Get the dijkstra_path between 2 random nodes using G_top\n",
    "node_path = get_random_node_path(G_top, image_names_dict)\n",
    "image_pathway_plot(images_dir, image_type, node_path)"
   ]
  },
  {
   "cell_type": "code",
   "execution_count": null,
   "metadata": {},
   "outputs": [],
   "source": [
    "# Get the dijkstra_path between 2 random nodes using G_threshold\n",
    "node_path = get_random_node_path(G_threshold, image_names_dict)\n",
    "image_pathway_plot(images_dir, image_type, node_path)"
   ]
  },
  {
   "cell_type": "markdown",
   "metadata": {},
   "source": [
    "## Plot a pathway on the images"
   ]
  },
  {
   "cell_type": "code",
   "execution_count": null,
   "metadata": {},
   "outputs": [],
   "source": [
    "x_data = reduce_data(feature_vectors)"
   ]
  },
  {
   "cell_type": "code",
   "execution_count": null,
   "metadata": {},
   "outputs": [],
   "source": [
    "visualize_scatter_with_images(\n",
    "    x_data,\n",
    "    image_name_list=image_name_list,\n",
    "    images_dir=images_dir,\n",
    "    image_type=image_type,\n",
    "    figsize=(20, 20),\n",
    "    image_zoom=0.15,\n",
    "    pathway=node_path,\n",
    ")"
   ]
  }
 ],
 "metadata": {
  "kernelspec": {
   "display_name": "Environment (conda_pytorch_p36)",
   "language": "python",
   "name": "conda_pytorch_p36"
  },
  "language_info": {
   "codemirror_mode": {
    "name": "ipython",
    "version": 3
   },
   "file_extension": ".py",
   "mimetype": "text/x-python",
   "name": "python",
   "nbconvert_exporter": "python",
   "pygments_lexer": "ipython3",
   "version": "3.6.5"
  }
 },
 "nbformat": 4,
 "nbformat_minor": 2
}

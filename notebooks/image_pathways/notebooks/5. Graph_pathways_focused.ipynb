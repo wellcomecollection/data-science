{
 "cells": [
  {
   "cell_type": "markdown",
   "metadata": {},
   "source": [
    "In Graph_pathways_comparison I look at a whole host of different parameters, but here I focus on (after deciding they are the best):\n",
    "- Use feature vectors\n",
    "- Use a graph made from the top 3 neighbours\n",
    "\n",
    "And run with more data."
   ]
  },
  {
   "cell_type": "code",
   "execution_count": null,
   "metadata": {},
   "outputs": [],
   "source": [
    "%load_ext autoreload\n",
    "%autoreload 2"
   ]
  },
  {
   "cell_type": "code",
   "execution_count": null,
   "metadata": {},
   "outputs": [],
   "source": [
    "from tqdm import tqdm\n",
    "import os\n",
    "from io import BytesIO\n",
    "import ast\n",
    "import numpy as np\n",
    "import pickle\n",
    "from itertools import compress\n",
    "from collections import Counter\n",
    "import operator\n",
    "from functools import partial\n",
    "\n",
    "from PIL import Image\n",
    "import torch\n",
    "import boto3\n",
    "from scipy.spatial.distance import cdist\n",
    "import networkx as nx\n",
    "import matplotlib.pyplot as plt\n",
    "from matplotlib.offsetbox import OffsetImage, AnnotationBbox\n",
    "from itertools import combinations\n",
    "import umap.umap_ as umap"
   ]
  },
  {
   "cell_type": "code",
   "execution_count": null,
   "metadata": {},
   "outputs": [],
   "source": [
    "cd .."
   ]
  },
  {
   "cell_type": "code",
   "execution_count": null,
   "metadata": {},
   "outputs": [],
   "source": [
    "from src.network_functions import (\n",
    "    import_feature_vectors,\n",
    "    get_top_neighbours,\n",
    "    get_distances,\n",
    "    get_all_s3_keys,\n",
    "    image_pathway_plot,\n",
    "    plot_graph,\n",
    "    defined_path,\n",
    "    reduce_data_nd,\n",
    "    visualize_scatter_with_images,\n",
    "    create_network_graph,\n",
    ")"
   ]
  },
  {
   "cell_type": "code",
   "execution_count": null,
   "metadata": {},
   "outputs": [],
   "source": [
    "images_dir = \"data/\"\n",
    "image_type = \".png\""
   ]
  },
  {
   "cell_type": "markdown",
   "metadata": {},
   "source": [
    "### 1. Get the names of the feature vectors I found\n",
    "\n",
    "Pick a sample if you want to make it quicker"
   ]
  },
  {
   "cell_type": "code",
   "execution_count": null,
   "metadata": {},
   "outputs": [],
   "source": [
    "bucket_name = \"miro-images-feature-vectors\"\n",
    "bucket_name = bucket_name\n",
    "s3 = boto3.client(\"s3\")"
   ]
  },
  {
   "cell_type": "code",
   "execution_count": null,
   "metadata": {},
   "outputs": [],
   "source": [
    "keys = get_all_s3_keys(bucket_name, s3)"
   ]
  },
  {
   "cell_type": "code",
   "execution_count": null,
   "metadata": {},
   "outputs": [],
   "source": [
    "folder_name = \"feature_vectors\"\n",
    "image_names = [os.path.split(k)[1] for k in keys if k.split(\"/\")[0] == folder_name]"
   ]
  },
  {
   "cell_type": "code",
   "execution_count": null,
   "metadata": {},
   "outputs": [],
   "source": [
    "n_sample = 10000\n",
    "np.random.seed(0)  # For dev\n",
    "image_names = np.random.choice(image_names, n_sample, replace=False)"
   ]
  },
  {
   "cell_type": "code",
   "execution_count": null,
   "metadata": {},
   "outputs": [],
   "source": [
    "len(image_names)"
   ]
  },
  {
   "cell_type": "markdown",
   "metadata": {},
   "source": [
    "### 2. Download the feature vectors from S3"
   ]
  },
  {
   "cell_type": "code",
   "execution_count": null,
   "metadata": {},
   "outputs": [],
   "source": [
    "feature_vectors, _ = import_feature_vectors(\n",
    "    s3, bucket_name, \"feature_vectors\", image_names\n",
    ")"
   ]
  },
  {
   "cell_type": "code",
   "execution_count": null,
   "metadata": {},
   "outputs": [],
   "source": [
    "# Remove the name of this image from the list if no feature vector data was found for it\n",
    "image_names = [x for x in image_names if x in list(feature_vectors.keys())]"
   ]
  },
  {
   "cell_type": "code",
   "execution_count": null,
   "metadata": {},
   "outputs": [],
   "source": [
    "image_names_dict = {k: v for k, v in enumerate(image_names)}"
   ]
  },
  {
   "cell_type": "markdown",
   "metadata": {},
   "source": [
    "### 3. Make graph"
   ]
  },
  {
   "cell_type": "code",
   "execution_count": null,
   "metadata": {},
   "outputs": [],
   "source": [
    "number_neighbours = 3\n",
    "dist_mat = get_distances(feature_vectors)\n",
    "dist_mat_neighbours = get_top_neighbours(dist_mat=dist_mat, n=number_neighbours)"
   ]
  },
  {
   "cell_type": "code",
   "execution_count": null,
   "metadata": {},
   "outputs": [],
   "source": [
    "G = create_network_graph(dist_mat_neighbours)"
   ]
  },
  {
   "cell_type": "markdown",
   "metadata": {},
   "source": [
    "### 3. Compare my_defined and dijkstra pathways for the furthest apart nodes"
   ]
  },
  {
   "cell_type": "code",
   "execution_count": null,
   "metadata": {},
   "outputs": [],
   "source": [
    "high_coords = np.where(dist_mat == np.amax(dist_mat))\n",
    "print(\n",
    "    \"Picking the first highest cosine out of {} with the same highest value\".format(\n",
    "        len(high_coords)\n",
    "    )\n",
    ")\n",
    "node1 = list(zip(high_coords[0], high_coords[1]))[0][0]\n",
    "node2 = list(zip(high_coords[0], high_coords[1]))[0][1]\n",
    "print(node1)\n",
    "print(node2)\n",
    "print(image_names_dict[node1])\n",
    "print(image_names_dict[node2])"
   ]
  },
  {
   "cell_type": "code",
   "execution_count": null,
   "metadata": {},
   "outputs": [],
   "source": [
    "# node1 = np.random.choice(list(image_names_dict))\n",
    "# node2 = np.random.choice(list(image_names_dict))"
   ]
  },
  {
   "cell_type": "code",
   "execution_count": null,
   "metadata": {},
   "outputs": [],
   "source": [
    "def run_pathway(\n",
    "    G,\n",
    "    pathway_algo,\n",
    "    node1,\n",
    "    node2,\n",
    "    image_names_dict,\n",
    "    images_dir,\n",
    "    image_type,\n",
    "    path_size=None,\n",
    "    best_path=True,\n",
    "    best_type=\"sum\",\n",
    "):\n",
    "\n",
    "    try:\n",
    "        if pathway_algo == nx.dijkstra_path:\n",
    "            node_path = pathway_algo(G, node1, node2, weight=None)\n",
    "        elif pathway_algo == nx.astar_path:\n",
    "            node_path = pathway_algo(G, node1, node2, weight=None)\n",
    "        elif pathway_algo == defined_path:\n",
    "            G_weights = nx.to_numpy_matrix(G)\n",
    "            node_path = pathway_algo(\n",
    "                G, node1, node2, G_weights, path_size, best_path, best_type\n",
    "            )\n",
    "\n",
    "        image_names_path = [image_names_dict[n] for n in node_path]\n",
    "\n",
    "        title = \"Pathway algo is {}.\\nBest type is {}\".format(\n",
    "            str(locals()[\"pathway_algo\"]), best_type\n",
    "        )\n",
    "\n",
    "        return (\n",
    "            image_pathway_plot(images_dir, image_type, image_names_path, title),\n",
    "            node_path,\n",
    "        )\n",
    "    except:\n",
    "        return print(\"There is no pathway between nodes\"), _"
   ]
  },
  {
   "cell_type": "code",
   "execution_count": null,
   "metadata": {},
   "outputs": [],
   "source": [
    "run_defined_pathway_partial = partial(\n",
    "    run_pathway,\n",
    "    pathway_algo=defined_path,\n",
    "    node1=node1,\n",
    "    node2=node2,\n",
    "    image_names_dict=image_names_dict,\n",
    "    images_dir=images_dir,\n",
    "    image_type=image_type,\n",
    ")\n",
    "\n",
    "run_dijk_pathway_partial = partial(\n",
    "    run_pathway,\n",
    "    pathway_algo=nx.dijkstra_path,\n",
    "    node1=node1,\n",
    "    node2=node2,\n",
    "    image_names_dict=image_names_dict,\n",
    "    images_dir=images_dir,\n",
    "    image_type=image_type,\n",
    ")"
   ]
  },
  {
   "cell_type": "code",
   "execution_count": null,
   "metadata": {},
   "outputs": [],
   "source": [
    "(_, node_path_dijk) = run_dijk_pathway_partial(G)\n",
    "(_, node_path_sum) = run_defined_pathway_partial(G, path_size=12, best_type=\"sum\")\n",
    "(_, node_path_var) = run_defined_pathway_partial(G, path_size=12, best_type=\"variance\")"
   ]
  },
  {
   "cell_type": "code",
   "execution_count": null,
   "metadata": {},
   "outputs": [],
   "source": [
    "[image_names_dict[n] for n in node_path_dijk]"
   ]
  },
  {
   "cell_type": "code",
   "execution_count": null,
   "metadata": {},
   "outputs": [],
   "source": [
    "pos = plot_graph(G, figsize=(8, 8), node_list=node_path_dijk)\n",
    "_ = plot_graph(G, figsize=(8, 8), node_list=node_path_sum, pos=pos)\n",
    "_ = plot_graph(G, figsize=(8, 8), node_list=node_path_var, pos=pos)"
   ]
  },
  {
   "cell_type": "code",
   "execution_count": null,
   "metadata": {},
   "outputs": [],
   "source": [
    "x_data = reduce_data_nd(feature_vectors)"
   ]
  },
  {
   "cell_type": "code",
   "execution_count": null,
   "metadata": {},
   "outputs": [],
   "source": [
    "visualize_scatter_with_images(\n",
    "    x_data,\n",
    "    image_name_list=image_names,\n",
    "    images_dir=images_dir,\n",
    "    image_type=image_type,\n",
    "    figsize=(20, 20),\n",
    "    image_zoom=0.1,\n",
    "    pathway=[image_names_dict[n] for n in node_path_dijk],\n",
    ")"
   ]
  },
  {
   "cell_type": "code",
   "execution_count": null,
   "metadata": {},
   "outputs": [],
   "source": [
    "visualize_scatter_with_images(\n",
    "    x_data,\n",
    "    image_name_list=image_names,\n",
    "    images_dir=images_dir,\n",
    "    image_type=image_type,\n",
    "    figsize=(20, 20),\n",
    "    image_zoom=0.1,\n",
    "    pathway=[image_names_dict[n] for n in node_path_sum],\n",
    ")"
   ]
  },
  {
   "cell_type": "code",
   "execution_count": null,
   "metadata": {},
   "outputs": [],
   "source": [
    "visualize_scatter_with_images(\n",
    "    x_data,\n",
    "    image_name_list=image_names,\n",
    "    images_dir=images_dir,\n",
    "    image_type=image_type,\n",
    "    figsize=(20, 20),\n",
    "    image_zoom=0.1,\n",
    "    pathway=[image_names_dict[n] for n in node_path_var],\n",
    ")"
   ]
  },
  {
   "cell_type": "code",
   "execution_count": null,
   "metadata": {},
   "outputs": [],
   "source": []
  }
 ],
 "metadata": {
  "kernelspec": {
   "display_name": "Environment (conda_pytorch_p36)",
   "language": "python",
   "name": "conda_pytorch_p36"
  },
  "language_info": {
   "codemirror_mode": {
    "name": "ipython",
    "version": 3
   },
   "file_extension": ".py",
   "mimetype": "text/x-python",
   "name": "python",
   "nbconvert_exporter": "python",
   "pygments_lexer": "ipython3",
   "version": "3.6.5"
  }
 },
 "nbformat": 4,
 "nbformat_minor": 2
}

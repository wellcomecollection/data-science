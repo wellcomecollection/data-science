{
 "cells": [
  {
   "cell_type": "markdown",
   "metadata": {},
   "source": [
    "In this notebook we:\n",
    "- Load all the feature vectors from the data folder\n",
    "- Make some pathways using `get_pathway` which is a optimised version of `fv_spaced_pathway_nD` and is the function used in the API code\n",
    "- Have a look at some pairs of images with a range of different distances between\n",
    "- Look at a sample of the images plotted in the reduced feature space, and plot a pathway"
   ]
  },
  {
   "cell_type": "code",
   "execution_count": null,
   "metadata": {},
   "outputs": [],
   "source": [
    "%load_ext autoreload\n",
    "%autoreload 2"
   ]
  },
  {
   "cell_type": "code",
   "execution_count": null,
   "metadata": {},
   "outputs": [],
   "source": [
    "import numpy as np\n",
    "from tqdm import tqdm\n",
    "\n",
    "from PIL import Image\n",
    "import matplotlib.pyplot as plt\n",
    "from matplotlib import gridspec\n",
    "from scipy.spatial.distance import cdist"
   ]
  },
  {
   "cell_type": "code",
   "execution_count": null,
   "metadata": {},
   "outputs": [],
   "source": [
    "cd .."
   ]
  },
  {
   "cell_type": "code",
   "execution_count": null,
   "metadata": {},
   "outputs": [],
   "source": [
    "from src.network_functions import (\n",
    "    get_pathway,\n",
    "    image_pathway_plot,\n",
    "    image_pathway_scaled_plot,\n",
    "    reduce_data_nd,\n",
    "    visualize_scatter_with_images,\n",
    ")"
   ]
  },
  {
   "cell_type": "markdown",
   "metadata": {},
   "source": [
    "## Get the feature vectors for all the images"
   ]
  },
  {
   "cell_type": "code",
   "execution_count": null,
   "metadata": {},
   "outputs": [],
   "source": [
    "feature_vectors_ids = np.load(\"data/20190822_feature_vectors_ids.npy\")\n",
    "feature_vectors = np.load(\"data/20190822_feature_vectors.npy\")"
   ]
  },
  {
   "cell_type": "code",
   "execution_count": null,
   "metadata": {},
   "outputs": [],
   "source": [
    "len(feature_vectors_ids)"
   ]
  },
  {
   "cell_type": "code",
   "execution_count": null,
   "metadata": {},
   "outputs": [],
   "source": [
    "images_dir = \"data/images/\"\n",
    "image_type = \".png\""
   ]
  },
  {
   "cell_type": "markdown",
   "metadata": {},
   "source": [
    "## Look at some random pathways using all the images"
   ]
  },
  {
   "cell_type": "code",
   "execution_count": null,
   "metadata": {},
   "outputs": [],
   "source": [
    "nodes_used = []\n",
    "all_path_dists = []\n",
    "n_nodes = 10\n",
    "sample_size = None\n",
    "for i in tqdm(range(0, 10)):\n",
    "    id_1 = np.random.choice(feature_vectors_ids)\n",
    "    id_2 = np.random.choice(feature_vectors_ids)\n",
    "    node_path, path_dists = get_pathway(\n",
    "        feature_vectors_ids, feature_vectors, id_1, id_2, n_nodes, sample_size\n",
    "    )\n",
    "    print(node_path)\n",
    "    image_pathway_plot(images_dir, image_type, node_path)\n",
    "\n",
    "    nodes_used.append([id_1, id_2])\n",
    "    all_path_dists.extend(path_dists)"
   ]
  },
  {
   "cell_type": "code",
   "execution_count": null,
   "metadata": {},
   "outputs": [],
   "source": [
    "nodes_used"
   ]
  },
  {
   "cell_type": "code",
   "execution_count": null,
   "metadata": {},
   "outputs": [],
   "source": [
    "nodes_used = []\n",
    "all_path_dists = []\n",
    "n_nodes = 10\n",
    "sample_size = None\n",
    "for i in tqdm(range(0, 10)):\n",
    "    id_1 = np.random.choice(feature_vectors_ids)\n",
    "    id_2 = np.random.choice(feature_vectors_ids)\n",
    "    node_path, path_dists = get_pathway(\n",
    "        feature_vectors_ids, feature_vectors, id_1, id_2, n_nodes, sample_size\n",
    "    )\n",
    "    print(node_path)\n",
    "    image_pathway_plot(images_dir, image_type, node_path)\n",
    "\n",
    "    nodes_used.append([id_1, id_2])\n",
    "    all_path_dists.extend(path_dists)"
   ]
  },
  {
   "cell_type": "code",
   "execution_count": null,
   "metadata": {},
   "outputs": [],
   "source": [
    "nodes_used"
   ]
  },
  {
   "cell_type": "code",
   "execution_count": null,
   "metadata": {},
   "outputs": [],
   "source": [
    "plt.hist(all_path_dists)\n",
    "plt.show()"
   ]
  },
  {
   "cell_type": "markdown",
   "metadata": {},
   "source": [
    "## Pick particular pathways"
   ]
  },
  {
   "cell_type": "code",
   "execution_count": null,
   "metadata": {},
   "outputs": [],
   "source": [
    "id_1 = \"B0006448\"\n",
    "id_2 = \"V0021276\"\n",
    "\n",
    "n_nodes = 8\n",
    "sample_size = None\n",
    "\n",
    "node_path, path_dists = get_pathway(\n",
    "    feature_vectors_ids, feature_vectors, id_1, id_2, n_nodes, sample_size\n",
    ")\n",
    "print(node_path)\n",
    "image_pathway_scaled_plot(images_dir, image_type, node_path)"
   ]
  },
  {
   "cell_type": "code",
   "execution_count": null,
   "metadata": {},
   "outputs": [],
   "source": [
    "id_1 = \"B0006448\"\n",
    "id_2 = \"V0021276\"\n",
    "\n",
    "n_nodes = 8\n",
    "sample_size = None\n",
    "\n",
    "node_path, path_dists = get_pathway(\n",
    "    feature_vectors_ids, feature_vectors, id_1, id_2, n_nodes, sample_size\n",
    ")\n",
    "print(node_path)\n",
    "image_pathway_plot(images_dir, image_type, node_path)"
   ]
  },
  {
   "cell_type": "code",
   "execution_count": null,
   "metadata": {},
   "outputs": [],
   "source": [
    "id_1 = \"B0008895\"\n",
    "id_2 = \"M0010374\"  #'V0005248'#'V0006023'#'V0001893'\n",
    "\n",
    "n_nodes = 9\n",
    "sample_size = None\n",
    "\n",
    "node_path, path_dists = get_pathway(\n",
    "    feature_vectors_ids, feature_vectors, id_1, id_2, n_nodes, sample_size\n",
    ")\n",
    "print(node_path)\n",
    "image_pathway_plot(images_dir, image_type, node_path)"
   ]
  },
  {
   "cell_type": "code",
   "execution_count": null,
   "metadata": {},
   "outputs": [],
   "source": [
    "id_1 = \"V0046313\"\n",
    "id_2 = \"L0061460\"\n",
    "\n",
    "n_nodes = 9\n",
    "sample_size = None\n",
    "\n",
    "node_path, path_dists = get_pathway(\n",
    "    feature_vectors_ids, feature_vectors, id_1, id_2, n_nodes, sample_size\n",
    ")\n",
    "print(node_path)\n",
    "image_pathway_plot(images_dir, image_type, node_path)"
   ]
  },
  {
   "cell_type": "code",
   "execution_count": null,
   "metadata": {},
   "outputs": [],
   "source": [
    "id_1 = \"V0001893\"\n",
    "id_2 = \"V0047369EL\"\n",
    "\n",
    "n_nodes = 9\n",
    "sample_size = None\n",
    "\n",
    "node_path, path_dists = get_pathway(\n",
    "    feature_vectors_ids, feature_vectors, id_1, id_2, n_nodes, sample_size\n",
    ")\n",
    "print(node_path)\n",
    "image_pathway_plot(images_dir, image_type, node_path)"
   ]
  },
  {
   "cell_type": "code",
   "execution_count": null,
   "metadata": {},
   "outputs": [],
   "source": [
    "id_1 = \"A0000001\"\n",
    "id_2 = \"B0006893\"\n",
    "\n",
    "n_nodes = 8\n",
    "sample_size = None\n",
    "\n",
    "node_path, path_dists = get_pathway(\n",
    "    feature_vectors_ids, feature_vectors, id_1, id_2, n_nodes, sample_size\n",
    ")\n",
    "image_pathway_plot(images_dir, image_type, node_path)"
   ]
  },
  {
   "cell_type": "code",
   "execution_count": null,
   "metadata": {},
   "outputs": [],
   "source": [
    "node_path"
   ]
  },
  {
   "cell_type": "code",
   "execution_count": null,
   "metadata": {},
   "outputs": [],
   "source": [
    "id_1 = \"B0002621\"\n",
    "id_2 = \"V0010033\"\n",
    "\n",
    "n_nodes = 10\n",
    "sample_size = None\n",
    "\n",
    "node_path, path_dists = get_pathway(\n",
    "    feature_vectors_ids, feature_vectors, id_1, id_2, n_nodes, sample_size\n",
    ")\n",
    "image_pathway_plot(images_dir, image_type, node_path)"
   ]
  },
  {
   "cell_type": "code",
   "execution_count": null,
   "metadata": {},
   "outputs": [],
   "source": [
    "node_path"
   ]
  },
  {
   "cell_type": "code",
   "execution_count": null,
   "metadata": {},
   "outputs": [],
   "source": [
    "id_1 = \"A0000785\"\n",
    "id_2 = \"V0040933\"\n",
    "\n",
    "n_nodes = 8\n",
    "sample_size = None\n",
    "\n",
    "node_path, path_dists = get_pathway(\n",
    "    feature_vectors_ids, feature_vectors, id_1, id_2, n_nodes, sample_size\n",
    ")\n",
    "image_pathway_plot(images_dir, image_type, node_path)"
   ]
  },
  {
   "cell_type": "code",
   "execution_count": null,
   "metadata": {},
   "outputs": [],
   "source": [
    "node_path"
   ]
  },
  {
   "cell_type": "code",
   "execution_count": null,
   "metadata": {},
   "outputs": [],
   "source": [
    "id_1 = 'V0044783'\n",
    "id_2 = 'V0023117\n",
    "\n",
    "n_nodes = 7\n",
    "sample_size = None\n",
    "\n",
    "node_path, path_dists = get_pathway(feature_vectors_ids, feature_vectors, id_1, id_2, n_nodes, sample_size)\n",
    "image_pathway_plot(images_dir, image_type, node_path)"
   ]
  },
  {
   "cell_type": "code",
   "execution_count": null,
   "metadata": {},
   "outputs": [],
   "source": [
    "node_path"
   ]
  },
  {
   "cell_type": "code",
   "execution_count": null,
   "metadata": {},
   "outputs": [],
   "source": [
    "id_1 = \"V0044783\"\n",
    "id_2 = \"V0046793\"\n",
    "\n",
    "n_nodes = 8\n",
    "sample_size = None\n",
    "\n",
    "node_path, path_dists = get_pathway(\n",
    "    feature_vectors_ids, feature_vectors, id_1, id_2, n_nodes, sample_size\n",
    ")\n",
    "print(node_path)\n",
    "image_pathway_plot(images_dir, image_type, node_path)"
   ]
  },
  {
   "cell_type": "markdown",
   "metadata": {},
   "source": [
    "## Get all the distances for a sample\n",
    "- Plot a very different pair (dist > 373)\n",
    "- Plot a very similar pair (dists<13) & (dists!=0)\n",
    "- Plot a quite similar pair (dists<46) & (dists>45.999) : These numbers are typical distances in the pathway finder"
   ]
  },
  {
   "cell_type": "code",
   "execution_count": null,
   "metadata": {},
   "outputs": [],
   "source": [
    "sample_size = 10000"
   ]
  },
  {
   "cell_type": "code",
   "execution_count": null,
   "metadata": {},
   "outputs": [],
   "source": [
    "np.random.seed(0)\n",
    "rand_args = np.random.choice(range(0, len(feature_vectors)), sample_size, replace=False)\n",
    "feature_vectors_sample = feature_vectors[rand_args]\n",
    "feature_vectors_ids_sample = feature_vectors_ids[rand_args]"
   ]
  },
  {
   "cell_type": "code",
   "execution_count": null,
   "metadata": {},
   "outputs": [],
   "source": [
    "dists = cdist(feature_vectors_sample, feature_vectors_sample)"
   ]
  },
  {
   "cell_type": "code",
   "execution_count": null,
   "metadata": {},
   "outputs": [],
   "source": [
    "all_dists = dists.flatten()"
   ]
  },
  {
   "cell_type": "code",
   "execution_count": null,
   "metadata": {},
   "outputs": [],
   "source": [
    "plt.hist(all_dists, bins=50)\n",
    "plt.show()"
   ]
  },
  {
   "cell_type": "code",
   "execution_count": null,
   "metadata": {},
   "outputs": [],
   "source": [
    "# Get pairs with distances from an equally spaced dist, and plot in order of most similar to least\n",
    "ideal_dists = np.linspace(min(all_dists), max(all_dists), num=10)\n",
    "# ideal_dists = np.linspace(40, 50, num = 10)"
   ]
  },
  {
   "cell_type": "code",
   "execution_count": null,
   "metadata": {},
   "outputs": [],
   "source": [
    "ideal_dists"
   ]
  },
  {
   "cell_type": "code",
   "execution_count": null,
   "metadata": {},
   "outputs": [],
   "source": [
    "for ideal_dist in ideal_dists:\n",
    "    pairs = feature_vectors_ids_sample[\n",
    "        np.argwhere((dists < (ideal_dist + 0.1)) & (dists > (ideal_dist - 0.1)))\n",
    "    ]\n",
    "    index = np.random.choice(pairs.shape[0])\n",
    "    pair = pairs[index]\n",
    "    print(pair)\n",
    "\n",
    "    fig = plt.figure(figsize=(20, 10))\n",
    "    columns = len(pair)\n",
    "    for i, image_name in enumerate(pair):\n",
    "        image = Image.open(images_dir + image_name + image_type)\n",
    "        ax = plt.subplot(2, columns, i + 1)\n",
    "        ax.set_axis_off()\n",
    "        plt.imshow(image)\n",
    "        image.close()"
   ]
  },
  {
   "cell_type": "markdown",
   "metadata": {},
   "source": [
    "## Get a few samples of pairs of images with high, low and quite low distances between "
   ]
  },
  {
   "cell_type": "code",
   "execution_count": null,
   "metadata": {},
   "outputs": [],
   "source": [
    "# Remove duplicate [a, b] and [b, a] should be the same\n",
    "v_different_pairs = feature_vectors_ids_sample[np.argwhere(dists > 373)]\n",
    "v_different_pairs = np.unique(np.sort(v_different_pairs), axis=0)\n",
    "v_different_pairs.shape"
   ]
  },
  {
   "cell_type": "code",
   "execution_count": null,
   "metadata": {},
   "outputs": [],
   "source": [
    "for figs in v_different_pairs:\n",
    "    fig = plt.figure(figsize=(20, 10))\n",
    "    columns = len(figs)\n",
    "    for i, image_name in enumerate(figs):\n",
    "        image = Image.open(images_dir + image_name + image_type)\n",
    "        ax = plt.subplot(2, columns, i + 1)\n",
    "        ax.set_axis_off()\n",
    "        plt.imshow(image)\n",
    "        image.close()"
   ]
  },
  {
   "cell_type": "code",
   "execution_count": null,
   "metadata": {},
   "outputs": [],
   "source": [
    "v_similar_pairs = feature_vectors_ids_sample[np.argwhere((dists < 13) & (dists != 0))]\n",
    "v_similar_pairs = np.unique(np.sort(v_similar_pairs), axis=0)\n",
    "v_similar_pairs.shape"
   ]
  },
  {
   "cell_type": "code",
   "execution_count": null,
   "metadata": {},
   "outputs": [],
   "source": [
    "v_similar_pairs"
   ]
  },
  {
   "cell_type": "code",
   "execution_count": null,
   "metadata": {},
   "outputs": [],
   "source": [
    "for figs in v_similar_pairs:\n",
    "    fig = plt.figure(figsize=(5, 2))\n",
    "    columns = len(figs)\n",
    "    for i, image_name in enumerate(figs):\n",
    "        image = Image.open(images_dir + image_name + image_type)\n",
    "        ax = plt.subplot(2, columns, i + 1)\n",
    "        ax.set_axis_off()\n",
    "        plt.imshow(image)\n",
    "        image.close()"
   ]
  },
  {
   "cell_type": "code",
   "execution_count": null,
   "metadata": {},
   "outputs": [],
   "source": [
    "quite_similar_pairs = feature_vectors_ids_sample[\n",
    "    np.argwhere((dists < 35) & (dists > 34.99))\n",
    "]\n",
    "quite_similar_pairs = np.unique(np.sort(quite_similar_pairs), axis=0)\n",
    "quite_similar_pairs.shape"
   ]
  },
  {
   "cell_type": "code",
   "execution_count": null,
   "metadata": {},
   "outputs": [],
   "source": [
    "quite_similar_pairs"
   ]
  },
  {
   "cell_type": "code",
   "execution_count": null,
   "metadata": {},
   "outputs": [],
   "source": [
    "for figs in quite_similar_pairs:\n",
    "    fig = plt.figure(figsize=(20, 10))\n",
    "    columns = len(figs)\n",
    "    for i, image_name in enumerate(figs):\n",
    "        image = Image.open(images_dir + image_name + image_type)\n",
    "        ax = plt.subplot(2, columns, i + 1)\n",
    "        ax.set_axis_off()\n",
    "        plt.imshow(image)\n",
    "        image.close()"
   ]
  },
  {
   "cell_type": "markdown",
   "metadata": {},
   "source": [
    "## Plot the whole (well from the sample) image space with the pathway"
   ]
  },
  {
   "cell_type": "code",
   "execution_count": null,
   "metadata": {},
   "outputs": [],
   "source": [
    "np.random.choice(feature_vectors_ids_sample, 10)"
   ]
  },
  {
   "cell_type": "code",
   "execution_count": null,
   "metadata": {},
   "outputs": [],
   "source": [
    "id_1 = \"V0001893\"\n",
    "id_2 = \"V0047369EL\"\n",
    "\n",
    "n_nodes = 10\n",
    "sample_size = None\n",
    "\n",
    "node_path, path_dists = get_pathway(\n",
    "    feature_vectors_ids_sample, feature_vectors_sample, id_1, id_2, n_nodes, sample_size\n",
    ")\n",
    "image_pathway_plot(images_dir, image_type, node_path)"
   ]
  },
  {
   "cell_type": "code",
   "execution_count": null,
   "metadata": {},
   "outputs": [],
   "source": [
    "node_path"
   ]
  },
  {
   "cell_type": "code",
   "execution_count": null,
   "metadata": {},
   "outputs": [],
   "source": [
    "feature_vectors_sample_trans = {\n",
    "    k: list(v) for k, v in zip(feature_vectors_ids_sample, feature_vectors_sample)\n",
    "}"
   ]
  },
  {
   "cell_type": "code",
   "execution_count": null,
   "metadata": {},
   "outputs": [],
   "source": [
    "x_data = reduce_data_nd(feature_vectors_sample_trans)"
   ]
  },
  {
   "cell_type": "code",
   "execution_count": null,
   "metadata": {},
   "outputs": [],
   "source": [
    "visualize_scatter_with_images(\n",
    "    x_data,\n",
    "    image_name_list=feature_vectors_ids_sample,\n",
    "    images_dir=images_dir,\n",
    "    image_type=image_type,\n",
    "    figsize=(30, 20),\n",
    "    image_zoom=0.1,\n",
    "    pathway=node_path,\n",
    ")"
   ]
  },
  {
   "cell_type": "code",
   "execution_count": null,
   "metadata": {},
   "outputs": [],
   "source": [
    "visualize_scatter_with_images(\n",
    "    x_data,\n",
    "    image_name_list=feature_vectors_ids_sample,\n",
    "    images_dir=images_dir,\n",
    "    image_type=image_type,\n",
    "    figsize=(30, 20),\n",
    "    image_zoom=0.13,\n",
    ")"
   ]
  },
  {
   "cell_type": "markdown",
   "metadata": {},
   "source": [
    "## Add extra images to the sample if there are specific images you want"
   ]
  },
  {
   "cell_type": "code",
   "execution_count": null,
   "metadata": {},
   "outputs": [],
   "source": [
    "def add_new_images(\n",
    "    id_1,\n",
    "    id_2,\n",
    "    feature_vectors_ids,\n",
    "    feature_vectors,\n",
    "    feature_vectors_ids_sample,\n",
    "    feature_vectors_sample,\n",
    "    n_nodes,\n",
    "):\n",
    "\n",
    "    sample_size = None\n",
    "\n",
    "    node_path, path_dists = get_pathway(\n",
    "        feature_vectors_ids, feature_vectors, id_1, id_2, n_nodes, sample_size\n",
    "    )\n",
    "\n",
    "    node_path_extra = [f for f in node_path if f not in feature_vectors_ids_sample]\n",
    "\n",
    "    node_path_extra_index = [\n",
    "        i for i, fv_id in enumerate(feature_vectors_ids) if fv_id in node_path_extra\n",
    "    ]\n",
    "\n",
    "    feature_vectors_ids_sample_extra = np.concatenate(\n",
    "        (\n",
    "            feature_vectors_ids_sample,\n",
    "            np.array(feature_vectors_ids[node_path_extra_index]),\n",
    "        )\n",
    "    )\n",
    "    feature_vectors_sample_extra = np.concatenate(\n",
    "        (feature_vectors_sample, feature_vectors[node_path_extra_index])\n",
    "    )\n",
    "\n",
    "    feature_vectors_sample_extra_trans = {\n",
    "        k: list(v)\n",
    "        for k, v in zip(feature_vectors_ids_sample_extra, feature_vectors_sample_extra)\n",
    "    }\n",
    "\n",
    "    x_data = reduce_data_nd(feature_vectors_sample_extra_trans)\n",
    "\n",
    "    return node_path, x_data, feature_vectors_ids_sample_extra"
   ]
  },
  {
   "cell_type": "code",
   "execution_count": null,
   "metadata": {},
   "outputs": [],
   "source": [
    "node_path, x_data, feature_vectors_ids_sample_extra = add_new_images(\n",
    "    \"V0044783\",\n",
    "    \"V0046793\",\n",
    "    feature_vectors_ids,\n",
    "    feature_vectors,\n",
    "    feature_vectors_ids_sample,\n",
    "    feature_vectors_sample,\n",
    "    8,\n",
    ")"
   ]
  },
  {
   "cell_type": "code",
   "execution_count": null,
   "metadata": {},
   "outputs": [],
   "source": [
    "image_pathway_plot(images_dir, image_type, node_path)"
   ]
  },
  {
   "cell_type": "code",
   "execution_count": null,
   "metadata": {},
   "outputs": [],
   "source": [
    "visualize_scatter_with_images(\n",
    "    x_data,\n",
    "    image_name_list=feature_vectors_ids_sample_extra,\n",
    "    images_dir=images_dir,\n",
    "    image_type=image_type,\n",
    "    figsize=(30, 20),\n",
    "    image_zoom=0.1,\n",
    "    pathway=node_path,\n",
    ")"
   ]
  },
  {
   "cell_type": "code",
   "execution_count": null,
   "metadata": {},
   "outputs": [],
   "source": [
    "node_path, x_data, feature_vectors_ids_sample_extra = add_new_images(\n",
    "    \"B0008895\",\n",
    "    \"M0010374\",\n",
    "    feature_vectors_ids,\n",
    "    feature_vectors,\n",
    "    feature_vectors_ids_sample,\n",
    "    feature_vectors_sample,\n",
    "    9,\n",
    ")"
   ]
  },
  {
   "cell_type": "code",
   "execution_count": null,
   "metadata": {},
   "outputs": [],
   "source": [
    "print(node_path)\n",
    "image_pathway_plot(images_dir, image_type, node_path)"
   ]
  },
  {
   "cell_type": "code",
   "execution_count": null,
   "metadata": {},
   "outputs": [],
   "source": [
    "visualize_scatter_with_images(\n",
    "    x_data,\n",
    "    image_name_list=feature_vectors_ids_sample_extra,\n",
    "    images_dir=images_dir,\n",
    "    image_type=image_type,\n",
    "    figsize=(30, 20),\n",
    "    image_zoom=0.1,\n",
    "    pathway=node_path,\n",
    ")"
   ]
  },
  {
   "cell_type": "code",
   "execution_count": null,
   "metadata": {},
   "outputs": [],
   "source": []
  }
 ],
 "metadata": {
  "kernelspec": {
   "display_name": "Environment (conda_pytorch_p36)",
   "language": "python",
   "name": "conda_pytorch_p36"
  },
  "language_info": {
   "codemirror_mode": {
    "name": "ipython",
    "version": 3
   },
   "file_extension": ".py",
   "mimetype": "text/x-python",
   "name": "python",
   "nbconvert_exporter": "python",
   "pygments_lexer": "ipython3",
   "version": "3.6.5"
  }
 },
 "nbformat": 4,
 "nbformat_minor": 2
}

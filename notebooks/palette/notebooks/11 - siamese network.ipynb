{
 "cells": [
  {
   "cell_type": "code",
   "execution_count": null,
   "metadata": {},
   "outputs": [],
   "source": [
    "import numpy as np\n",
    "\n",
    "from tqdm import tqdm\n",
    "\n",
    "import torch\n",
    "from torch import nn, optim\n",
    "from torch.utils.data import Dataset, DataLoader\n",
    "\n",
    "device = torch.device(\"cuda\" if torch.cuda.is_available() else \"cpu\")"
   ]
  },
  {
   "cell_type": "markdown",
   "metadata": {},
   "source": [
    "# load data"
   ]
  },
  {
   "cell_type": "code",
   "execution_count": null,
   "metadata": {},
   "outputs": [],
   "source": [
    "palettes = torch.Tensor(np.load(\"/storage/data/palette/lab_palettes.npy\"))\n",
    "palette_permutations = torch.Tensor(\n",
    "    np.load(\"/storage/data/palette/palette_permutations.npy\")\n",
    ")\n",
    "distances = torch.Tensor(np.load(\"/storage/data/palette/distance_matrix.npy\"))"
   ]
  },
  {
   "cell_type": "code",
   "execution_count": null,
   "metadata": {},
   "outputs": [],
   "source": [
    "all_indexes = np.arange(len(palette_permutations))\n",
    "train_size = int(len(palette_permutations) * 0.9)\n",
    "\n",
    "train_indexes = np.random.choice(all_indexes, size=train_size, replace=False)\n",
    "test_indexes = np.setdiff1d(all_indexes, train_indexes)"
   ]
  },
  {
   "cell_type": "code",
   "execution_count": null,
   "metadata": {},
   "outputs": [],
   "source": [
    "train_palettes = palette_permutations[train_indexes]\n",
    "test_palettes = palette_permutations[test_indexes]"
   ]
  },
  {
   "cell_type": "code",
   "execution_count": null,
   "metadata": {},
   "outputs": [],
   "source": [
    "train_distances = distances[train_indexes][:, train_indexes]\n",
    "test_distances = distances[test_indexes][:, test_indexes]"
   ]
  },
  {
   "cell_type": "markdown",
   "metadata": {},
   "source": [
    "# dataset and dataloader"
   ]
  },
  {
   "cell_type": "code",
   "execution_count": null,
   "metadata": {},
   "outputs": [],
   "source": [
    "class PaletteDistanceDataset(Dataset):\n",
    "    def __init__(self, palette_permutations, distances, length):\n",
    "        self.palette_permutations = palette_permutations\n",
    "        self.dim_1 = palette_permutations.shape[0]\n",
    "        self.dim_2 = palette_permutations.shape[1]\n",
    "        self.distances = distances\n",
    "        self.length = length\n",
    "\n",
    "    def __getitem__(self, ix):\n",
    "        ix_1, ix_2 = np.random.randint(self.dim_1, size=2)\n",
    "        sub_ix_1, sub_ix_2 = np.random.randint(self.dim_2, size=2)\n",
    "\n",
    "        palette_1 = self.palette_permutations[ix_1, sub_ix_1]\n",
    "        palette_2 = self.palette_permutations[ix_2, sub_ix_2]\n",
    "        target_distance = self.distances[ix_1, ix_2]\n",
    "        return palette_1, palette_2, target_distance\n",
    "\n",
    "    def __len__(self):\n",
    "        return self.length"
   ]
  },
  {
   "cell_type": "code",
   "execution_count": null,
   "metadata": {},
   "outputs": [],
   "source": [
    "train_dataset = PaletteDistanceDataset(\n",
    "    train_palettes, train_distances, length=100_000_000\n",
    ")\n",
    "test_dataset = PaletteDistanceDataset(test_palettes, test_distances, length=1_000_000)"
   ]
  },
  {
   "cell_type": "code",
   "execution_count": null,
   "metadata": {},
   "outputs": [],
   "source": [
    "palette_1, palette_2, target_distance = train_dataset.__getitem__(0)\n",
    "palette_1, palette_2, target_distance"
   ]
  },
  {
   "cell_type": "code",
   "execution_count": null,
   "metadata": {},
   "outputs": [],
   "source": [
    "train_loader = DataLoader(\n",
    "    dataset=train_dataset, batch_size=4096, num_workers=5, shuffle=True\n",
    ")\n",
    "\n",
    "test_loader = DataLoader(dataset=test_dataset, batch_size=4096, shuffle=True)"
   ]
  },
  {
   "cell_type": "markdown",
   "metadata": {},
   "source": [
    "# write network"
   ]
  },
  {
   "cell_type": "code",
   "execution_count": null,
   "metadata": {},
   "outputs": [],
   "source": [
    "class PaletteEmbedder(nn.Module):\n",
    "    def __init__(self):\n",
    "        super().__init__()\n",
    "        self.first_transform = nn.Sequential(\n",
    "            nn.Linear(3, 6), nn.ReLU(), nn.Linear(6, 12)\n",
    "        )\n",
    "        self.second_transform = nn.Sequential(\n",
    "            nn.Linear(60, 128),\n",
    "            nn.ReLU(),\n",
    "            nn.Linear(128, 128),\n",
    "            nn.ReLU(),\n",
    "            nn.Linear(128, 256),\n",
    "            nn.ReLU(),\n",
    "            nn.Linear(256, 256),\n",
    "            nn.ReLU(),\n",
    "            nn.Linear(256, 128),\n",
    "            nn.ReLU(),\n",
    "            nn.Linear(128, 128),\n",
    "            nn.ReLU(),\n",
    "            nn.Linear(128, 30),\n",
    "        )\n",
    "\n",
    "    def forward(self, input_palettes):\n",
    "        batch_size = input_palettes.shape[0]\n",
    "        intermediate = self.first_transform(input_palettes)\n",
    "        flattened = intermediate.reshape(batch_size, -1)\n",
    "        embedded = self.second_transform(flattened)\n",
    "        return embedded\n",
    "\n",
    "\n",
    "class SiameseNetwork(nn.Module):\n",
    "    def __init__(self):\n",
    "        super().__init__()\n",
    "        self.palette_embedder = PaletteEmbedder()\n",
    "\n",
    "    def forward(self, palettes_1, palettes_2):\n",
    "        embeddings_1 = self.palette_embedder(palettes_1)\n",
    "        embeddings_2 = self.palette_embedder(palettes_2)\n",
    "        return embeddings_1, embeddings_2"
   ]
  },
  {
   "cell_type": "code",
   "execution_count": null,
   "metadata": {},
   "outputs": [],
   "source": [
    "model = SiameseNetwork()\n",
    "model"
   ]
  },
  {
   "cell_type": "markdown",
   "metadata": {},
   "source": [
    "# train"
   ]
  },
  {
   "cell_type": "code",
   "execution_count": null,
   "metadata": {},
   "outputs": [],
   "source": [
    "train_losses, test_losses = [], []\n",
    "torch.backends.cudnn.benchmark = True\n",
    "trainable_parameters = filter(lambda p: p.requires_grad, model.parameters())\n",
    "optimiser = optim.Adam(trainable_parameters, lr=1e-3)\n",
    "distance_metric = nn.PairwiseDistance()\n",
    "loss_function = nn.MSELoss()"
   ]
  },
  {
   "cell_type": "code",
   "execution_count": null,
   "metadata": {},
   "outputs": [],
   "source": [
    "if device.type == \"cuda\":\n",
    "    model.cuda()"
   ]
  },
  {
   "cell_type": "code",
   "execution_count": null,
   "metadata": {},
   "outputs": [],
   "source": [
    "def train(model, train_loader, distance_metric, loss_function, optimiser, n_epochs):\n",
    "    for epoch in range(n_epochs):\n",
    "        model.train()\n",
    "        train_loop = tqdm(train_loader)\n",
    "        for palettes_1, palettes_2, target_distances in train_loop:\n",
    "            if device.type == \"cuda\":\n",
    "                palettes_1 = palettes_1.cuda(non_blocking=True)\n",
    "                palettes_2 = palettes_2.cuda(non_blocking=True)\n",
    "                target_distances = target_distances.cuda(non_blocking=True)\n",
    "\n",
    "            optimiser.zero_grad()\n",
    "            embeddings_1, embeddings_2 = model(palettes_1, palettes_2)\n",
    "\n",
    "            pred_distances = distance_metric(embeddings_1, embeddings_2)\n",
    "            loss = loss_function(target_distances, pred_distances)\n",
    "            loss.backward()\n",
    "            optimiser.step()\n",
    "\n",
    "            train_losses.append(np.sqrt(loss.cpu().item()))\n",
    "            train_loop.set_description(\"Epoch {}/{}\".format(epoch + 1, n_epochs))\n",
    "            train_loop.set_postfix({\"loss\": np.mean(train_losses[-100:])})\n",
    "\n",
    "        model.eval()\n",
    "        test_loop = tqdm(test_loader)\n",
    "        for palettes_1, palettes_2, target_distances in test_loop:\n",
    "            if device.type == \"cuda\":\n",
    "                palettes_1 = palettes_1.cuda(non_blocking=True)\n",
    "                palettes_2 = palettes_2.cuda(non_blocking=True)\n",
    "                target_distances = target_distances.cuda(non_blocking=True)\n",
    "\n",
    "            embeddings_1, embeddings_2 = model(palettes_1, palettes_2)\n",
    "\n",
    "            pred_distances = distance_metric(embeddings_1, embeddings_2)\n",
    "            loss = loss_function(target_distances, pred_distances)\n",
    "\n",
    "            test_losses.append(np.sqrt(loss.cpu().item()))\n",
    "            test_loop.set_description(\"Test\")\n",
    "            test_loop.set_postfix({\"loss\": np.mean(test_losses[-100:])})"
   ]
  },
  {
   "cell_type": "code",
   "execution_count": null,
   "metadata": {},
   "outputs": [],
   "source": [
    "train(model, train_loader, distance_metric, loss_function, optimiser, 3)"
   ]
  },
  {
   "cell_type": "code",
   "execution_count": null,
   "metadata": {},
   "outputs": [],
   "source": [
    "torch.save(model.state_dict(), \"/storage/code/palette/model_state_dict.pt\")"
   ]
  },
  {
   "cell_type": "markdown",
   "metadata": {},
   "source": [
    "# plot losses"
   ]
  },
  {
   "cell_type": "code",
   "execution_count": null,
   "metadata": {},
   "outputs": [],
   "source": [
    "%matplotlib inline\n",
    "import matplotlib.pyplot as plt\n",
    "import seaborn as sns\n",
    "\n",
    "sns.set_style(\"whitegrid\")\n",
    "plt.rcParams[\"figure.figsize\"] = (20, 20)\n",
    "\n",
    "import pandas as pd"
   ]
  },
  {
   "cell_type": "code",
   "execution_count": null,
   "metadata": {},
   "outputs": [],
   "source": [
    "ax = pd.Series(train_losses).rolling(100).mean().plot()\n",
    "ax.set_ylim(0, 60);"
   ]
  },
  {
   "cell_type": "code",
   "execution_count": null,
   "metadata": {},
   "outputs": [],
   "source": []
  }
 ],
 "metadata": {
  "kernelspec": {
   "display_name": "Environment (conda_pytorch_p36)",
   "language": "python",
   "name": "conda_pytorch_p36"
  },
  "language_info": {
   "codemirror_mode": {
    "name": "ipython",
    "version": 3
   },
   "file_extension": ".py",
   "mimetype": "text/x-python",
   "name": "python",
   "nbconvert_exporter": "python",
   "pygments_lexer": "ipython3",
   "version": "3.6.5"
  }
 },
 "nbformat": 4,
 "nbformat_minor": 2
}

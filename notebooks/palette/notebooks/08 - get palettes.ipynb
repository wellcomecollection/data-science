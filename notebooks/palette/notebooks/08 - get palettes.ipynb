{
 "cells": [
  {
   "cell_type": "code",
   "execution_count": null,
   "metadata": {},
   "outputs": [],
   "source": [
    "import boto3\n",
    "import numpy as np\n",
    "import pandas as pd\n",
    "from skimage.color import rgb2lab, lab2rgb\n",
    "import os\n",
    "from io import BytesIO\n",
    "from tqdm import tqdm\n",
    "from PIL import Image\n",
    "import pickle\n",
    "from sklearn.cluster import KMeans\n",
    "import itertools"
   ]
  },
  {
   "cell_type": "markdown",
   "metadata": {},
   "source": [
    "# for all images in miro s3 bucket"
   ]
  },
  {
   "cell_type": "code",
   "execution_count": null,
   "metadata": {},
   "outputs": [],
   "source": [
    "sts = boto3.client(\"sts\")\n",
    "assumed_role_object = sts.assume_role(\n",
    "    RoleArn=\"arn:aws:iam::760097843905:role/calm-assumable_read_role\",\n",
    "    RoleSessionName=\"AssumeRoleSession1\",\n",
    ")\n",
    "credentials = assumed_role_object[\"Credentials\"]\n",
    "\n",
    "s3_platform = boto3.client(\n",
    "    \"s3\",\n",
    "    aws_access_key_id=credentials[\"AccessKeyId\"],\n",
    "    aws_secret_access_key=credentials[\"SecretAccessKey\"],\n",
    "    aws_session_token=credentials[\"SessionToken\"],\n",
    ")"
   ]
  },
  {
   "cell_type": "code",
   "execution_count": null,
   "metadata": {},
   "outputs": [],
   "source": [
    "s3_data_science = boto3.client(\"s3\")"
   ]
  },
  {
   "cell_type": "code",
   "execution_count": null,
   "metadata": {},
   "outputs": [],
   "source": [
    "def get_s3_keys_as_generator(bucket):\n",
    "    \"\"\"Generate all the keys in an S3 bucket.\"\"\"\n",
    "    kwargs = {\"Bucket\": bucket}\n",
    "    while True:\n",
    "        resp = s3_platform.list_objects_v2(**kwargs)\n",
    "        for obj in resp[\"Contents\"]:\n",
    "            yield obj[\"Key\"]\n",
    "\n",
    "        try:\n",
    "            kwargs[\"ContinuationToken\"] = resp[\"NextContinuationToken\"]\n",
    "        except KeyError:\n",
    "            break"
   ]
  },
  {
   "cell_type": "code",
   "execution_count": null,
   "metadata": {},
   "outputs": [],
   "source": [
    "bucket_name = \"wellcomecollection-miro-images-public\"\n",
    "all_keys = list(get_s3_keys_as_generator(bucket_name))"
   ]
  },
  {
   "cell_type": "code",
   "execution_count": null,
   "metadata": {},
   "outputs": [],
   "source": [
    "len(all_keys)"
   ]
  },
  {
   "cell_type": "markdown",
   "metadata": {},
   "source": [
    "# get the ids that have already been processed"
   ]
  },
  {
   "cell_type": "code",
   "execution_count": null,
   "metadata": {},
   "outputs": [],
   "source": [
    "n_items_in_bucket = 164"
   ]
  },
  {
   "cell_type": "code",
   "execution_count": null,
   "metadata": {},
   "outputs": [],
   "source": [
    "palette_dicts = []\n",
    "for i in tqdm(range(n_items_in_bucket + 1)):\n",
    "    try:\n",
    "        binary_data = s3_data_science.get_object(\n",
    "            Bucket=\"model-core-data\",\n",
    "            Key=\"palette_similarity/palette_dict_{}.pkl\".format(i),\n",
    "        )[\"Body\"].read()\n",
    "        palette_dict = pickle.load(BytesIO(binary_data))\n",
    "        palette_dicts.append(palette_dict)\n",
    "    except:\n",
    "        pass"
   ]
  },
  {
   "cell_type": "code",
   "execution_count": null,
   "metadata": {},
   "outputs": [],
   "source": [
    "palette_dict = {}\n",
    "for d in palette_dicts:\n",
    "    palette_dict.update(d)\n",
    "\n",
    "len(palette_dict)"
   ]
  },
  {
   "cell_type": "code",
   "execution_count": null,
   "metadata": {},
   "outputs": [],
   "source": [
    "already_processed_ids = set(palette_dict.keys())"
   ]
  },
  {
   "cell_type": "code",
   "execution_count": null,
   "metadata": {},
   "outputs": [],
   "source": [
    "def id_from_object_key(object_key):\n",
    "    image_id, _ = os.path.splitext(os.path.basename(object_key))\n",
    "    return image_id"
   ]
  },
  {
   "cell_type": "code",
   "execution_count": null,
   "metadata": {},
   "outputs": [],
   "source": [
    "not_yet_processed_keys = [\n",
    "    object_key\n",
    "    for object_key in all_keys\n",
    "    if id_from_object_key(object_key) not in already_processed_ids\n",
    "]"
   ]
  },
  {
   "cell_type": "code",
   "execution_count": null,
   "metadata": {},
   "outputs": [],
   "source": [
    "len(not_yet_processed_keys)"
   ]
  },
  {
   "cell_type": "markdown",
   "metadata": {},
   "source": [
    "# get their palettes"
   ]
  },
  {
   "cell_type": "code",
   "execution_count": null,
   "metadata": {},
   "outputs": [],
   "source": [
    "def get_image(object_key):\n",
    "    image_object = s3_platform.get_object(Bucket=bucket_name, Key=object_key)\n",
    "    image = Image.open(BytesIO(image_object[\"Body\"].read()))\n",
    "    if image.mode != \"RGB\":\n",
    "        image = image.convert(\"RGB\")\n",
    "    image = image.resize((75, 75), resample=Image.BILINEAR)\n",
    "    return image\n",
    "\n",
    "\n",
    "def get_palette(image, palette_size=5):\n",
    "    lab_image = rgb2lab(np.array(image)).reshape(-1, 3)\n",
    "    clusters = KMeans(n_clusters=palette_size).fit(lab_image)\n",
    "    return clusters.cluster_centers_"
   ]
  },
  {
   "cell_type": "code",
   "execution_count": null,
   "metadata": {},
   "outputs": [],
   "source": [
    "chunk_size, palette_dict = 1000, {}\n",
    "\n",
    "for i, object_key in enumerate(tqdm(not_yet_processed_keys)):\n",
    "    try:\n",
    "        image = get_image(object_key)\n",
    "        image_id = id_from_object_key(object_key)\n",
    "        palette_dict[image_id] = get_palette(image)\n",
    "    except:\n",
    "        pass\n",
    "\n",
    "    if (i % chunk_size == 0) and (i != 0):\n",
    "        s3_data_science = boto3.client(\"s3\")\n",
    "        s3_data_science.put_object(\n",
    "            Bucket=\"model-core-data\",\n",
    "            Key=\"palette_similarity/palette_dict_{}.pkl\".format(\n",
    "                (i // chunk_size) + n_items_in_bucket\n",
    "            ),\n",
    "            Body=pickle.dumps(palette_dict),\n",
    "        )\n",
    "        palette_dict = {}"
   ]
  },
  {
   "cell_type": "markdown",
   "metadata": {},
   "source": [
    "# save the data"
   ]
  },
  {
   "cell_type": "code",
   "execution_count": null,
   "metadata": {},
   "outputs": [],
   "source": []
  },
  {
   "cell_type": "code",
   "execution_count": null,
   "metadata": {},
   "outputs": [],
   "source": []
  },
  {
   "cell_type": "code",
   "execution_count": null,
   "metadata": {},
   "outputs": [],
   "source": []
  },
  {
   "cell_type": "code",
   "execution_count": null,
   "metadata": {},
   "outputs": [],
   "source": []
  },
  {
   "cell_type": "code",
   "execution_count": null,
   "metadata": {},
   "outputs": [],
   "source": []
  },
  {
   "cell_type": "code",
   "execution_count": null,
   "metadata": {},
   "outputs": [],
   "source": []
  },
  {
   "cell_type": "code",
   "execution_count": null,
   "metadata": {},
   "outputs": [],
   "source": []
  }
 ],
 "metadata": {
  "kernelspec": {
   "display_name": "Environment (conda_pytorch_p36)",
   "language": "python",
   "name": "conda_pytorch_p36"
  },
  "language_info": {
   "codemirror_mode": {
    "name": "ipython",
    "version": 3
   },
   "file_extension": ".py",
   "mimetype": "text/x-python",
   "name": "python",
   "nbconvert_exporter": "python",
   "pygments_lexer": "ipython3",
   "version": "3.6.5"
  }
 },
 "nbformat": 4,
 "nbformat_minor": 2
}

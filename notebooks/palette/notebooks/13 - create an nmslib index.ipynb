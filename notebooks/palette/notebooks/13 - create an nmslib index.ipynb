{
 "cells": [
  {
   "cell_type": "code",
   "execution_count": null,
   "metadata": {},
   "outputs": [],
   "source": [
    "import nmslib\n",
    "import numpy as np\n",
    "from IPython.core.display import display, HTML"
   ]
  },
  {
   "cell_type": "code",
   "execution_count": null,
   "metadata": {},
   "outputs": [],
   "source": [
    "image_ids = np.load(\"/storage/data/palette/all_image_ids.npy\")\n",
    "embedded_palettes = np.load(\"/storage/data/palette/embedded_palettes.npy\")"
   ]
  },
  {
   "cell_type": "code",
   "execution_count": null,
   "metadata": {},
   "outputs": [],
   "source": [
    "index = nmslib.init(method=\"hnsw\", space=\"l2\")\n",
    "index.addDataPointBatch(embedded_palettes)\n",
    "index.createIndex({\"post\": 2}, print_progress=True)"
   ]
  },
  {
   "cell_type": "markdown",
   "metadata": {},
   "source": [
    "# test"
   ]
  },
  {
   "cell_type": "code",
   "execution_count": null,
   "metadata": {},
   "outputs": [],
   "source": [
    "query_ix = np.random.choice(len(image_ids))\n",
    "query_id = image_ids[query_ix]\n",
    "query_embedding = embedded_palettes[query_ix]\n",
    "\n",
    "image_url = \"https://iiif.wellcomecollection.org/image/{}.jpg/full/960,/0/default.jpg\"\n",
    "\n",
    "display(\n",
    "    HTML(\n",
    "        \"<a href='{}' target='_blank'>query image</a>\".format(\n",
    "            image_url.format(query_id)\n",
    "        )\n",
    "    )\n",
    ")\n",
    "\n",
    "print()\n",
    "\n",
    "neighbour_indexes, neighbour_distances = index.knnQuery(query_embedding, k=6)\n",
    "\n",
    "for ix in neighbour_indexes[1:]:\n",
    "    display(\n",
    "        HTML(\n",
    "            \"<a href='{}' target='_blank'>image</a>\".format(\n",
    "                image_url.format(image_ids[ix])\n",
    "            )\n",
    "        )\n",
    "    )"
   ]
  },
  {
   "cell_type": "markdown",
   "metadata": {},
   "source": [
    "# save"
   ]
  },
  {
   "cell_type": "code",
   "execution_count": null,
   "metadata": {},
   "outputs": [],
   "source": [
    "index.saveIndex(\"/storage/data/palette/palette_embeddings.hnsw\", save_data=True)"
   ]
  },
  {
   "cell_type": "markdown",
   "metadata": {},
   "source": [
    "# stick it in s3 as well"
   ]
  },
  {
   "cell_type": "code",
   "execution_count": null,
   "metadata": {},
   "outputs": [],
   "source": [
    "(\"<a href='{}' target='_blank'>query image</a>\".format(image_url.format(query_id)))"
   ]
  },
  {
   "cell_type": "code",
   "execution_count": null,
   "metadata": {},
   "outputs": [],
   "source": [
    "for i, ix in enumerate(neighbour_indexes[1:]):\n",
    "    print(\n",
    "        (\n",
    "            \"<a href='{0}' target='_blank'>result {1}</a>\".format(\n",
    "                image_url.format(image_ids[ix]), i + 1\n",
    "            )\n",
    "        )\n",
    "    )"
   ]
  },
  {
   "cell_type": "code",
   "execution_count": null,
   "metadata": {},
   "outputs": [],
   "source": []
  }
 ],
 "metadata": {
  "kernelspec": {
   "display_name": "Environment (conda_pytorch_p36)",
   "language": "python",
   "name": "conda_pytorch_p36"
  },
  "language_info": {
   "codemirror_mode": {
    "name": "ipython",
    "version": 3
   },
   "file_extension": ".py",
   "mimetype": "text/x-python",
   "name": "python",
   "nbconvert_exporter": "python",
   "pygments_lexer": "ipython3",
   "version": "3.6.5"
  }
 },
 "nbformat": 4,
 "nbformat_minor": 2
}

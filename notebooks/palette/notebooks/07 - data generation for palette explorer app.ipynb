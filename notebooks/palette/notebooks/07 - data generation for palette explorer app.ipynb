{
 "cells": [
  {
   "cell_type": "code",
   "execution_count": null,
   "metadata": {},
   "outputs": [],
   "source": [
    "import numpy as np\n",
    "import pandas as pd\n",
    "from skimage.color import rgb2lab, lab2rgb\n",
    "import os\n",
    "from tqdm import tqdm_notebook as tqdm\n",
    "from PIL import Image\n",
    "import pickle\n",
    "from sklearn.cluster import KMeans\n",
    "import itertools"
   ]
  },
  {
   "cell_type": "markdown",
   "metadata": {},
   "source": [
    "# select some images"
   ]
  },
  {
   "cell_type": "code",
   "execution_count": null,
   "metadata": {},
   "outputs": [],
   "source": [
    "n_images = 10000\n",
    "\n",
    "path_to_images = \"/Users/pimh/datasets/small_images/\"\n",
    "\n",
    "random_ids = np.random.choice(os.listdir(path_to_images), n_images, replace=False)\n",
    "\n",
    "random_ids = np.sort(random_ids)"
   ]
  },
  {
   "cell_type": "markdown",
   "metadata": {},
   "source": [
    "# get their palettes"
   ]
  },
  {
   "cell_type": "code",
   "execution_count": null,
   "metadata": {},
   "outputs": [],
   "source": [
    "def get_palette(image, palette_size=5, image_size=75):\n",
    "    image = image.resize((image_size, image_size), resample=Image.BILINEAR)\n",
    "    lab_image = rgb2lab(np.array(image)).reshape(-1, 3)\n",
    "    clusters = KMeans(n_clusters=palette_size).fit(lab_image)\n",
    "    return clusters.cluster_centers_"
   ]
  },
  {
   "cell_type": "code",
   "execution_count": null,
   "metadata": {},
   "outputs": [],
   "source": [
    "palette_dict = {}\n",
    "\n",
    "for image_id in tqdm(random_ids):\n",
    "    try:\n",
    "        image = Image.open(path_to_images + image_id)\n",
    "        if len(np.array(image).shape) != 3:\n",
    "            image = Image.fromarray(np.stack((image,) * 3, -1))\n",
    "        palette_dict[image_id] = get_palette(image)\n",
    "    except:\n",
    "        pass\n",
    "\n",
    "image_ids = np.sort(list(palette_dict.keys()))\n",
    "palettes = [palette_dict[image_id] for image_id in image_ids]"
   ]
  },
  {
   "cell_type": "markdown",
   "metadata": {},
   "source": [
    "# compute distances"
   ]
  },
  {
   "cell_type": "code",
   "execution_count": null,
   "metadata": {},
   "outputs": [],
   "source": [
    "all_possible_palettes = np.stack(\n",
    "    [list(itertools.permutations(palette, 5)) for palette in palettes]\n",
    ")"
   ]
  },
  {
   "cell_type": "code",
   "execution_count": null,
   "metadata": {},
   "outputs": [],
   "source": [
    "palette_distances = {}\n",
    "\n",
    "for image_id, palette in tqdm(palette_dict.items()):\n",
    "    distances = (\n",
    "        np.linalg.norm(all_possible_palettes - palette, axis=3).sum(axis=2).min(axis=1)\n",
    "    )\n",
    "\n",
    "    palette_distances[image_id] = dict(zip(image_ids, distances))\n",
    "\n",
    "palette_distances = pd.DataFrame(palette_distances)"
   ]
  },
  {
   "cell_type": "markdown",
   "metadata": {},
   "source": [
    "# save the data"
   ]
  },
  {
   "cell_type": "code",
   "execution_count": null,
   "metadata": {},
   "outputs": [],
   "source": [
    "palette_distances.to_pickle(\"../../../apis/palette_api/data/palette_distances.pkl\")"
   ]
  },
  {
   "cell_type": "code",
   "execution_count": null,
   "metadata": {},
   "outputs": [],
   "source": [
    "with open(\"../../../apis/palette_api/data/palettes.pkl\", \"wb\") as f:\n",
    "    pickle.dump(palette_dict, f)"
   ]
  },
  {
   "cell_type": "code",
   "execution_count": null,
   "metadata": {},
   "outputs": [],
   "source": []
  }
 ],
 "metadata": {
  "kernelspec": {
   "display_name": "Python 3",
   "language": "python",
   "name": "python3"
  }
 },
 "nbformat": 4,
 "nbformat_minor": 2
}

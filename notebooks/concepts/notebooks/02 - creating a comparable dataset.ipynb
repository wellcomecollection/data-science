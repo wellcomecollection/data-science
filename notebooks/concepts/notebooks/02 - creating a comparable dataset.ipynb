{
 "cells": [
  {
   "cell_type": "markdown",
   "id": "7131c387-16b7-43b1-8ffa-cbb1e92c4bfb",
   "metadata": {},
   "source": [
    "# Creating a comparable dataset\n",
    "We want our LCSH terms and wellcome collection search queries to be analysable in a similar format. Let's do some normalisation of both sets (similar to our standard ES language analysis) to reduce them into a more matchable form."
   ]
  },
  {
   "cell_type": "code",
   "execution_count": null,
   "id": "c5a7dfb1-024a-4262-b13b-a8ca3bf77ed6",
   "metadata": {},
   "outputs": [],
   "source": [
    "import os\n",
    "import string\n",
    "from collections import Counter\n",
    "from pathlib import Path\n",
    "\n",
    "import orjson\n",
    "from tqdm.notebook import tqdm\n",
    "from weco_datascience.reporting import get_data_in_date_range"
   ]
  },
  {
   "cell_type": "markdown",
   "id": "fb1b8004-2fd2-4cf8-9b44-5c5a60b8959c",
   "metadata": {},
   "source": [
    "First we need to actually load a set of queries from our reporting cluster"
   ]
  },
  {
   "cell_type": "code",
   "execution_count": null,
   "id": "7cc3eda8-9fce-42d8-8667-c287c0349f0f",
   "metadata": {},
   "outputs": [],
   "source": [
    "df = get_data_in_date_range(\n",
    "    config=os.environ,\n",
    "    index=\"metrics-conversion-prod\",\n",
    "    start_date=\"2021-09-01\",\n",
    "    end_date=\"2021-09-02\",\n",
    ")\n"
   ]
  },
  {
   "cell_type": "code",
   "execution_count": null,
   "id": "908ba5a9-e91c-48be-92f2-981bc1810198",
   "metadata": {},
   "outputs": [],
   "source": [
    "unique_queries = df[\"page.query.query\"].unique()"
   ]
  },
  {
   "cell_type": "code",
   "execution_count": null,
   "id": "9793e4b3-dc5d-4917-be33-40ec84cb5e80",
   "metadata": {},
   "outputs": [],
   "source": [
    "len(unique_queries.tolist())"
   ]
  },
  {
   "cell_type": "markdown",
   "id": "02874db4-0773-4c71-89cc-3c409a4d4e30",
   "metadata": {},
   "source": [
    "and the LCSH labels which we downloaded in notebook 01"
   ]
  },
  {
   "cell_type": "code",
   "execution_count": null,
   "id": "0d4dfdf3-6f34-4f1d-a5ac-fa92b6af5717",
   "metadata": {},
   "outputs": [],
   "source": [
    "data_dir = Path(\"../data/lcsh\")\n",
    "with open(data_dir / \"lcsh_ids_and_labels.json\", \"rb\") as f:\n",
    "    lcsh_dict = orjson.loads(f.read())"
   ]
  },
  {
   "cell_type": "code",
   "execution_count": null,
   "id": "0c0dcb3f-a336-4e44-b5c8-09ccb9f939e7",
   "metadata": {},
   "outputs": [],
   "source": [
    "lcsh = set(list(lcsh_dict.keys()) + list(lcsh_dict.values()))"
   ]
  },
  {
   "cell_type": "code",
   "execution_count": null,
   "id": "3adb94fd-411b-4b71-a57e-69dcc4fb9824",
   "metadata": {},
   "outputs": [],
   "source": [
    "len(lcsh)"
   ]
  },
  {
   "cell_type": "markdown",
   "id": "0c29e988-c637-4f00-9204-7f88e7e48caf",
   "metadata": {},
   "source": [
    "## Naive matching\n",
    "Let's see how many matches we find without applying any transformations to the data"
   ]
  },
  {
   "cell_type": "code",
   "execution_count": null,
   "id": "da6c2ec4-f039-41b2-9dde-f1f5332c62b8",
   "metadata": {},
   "outputs": [],
   "source": [
    "intersection = [query for query in unique_queries if query in lcsh]\n",
    "\n",
    "print(len(intersection))\n",
    "print(intersection)"
   ]
  },
  {
   "cell_type": "markdown",
   "id": "ae6ddc8f-4f8f-4d7f-ad91-c14e99c537a6",
   "metadata": {
    "tags": []
   },
   "source": [
    "## Lowercasing\n",
    "The simplest change I can imagine making is to lowercase all of the terms before looking for matches"
   ]
  },
  {
   "cell_type": "code",
   "execution_count": null,
   "id": "5ec8b2df-96aa-460b-aced-9a14d96017a9",
   "metadata": {},
   "outputs": [],
   "source": [
    "lowercased_queries = set([str(x).lower() for x in unique_queries])\n",
    "\n",
    "lowercased_lcsh = set([str(x).lower() for x in lcsh])"
   ]
  },
  {
   "cell_type": "code",
   "execution_count": null,
   "id": "34983a75-ff63-4e0d-9a0a-a49ba60bcec9",
   "metadata": {},
   "outputs": [],
   "source": [
    "intersection = [query for query in lowercased_queries if query in lowercased_lcsh]\n",
    "\n",
    "print(len(intersection) / len(lowercased_queries))\n",
    "print(intersection)"
   ]
  },
  {
   "cell_type": "markdown",
   "id": "b507c06b-5888-438c-9c69-485f6d05eeb8",
   "metadata": {},
   "source": [
    "## Removing punctuation"
   ]
  },
  {
   "cell_type": "code",
   "execution_count": null,
   "id": "05fc4082-1f35-4322-97b5-33bc05480ca5",
   "metadata": {},
   "outputs": [],
   "source": [
    "from unicodedata import category"
   ]
  },
  {
   "cell_type": "code",
   "execution_count": null,
   "id": "71f79cfc-85e0-4546-992f-17de495f3ff8",
   "metadata": {},
   "outputs": [],
   "source": [
    "def strip_punctuation(input_string):\n",
    "    return \"\".join(ch for ch in input_string if category(ch)[0] != \"P\")"
   ]
  },
  {
   "cell_type": "code",
   "execution_count": null,
   "id": "e181a2f0-a550-4384-9ae7-e8de2270e606",
   "metadata": {},
   "outputs": [],
   "source": [
    "unpunctuated_queries = set([strip_punctuation(x) for x in tqdm(lowercased_queries)])\n",
    "unpunctuated_lcsh = set([strip_punctuation(x) for x in tqdm(lowercased_lcsh)])"
   ]
  },
  {
   "cell_type": "code",
   "execution_count": null,
   "id": "82f167f8-eef7-4141-bc92-ea61064edc82",
   "metadata": {},
   "outputs": [],
   "source": [
    "intersection = [query for query in unpunctuated_queries if query in unpunctuated_lcsh]\n",
    "\n",
    "print(len(intersection) / len(unpunctuated_queries))\n",
    "print(intersection)"
   ]
  },
  {
   "cell_type": "markdown",
   "id": "d95febde-e390-4553-bc6a-3a474f09c781",
   "metadata": {},
   "source": [
    "That's more that 10% of the unique queries for a 24 hour period which can be directly matched to subjects in lcsh, with minimal normalisation and disambiguation!\n",
    "\n",
    "## Accounting for query counts\n",
    "Let's instead look at the raw numbers of queries, rather than the unique ones - maybe that 10% figure will change"
   ]
  },
  {
   "cell_type": "code",
   "execution_count": null,
   "id": "4f230bc6-6ba0-464c-9c5e-6adf18955185",
   "metadata": {},
   "outputs": [],
   "source": [
    "query_counts = df[\"page.query.query\"].value_counts()"
   ]
  },
  {
   "cell_type": "code",
   "execution_count": null,
   "id": "bcf9993f-f956-40bd-83e3-b0cde7883c36",
   "metadata": {},
   "outputs": [],
   "source": [
    "query_counts.sum()"
   ]
  },
  {
   "cell_type": "code",
   "execution_count": null,
   "id": "9644402c-0936-443c-bf96-536c3867ac0d",
   "metadata": {},
   "outputs": [],
   "source": [
    "query_counts.plot()"
   ]
  },
  {
   "cell_type": "markdown",
   "id": "00081e84-f2f0-40f7-9a75-79cb224498a8",
   "metadata": {},
   "source": [
    "Th distribution looks nice and logarithmic, as we'd expect. If we have some of those high-value queries in our LCSH list, our matching-percentage might even go up!"
   ]
  },
  {
   "cell_type": "code",
   "execution_count": null,
   "id": "119f90ba-a938-48c1-9c84-bee97acc9d27",
   "metadata": {},
   "outputs": [],
   "source": [
    "count = 0\n",
    "\n",
    "for query, n in query_counts.items():\n",
    "    normalised_query = strip_punctuation(query.lower())\n",
    "    if normalised_query in unpunctuated_lcsh:\n",
    "        count += n\n",
    "\n",
    "print(count / query_counts.sum())"
   ]
  },
  {
   "cell_type": "markdown",
   "id": "d7afbd72-eabe-46ae-a264-3f28f5f91d75",
   "metadata": {},
   "source": [
    "23 percent!! near a quarter of queries neatly map to concepts in LCSH alone, with only the most basic normalisations applied to terms. A full suite of elasticsearch analysers might even bring that percentage closer to 30%.\n",
    "\n",
    "Whatever the 'real' percentage is, I think it's fair to call it significant."
   ]
  }
 ],
 "metadata": {
  "kernelspec": {
   "display_name": "Python 3 (ipykernel)",
   "language": "python",
   "name": "python3"
  },
  "language_info": {
   "codemirror_mode": {
    "name": "ipython",
    "version": 3
   },
   "file_extension": ".py",
   "mimetype": "text/x-python",
   "name": "python",
   "nbconvert_exporter": "python",
   "pygments_lexer": "ipython3",
   "version": "3.8.8"
  }
 },
 "nbformat": 4,
 "nbformat_minor": 5
}

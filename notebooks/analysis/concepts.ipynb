{
 "cells": [
  {
   "cell_type": "code",
   "execution_count": null,
   "id": "810dcd20-62f7-4382-9c03-0dd723d4536b",
   "metadata": {},
   "outputs": [],
   "source": [
    "import os\n",
    "\n",
    "from weco_datascience.reporting import get_recent_data"
   ]
  },
  {
   "cell_type": "code",
   "execution_count": null,
   "id": "dbe21d39-f85b-4c57-a7a7-5836b505e8fb",
   "metadata": {},
   "outputs": [],
   "source": [
    "df = get_recent_data(config=os.environ, n=100000, index=\"metrics-conversion-prod\")"
   ]
  },
  {
   "cell_type": "markdown",
   "id": "b280c6ee-39ec-4dd3-9968-1ba6ec345182",
   "metadata": {},
   "source": [
    "## We want to know whether concepts are helping researchers find what they are looking for. ##"
   ]
  },
  {
   "cell_type": "markdown",
   "id": "d21e4dab-a76c-4f9d-859f-c160ad9a26e5",
   "metadata": {},
   "source": [
    "Concepts pages started being offered to Collections users on 26 September. \n",
    "This analysis is to understand how effective they have been in helping\n",
    "researchers using the Library catalogue in viewing works pages."
   ]
  },
  {
   "cell_type": "markdown",
   "id": "792824cb-2e9f-423f-ac99-0d9c50ca2716",
   "metadata": {},
   "source": [
    "What period does the analysis cover? "
   ]
  },
  {
   "cell_type": "code",
   "execution_count": null,
   "id": "cd2760ed-42dc-438d-8232-ff3eab2e942a",
   "metadata": {},
   "outputs": [],
   "source": [
    "print(df[\"@timestamp\"].head(1))"
   ]
  },
  {
   "cell_type": "code",
   "execution_count": null,
   "id": "e3473efe-067c-4258-8705-1985f1c61cbd",
   "metadata": {},
   "outputs": [],
   "source": [
    "print(df[\"@timestamp\"].tail(1))"
   ]
  },
  {
   "cell_type": "markdown",
   "id": "411144e8-646d-4a40-811c-3ad2c7aefe90",
   "metadata": {},
   "source": [
    "## How frequently do people use concepts? ##"
   ]
  },
  {
   "cell_type": "code",
   "execution_count": null,
   "id": "7d63c30c-ce8c-4aaf-9a90-63894658ae79",
   "metadata": {},
   "outputs": [],
   "source": [
    "concept_users=df.loc[(df[\"page.name\"]==\"concept\")]\n",
    "concept_users2=concept_users.drop_duplicates(\"anonymousId\", keep=\"first\")\n",
    "\n",
    "print(\"Concepts users account for\",\"{:.0%}\".format(\n",
    "    (concept_users[\"anonymousId\"].nunique())/df[\"anonymousId\"].nunique()),\"of total unique users.\")"
   ]
  },
  {
   "cell_type": "markdown",
   "id": "30f59195-b5b1-4e02-aace-f686c0535bb3",
   "metadata": {},
   "source": [
    "## It looks like concepts usage is still pretty niche. ##\n",
    "\n",
    "Maybe we can find out something about the people who are using them."
   ]
  },
  {
   "cell_type": "markdown",
   "id": "30c2dc51-3e35-4dea-815d-a9fd84565d5c",
   "metadata": {},
   "source": [
    "## But first, how about a function to make life easier? ##\n",
    "\n",
    "-concepts page.name(concept)\n",
    "<br>\n",
    "-search page.name(works), page.query.query:*\n",
    "<br>\n",
    "-works page page.name(work), page.query.workId:*\n",
    "<br>\n",
    "-item view page.name(item)\n",
    "<br>\n",
    "-image view page.name(image)\n",
    "<br>\n",
    "-image modal properties.event(Open image modal)"
   ]
  },
  {
   "cell_type": "code",
   "execution_count": null,
   "id": "8c3eb4ce-b4b1-4019-8b9b-f26dbeab4eee",
   "metadata": {},
   "outputs": [],
   "source": [
    "short=[\"anonymousId\",\"@timestamp\",\"page.name\",\"page.query.query\",\"page.query.workId\",\"properties.event\"]\n",
    "df2=df[short]\n",
    "\n",
    "df3=df2.assign(actionType=lambda x: \"\")\n",
    "\n",
    "#replace empty cells \n",
    "df3.fillna(\"\", inplace = True)\n",
    "df4=df3.astype(str)\n",
    "df4.head()\n"
   ]
  },
  {
   "cell_type": "code",
   "execution_count": null,
   "id": "e884d695-7bce-4a54-9c6a-f136ed7ed869",
   "metadata": {},
   "outputs": [],
   "source": [
    "def search(page_name, page_query_query):\n",
    "    if ((page_name == \"works\") and (page_query_query != \"\")):\n",
    "        return \"search\"\n",
    "\n",
    "def concept(page_name):\n",
    "    if page_name == \"concept\":\n",
    "        return \"concepts\"\n",
    "\n",
    "def works_page(page_name, page_query_workId):\n",
    "    if ((page_name == \"work\") and (page_query_workId!=\"\")):\n",
    "        return \"works page view\"\n",
    "    \n",
    "def image_modal(properties_event):\n",
    "    if properties_event == \"Open image modal\":\n",
    "        return \"image modal view\"\n",
    "    \n",
    "def item_view(page_name):\n",
    "    if page_name == \"item\":\n",
    "        return \"catalogue item view\"\n",
    "    \n",
    "def image_view(page_name):\n",
    "    if page_name == \"image\":\n",
    "        return \"images item view\""
   ]
  },
  {
   "cell_type": "code",
   "execution_count": null,
   "id": "f3bbf177-3a1a-477e-9e74-56777b350b4c",
   "metadata": {},
   "outputs": [],
   "source": [
    "for i in range(len(df3)):\n",
    "    if df3.loc[i, \"actionType\"]==\"\":\n",
    "        df3.loc[i, \"actionType\"]=concept(df3.loc[i, \"page.name\"]) \n",
    "        \n",
    "df3.fillna(\"\", inplace = True)"
   ]
  },
  {
   "cell_type": "code",
   "execution_count": null,
   "id": "78288218-ca49-46a8-ac5c-3b78f67d0303",
   "metadata": {},
   "outputs": [],
   "source": [
    "for i in range(len(df3)):   \n",
    "    if df3.loc[i, \"actionType\"]==\"\":\n",
    "        df3.loc[i, \"actionType\"]=image_modal(df3.loc[i, \"properties.event\"]) \n",
    "\n",
    "df3.fillna(\"\", inplace = True)"
   ]
  },
  {
   "cell_type": "code",
   "execution_count": null,
   "id": "112a2335-b57b-4d68-a78c-3cb8144ec633",
   "metadata": {},
   "outputs": [],
   "source": [
    "for i in range(len(df3)):\n",
    "    if df3.loc[i, \"actionType\"]==\"\":\n",
    "        df3.loc[i, \"actionType\"]=works_page(df3.loc[i, \"page.name\"], df3.loc[i, \"page.query.workId\"]) \n",
    "\n",
    "df3.fillna(\"\", inplace = True)"
   ]
  },
  {
   "cell_type": "code",
   "execution_count": null,
   "id": "d60335e1-4384-4195-9bca-c56c7bedce84",
   "metadata": {
    "tags": []
   },
   "outputs": [],
   "source": [
    "for i in range(len(df3)):\n",
    "    if df3.loc[i, \"actionType\"]==\"\":\n",
    "        df3.loc[i, \"actionType\"]=search(df3.loc[i, \"page.name\"],df3.loc[i, \"page.query.query\"]) \n",
    "\n",
    "df3.fillna(\"\", inplace = True)"
   ]
  },
  {
   "cell_type": "code",
   "execution_count": null,
   "id": "a9f51605-5a7d-46a5-a3c3-321b4c50c4a6",
   "metadata": {},
   "outputs": [],
   "source": [
    "for i in range(len(df3)):\n",
    "    if df3.loc[i, \"actionType\"]==\"\":\n",
    "        df3.loc[i, \"actionType\"]=item_view(df3.loc[i, \"page.name\"]) \n",
    "\n",
    "df3.fillna(\"\", inplace = True)"
   ]
  },
  {
   "cell_type": "code",
   "execution_count": null,
   "id": "a3825017-a867-411b-a860-c9a153b81704",
   "metadata": {},
   "outputs": [],
   "source": [
    "for i in range(len(df3)):\n",
    "    if df3.loc[i, \"actionType\"]==\"\":\n",
    "        df3.loc[i, \"actionType\"]=image_view(df3.loc[i, \"page.name\"]) \n",
    "\n",
    "df3.fillna(\"\", inplace = True)"
   ]
  },
  {
   "cell_type": "markdown",
   "id": "87fc7f57-4a07-4429-bfc0-53192284709b",
   "metadata": {},
   "source": [
    "##Evaluation of concept/non-concept user usage##"
   ]
  },
  {
   "cell_type": "code",
   "execution_count": null,
   "id": "dd2fdee3-ca01-414f-942c-af71b666ab7e",
   "metadata": {},
   "outputs": [],
   "source": [
    "clist=concept_users2[\"anonymousId\"].tolist()\n",
    "short=[\"anonymousId\", \"actionType\"]\n",
    "concept_usage=df3[short][df3[\"anonymousId\"].isin (clist)]\n",
    "\n",
    "non_concept_usage=df3[short][~df3[\"anonymousId\"].isin (clist)]"
   ]
  },
  {
   "cell_type": "code",
   "execution_count": null,
   "id": "465787bc-2157-4d3e-bd5f-ca4ccf4888c1",
   "metadata": {},
   "outputs": [],
   "source": [
    "concept_usage[\"actionType\"].value_counts()"
   ]
  },
  {
   "cell_type": "code",
   "execution_count": null,
   "id": "7f52035b-8a9f-46ce-bdd6-0819362b5a17",
   "metadata": {},
   "outputs": [],
   "source": [
    "concept_usage[\"anonymousId\"].nunique()"
   ]
  },
  {
   "cell_type": "code",
   "execution_count": null,
   "id": "0e2098e3-f810-4846-a10f-a9ecdd2d4021",
   "metadata": {},
   "outputs": [],
   "source": [
    "non_concept_usage[\"actionType\"].value_counts()"
   ]
  },
  {
   "cell_type": "code",
   "execution_count": null,
   "id": "4a99dbbc-c47d-46e2-892d-f96ab8927bdc",
   "metadata": {},
   "outputs": [],
   "source": [
    "non_concept_usage[\"anonymousId\"].nunique()"
   ]
  },
  {
   "cell_type": "code",
   "execution_count": null,
   "id": "fd239496-df43-4e37-9b19-d0a31d32dc66",
   "metadata": {},
   "outputs": [],
   "source": []
  }
 ],
 "metadata": {
  "kernelspec": {
   "display_name": "Python 3",
   "language": "python",
   "name": "python3"
  },
  "language_info": {
   "codemirror_mode": {
    "name": "ipython",
    "version": 3
   },
   "file_extension": ".py",
   "mimetype": "text/x-python",
   "name": "python",
   "nbconvert_exporter": "python",
   "pygments_lexer": "ipython3",
   "version": "3.8.8"
  }
 },
 "nbformat": 4,
 "nbformat_minor": 5
}

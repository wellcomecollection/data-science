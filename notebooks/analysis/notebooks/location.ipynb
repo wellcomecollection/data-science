{
 "cells": [
  {
   "cell_type": "markdown",
   "id": "f411ffd5-ec2a-4880-8cca-c5665c020196",
   "metadata": {},
   "source": [
    "# Use of location tick boxes\n",
    "\n",
    "This code investigates the percentage of users ticking location boxes compared to other filters"
   ]
  },
  {
   "cell_type": "code",
   "execution_count": null,
   "id": "8340b652-6809-44f1-bb98-3d2062fbc795",
   "metadata": {},
   "outputs": [],
   "source": [
    "import os\n",
    "\n",
    "from weco_datascience.reporting import get_recent_data"
   ]
  },
  {
   "cell_type": "markdown",
   "id": "ff014392-d022-4d6e-819f-e81785c639a6",
   "metadata": {},
   "source": [
    "First, get the data"
   ]
  },
  {
   "cell_type": "code",
   "execution_count": null,
   "id": "05fe937d-fa63-4ac6-9f77-bdcb061da240",
   "metadata": {},
   "outputs": [],
   "source": [
    "df = get_recent_data(config=os.environ, n=100000, index=\"metrics-conversion-prod\")"
   ]
  },
  {
   "cell_type": "markdown",
   "id": "71ca94f8-45e9-4682-bb3d-2d90313d0185",
   "metadata": {},
   "source": [
    "Next, only grab the searches using filters"
   ]
  },
  {
   "cell_type": "code",
   "execution_count": null,
   "id": "72519f45-351a-4323-9218-6e70a1265bee",
   "metadata": {},
   "outputs": [],
   "source": [
    "keepers = [\n",
    "    \"@timestamp\",\n",
    "    \"anonymousId\",\n",
    "    \"page.query.availabilities\",\n",
    "    \"page.query.workType\",\n",
    "    \"page.query.production_dates_from\",\n",
    "    \"page.query.production_dates_to\",\n",
    "    \"page.query.subjects_label\",\n",
    "    \"page.query.genres_label\",\n",
    "    \"page.query.contributors_agent_label\",\n",
    "    \"page.query.languages\",\n",
    "]\n",
    "df2 = df[keepers]\n",
    "df3=df2.loc[()]\n",
    "df3=df2.loc[(df2[\"page.query.availabilities\"].notnull())\n",
    "            | (df2[\"page.query.workType\"].notnull())\n",
    "            | (df2[\"page.query.production_dates_from\"].notnull()) \n",
    "            | (df2[\"page.query.production_dates_to\"].notnull()) \n",
    "            | (df2[\"page.query.subjects_label\"].notnull())\n",
    "            | (df2[\"page.query.genres_label\"].notnull())\n",
    "            | (df2[\"page.query.contributors_agent_label\"].notnull())\n",
    "            | (df2[\"page.query.languages\"].notnull())\n",
    "           ]\n",
    "#df3.head()"
   ]
  },
  {
   "cell_type": "markdown",
   "id": "126e65cf-a10e-4267-a18e-1a067b030f6a",
   "metadata": {},
   "source": [
    "How many users used filters?"
   ]
  },
  {
   "cell_type": "code",
   "execution_count": null,
   "id": "62d47cb3-e9fa-4e3d-94dc-11db726ad380",
   "metadata": {},
   "outputs": [],
   "source": [
    "len(df3[\"anonymousId\"].unique())"
   ]
  },
  {
   "cell_type": "markdown",
   "id": "ec2252c7-cd02-4544-a490-e5076f83ca21",
   "metadata": {},
   "source": [
    "How many users used location filters?"
   ]
  },
  {
   "cell_type": "code",
   "execution_count": null,
   "id": "6d2dd689-454e-4fb9-9e4e-17b5d331ee0c",
   "metadata": {},
   "outputs": [],
   "source": [
    "location = df2.loc[(df2[\"page.query.availabilities\"].notnull())]\n",
    "loc_uniques = location[\"anonymousId\"].unique()\n",
    "len(loc_uniques)"
   ]
  },
  {
   "cell_type": "markdown",
   "id": "f64e2808-4ac9-490d-ac6c-058afd65afd9",
   "metadata": {},
   "source": [
    "What percentage of users used location filters as their first filter usage?"
   ]
  },
  {
   "cell_type": "code",
   "execution_count": null,
   "id": "f2e647f2-fa05-43a7-8760-a6a19dd6f2d4",
   "metadata": {},
   "outputs": [],
   "source": [
    "sorted_df= df3.sort_values([\"@timestamp\", \"anonymousId\"], ascending=[False, True])\n",
    "sorted_df2 = sorted_df.drop_duplicates(subset=\"anonymousId\", keep='first') #attribution error: function object has no attribute 'head'\n",
    "sorted_df2.head() "
   ]
  },
  {
   "cell_type": "markdown",
   "id": "54b804be-87dc-4f9d-a359-22fc29cda93e",
   "metadata": {},
   "source": [
    "check"
   ]
  },
  {
   "cell_type": "code",
   "execution_count": null,
   "id": "eb887a8e-2a0c-4a67-819f-badc5fe46a25",
   "metadata": {},
   "outputs": [],
   "source": [
    "check = df.loc[(df[\"anonymousId\"] == \"e2b598f7-ca9b-4869-a56f-5f89bbb108ad\")]\n",
    "check2 = check[keepers]\n",
    "#print(check2)"
   ]
  },
  {
   "cell_type": "code",
   "execution_count": null,
   "id": "de95cd24-03bb-4678-8172-9e31ebf0cd2b",
   "metadata": {},
   "outputs": [],
   "source": [
    "sorted_df2[\"page.query.availabilities\"].value_counts()"
   ]
  },
  {
   "cell_type": "code",
   "execution_count": null,
   "id": "7ebacc8f-0399-47b1-8eb5-36694124e6e7",
   "metadata": {},
   "outputs": [],
   "source": [
    "sorted_df2[\"page.query.availabilities\"].count()"
   ]
  },
  {
   "cell_type": "code",
   "execution_count": null,
   "id": "490f3c57-93fa-4e0d-860c-800a0713a3c1",
   "metadata": {},
   "outputs": [],
   "source": [
    "sorted_df2[\"page.query.production_dates_from\"].count()"
   ]
  },
  {
   "cell_type": "code",
   "execution_count": null,
   "id": "b6bb2b0b-b825-4fa4-8dc2-d8602ec8ec20",
   "metadata": {},
   "outputs": [],
   "source": [
    "sorted_df2[\"page.query.production_dates_to\"].count()"
   ]
  },
  {
   "cell_type": "code",
   "execution_count": null,
   "id": "15086e9e-b4ae-44e8-a54b-5f92ff588b44",
   "metadata": {},
   "outputs": [],
   "source": [
    "sorted_df2[\"page.query.subjects_label\"].count()"
   ]
  },
  {
   "cell_type": "code",
   "execution_count": null,
   "id": "5c6bfaea-75e2-4b6e-bf3a-0cd236e3b9aa",
   "metadata": {},
   "outputs": [],
   "source": [
    "sorted_df2[\"page.query.genres_label\"].count()"
   ]
  },
  {
   "cell_type": "code",
   "execution_count": null,
   "id": "0058512b-7cbb-4647-9039-03782a840777",
   "metadata": {},
   "outputs": [],
   "source": [
    "sorted_df2[\"page.query.workType\"].count()"
   ]
  },
  {
   "cell_type": "code",
   "execution_count": null,
   "id": "6ddeb906-18e2-4c07-9c5b-bab2ca96ca54",
   "metadata": {},
   "outputs": [],
   "source": [
    "sorted_df2[\"page.query.contributors_agent_label\"].count()"
   ]
  },
  {
   "cell_type": "code",
   "execution_count": null,
   "id": "3c1689d2-5e2e-47f1-bb7b-723c40332b36",
   "metadata": {},
   "outputs": [],
   "source": [
    "sorted_df2[\"page.query.languages\"].count()"
   ]
  }
 ],
 "metadata": {
  "kernelspec": {
   "display_name": "Python 3 (ipykernel)",
   "language": "python",
   "name": "python3"
  },
  "language_info": {
   "codemirror_mode": {
    "name": "ipython",
    "version": 3
   },
   "file_extension": ".py",
   "mimetype": "text/x-python",
   "name": "python",
   "nbconvert_exporter": "python",
   "pygments_lexer": "ipython3",
   "version": "3.8.8"
  }
 },
 "nbformat": 4,
 "nbformat_minor": 5
}

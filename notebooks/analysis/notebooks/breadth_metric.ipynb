{
 "cells": [
  {
   "cell_type": "code",
   "execution_count": null,
   "metadata": {},
   "outputs": [],
   "source": [
    "with open (“./passwords.json”, “r”)\n",
    "as f:\n",
    "sensitive_data = json.load(f)"
   ]
  },
  {
   "cell_type": "code",
   "execution_count": null,
   "metadata": {},
   "outputs": [],
   "source": [
    "from collections.abc import MutableMapping\n",
    "\n",
    "import numpy as np\n",
    "import pandas as pd\n",
    "from elasticsearch import helpers\n",
    "from elasticsearch.helpers import scan\n",
    "\n",
    "\n",
    "def flatten(nested_dict, parent_key=\"\"):\n",
    "    items = []\n",
    "    for k, v in nested_dict.items():\n",
    "        if isinstance(v, MutableMapping):\n",
    "            items.extend(flatten(v, k).items())\n",
    "        else:\n",
    "            items.append((k, v))\n",
    "    return dict(items)\n",
    "\n",
    "\n",
    "query = {\n",
    "    \"sort\": [{\"timestamp\": \"desc\"}],\n",
    "    \"query\": {\"match_phrase\": {\"event\": \"Search result selected\"}},\n",
    "}\n",
    "\n",
    "\n",
    "# note: scan works fast because it grabs data unsorted.\n",
    "# grabs 100,000 without scan. seems to have trouble past 500,000\n",
    "response = helpers.scan(\n",
    "    es,\n",
    "    query=query,\n",
    "    preserve_order=True,\n",
    "    index=\"search_relevance_implicit\",\n",
    ")\n",
    "n_events_to_fetch = 250000\n",
    "\n",
    "\n",
    "df = pd.DataFrame(\n",
    "    [flatten(next(response)[\"_source\"]) for _ in range(n_events_to_fetch)]\n",
    ")"
   ]
  },
  {
   "cell_type": "code",
   "execution_count": null,
   "metadata": {},
   "outputs": [],
   "source": [
    "# note: Python client automatically indexes from latest to earliest.\n",
    "\n",
    "# \"timestamp\": datetime(2010, 10, 10, 10, 10, 10)\n",
    "\n",
    "# To check start date:\n",
    "\n",
    "sorted = df.sort_values(by=[\"timestamp\"], ascending=True)\n",
    "sorted.head()"
   ]
  },
  {
   "cell_type": "code",
   "execution_count": null,
   "metadata": {},
   "outputs": [],
   "source": [
    "# remove staff usage, limit time frame to 1/7/20 - 30/9/20\n",
    "df2 = df.loc[\n",
    "    (df[\"network\"] != \"StaffCorporateDevices\")\n",
    "    & (df[\"timestamp\"] >= \"2020-07-01\")\n",
    "    & (df[\"timestamp\"] < \"2020-10-01\")\n",
    "]\n",
    "\n",
    "# grab only the columns needed\n",
    "df2 = df2[[\"id\", \"resultWorkType\", \"anonymousId\", \"timestamp\"]]\n",
    "\n",
    "# sort the dataframe\n",
    "df2.sort_values(by=[\"anonymousId\", \"id\"], inplace=True)\n",
    "df2.head(5)"
   ]
  },
  {
   "cell_type": "code",
   "execution_count": null,
   "metadata": {},
   "outputs": [],
   "source": [
    "# dedupe\n",
    "\n",
    "df2.sort_values(by=[\"id\", \"anonymousId\"])\n",
    "df3 = df2.drop_duplicates(subset=[\"anonymousId\", \"id\"], keep=\"first\")"
   ]
  },
  {
   "cell_type": "code",
   "execution_count": null,
   "metadata": {},
   "outputs": [],
   "source": [
    "# How many workIds?\n",
    "summary = df3.groupby(\"id\").count()[[\"anonymousId\"]]\n",
    "print(summary)"
   ]
  },
  {
   "cell_type": "code",
   "execution_count": null,
   "metadata": {},
   "outputs": [],
   "source": [
    "# How many workIds?\n",
    "summary[\"anonymousId\"].count()"
   ]
  },
  {
   "cell_type": "code",
   "execution_count": null,
   "metadata": {},
   "outputs": [],
   "source": [
    "# create index for dataframe\n",
    "sorted = summary.sort_values(by=[\"anonymousId\"], ascending=False)\n",
    "sorted.head()"
   ]
  },
  {
   "cell_type": "code",
   "execution_count": null,
   "metadata": {},
   "outputs": [],
   "source": [
    "# output data to csv to check\n",
    "\n",
    "summary.to_csv(\"selects_by_workId.csv\")"
   ]
  },
  {
   "cell_type": "code",
   "execution_count": null,
   "metadata": {},
   "outputs": [],
   "source": []
  }
 ],
 "metadata": {
  "kernelspec": {
   "display_name": "Python 3 (ipykernel)",
   "language": "python",
   "name": "python3"
  },
  "language_info": {
   "codemirror_mode": {
    "name": "ipython",
    "version": 3
   },
   "file_extension": ".py",
   "mimetype": "text/x-python",
   "name": "python",
   "nbconvert_exporter": "python",
   "pygments_lexer": "ipython3",
   "version": "3.9.5"
  }
 },
 "nbformat": 4,
 "nbformat_minor": 4
}

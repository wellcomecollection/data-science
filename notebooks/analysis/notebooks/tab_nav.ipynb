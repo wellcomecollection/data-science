{
 "cells": [
  {
   "cell_type": "code",
   "execution_count": null,
   "id": "76d9dd45-f142-46ee-8107-315afc18bdb9",
   "metadata": {},
   "outputs": [],
   "source": [
    "import os\n",
    "\n",
    "from weco_datascience.reporting import get_recent_data"
   ]
  },
  {
   "cell_type": "code",
   "execution_count": null,
   "id": "0812ed2d-5084-4fa6-a5cd-9919987ed198",
   "metadata": {},
   "outputs": [],
   "source": [
    "df = get_recent_data(config=os.environ, n=100000, index=\"metrics-conversion-prod\")\n"
   ]
  },
  {
   "cell_type": "code",
   "execution_count": null,
   "id": "3a5d7be9-92ae-4434-8e52-8546bccf8a43",
   "metadata": {},
   "outputs": [],
   "source": [
    "print(len(df))"
   ]
  },
  {
   "cell_type": "markdown",
   "id": "d4b14b96-0b0f-49c8-a5f0-f6f2dac551bc",
   "metadata": {},
   "source": [
    "What is the date range?"
   ]
  },
  {
   "cell_type": "code",
   "execution_count": null,
   "id": "85b78921-c331-46c5-9bdb-11611f0db72e",
   "metadata": {},
   "outputs": [],
   "source": [
    "df.head(1)"
   ]
  },
  {
   "cell_type": "code",
   "execution_count": null,
   "id": "d0a3cff1-27be-494a-bb54-ea853fb90dab",
   "metadata": {},
   "outputs": [],
   "source": [
    "df.tail(1)"
   ]
  },
  {
   "cell_type": "markdown",
   "id": "c6c7f380-4c3d-4b44-a1b6-5951e5946e88",
   "metadata": {},
   "source": [
    "Sort df by anonymousId and reindex"
   ]
  },
  {
   "cell_type": "code",
   "execution_count": null,
   "id": "df36a8e4-2a6a-4035-bed5-dde44e88a08a",
   "metadata": {},
   "outputs": [],
   "source": [
    "sorted_df=df.sort_values([\"anonymousId\", \"@timestamp\"])\n",
    "sorted_df2=sorted_df.reset_index(drop=True)"
   ]
  },
  {
   "cell_type": "code",
   "execution_count": null,
   "id": "e10f3d99-d27e-405e-976b-966e810a3f48",
   "metadata": {},
   "outputs": [],
   "source": [
    "sorted_df2.head(10)"
   ]
  },
  {
   "cell_type": "markdown",
   "id": "10b3f961-aa71-4fce-b76a-1faa5e0ce9b6",
   "metadata": {},
   "source": [
    "1.Calculate the number of journeys from search to works pageviews"
   ]
  },
  {
   "cell_type": "code",
   "execution_count": null,
   "id": "baaef50f-876f-4c7c-ac52-8a2af6fd9e70",
   "metadata": {},
   "outputs": [],
   "source": [
    "anonId_prev=str(\"\")\n",
    "search_prev=str(\"\")\n",
    "search2works=0\n",
    "\n",
    "for i in range(len(sorted_df2)):\n",
    "    if ((sorted_df2.loc[i, \"anonymousId\"]!=anonId_prev) and (\n",
    "        sorted_df2.loc[i, \"page.name\"]==\"works\") or (\n",
    "        sorted_df2.loc[i, \"page.name\"]==\"images\") and (\n",
    "        sorted_df2.loc[i, \"page.query.query\"]!=\"\")):\n",
    "            search_prev=\"yes\" \n",
    "            anonId_prev=sorted_df2.loc[i, \"anonymousId\"]\n",
    "    \n",
    "    elif ((sorted_df2.loc[i, \"anonymousId\"]==anonId_prev) and (\n",
    "        (sorted_df2.loc[i, \"page.name\"]==\"work\") or (\n",
    "        (sorted_df2.loc[i, \"page.name\"]==\"works\"))) and (\n",
    "        sorted_df2.loc[i,\"page.query.id\"]!=\"\") and (\n",
    "        search_prev==\"yes\")):\n",
    "            search2works+=1\n",
    "            search_prev=\"\"\n",
    "            anonId_prev=\"\"\n",
    "    else:\n",
    "        search_prev=\"\"\n",
    "        anonId_prev=\"\"\n",
    "        \n",
    "print(\"Total number of journeys from search to works pageviews: \", (search2works))\n",
    "print(\"Total number of events: \", len(sorted_df2))\n",
    "print(\"Percentage of journeys from search to works pageviews of total events: \", \"{:.0%}\".format(\n",
    "    (search2works)/len(sorted_df2)))\n"
   ]
  },
  {
   "cell_type": "markdown",
   "id": "eb4cc364-05a6-4761-82f2-38379d7fadc0",
   "metadata": {},
   "source": [
    "2.Calculate the number of journeys from works pageviews to search "
   ]
  },
  {
   "cell_type": "code",
   "execution_count": null,
   "id": "9cd2e786-f4f5-4265-b934-a227d194c05b",
   "metadata": {},
   "outputs": [],
   "source": [
    "anonId_prev=str(\"\")\n",
    "works_prev=str(\"\")\n",
    "works2search=0\n",
    "\n",
    "\n",
    "for i in range(len(sorted_df2)): \n",
    "    if ((sorted_df2.loc[i, \"anonymousId\"]!=anonId_prev) and (\n",
    "        (sorted_df2.loc[i, \"page.name\"]==\"work\") or (\n",
    "        sorted_df2.loc[i, \"page.name\"]==\"works\")) and (\n",
    "        sorted_df2.loc[i,\"page.query.id\"]!=\"\")):\n",
    "            works_prev=\"yes\"\n",
    "            anonId_prev=sorted_df2.loc[i, \"anonymousId\"] \n",
    "    \n",
    "    elif ((sorted_df2.loc[i, \"anonymousId\"]==anonId_prev) and (\n",
    "        sorted_df2.loc[i, \"page.name\"]==\"works\") or (\n",
    "        sorted_df2.loc[i, \"page.name\"]==\"images\") and (\n",
    "        sorted_df2.loc[i, \"page.query.query\"]!=\"\") and (\n",
    "        works_prev==\"yes\")):\n",
    "            works2search+=1\n",
    "            works_prev=\"\"\n",
    "            anonId_prev=\"\"\n",
    "\n",
    "    else:\n",
    "        search_prev=\"\"\n",
    "        anonId_prev=\"\"\n",
    "        \n",
    "print(\"Total number of journeys from works pageviews to search: \", (works2search))\n",
    "print(\"Total number of events: \", len(sorted_df2))\n",
    "print(\"Percentage of works pageviews to search of total events: \", \"{:.0%}\".format(\n",
    "    (works2search)/len(sorted_df2)))\n",
    "print(\"\\n\")\n",
    "print(\"Total number of journeys between works pageviews and search: \", (works2search + search2works))\n",
    "print(\"Percentage of total journeys between works pagesviews and search out of total events: \", \"{:.0%}\".format(\n",
    "    (works2search+search2works)/len(sorted_df2)))\n"
   ]
  },
  {
   "cell_type": "markdown",
   "id": "c117cc0a-ca89-4fae-890d-5563c302fac2",
   "metadata": {},
   "source": [
    "3.Calculate the number of journeys from works pageviews to item page views "
   ]
  },
  {
   "cell_type": "code",
   "execution_count": null,
   "id": "0c0daaf5-53b1-48df-9c90-ff90ff4038e8",
   "metadata": {},
   "outputs": [],
   "source": [
    "anonId_prev=str(\"\")\n",
    "works_prev=str(\"\")\n",
    "works2item=0\n",
    "\n",
    "\n",
    "for i in range(len(sorted_df2)): \n",
    "    if ((sorted_df2.loc[i, \"anonymousId\"]!=anonId_prev) and (\n",
    "        (sorted_df2.loc[i, \"page.name\"]==\"work\") or (\n",
    "        sorted_df2.loc[i, \"page.name\"]==\"works\")) and (\n",
    "        sorted_df2.loc[i,\"page.query.id\"]!=\"\")):\n",
    "            works_prev=\"yes\"\n",
    "            anonId_prev=sorted_df2.loc[i, \"anonymousId\"] \n",
    "    \n",
    "    elif (((sorted_df2.loc[i, \"anonymousId\"]==anonId_prev) and (\n",
    "        sorted_df2.loc[i, \"page.name\"]==\"work\") and (\n",
    "        sorted_df2.loc[i, \"page.pathname\"]==\"/item\") and (\n",
    "        sorted_df2.loc[i, \"source\"]!=\"viewer/paginator\")) or (\n",
    "        (sorted_df2.loc[i, \"page.name\"]==\"images\") and (\n",
    "        sorted_df2.loc[i, \"page.pathname\"]==\"/image\") and (\n",
    "        works_prev==\"yes\"))):\n",
    "            works2item+=1\n",
    "            works_prev=\"\"\n",
    "            anonId_prev=\"\"\n",
    "      \n",
    "    else:\n",
    "        works_prev=\"\"\n",
    "        anonId_prev=\"\"\n",
    "        \n",
    "print(\"Total number of journeys from works pageviews to item pageviews: \", (works2item))\n",
    "print(\"Total number of events: \", len(sorted_df2))\n",
    "print(\"Percentage of journeys from works pageviews to item pageviews out of total events: \", \"{:.0%}\".format(\n",
    "    (works2item)/len(sorted_df2)))\n"
   ]
  },
  {
   "cell_type": "markdown",
   "id": "0a974ba2-77bc-4014-82a1-2e30f61bfca3",
   "metadata": {},
   "source": [
    "4.Calculate the number of journeys from item pageviews to works pageviews"
   ]
  },
  {
   "cell_type": "code",
   "execution_count": null,
   "id": "51daf11e-0ef5-4c78-97f1-e094230176d7",
   "metadata": {},
   "outputs": [],
   "source": [
    "anonId_prev=str(\"\")\n",
    "item_prev=str(\"\")\n",
    "item2works=0\n",
    "\n",
    "\n",
    "for i in range(len(sorted_df2)): \n",
    "    if ((sorted_df2.loc[i, \"anonymousId\"]!=anonId_prev) and ((\n",
    "        (sorted_df2.loc[i, \"page.name\"]==\"work\") and (\n",
    "        sorted_df2.loc[i, \"page.pathname\"]==\"/item\") and (\n",
    "        sorted_df2.loc[i, \"source\"]!=\"viewer/paginator\")) or (\n",
    "        (sorted_df2.loc[i, \"page.name\"]==\"images\") and (\n",
    "        sorted_df2.loc[i, \"page.pathname\"]==\"/image\")))):\n",
    "            item_prev=\"yes\"\n",
    "            anonId_prev=sorted_df2.loc[i, \"anonymousId\"] \n",
    "    \n",
    "    elif (((sorted_df2.loc[i, \"anonymousId\"]==anonId_prev) and (\n",
    "        (sorted_df2.loc[i, \"page.name\"]==\"work\") or (\n",
    "        sorted_df2.loc[i, \"page.name\"]==\"works\")) and (\n",
    "        sorted_df2.loc[i,\"page.query.id\"]!=\"\")) and (\n",
    "        item_prev==\"yes\")):\n",
    "            item2works+=1\n",
    "            item_prev=\"\"\n",
    "            anonId_prev=\"\"\n",
    "    \n",
    "    else:\n",
    "        item_prev=\"\"\n",
    "        anonId_prev=\"\"\n",
    "        \n",
    "print(\"Total number of journeys from item pageviews to works pageviews: \", (item2works))\n",
    "print(\"Total number of events: \", len(sorted_df2))\n",
    "print(\"Percentage of journeys from item pageviews to works pageviews out of total events: \", \"{:.0%}\".format(\n",
    "    (item2works)/len(sorted_df2)))\n",
    "print(\"\\nTotal number of journeys between item and works pageviews: \", (\n",
    "    works2item + item2works))\n",
    "print(\"Percentage of total journeys between works and item pageviews out of total events: \", \"{:.0%}\".format(\n",
    "    (works2item + item2works)/len(sorted_df2)))"
   ]
  },
  {
   "cell_type": "markdown",
   "id": "820a1e22-2526-4622-b846-0bc7169351a7",
   "metadata": {},
   "source": [
    "5.Calculate the percentage of item pageviews by pagination out of the total number of events. Note that this code has been written to exclude those item pageviews from previous sessions which are still open in browser tabs causing them to fire on startup.\n",
    "\n",
    "Note: images don't offer more than 1 page to view, so this analysis is for catalogue items only."
   ]
  },
  {
   "cell_type": "code",
   "execution_count": null,
   "id": "4daac35a-654a-4aaf-819a-bfcd87be3f4a",
   "metadata": {},
   "outputs": [],
   "source": [
    "anonId_prev=str(36)\n",
    "itemPageview2pagination=0\n",
    "itemPageview_prev=0\n",
    "\n",
    "\n",
    "for i in range(len(sorted_df2)): \n",
    "    if ((sorted_df2.loc[i, \"anonymousId\"]!=anonId_prev) and ((\n",
    "        (sorted_df2.loc[i, \"page.name\"]==\"work\") and (\n",
    "        sorted_df2.loc[i, \"page.pathname\"]==\"/item\") and (\n",
    "        sorted_df2.loc[i, \"source\"]!=\"viewer/paginator\")) or (\n",
    "        (sorted_df2.loc[i, \"page.name\"]==\"images\") and (\n",
    "        sorted_df2.loc[i, \"page.pathname\"]==\"/image\")))):\n",
    "            item_prev=\"yes\"\n",
    "            anonId_prev=sorted_df2.loc[i, \"anonymousId\"] \n",
    "            \n",
    "    elif ((sorted_df2.loc[i, \"anonymousId\"]==anonId_prev) and (\n",
    "        sorted_df2.loc[i, \"page.name\"]==\"work\") and (\n",
    "        sorted_df2.loc[i, \"page.pathname\"]==\"/item\") and (\n",
    "        sorted_df2.loc[i, \"source\"]==\"viewer/paginator\") and (\n",
    "        item_prev==\"yes\")):\n",
    "            itemPageview2pagination+=1\n",
    "    \n",
    "    else:\n",
    "        item_prev=\"\"\n",
    "        anonId_prev=\"\"\n",
    "             \n",
    "\n",
    "print(\"Total number of non-image item pageviews by pagination: \", itemPageview2pagination)\n",
    "print(\"Total number of events: \", len(sorted_df2))\n",
    "print(\"Percentage of non-image item pageviews by pagination out of total events: \", \"{:.0%}\".format(\n",
    "    itemPageview2pagination/len(sorted_df2)))\n"
   ]
  }
 ],
 "metadata": {
  "kernelspec": {
   "display_name": "Python 3 (ipykernel)",
   "language": "python",
   "name": "python3"
  },
  "language_info": {
   "codemirror_mode": {
    "name": "ipython",
    "version": 3
   },
   "file_extension": ".py",
   "mimetype": "text/x-python",
   "name": "python",
   "nbconvert_exporter": "python",
   "pygments_lexer": "ipython3",
   "version": "3.8.8"
  }
 },
 "nbformat": 4,
 "nbformat_minor": 5
}

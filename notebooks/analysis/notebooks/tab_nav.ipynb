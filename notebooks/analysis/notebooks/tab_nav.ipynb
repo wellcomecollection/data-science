{
 "cells": [
  {
   "cell_type": "code",
   "execution_count": null,
   "id": "76d9dd45-f142-46ee-8107-315afc18bdb9",
   "metadata": {},
   "outputs": [],
   "source": [
    "import os\n",
    "\n",
    "from weco_datascience.reporting import get_recent_data"
   ]
  },
  {
   "cell_type": "code",
   "execution_count": null,
   "id": "0812ed2d-5084-4fa6-a5cd-9919987ed198",
   "metadata": {},
   "outputs": [],
   "source": [
    "df = get_recent_data(config=os.environ, n=100000, index=\"metrics-conversion-prod\")\n"
   ]
  },
  {
   "cell_type": "markdown",
   "id": "95e42805-2a15-411b-ad11-45d973520bb6",
   "metadata": {},
   "source": [
    "After I wrote this code, I decided to filter the imported data to exclude changes to item views deployed during week of 7/11/22. I can't get this code that I borrowed from completeness.ipynb to work though. The code works fine if I run the 2 cells above and omit the cell below."
   ]
  },
  {
   "cell_type": "code",
   "execution_count": null,
   "id": "7535532f-ba44-4322-95a2-d9256ece8d64",
   "metadata": {},
   "outputs": [],
   "source": [
    "import os\n",
    "\n",
    "from weco_datascience import reporting\n",
    "\n",
    "df = reporting.query_es(\n",
    "    config=os.environ,\n",
    "    index=\"metrics-conversion-prod\",\n",
    "    query={\n",
    "        \"size\": 100000,\n",
    "        \"sort\": [{\"@timestamp\": {\"order\": \"desc\"}}],\n",
    "        \"query\": {\n",
    "            \"bool\": {\n",
    "                \"must\": [\n",
    "                    {\"range\": {\"@timestamp\": {\"lte\": \"2022-11-07T00:00:00.000Z\"}}},\n",
    "                    {\n",
    "                        \"term\": {\n",
    "                            \"page.name\": {\n",
    "                                \"value\": \"work\",\n",
    "                            }\n",
    "                        }\n",
    "                    }\n",
    "                ],\n",
    "            }\n",
    "        },\n",
    "    },\n",
    ")\n"
   ]
  },
  {
   "cell_type": "code",
   "execution_count": null,
   "id": "3a5d7be9-92ae-4434-8e52-8546bccf8a43",
   "metadata": {},
   "outputs": [],
   "source": [
    "print(len(df))"
   ]
  },
  {
   "cell_type": "markdown",
   "id": "d4b14b96-0b0f-49c8-a5f0-f6f2dac551bc",
   "metadata": {},
   "source": [
    "What is the date range?"
   ]
  },
  {
   "cell_type": "code",
   "execution_count": null,
   "id": "85b78921-c331-46c5-9bdb-11611f0db72e",
   "metadata": {},
   "outputs": [],
   "source": [
    "df.head(1)"
   ]
  },
  {
   "cell_type": "code",
   "execution_count": null,
   "id": "d0a3cff1-27be-494a-bb54-ea853fb90dab",
   "metadata": {},
   "outputs": [],
   "source": [
    "df.tail(1)"
   ]
  },
  {
   "cell_type": "markdown",
   "id": "c6c7f380-4c3d-4b44-a1b6-5951e5946e88",
   "metadata": {},
   "source": [
    "Sort df by anonymousId and reindex"
   ]
  },
  {
   "cell_type": "code",
   "execution_count": null,
   "id": "df36a8e4-2a6a-4035-bed5-dde44e88a08a",
   "metadata": {},
   "outputs": [],
   "source": [
    "sorted_df=df.sort_values([\"anonymousId\", \"@timestamp\"])\n",
    "sorted_df2=sorted_df.reset_index(drop=True)"
   ]
  },
  {
   "cell_type": "code",
   "execution_count": null,
   "id": "e10f3d99-d27e-405e-976b-966e810a3f48",
   "metadata": {},
   "outputs": [],
   "source": [
    "sorted_df2.head()"
   ]
  },
  {
   "cell_type": "markdown",
   "id": "10b3f961-aa71-4fce-b76a-1faa5e0ce9b6",
   "metadata": {},
   "source": [
    "1.Calculate the number of times a user clicks on the Library catalogue tab directly followed by a click on the Images tab."
   ]
  },
  {
   "cell_type": "code",
   "execution_count": null,
   "id": "6dbcf00b-8235-4f53-98e3-69ac57c39405",
   "metadata": {},
   "outputs": [],
   "source": [
    "anonId_prev=str(36)\n",
    "worksSearch2imagesSearch=0\n",
    "\n",
    "for i in range(len(sorted_df2)):\n",
    "    if ((sorted_df2.loc[i, \"anonymousId\"])!=anonId_prev) and ((sorted_df2.loc[i, \"page.path\"])==\"/works\"):\n",
    "        anonId_prev=sorted_df2.loc[i, \"anonymousId\"]\n",
    "\n",
    "    elif (sorted_df2.loc[i, \"anonymousId\"]==anonId_prev) and ((sorted_df2.loc[i, \"page.path\"])=='/images'):\n",
    "        worksSearch2imagesSearch+=1\n",
    "        anonId_prev==\"\"\n"
   ]
  },
  {
   "cell_type": "markdown",
   "id": "59336823-c7bc-4a3f-bab9-4076a51dcd27",
   "metadata": {},
   "source": [
    "1b.Calculate the number of times a user clicks on the Library catalgoe tab directly followed by when a \n",
    "user clicks on the Images tab and the total number of times a user clicks on either the Images of Library catalogue tabs."
   ]
  },
  {
   "cell_type": "code",
   "execution_count": null,
   "id": "f9104b1d-e1d0-46c9-8544-bd543cda15c1",
   "metadata": {},
   "outputs": [],
   "source": [
    "anonId_prev=str(36)\n",
    "imagesSearch2worksSearch=0\n",
    "\n",
    "for i in range(len(sorted_df2)):\n",
    "    if ((sorted_df2.loc[i, \"anonymousId\"])!=anonId_prev) and ((sorted_df2.loc[i, \"page.path\"])==\"/images\"):\n",
    "        anonId_prev=sorted_df2.loc[i, \"anonymousId\"]\n",
    "\n",
    "    elif (sorted_df2.loc[i, \"anonymousId\"]==anonId_prev) and ((sorted_df2.loc[i, \"page.path\"])=='/works'):\n",
    "        imagesSearch2worksSearch+=1\n",
    "        anonId_prev==\"\"\n",
    "\n",
    "tab_clicks=df.loc[(df[\"page.path\"].isin([\"/works\",\"/images\"]))]   \n",
    "\n",
    "\n",
    "print(\"Total number of journeys between Library catalogue and Image tabs: \", worksSearch2imagesSearch+imagesSearch2worksSearch)\n",
    "print(\"Total number of Library catalogue and Image tab clicks: \", (len(tab_clicks)) )\n",
    "print(\"Percentage of journeys between Library catalogue and Image tabs by the total number of tab clicks: \", \"{:.0%}\".format(\n",
    "(worksSearch2imagesSearch+imagesSearch2worksSearch)/len(tab_clicks)))\n"
   ]
  },
  {
   "cell_type": "markdown",
   "id": "7e968919-1c86-4d2e-bedc-74b787259c74",
   "metadata": {},
   "source": [
    "2.Calculate the percentage of works page views directly followed by \n",
    "item page views out of the total number of works page views"
   ]
  },
  {
   "cell_type": "code",
   "execution_count": null,
   "id": "f1c74c8b-45dc-4e74-b579-bf3858055dde",
   "metadata": {},
   "outputs": [],
   "source": [
    "anonId_prev=str(36)\n",
    "worksPageview2itemPageview=0\n",
    "\n",
    "for i in range(len(sorted_df2)):\n",
    "    if ((sorted_df2.loc[i, \"anonymousId\"]!=anonId_prev) and (\n",
    "        sorted_df2.loc[i, \"page.name\"]==\"work\" or sorted_df2.loc[i, \"page.name\"]==\"images\") and (\n",
    "        sorted_df2.loc[i,\"page.query.id\"]!=\"\")):\n",
    "        anonId_prev=sorted_df2.loc[i, \"anonymousId\"]\n",
    "\n",
    "    elif ((sorted_df2.loc[i, \"anonymousId\"]==anonId_prev) and (\n",
    "        sorted_df2.loc[i, \"page.name\"]==\"images\" or sorted_df2.loc[i, \"page.name\"]==\"item\") and (\n",
    "        sorted_df2.loc[i,\"page.pathname\"]==\"/item\") and (\n",
    "        sorted_df2.loc[i, \"source\"]!=\"viewer/paginator\")):\n",
    "        worksPageview2itemPageview+=1\n",
    "        anonId_prev==\"\"\n",
    "\n",
    "worksPageview = int()        \n",
    "worksPageview = sorted_df2.loc[\n",
    "    (sorted_df2[\"page.name\"].isin([\"images\", \"work\"]))\n",
    "    & (sorted_df2[\"page.query.id\"].notnull())\n",
    "]     \n",
    "\n",
    "print(\"Total number of works pageviews directly followed by item pageview: \", worksPageview2itemPageview)\n",
    "print(\"Total number of works pageviews: \", (len(worksPageview)) )\n",
    "print(\"Percentage of works pageviews directly followed by images search view of total works search views: \", \"{:.0%}\".format(\n",
    "    worksPageview2itemPageview/len(worksPageview)))\n"
   ]
  },
  {
   "cell_type": "markdown",
   "id": "820a1e22-2526-4622-b846-0bc7169351a7",
   "metadata": {},
   "source": [
    "3.Calculate the percentage of item pageviews directly followed by pagination usage out of the total number of item pageviews.\n",
    "\n",
    "Note: images don't offer more than 1 page to view, so this analysis isfor catalogue items only."
   ]
  },
  {
   "cell_type": "code",
   "execution_count": null,
   "id": "4daac35a-654a-4aaf-819a-bfcd87be3f4a",
   "metadata": {},
   "outputs": [],
   "source": [
    "anonId_prev=str(36)\n",
    "itemPageview2pagination=0\n",
    "\n",
    "\n",
    "for i in range(len(sorted_df2)):\n",
    "    if ((sorted_df2.loc[i, \"anonymousId\"]!=anonId_prev) and (\n",
    "        sorted_df2.loc[i, \"page.name\"]==\"item\") and (\n",
    "        sorted_df2.loc[i,\"page.pathname\"]==\"/item\") and (\n",
    "        sorted_df2.loc[i, \"source\"]!=\"viewer/paginator\")):\n",
    "        anonId_prev=sorted_df2.loc[i, \"anonymousId\"]\n",
    "\n",
    "    elif ((sorted_df2.loc[i, \"anonymousId\"]==anonId_prev) and (\n",
    "        sorted_df2.loc[i, \"page.name\"]==\"item\") and (\n",
    "        sorted_df2.loc[i,\"page.pathname\"]==\"/item\") and (\n",
    "        sorted_df2.loc[i, \"source\"]==\"viewer/paginator\")):\n",
    "        itemPageview2pagination+=1\n",
    "        anonId_prev==\"\"\n",
    "\n",
    "itemPageview = sorted_df2.loc[(sorted_df2[\"page.name\"]==\"item\") & (\n",
    "        sorted_df2[\"page.pathname\"]==\"/item\")]\n",
    "\n",
    "print(\"Total number of non-image item pageviews directly followed by item pageview by pagination: \", itemPageview2pagination)\n",
    "print(\"Total number of non-image item pageviews: \", (len(itemPageview)) )\n",
    "print(\"Percentage of non-image item pageviews directly followed by item pageview by pagination: \", \"{:.0%}\".format(\n",
    "    itemPageview2pagination/len(itemPageview)))\n"
   ]
  },
  {
   "cell_type": "markdown",
   "id": "f9a90fc8-f166-4894-a3b0-f18a0dbd414a",
   "metadata": {},
   "source": [
    "4.Calculate the percentage of searches followed by item page views followed by new search of total searches"
   ]
  },
  {
   "cell_type": "code",
   "execution_count": null,
   "id": "2f2292ff-4205-45d0-bdea-b5c01e4554ac",
   "metadata": {},
   "outputs": [],
   "source": [
    "anonId_prev=str(36)\n",
    "search2item=str(3)\n",
    "search2item2search=0\n",
    "\n",
    "\n",
    "for i in range(len(sorted_df2)):\n",
    "    if ((sorted_df2.loc[i, \"anonymousId\"]!=anonId_prev) and (\n",
    "        sorted_df2.loc[i, \"page.name\"]==\"works\" or sorted_df2.loc[i, \"page.name\"]==\"images\") and (\n",
    "        sorted_df2.loc[i,\"page.query.query\"]!=\"\")):\n",
    "        anonId_prev=sorted_df2.loc[i, \"anonymousId\"]\n",
    "\n",
    "\n",
    "    elif ((sorted_df2.loc[i, \"anonymousId\"]==anonId_prev) and (\n",
    "        sorted_df2.loc[i, \"page.name\"]==\"images\" or sorted_df2.loc[i, \"page.name\"]==\"item\") and (\n",
    "        sorted_df2.loc[i,\"page.pathname\"]==\"/item\")):\n",
    "        search2item=\"yes\"\n",
    "\n",
    "        \n",
    "    elif ((sorted_df2.loc[i, \"anonymousId\"]==anonId_prev) and (\n",
    "        sorted_df2.loc[i, \"page.name\"]==\"works\" or sorted_df2.loc[i, \"page.name\"]==\"images\") and (\n",
    "        sorted_df2.loc[i,\"page.query.query\"]!=\"\") and (\n",
    "        search2item==\"yes\")):\n",
    "        search2item2search+=1\n",
    "        search2item==\"no\"\n",
    "        anonId_prev==\"\"\n",
    "       \n",
    "                    \n",
    "searches = sorted_df2.loc[\n",
    "    (sorted_df2[\"page.name\"].isin([\"images\", \"work\"]))\n",
    "    & (sorted_df2[\"page.query.id\"].notnull())\n",
    "]     \n",
    "\n",
    "print(\"Total number of searches directly followed by item pageview and then a new search: \", search2item2search)\n",
    "print(\"Total number of searches: \", (len(searches)) )\n",
    "print(\"Percentage of searches directly followed by item pageview and then a new search of total searches: \", \"{:.0%}\".format(\n",
    "    search2item2search/len(searches)))"
   ]
  },
  {
   "cell_type": "markdown",
   "id": "ab118709-3423-4888-a185-376c9121cbf0",
   "metadata": {},
   "source": [
    "5.Calculate the percentage of works page views directly followed by a new search"
   ]
  },
  {
   "cell_type": "code",
   "execution_count": null,
   "id": "ee66b29b-4068-44e2-a1c5-82367f057dc3",
   "metadata": {},
   "outputs": [],
   "source": [
    "anonId_prev=str(36)\n",
    "worksPageview2newSearch=0\n",
    "\n",
    "for i in range(len(sorted_df2)):\n",
    "    if ((sorted_df2.loc[i, \"anonymousId\"]!=anonId_prev) and (\n",
    "        sorted_df2.loc[i, \"page.name\"]==\"work\" or sorted_df2.loc[i, \"page.name\"]==\"images\") and (\n",
    "        sorted_df2.loc[i,\"page.query.id\"]!=\"\")):\n",
    "        anonId_prev=sorted_df2.loc[i, \"anonymousId\"]\n",
    "\n",
    "    elif (((sorted_df2.loc[i, \"anonymousId\"])==anonId_prev) and ((sorted_df2.loc[i, \"page.name\"])==\"works\" or (\n",
    "        sorted_df2.loc[i, \"page.name\"])=='images') and (\n",
    "        (sorted_df2.loc[i, \"page.query.query\"])!=\"\")):\n",
    "        worksPageview2newSearch+=1\n",
    "        anonId_prev==\"\"\n",
    "\n",
    "\n",
    "print(\"Total number of works pageviews followed by new search: \", worksPageview2newSearch)\n",
    "print(\"Total number of works pageviews: \", len(worksPageview))\n",
    "print(\"Percentage of new searches of total searches: \", \"{:.0%}\".format(worksPageview2newSearch/len(worksPageview)))\n"
   ]
  }
 ],
 "metadata": {
  "kernelspec": {
   "display_name": "Python 3 (ipykernel)",
   "language": "python",
   "name": "python3"
  },
  "language_info": {
   "codemirror_mode": {
    "name": "ipython",
    "version": 3
   },
   "file_extension": ".py",
   "mimetype": "text/x-python",
   "name": "python",
   "nbconvert_exporter": "python",
   "pygments_lexer": "ipython3",
   "version": "3.8.8"
  }
 },
 "nbformat": 4,
 "nbformat_minor": 5
}

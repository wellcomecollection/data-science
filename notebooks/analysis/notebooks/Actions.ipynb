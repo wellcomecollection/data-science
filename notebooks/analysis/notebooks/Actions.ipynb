{
 "cells": [
  {
   "cell_type": "markdown",
   "id": "240e130f-4cae-4955-a8ed-a692f5ea9092",
   "metadata": {},
   "source": [
    "## Figuring out what users do when they are searching is made easier by identifying actions"
   ]
  },
  {
   "cell_type": "code",
   "execution_count": null,
   "id": "8b240d92-24a9-48a4-a750-f3f111dfa212",
   "metadata": {},
   "outputs": [],
   "source": [
    "import os\n",
    "import pandas as pd\n",
    "\n",
    "from weco_datascience.reporting import get_recent_data"
   ]
  },
  {
   "cell_type": "code",
   "execution_count": null,
   "id": "34681ded-d95e-4c35-b859-40f1be32e3fa",
   "metadata": {},
   "outputs": [],
   "source": [
    "df = get_recent_data(config=os.environ, n=10000, index=\"metrics-conversion-prod\")"
   ]
  },
  {
   "cell_type": "markdown",
   "id": "b48f9fb0-e3d8-4773-a5e8-37662e20be4e",
   "metadata": {},
   "source": [
    "## [Definitions of actions] (https://app.gitbook.com/o/-LumfFcEMKx4gYXKAZTQ/s/MM8zK9GZyFCpy8kvd5Km/analytics-and-reporting/kibana-definitions) are translated into code below ##"
   ]
  },
  {
   "cell_type": "code",
   "execution_count": null,
   "id": "604ac0df-ea66-4f17-91ac-c30a4a729396",
   "metadata": {},
   "outputs": [],
   "source": [
    "concepts = df.loc[(df[\"page.name\"]==\"concepts\")]\n",
    "concepts[\"action\"]=\"concepts\"\n",
    "search = df.loc[(df[\"page.name\"]==\"works\") & (df[\"page.query.query\"]!=\" \")]\n",
    "search[\"action\"]=\"search\"\n",
    "works =  df.loc[(df[\"page.name\"]==\"work\") & (df[\"page.query.workId\"]!=\" \")]\n",
    "works[\"action\"]=\"works\"\n",
    "item_view = df.loc[(df[\"page.name\"]==\"item\") & (\n",
    "    df[\"properties.event\"]!=\"download\") & (df[\"source\"]!=\"viewer/scroll\")]\n",
    "item_view[\"action\"]=\"item_vew\"\n",
    "image_view =  df.loc[(df[\"page.name\"]==\"image\") & (df[\"type\"]==\"pageview\")]\n",
    "image_view[\"action\"]=\"image_view\"\n",
    "image_modal = df.loc[(df[\"page.name\"]==\"images\") & (\n",
    "    df[\"properties.event\"]==\"Open image modal\") & (df[\"page.query.query\"]!=\" \")]\n",
    "image_modal[\"action\"]=\"image_modal\""
   ]
  },
  {
   "cell_type": "code",
   "execution_count": null,
   "id": "a7a55b02-550f-42fe-87fa-4800a90c6767",
   "metadata": {},
   "outputs": [],
   "source": [
    "selected=[concepts, search, works, item_view, image_view, image_modal]\n",
    "df2=pd.concat(selected)"
   ]
  },
  {
   "cell_type": "code",
   "execution_count": null,
   "id": "2000d44e-0222-43e3-af51-80da39d19ab0",
   "metadata": {},
   "outputs": [],
   "source": [
    "keepers=[\"@timestamp\", \"anonymousId\", \"page.query.query\", \"page.query.workId\", \"page.name\", \"properties.event\", \"action\"]"
   ]
  },
  {
   "cell_type": "code",
   "execution_count": null,
   "id": "fb9645ac-12a6-4b5a-b77f-8e6949d22df5",
   "metadata": {},
   "outputs": [],
   "source": [
    "df2[(keepers)]=df2"
   ]
  },
  {
   "cell_type": "code",
   "execution_count": null,
   "id": "610b47db-3c7c-4c0c-90f1-504128b2a4a6",
   "metadata": {},
   "outputs": [],
   "source": [
    "print(\"Number of actions:\", len(df2))"
   ]
  },
  {
   "cell_type": "code",
   "execution_count": null,
   "id": "fe3649d5-a9ae-4ae7-8e26-2f28a5a70c88",
   "metadata": {},
   "outputs": [],
   "source": [
    "print(\"Data has been taken from\", df.head(1)[\"@timestamp\"])"
   ]
  },
  {
   "cell_type": "code",
   "execution_count": null,
   "id": "4a2ac484-88a7-455d-995d-c8b9df635b29",
   "metadata": {},
   "outputs": [],
   "source": [
    "print(\"to\", df.tail(1)[\"@timestamp\"])"
   ]
  },
  {
   "cell_type": "code",
   "execution_count": null,
   "id": "4f045014-ed97-4c74-8e6d-e67893e34d66",
   "metadata": {},
   "outputs": [],
   "source": []
  }
 ],
 "metadata": {
  "kernelspec": {
   "display_name": "Python 3",
   "language": "python",
   "name": "python3"
  },
  "language_info": {
   "codemirror_mode": {
    "name": "ipython",
    "version": 3
   },
   "file_extension": ".py",
   "mimetype": "text/x-python",
   "name": "python",
   "nbconvert_exporter": "python",
   "pygments_lexer": "ipython3",
   "version": "3.8.8"
  }
 },
 "nbformat": 4,
 "nbformat_minor": 5
}

{
 "cells": [
  {
   "cell_type": "markdown",
   "id": "240e130f-4cae-4955-a8ed-a692f5ea9092",
   "metadata": {},
   "source": [
    "## This code compares the actions of concepts users with non-concepts users."
   ]
  },
  {
   "cell_type": "code",
   "execution_count": 17,
   "id": "8b240d92-24a9-48a4-a750-f3f111dfa212",
   "metadata": {},
   "outputs": [],
   "source": [
    "import os, squarify, pandas as pd, matplotlib.pyplot as plt\n",
    "\n",
    "from weco_datascience.reporting import get_recent_data"
   ]
  },
  {
   "cell_type": "code",
   "execution_count": 18,
   "id": "34681ded-d95e-4c35-b859-40f1be32e3fa",
   "metadata": {},
   "outputs": [
    {
     "name": "stderr",
     "output_type": "stream",
     "text": [
      "/opt/conda/lib/python3.8/site-packages/elasticsearch/helpers/actions.py:568: ElasticsearchWarning: The client is unable to verify that the server is Elasticsearch due security privileges on the server side\n",
      "  resp = client.search(\n"
     ]
    }
   ],
   "source": [
    "df = get_recent_data(config=os.environ, n=100000, index=\"metrics-conversion-prod\")"
   ]
  },
  {
   "cell_type": "markdown",
   "id": "b48f9fb0-e3d8-4773-a5e8-37662e20be4e",
   "metadata": {},
   "source": [
    "### [Definitions of actions] (https://app.gitbook.com/o/-LumfFcEMKx4gYXKAZTQ/s/MM8zK9GZyFCpy8kvd5Km/analytics-and-reporting/kibana-definitions) are translated into code below"
   ]
  },
  {
   "cell_type": "code",
   "execution_count": null,
   "id": "604ac0df-ea66-4f17-91ac-c30a4a729396",
   "metadata": {},
   "outputs": [],
   "source": [
    "concepts = df.loc[(df[\"page.name\"]==\"concept\")]\n",
    "concepts[\"action\"]=\"concepts\"\n",
    "search = df.loc[(df[\"page.name\"].isin(\n",
    "    [\"works\", \"search\", \"images\"])) & (\n",
    "    df[\"page.query.query\"].notnull()) & (df[\"properties.event\"].isnull())]\n",
    "search[\"action\"]=\"search\"\n",
    "works =  df.loc[(df[\"page.name\"]==\"work\") & (df[\"page.query.workId\"].notnull())]\n",
    "works[\"action\"]=\"works\"\n",
    "item_view = df.loc[(df[\"page.name\"]==\"item\") & (\n",
    "    df[\"properties.event\"]!=\"download\") & (df[\"source\"]!=\"viewer/scroll\")]\n",
    "item_view[\"action\"]=\"item_vew\"\n",
    "image_view =  df.loc[(df[\"page.name\"]==\"image\") & (df[\"type\"]==\"pageview\")]\n",
    "image_view[\"action\"]=\"image_view\"\n",
    "image_modal = df.loc[(df[\"page.name\"]==\"images\") & (\n",
    "    df[\"properties.event\"]==\"Open image modal\") & (df[\"page.query.query\"].notnull())]\n",
    "image_modal[\"action\"]=\"image_modal\"\n",
    "exhibition = df.loc[(df[\"page.name\"]==\"exhibition\")]\n",
    "exhibition[\"action\"]=\"exhibition\"\n",
    "story = df.loc[(df[\"page.name\"]==\"story\")]\n",
    "story[\"action\"]=\"story\""
   ]
  },
  {
   "cell_type": "code",
   "execution_count": 20,
   "id": "a7a55b02-550f-42fe-87fa-4800a90c6767",
   "metadata": {},
   "outputs": [],
   "source": [
    "selected=[concepts, search, works, item_view, image_view, image_modal, exhibition, story]\n",
    "df2=pd.concat(selected)"
   ]
  },
  {
   "cell_type": "code",
   "execution_count": 21,
   "id": "2000d44e-0222-43e3-af51-80da39d19ab0",
   "metadata": {},
   "outputs": [],
   "source": [
    "df3=df2[[\"@timestamp\", \"anonymousId\", \"page.query.query\", \"page.query.workId\", \"page.name\", \"properties.event\", \"action\"]]"
   ]
  },
  {
   "cell_type": "code",
   "execution_count": 22,
   "id": "fe3649d5-a9ae-4ae7-8e26-2f28a5a70c88",
   "metadata": {},
   "outputs": [
    {
     "name": "stdout",
     "output_type": "stream",
     "text": [
      "Data has been taken from 99999    2023-09-10T21:34:42.650Z\n",
      "Name: @timestamp, dtype: object\n"
     ]
    }
   ],
   "source": [
    "print(\"Data has been taken from\", df.tail(1)[\"@timestamp\"])"
   ]
  },
  {
   "cell_type": "code",
   "execution_count": 23,
   "id": "4a2ac484-88a7-455d-995d-c8b9df635b29",
   "metadata": {},
   "outputs": [
    {
     "name": "stdout",
     "output_type": "stream",
     "text": [
      "to 0    2023-09-12T13:39:01.089Z\n",
      "Name: @timestamp, dtype: object\n"
     ]
    }
   ],
   "source": [
    "print(\"to\", df.head(1)[\"@timestamp\"])"
   ]
  },
  {
   "cell_type": "markdown",
   "id": "ba0f98e9-3773-4f2d-9c23-906574ddcf03",
   "metadata": {},
   "source": [
    "### Capturing concepts user behaviour"
   ]
  },
  {
   "cell_type": "code",
   "execution_count": 24,
   "id": "04e48364-7919-497f-8408-c9faf77e724b",
   "metadata": {},
   "outputs": [],
   "source": [
    "concepts_users=concepts[\"anonymousId\"].drop_duplicates()\n",
    "concepts_ids=concepts_users.values.tolist()"
   ]
  },
  {
   "cell_type": "code",
   "execution_count": 25,
   "id": "bd4b1770-057d-42be-9963-bda83b935fe1",
   "metadata": {},
   "outputs": [],
   "source": [
    "concepts_behaviour=df3[df3[\"anonymousId\"].isin(concepts_ids)]\n",
    "concepts_behaviour2=concepts_behaviour[\"action\"]"
   ]
  },
  {
   "cell_type": "markdown",
   "id": "d4cfce73-4fd7-485f-bedf-752dfe69a338",
   "metadata": {},
   "source": [
    "### Summarising concepts user behaviour by action"
   ]
  },
  {
   "cell_type": "code",
   "execution_count": 26,
   "id": "f2968ffc-51c8-440d-b51a-42eae0d9c4ac",
   "metadata": {},
   "outputs": [],
   "source": [
    "x=((concepts_behaviour2.value_counts()).to_frame())\n",
    "y=x.rename(columns={\"action\":\"count\"})\n",
    "#y=x.to_frame()\n",
    "#y\n",
    "y[\"action\"]=y.index"
   ]
  },
  {
   "cell_type": "markdown",
   "id": "4dca93b0-4af5-4673-b699-6eafc04d59e2",
   "metadata": {},
   "source": [
    "### Capturing non-concepts user behaviour"
   ]
  },
  {
   "cell_type": "code",
   "execution_count": 27,
   "id": "1b199e77-7a22-43fd-a4ee-9c6464771e95",
   "metadata": {},
   "outputs": [],
   "source": [
    "non_concepts_behaviour=df3[df3[\"anonymousId\"].isin(concepts_ids)==False]\n",
    "non_concepts_behaviour2=non_concepts_behaviour[\"action\"]"
   ]
  },
  {
   "cell_type": "markdown",
   "id": "215f8fae-967f-4ec5-ab57-86e2762b429f",
   "metadata": {},
   "source": [
    "### Summarising non-concepts user behaviour by action"
   ]
  },
  {
   "cell_type": "code",
   "execution_count": 28,
   "id": "d25efe6c-786e-4f03-8143-1621dde24019",
   "metadata": {},
   "outputs": [],
   "source": [
    "a=(non_concepts_behaviour2.value_counts()).to_frame()\n",
    "b=a.rename(columns={\"action\":\"count\"})\n",
    "b[\"action\"]=b.index"
   ]
  },
  {
   "cell_type": "markdown",
   "id": "6d5a0f80-de56-46d8-9846-c79623474ba6",
   "metadata": {},
   "source": [
    "### Here's what user behaviour looks like: concepts users vs non-concepts users"
   ]
  },
  {
   "cell_type": "code",
   "execution_count": 29,
   "id": "50ddf091-84b5-4d40-a21c-1ef4e72e3dbe",
   "metadata": {},
   "outputs": [
    {
     "name": "stdout",
     "output_type": "stream",
     "text": [
      "Tree map of user actions for 5620 Concepts users\n"
     ]
    },
    {
     "data": {
      "image/png": "[encoded data removed]",
      "text/plain": [
       "<Figure size 432x288 with 1 Axes>"
      ]
     },
     "metadata": {
      "needs_background": "light"
     },
     "output_type": "display_data"
    }
   ],
   "source": [
    "print(\"Tree map of user actions for\",len(concepts_behaviour),\"Concepts users\")\n",
    "squarify.plot(sizes=y['count'], label=y['action'], alpha=.8 )\n",
    "plt.axis('off')\n",
    "plt.show()"
   ]
  },
  {
   "cell_type": "code",
   "execution_count": 30,
   "id": "84605dc3-dbe4-4de4-a308-b3032a47c1f5",
   "metadata": {},
   "outputs": [
    {
     "name": "stdout",
     "output_type": "stream",
     "text": [
      "Tree map of user actions for 46814 non-Concepts users\n"
     ]
    },
    {
     "data": {
      "image/png": "[encoded data removed]",
      "text/plain": [
       "<Figure size 432x288 with 1 Axes>"
      ]
     },
     "metadata": {
      "needs_background": "light"
     },
     "output_type": "display_data"
    }
   ],
   "source": [
    "print(\"Tree map of user actions for\",len(non_concepts_behaviour),\"non-Concepts users\")\n",
    "squarify.plot(sizes=b['count'], label=b['action'], alpha=.8)\n",
    "plt.axis('off')\n",
    "plt.show()"
   ]
  },
  {
   "cell_type": "markdown",
   "id": "92a9695e-7dde-4f79-9258-05cd6d480cf2",
   "metadata": {},
   "source": [
    "### What does the tree map look like if we take out the action concepts?"
   ]
  },
  {
   "cell_type": "code",
   "execution_count": 31,
   "id": "f8732e4d-7480-4fdc-a761-54d02ce64474",
   "metadata": {},
   "outputs": [],
   "source": [
    "d=((concepts_behaviour2.value_counts()).to_frame())\n",
    "e=d.rename(columns={\"action\":\"count\"})\n",
    "e[\"action\"]=e.index\n",
    "f=e.loc[(e[\"action\"]!=\"concepts\")]"
   ]
  },
  {
   "cell_type": "code",
   "execution_count": 32,
   "id": "ead3c2de-d8d9-4a44-9c1b-0dae99c343f0",
   "metadata": {},
   "outputs": [
    {
     "name": "stdout",
     "output_type": "stream",
     "text": [
      "Tree map of user actions for 5620 Concepts users\n"
     ]
    },
    {
     "data": {
      "image/png": "[encoded data removed]",
      "text/plain": [
       "<Figure size 432x288 with 1 Axes>"
      ]
     },
     "metadata": {
      "needs_background": "light"
     },
     "output_type": "display_data"
    }
   ],
   "source": [
    "print(\"Tree map of user actions for\",len(concepts_behaviour),\"Concepts users\")\n",
    "squarify.plot(sizes=f['count'], label=f['action'], alpha=.8 )\n",
    "plt.axis('off')\n",
    "plt.show()\n"
   ]
  },
  {
   "cell_type": "code",
   "execution_count": null,
   "id": "4069e56e-9883-402b-8e8d-9aab1e6b02ea",
   "metadata": {},
   "outputs": [],
   "source": []
  }
 ],
 "metadata": {
  "kernelspec": {
   "display_name": "Python 3",
   "language": "python",
   "name": "python3"
  },
  "language_info": {
   "codemirror_mode": {
    "name": "ipython",
    "version": 3
   },
   "file_extension": ".py",
   "mimetype": "text/x-python",
   "name": "python",
   "nbconvert_exporter": "python",
   "pygments_lexer": "ipython3",
   "version": "3.8.8"
  }
 },
 "nbformat": 4,
 "nbformat_minor": 5
}

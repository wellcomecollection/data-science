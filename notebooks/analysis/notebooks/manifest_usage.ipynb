{
 "cells": [
  {
   "cell_type": "code",
   "execution_count": null,
   "metadata": {},
   "outputs": [],
   "source": [
    "# 6385 manifest usage analysis\n",
    "# data: 1/4/21 - 30/4/21, page.query.manifest:*"
   ]
  },
  {
   "cell_type": "code",
   "execution_count": null,
   "metadata": {},
   "outputs": [],
   "source": [
    "import json\n",
    "\n",
    "with open(\"passwords.json\", \"r\") as f:\n",
    "    sensitive_data = json.load(f)"
   ]
  },
  {
   "cell_type": "code",
   "execution_count": null,
   "metadata": {},
   "outputs": [],
   "source": [
    "import weco_datascience\n",
    "from weco_datascience.reporting import get_recent_data\n",
    "\n",
    "df = get_recent_data(config=sensitive_data, n=500000, index=\"conversion*\")\n",
    "# df.dtypes\n",
    "# df.head()"
   ]
  },
  {
   "cell_type": "code",
   "execution_count": null,
   "metadata": {},
   "outputs": [],
   "source": [
    "# grab only the fields needed\n",
    "\n",
    "keepers = [\n",
    "    \"@timestamp\",\n",
    "    \"anonymousId\",\n",
    "    \"page.name\",\n",
    "    \"page.query.workId\",\n",
    "    \"page.query.canvas\",\n",
    "    \"page.query.manifest\",\n",
    "]\n",
    "df = df[keepers]\n",
    "df.head()"
   ]
  },
  {
   "cell_type": "code",
   "execution_count": null,
   "metadata": {},
   "outputs": [],
   "source": [
    "# what time period does this start from?\n",
    "df = df.sort_values(\"@timestamp\")\n",
    "df.head()"
   ]
  },
  {
   "cell_type": "code",
   "execution_count": null,
   "metadata": {},
   "outputs": [],
   "source": [
    "# How many users view non-images\n",
    "\n",
    "users = df.loc[(df[\"page.name\"] == \"item\")]\n",
    "users2 = users.sort_values(\"anonymousId\")\n",
    "users2.nunique()\n",
    "# users3=users2.drop_duplicates(subset=['anonymousId'], keep=False)\n",
    "\n",
    "# users3['anonymousId'].count()\n",
    "\n",
    "# so 12,781 users viewed non-image items"
   ]
  },
  {
   "cell_type": "code",
   "execution_count": null,
   "metadata": {},
   "outputs": [],
   "source": [
    "# How many users use the manifest button\n",
    "\n",
    "clickers = df.loc[(df[\"page.query.manifest\"].notnull())]\n",
    "clickers.nunique()\n",
    "\n",
    "# so 119 users looked at 76 works and used manifest nav\n",
    "# possible to view pages without using manifest"
   ]
  },
  {
   "cell_type": "code",
   "execution_count": null,
   "metadata": {},
   "outputs": [],
   "source": [
    "# success = manifest>0, canvas>1\n",
    "\n",
    "viewers = df.loc[\n",
    "    (df[\"page.query.manifest\"].notnull()) & (df[\"page.query.canvas\"] != \"1\")\n",
    "]\n",
    "viewers.nunique()\n",
    "\n",
    "# so 71 users used the manifest nav for 64 unique workIds and got past page 1"
   ]
  },
  {
   "cell_type": "code",
   "execution_count": null,
   "metadata": {},
   "outputs": [],
   "source": [
    "# how many users viewed works with manifests whether or not they used the nav\n",
    "\n",
    "# create lookup table for workIds with manifests\n",
    "workId_only = [\"page.query.workId\"]\n",
    "works_lookup = clickers[workId_only]\n",
    "works_lookup2 = works_lookup.sort_values(\"page.query.workId\")  # 76 unique\n",
    "works_lookup2.drop_duplicates(inplace=True)\n",
    "\n",
    "works_w_manifests_accessed = works_lookup2.merge(df, how=\"left\", on=\"page.query.workId\")\n",
    "works_w_manifests_accessed.nunique()\n",
    "\n",
    "# so 258 users accessed works with manifests. Out of 119 manifest nav users, only 71 got past page 1,\n",
    "# 139 users didn't use the manifest navigation at all. 68 used it but couldn't get past page 1."
   ]
  },
  {
   "cell_type": "code",
   "execution_count": null,
   "metadata": {},
   "outputs": [],
   "source": []
  },
  {
   "cell_type": "code",
   "execution_count": null,
   "metadata": {},
   "outputs": [],
   "source": []
  }
 ],
 "metadata": {
  "kernelspec": {
   "display_name": "Python 3 (ipykernel)",
   "language": "python",
   "name": "python3"
  },
  "language_info": {
   "codemirror_mode": {
    "name": "ipython",
    "version": 3
   },
   "file_extension": ".py",
   "mimetype": "text/x-python",
   "name": "python",
   "nbconvert_exporter": "python",
   "pygments_lexer": "ipython3",
   "version": "3.9.5"
  }
 },
 "nbformat": 4,
 "nbformat_minor": 4
}

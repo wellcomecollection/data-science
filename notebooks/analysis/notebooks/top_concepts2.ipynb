{
 "cells": [
  {
   "cell_type": "markdown",
   "id": "240e130f-4cae-4955-a8ed-a692f5ea9092",
   "metadata": {},
   "source": [
    "## This code identifies the top 10 Concepts pages and looks at what users do after they view the Concepts page."
   ]
  },
  {
   "cell_type": "code",
   "execution_count": null,
   "id": "8b240d92-24a9-48a4-a750-f3f111dfa212",
   "metadata": {},
   "outputs": [],
   "source": [
    "import os, pandas as pd\n",
    "\n",
    "from weco_datascience.reporting import get_recent_data"
   ]
  },
  {
   "cell_type": "code",
   "execution_count": null,
   "id": "34681ded-d95e-4c35-b859-40f1be32e3fa",
   "metadata": {},
   "outputs": [],
   "source": [
    "df = get_recent_data(config=os.environ, n=500000, index=\"metrics-conversion-prod\")"
   ]
  },
  {
   "cell_type": "code",
   "execution_count": null,
   "id": "4835e5fd-f15a-45fb-88ef-4328d022561e",
   "metadata": {},
   "outputs": [],
   "source": [
    "df=df.loc[(df[\"page.path\"].str.contains(\"cachebust\")==False)]"
   ]
  },
  {
   "cell_type": "code",
   "execution_count": null,
   "id": "fe3649d5-a9ae-4ae7-8e26-2f28a5a70c88",
   "metadata": {},
   "outputs": [],
   "source": [
    "print(\"Data has been taken from\", df.tail(1)[\"@timestamp\"])"
   ]
  },
  {
   "cell_type": "code",
   "execution_count": null,
   "id": "4a2ac484-88a7-455d-995d-c8b9df635b29",
   "metadata": {},
   "outputs": [],
   "source": [
    "print(\"to\", df.head(1)[\"@timestamp\"]) "
   ]
  },
  {
   "cell_type": "markdown",
   "id": "b48f9fb0-e3d8-4773-a5e8-37662e20be4e",
   "metadata": {},
   "source": [
    "### [Definitions of actions] (https://app.gitbook.com/o/-LumfFcEMKx4gYXKAZTQ/s/MM8zK9GZyFCpy8kvd5Km/analytics-and-reporting/kibana-definitions) are translated into code below"
   ]
  },
  {
   "cell_type": "code",
   "execution_count": null,
   "id": "604ac0df-ea66-4f17-91ac-c30a4a729396",
   "metadata": {},
   "outputs": [],
   "source": [
    "df2 = df.fillna(\"\")\n",
    "\n",
    "concepts = df2.loc[(df[\"page.name\"]==\"concept\") & (\n",
    "df[\"properties.event\"].isnull()) & (~\n",
    "df[\"page.query.conceptId\"].isnull()) & (\n",
    "    df[\"page.path\"].str.contains(\"#\", \"cachebust\")==False)]\n",
    "# note: when image modals trigger in open tabs, properties.event!=\"Open image modal\"\n",
    "concepts[\"action\"]=\"concepts\"\n",
    "concepts_tabnav = df2.loc[(df[\"page.name\"]==\"concept\") & (\n",
    "df[\"properties.event\"]==\"Click tab nav\") & (~\n",
    "df[\"page.query.conceptId\"].isnull()) & (\n",
    "    df[\"page.path\"].str.contains(\"#\")==False)]\n",
    "concepts_tabnav[\"action\"]=\"concepts_tabnav\"\n",
    "concepts_imageview = df2.loc[(df[\"page.name\"]==\"concept\") & (~\n",
    "df[\"page.query.conceptId\"].isnull()) & (\n",
    "    df[\"properties.event\"]==\"Concepts open image modal\")]\n",
    "concepts_imageview[\"action\"]=\"Concepts open image modal\"\n",
    "search = df.loc[(df[\"page.name\"]==\"works\") & (df[\"page.query.query\"].notnull())]\n",
    "search[\"action\"]=\"search\"\n",
    "works =  df.loc[(df[\"page.name\"]==\"work\") & (df[\"page.query.workId\"].notnull())]\n",
    "works[\"action\"]=\"works\"\n",
    "item_view = df.loc[(df[\"page.name\"]==\"item\") & (\n",
    "    df[\"properties.event\"]!=\"download\") & (df[\"source\"]!=\"viewer/scroll\")]\n",
    "item_view[\"action\"]=\"item_view\"\n",
    "image_view =  df.loc[(df[\"page.name\"]==\"image\") & (df[\"type\"]==\"pageview\")]\n",
    "image_view[\"action\"]=\"image_view\"\n",
    "image_modal = df.loc[(df[\"page.name\"]==\"images\") & (\n",
    "    df[\"properties.event\"]==\"Open image modal\") & (df[\"page.query.query\"].notnull())]\n",
    "image_modal[\"action\"]=\"image_modal\"\n",
    "exhibition = df.loc[(df[\"page.name\"]==\"exhibition\")]\n",
    "exhibition[\"action\"]=\"exhibition\"\n",
    "story = df.loc[(df[\"page.name\"]==\"story\")]\n",
    "story[\"action\"]=\"story\""
   ]
  },
  {
   "cell_type": "code",
   "execution_count": null,
   "id": "a7a55b02-550f-42fe-87fa-4800a90c6767",
   "metadata": {},
   "outputs": [],
   "source": [
    "selected=[concepts, concepts_tabnav, concepts_imageview, search, works, item_view, image_view, image_modal, exhibition, story]\n",
    "df2=pd.concat(selected)"
   ]
  },
  {
   "cell_type": "code",
   "execution_count": null,
   "id": "2000d44e-0222-43e3-af51-80da39d19ab0",
   "metadata": {},
   "outputs": [],
   "source": [
    "df3=df2[[\"page.path\", \"@timestamp\", \"anonymousId\", \"page.query.query\", \"page.query.workId\", \"page.name\", \"properties.event\", \"action\", \"page.query.conceptId\"]]"
   ]
  },
  {
   "cell_type": "code",
   "execution_count": null,
   "id": "aac4eabe-65e2-44b8-a98e-a482783f6cc4",
   "metadata": {},
   "outputs": [],
   "source": [
    "df3.to_csv(\"df3.csv\")"
   ]
  },
  {
   "cell_type": "markdown",
   "id": "ba0f98e9-3773-4f2d-9c23-906574ddcf03",
   "metadata": {},
   "source": [
    "### Finding top 10 Concepts pages"
   ]
  },
  {
   "cell_type": "code",
   "execution_count": null,
   "id": "659cdd66-dffb-4311-8b7f-c382896cf45d",
   "metadata": {},
   "outputs": [],
   "source": [
    "pages=concepts[[\"page.query.conceptId\",\"anonymousId\"]]\n",
    "pages[\"count\"]=1\n",
    "pages[\"sum\"]= pages.groupby(pages[\"page.query.conceptId\"])[\"count\"].transform(\"sum\")"
   ]
  },
  {
   "cell_type": "code",
   "execution_count": null,
   "id": "ea4a5a7b-9e7f-4b59-93c7-75dcd7b5e92b",
   "metadata": {},
   "outputs": [],
   "source": [
    "#drop duplicates and sort\n",
    "\n",
    "top=pages.drop_duplicates(\"page.query.conceptId\")\n",
    "top2=top.sort_values(\"sum\", ascending=False).head(10)\n",
    "top2.to_csv(\"top2.csv\")"
   ]
  },
  {
   "cell_type": "markdown",
   "id": "7fe7d4ca-aea4-4eb3-bba8-0f557e020451",
   "metadata": {},
   "source": [
    "### What did the users who viewed the top Concepts page do next?"
   ]
  },
  {
   "cell_type": "code",
   "execution_count": null,
   "id": "3db237f2-1d7c-4e34-b291-e3acccc8da51",
   "metadata": {},
   "outputs": [],
   "source": [
    "who=df3.loc[(df3[\"page.query.conceptId\"]==\"dp2rhtpm\")]\n",
    "who2=who[\"anonymousId\"]\n",
    "who2.drop_duplicates()\n",
    "who3=who2.values.tolist()\n",
    "concepts_behaviour=df3.loc[(df3[\"anonymousId\"].isin(who3))]\n",
    "concepts_behaviour.to_csv(\"concepts_behaviour.csv\") \n",
    "len(who2)"
   ]
  },
  {
   "cell_type": "code",
   "execution_count": null,
   "id": "550a96bf-7bbf-4288-8ff4-3b866c0d5c1a",
   "metadata": {},
   "outputs": [],
   "source": [
    "len(concepts_behaviour)"
   ]
  },
  {
   "cell_type": "markdown",
   "id": "9c76cf99-2e3f-4bfe-b255-183319354100",
   "metadata": {},
   "source": [
    "### sort and reindex by anonid and timestamp ascending"
   ]
  },
  {
   "cell_type": "code",
   "execution_count": null,
   "id": "5e7d7f8e-e257-474f-80ce-17e286931300",
   "metadata": {},
   "outputs": [],
   "source": [
    "cb2=concepts_behaviour.sort_values([\"anonymousId\",\"@timestamp\"], ascending=[True,True])\n",
    "cb3=cb2.reset_index()\n",
    "cb3.to_csv(\"cb3.csv\")"
   ]
  },
  {
   "cell_type": "code",
   "execution_count": null,
   "id": "fc85b867-0b79-4410-a472-b112306178fc",
   "metadata": {},
   "outputs": [],
   "source": [
    "data = []\n",
    "anonid=[]\n",
    "\n",
    "for i, row in cb3.iterrows():\n",
    "    \n",
    "    if (anonid==cb3.loc[i, \"anonymousId\"]): \n",
    "        data.append(row)\n",
    "        \n",
    "    if cb3.loc[i, \"action\"]==\"concepts\": \n",
    "        data.append(row)\n",
    "        anonid=cb3.loc[i, \"anonymousId\"] \n",
    "        \n",
    "\n",
    "results = pd.DataFrame(data)\n",
    "results"
   ]
  },
  {
   "cell_type": "code",
   "execution_count": null,
   "id": "74d519ac-7a25-4a7f-8348-61cbfe6d731a",
   "metadata": {},
   "outputs": [],
   "source": [
    "following=results.loc[(results[\"action\"]!=\"concepts\")]\n",
    "following[[\"action\", \"anonymousId\"]].groupby(\"action\").count()\n",
    "#len(following)"
   ]
  },
  {
   "cell_type": "code",
   "execution_count": null,
   "id": "b2f14ebe-aaa6-43ff-9586-2bb278a76806",
   "metadata": {},
   "outputs": [],
   "source": [
    "dedupe=following[\"anonymousId\"].drop_duplicates()\n",
    "len(dedupe)"
   ]
  },
  {
   "cell_type": "code",
   "execution_count": null,
   "id": "0ef4436f-babb-4cba-b170-a075801e480e",
   "metadata": {},
   "outputs": [],
   "source": [
    "results.to_csv(\"results.csv\")"
   ]
  },
  {
   "cell_type": "code",
   "execution_count": null,
   "id": "27d72c29-c6d8-46f9-bf84-e1a8727376db",
   "metadata": {},
   "outputs": [],
   "source": []
  }
 ],
 "metadata": {
  "kernelspec": {
   "display_name": "Python 3",
   "language": "python",
   "name": "python3"
  },
  "language_info": {
   "codemirror_mode": {
    "name": "ipython",
    "version": 3
   },
   "file_extension": ".py",
   "mimetype": "text/x-python",
   "name": "python",
   "nbconvert_exporter": "python",
   "pygments_lexer": "ipython3",
   "version": "3.8.8"
  }
 },
 "nbformat": 4,
 "nbformat_minor": 5
}

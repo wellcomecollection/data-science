{
 "cells": [
  {
   "cell_type": "markdown",
   "id": "f411ffd5-ec2a-4880-8cca-c5665c020196",
   "metadata": {},
   "source": [
    "# What is the user experience for organic searchers?\n",
    "\n",
    "This code investigates the percentage of users who come to pages within wellcomecollection.org/works after clicking on results provided by Google search or similar. What is their average session length or bounce rate compared to all users? "
   ]
  },
  {
   "cell_type": "code",
   "execution_count": null,
   "id": "8340b652-6809-44f1-bb98-3d2062fbc795",
   "metadata": {},
   "outputs": [],
   "source": [
    "import os\n",
    "\n",
    "from weco_datascience.reporting import get_recent_data"
   ]
  },
  {
   "cell_type": "markdown",
   "id": "ff014392-d022-4d6e-819f-e81785c639a6",
   "metadata": {},
   "source": [
    "First, get the data"
   ]
  },
  {
   "cell_type": "code",
   "execution_count": null,
   "id": "05fe937d-fa63-4ac6-9f77-bdcb061da240",
   "metadata": {},
   "outputs": [],
   "source": [
    "df = get_recent_data(config=os.environ, n=100000, index=\"metrics-conversion-prod\")"
   ]
  },
  {
   "cell_type": "code",
   "execution_count": null,
   "id": "72519f45-351a-4323-9218-6e70a1265bee",
   "metadata": {},
   "outputs": [],
   "source": [
    "keepers = [\n",
    "    \"@timestamp\",\n",
    "    \"anonymousId\",\n",
    "    \"session.id\",\n",
    "    \"page.name\",\n",
    "    \"page.query.id\",\n",
    "    \"source\",\n",
    "    \"properties.event\",\n",
    "    \"type\",\n",
    "    \"page.query.query\",\n",
    "]\n",
    "df2 = df[keepers]"
   ]
  },
  {
   "cell_type": "markdown",
   "id": "22ef53cf-07a2-476d-b325-ce75832ad9ea",
   "metadata": {},
   "source": [
    "Sessions initiated by organic searches result in 2 kinds of profiles: \n",
    "1. users who begin their sessions with a /works page view (aka works_users) and\n",
    "2. users who begin their sessions with 2 identical searches (aka searchers)"
   ]
  },
  {
   "cell_type": "code",
   "execution_count": null,
   "id": "87449cb5-c198-4094-8d77-faf1044a7a9e",
   "metadata": {},
   "outputs": [],
   "source": [
    "sorted = df2.sort_values([\"session.id\", \"@timestamp\"], ascending=[True, True])\n",
    "\n",
    "deduped = sorted.drop_duplicates(\n",
    "    subset=\"anonymousId\", keep=\"first\"\n",
    ")  # attribution error: function object has no attribute 'head'\n",
    "deduped.head()"
   ]
  },
  {
   "cell_type": "code",
   "execution_count": null,
   "id": "d1c7d96e-ff31-4a95-9a89-11bd01d0dac8",
   "metadata": {},
   "outputs": [],
   "source": [
    "works_users = deduped.loc[\n",
    "    (deduped[\"page.name\"] == \"work\")\n",
    "    & (deduped[\"page.query.id\"].notnull())\n",
    "    & (deduped[\"source\"] == \"unknown\")\n",
    "    & (deduped[\"properties.event\"].isnull())\n",
    "    & (deduped[\"type\"] == \"pageview\")\n",
    "]\n",
    "works_users.head()"
   ]
  },
  {
   "cell_type": "markdown",
   "id": "23b4fbc4-aa98-4037-80a7-aa098874b072",
   "metadata": {},
   "source": [
    "How many users begin their sessions with a works page (profile 1.)?"
   ]
  },
  {
   "cell_type": "code",
   "execution_count": null,
   "id": "b8a3f3db-8061-4960-b1b5-68446da32133",
   "metadata": {},
   "outputs": [],
   "source": [
    "works_users2 = works_users[\"anonymousId\"].unique()\n",
    "len(works_users2)"
   ]
  },
  {
   "cell_type": "markdown",
   "id": "126e65cf-a10e-4267-a18e-1a067b030f6a",
   "metadata": {},
   "source": [
    "How many users were there in the sample in total?"
   ]
  },
  {
   "cell_type": "code",
   "execution_count": null,
   "id": "62d47cb3-e9fa-4e3d-94dc-11db726ad380",
   "metadata": {},
   "outputs": [],
   "source": [
    "len(df2[\"anonymousId\"].unique())"
   ]
  },
  {
   "cell_type": "markdown",
   "id": "d300be4f-8209-480d-b9c4-05710173f5d1",
   "metadata": {},
   "source": [
    "Percentage of profile 1. users of total users"
   ]
  },
  {
   "cell_type": "code",
   "execution_count": null,
   "id": "a6779290-56ec-4435-855b-f22bac7bd8ae",
   "metadata": {},
   "outputs": [],
   "source": [
    "print((len(works_users2))/(len(df2[\"anonymousId\"].unique())))"
   ]
  },
  {
   "cell_type": "markdown",
   "id": "f8fed482-18a8-43f5-8027-866b389ebb33",
   "metadata": {},
   "source": [
    "Searchers"
   ]
  },
  {
   "cell_type": "code",
   "execution_count": null,
   "id": "e63224a2-4670-48bd-b9c4-cdfc5aead1de",
   "metadata": {},
   "outputs": [],
   "source": [
    "searchers = sorted.loc[\n",
    "    (sorted[\"page.name\"] == \"works\") & (sorted[\"page.query.query\"].notnull())\n",
    "]"
   ]
  },
  {
   "cell_type": "code",
   "execution_count": null,
   "id": "f2e647f2-fa05-43a7-8760-a6a19dd6f2d4",
   "metadata": {},
   "outputs": [],
   "source": [
    "first_search = searchers.sort_values(\n",
    "    [\"session.id\", \"@timestamp\"], ascending=[True, True]\n",
    ")\n",
    "first_search2 = first_search.groupby(\"session.id\").head(2)"
   ]
  },
  {
   "cell_type": "code",
   "execution_count": null,
   "id": "49b09acf-854c-4419-9866-d869f4c2416d",
   "metadata": {},
   "outputs": [],
   "source": [
    "first_search2 = first_search2.sort_values(\n",
    "    [\"session.id\", \"@timestamp\"], ascending=[True, False]\n",
    ")\n",
    "first_search2[\"rownum\"] = first_search2.index\n",
    "first_search2[\"consecutive\"] = first_search2[\"rownum\"].diff().eq(1)\n",
    "first_search2[\"same_query\"] = first_search2[\"page.query.query\"] == first_search2[\n",
    "    \"page.query.query\"\n",
    "].shift(1)"
   ]
  },
  {
   "cell_type": "code",
   "execution_count": null,
   "id": "e7521eca-0117-4c27-9256-97c3ebf7b2c4",
   "metadata": {},
   "outputs": [],
   "source": [
    "first_search3 = first_search2\n",
    "first_searchers=first_search3.loc[(first_search3[\"same_query\"]==True) & (first_search3[\"consecutive\"]==True)]\n",
    "first_searchers.head()"
   ]
  },
  {
   "cell_type": "markdown",
   "id": "1e448a3d-7b43-40af-9e2d-43c80fb57e4c",
   "metadata": {},
   "source": [
    "How many searchers are there (profile 2.)?"
   ]
  },
  {
   "cell_type": "code",
   "execution_count": null,
   "id": "cf949e42-7421-4813-990a-10c423d092c9",
   "metadata": {},
   "outputs": [],
   "source": [
    "first_searchers2 = first_searchers[\"anonymousId\"].unique()\n",
    "len(first_searchers2)"
   ]
  },
  {
   "cell_type": "markdown",
   "id": "022d43b6-7f47-49a7-944c-ae7ee4054844",
   "metadata": {},
   "source": [
    "Percentage of profile 2. users of total users"
   ]
  },
  {
   "cell_type": "code",
   "execution_count": null,
   "id": "72fc265c-fd82-4994-ae8b-754520b8c521",
   "metadata": {},
   "outputs": [],
   "source": [
    "print((len(first_searchers))/(len(df2[\"anonymousId\"].unique())))"
   ]
  },
  {
   "cell_type": "markdown",
   "id": "9613048c-917e-4892-a4cc-4b62acd0a21b",
   "metadata": {},
   "source": [
    "What is the average profile 1. session length? "
   ]
  },
  {
   "cell_type": "code",
   "execution_count": null,
   "id": "508341e6-06a3-4016-80a6-cb70c7754b09",
   "metadata": {},
   "outputs": [],
   "source": [
    "profile1=df2[df2[\"session.id\"].isin(works_users[\"session.id\"])]\n",
    "sortedp1=profile1.sort_values([\"session.id\", \"@timestamp\"], ascending=[True, True])\n",
    "firstp1=sortedp1.drop_duplicates(subset=\"session.id\", keep=\"first\")\n",
    "lastp1=sortedp1.drop_duplicates(subset=\"session.id\", keep=\"last\")\n",
    "keep=[\"session.id\", \"@timestamp\"]\n",
    "lastp1b=lastp1[keep]"
   ]
  },
  {
   "cell_type": "code",
   "execution_count": null,
   "id": "fcbe7611-2e94-422a-b5fb-ac7a04f46f73",
   "metadata": {},
   "outputs": [],
   "source": [
    "import pandas as pd\n",
    "duration=pd.merge(firstp1, lastp1b, how='left', on=\"session.id\")\n",
    "duration[\"from\"]=pd.to_datetime(duration['@timestamp_x'], dayfirst=True)\n",
    "duration[\"to\"]=pd.to_datetime(duration['@timestamp_y'], dayfirst=True)\n",
    "duration[\"session_length\"]=(abs(duration['to']-duration['from']))"
   ]
  },
  {
   "cell_type": "markdown",
   "id": "b3e40ca7-3073-4fda-a4a2-aa615014d86d",
   "metadata": {},
   "source": [
    "Remove duplicate sessions"
   ]
  },
  {
   "cell_type": "code",
   "execution_count": null,
   "id": "a4200d64-3f6d-4f76-9a3b-7b37064317d8",
   "metadata": {},
   "outputs": [],
   "source": [
    "duration_dupout = duration.drop_duplicates(\n",
    "    subset=\"session.id\", keep=\"first\") \n",
    "duration_dupout.head(2)"
   ]
  },
  {
   "cell_type": "code",
   "execution_count": null,
   "id": "00d5e694-4627-48cf-b89d-bc2ef9c9b583",
   "metadata": {},
   "outputs": [],
   "source": [
    "print(duration_dupout[\"session_length\"].mean())"
   ]
  },
  {
   "cell_type": "markdown",
   "id": "89e35ab1-d6cb-49e2-9b29-530023546cab",
   "metadata": {},
   "source": [
    "What is the average session length for all users?"
   ]
  },
  {
   "cell_type": "code",
   "execution_count": null,
   "id": "0e363546-349b-4d17-9cb4-9112360e836e",
   "metadata": {},
   "outputs": [],
   "source": [
    "sorted_all=df2.sort_values([\"session.id\", \"@timestamp\"], ascending=[True, True])\n",
    "firstall=sorted_all.drop_duplicates(subset=\"session.id\", keep=\"first\")\n",
    "lastall=sorted_all.drop_duplicates(subset=\"session.id\", keep=\"last\")\n",
    "lastall2=lastall[keep]\n",
    "\n",
    "duration_all=pd.merge(firstall, lastall2, how='left', on=\"session.id\")\n",
    "duration_all[\"from\"]=pd.to_datetime(duration_all['@timestamp_x'], dayfirst=True)\n",
    "duration_all[\"to\"]=pd.to_datetime(duration_all['@timestamp_y'], dayfirst=True)\n",
    "\n",
    "duration_all[\"session_length\"]=(abs(duration_all['to']-duration_all['from']))"
   ]
  },
  {
   "cell_type": "code",
   "execution_count": null,
   "id": "920362bd-7228-418e-8314-4771c15aa11b",
   "metadata": {},
   "outputs": [],
   "source": [
    "Remove duplicate sessions"
   ]
  },
  {
   "cell_type": "code",
   "execution_count": null,
   "id": "3831ca9b-0c64-4dd6-8c87-f9408b4ecc0a",
   "metadata": {},
   "outputs": [],
   "source": [
    "duration_all_dupout = duration_all.drop_duplicates(\n",
    "    subset=\"session.id\", keep=\"first\") "
   ]
  },
  {
   "cell_type": "code",
   "execution_count": null,
   "id": "c222666d-b14b-4c5d-8a83-db68fef73acd",
   "metadata": {},
   "outputs": [],
   "source": [
    "print(duration_all_dupout[\"session_length\"].mean())"
   ]
  },
  {
   "cell_type": "markdown",
   "id": "c6ce99e9-3fff-425a-9ee9-a6f2bb168674",
   "metadata": {},
   "source": [
    "What is the average profile 2. session length? "
   ]
  },
  {
   "cell_type": "code",
   "execution_count": null,
   "id": "c37d0165-fdc6-45a9-9bf3-90d7ffc6891b",
   "metadata": {},
   "outputs": [],
   "source": [
    "profile2=df2[df2[\"session.id\"].isin(first_searchers[\"session.id\"])]\n",
    "sortedp2=profile2.sort_values([\"session.id\", \"@timestamp\"], ascending=[True, True])\n",
    "firstp2=sortedp2.drop_duplicates(subset=\"session.id\", keep=\"first\")\n",
    "lastp2=sortedp2.drop_duplicates(subset=\"session.id\", keep=\"last\")\n",
    "lastp2b=lastp2[keep]"
   ]
  },
  {
   "cell_type": "code",
   "execution_count": null,
   "id": "825dd6e5-756a-4fce-b1c6-c157ec7f739c",
   "metadata": {},
   "outputs": [],
   "source": [
    "durationp2=pd.merge(firstp2, lastp2b, how='left', on=\"session.id\")\n",
    "durationp2[\"from\"]=pd.to_datetime(durationp2['@timestamp_x'], dayfirst=True)\n",
    "durationp2[\"to\"]=pd.to_datetime(durationp2['@timestamp_y'], dayfirst=True)\n",
    "durationp2[\"session_length\"]=(abs(durationp2['to']-durationp2['from']))\n",
    "#durationp2.head()"
   ]
  },
  {
   "cell_type": "markdown",
   "id": "cb414969-3235-4484-9b39-1168e7e20e17",
   "metadata": {},
   "source": [
    "Remove duplicate sessions"
   ]
  },
  {
   "cell_type": "code",
   "execution_count": null,
   "id": "948823d8-0f69-45e1-b296-0d17fb7d2f0e",
   "metadata": {},
   "outputs": [],
   "source": [
    "durationp2_dupout = durationp2.drop_duplicates(\n",
    "    subset=\"session.id\", keep=\"first\") "
   ]
  },
  {
   "cell_type": "code",
   "execution_count": null,
   "id": "4877634c-f1f4-4bcb-8392-6624aadbd8dd",
   "metadata": {},
   "outputs": [],
   "source": [
    "print(durationp2_dupout[\"session_length\"].mean())"
   ]
  },
  {
   "cell_type": "markdown",
   "id": "1da3e720-adf9-4162-8b1b-b1ee3d956dc7",
   "metadata": {},
   "source": [
    "How does the distribution of session length for all users compare with Profile 1 and 2 users?"
   ]
  },
  {
   "cell_type": "code",
   "execution_count": null,
   "id": "a7ed3fa1-b4d9-42b7-bef6-52fdcd3ffaf5",
   "metadata": {},
   "outputs": [],
   "source": [
    "#import numpy as np\n",
    "#import pandas as pd\n",
    "\n",
    "#%matplotlib inline\n"
   ]
  },
  {
   "cell_type": "markdown",
   "id": "6c9b0e7b-cf78-4f58-849a-4a1a6fe69edd",
   "metadata": {},
   "source": [
    "What is the distribution of session durations for all users?"
   ]
  },
  {
   "cell_type": "code",
   "execution_count": null,
   "id": "42faedbb-d2b9-4d57-b054-dc284abe936b",
   "metadata": {},
   "outputs": [],
   "source": [
    "axes = duration_all_dupout[\"session_length\"].astype(\"timedelta64[s]\").plot.hist(bins=100)\n",
    "axes.set_xlim(0,10000)\n",
    "axes.set_yscale('log')"
   ]
  },
  {
   "cell_type": "markdown",
   "id": "25562ed4-e234-4f8e-b7a8-22cda593785f",
   "metadata": {},
   "source": [
    "What is the distribution of session durations for Profile 1 users?"
   ]
  },
  {
   "cell_type": "code",
   "execution_count": null,
   "id": "b5fc4180-724e-468d-90be-016fe7db8bd2",
   "metadata": {},
   "outputs": [],
   "source": [
    "axes = duration_dupout[\"session_length\"].astype(\"timedelta64[s]\").plot.hist(bins=100)\n",
    "axes.set_xlim(0,10000)\n",
    "axes.set_yscale('log')"
   ]
  },
  {
   "cell_type": "markdown",
   "id": "0ba35020-407e-4aa6-9cb0-4770354ee0af",
   "metadata": {},
   "source": [
    "What is the distribution of session durations for Profile 2 users?"
   ]
  },
  {
   "cell_type": "code",
   "execution_count": null,
   "id": "404dd29d-e931-4ebe-aacc-69fc0713a42b",
   "metadata": {},
   "outputs": [],
   "source": [
    "axes = durationp2_dupout[\"session_length\"].astype(\"timedelta64[s]\").plot.hist(bins=100)\n",
    "axes.set_xlim(0,10000)\n",
    "axes.set_yscale('log')"
   ]
  },
  {
   "cell_type": "code",
   "execution_count": null,
   "id": "0a97c00c-92ba-4cef-9d98-077cdf4d09ed",
   "metadata": {},
   "outputs": [],
   "source": []
  }
 ],
 "metadata": {
  "kernelspec": {
   "display_name": "Python 3 (ipykernel)",
   "language": "python",
   "name": "python3"
  },
  "language_info": {
   "codemirror_mode": {
    "name": "ipython",
    "version": 3
   },
   "file_extension": ".py",
   "mimetype": "text/x-python",
   "name": "python",
   "nbconvert_exporter": "python",
   "pygments_lexer": "ipython3",
   "version": "3.8.8"
  }
 },
 "nbformat": 4,
 "nbformat_minor": 5
}

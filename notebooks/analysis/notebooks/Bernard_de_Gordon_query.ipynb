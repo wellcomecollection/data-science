{
 "cells": [
  {
   "cell_type": "code",
   "execution_count": null,
   "metadata": {},
   "outputs": [],
   "source": [
    "import json\n",
    "\n",
    "with open(\"passwords.json\", \"r\") as f:\n",
    "    sensitive_data = json.load(f)"
   ]
  },
  {
   "cell_type": "code",
   "execution_count": null,
   "metadata": {},
   "outputs": [],
   "source": [
    "import weco_datascience\n",
    "from weco_datascience.reporting import get_recent_data\n",
    "\n",
    "df = get_recent_data(config=sensitive_data, n=100000, index=\"conversion*\")\n",
    "df.head()"
   ]
  },
  {
   "cell_type": "markdown",
   "metadata": {},
   "source": [
    "Which anonymousIds viewed page.query.id:mg56yqa4?"
   ]
  },
  {
   "cell_type": "code",
   "execution_count": null,
   "metadata": {},
   "outputs": [],
   "source": [
    "viewed = df.loc[(df[\"page.query.workId\"] == \"mg56yqa4\")]\n",
    "\n",
    "unique_viewers = viewed[\"anonymousId\"].unique()\n",
    "unique_viewers"
   ]
  },
  {
   "cell_type": "markdown",
   "metadata": {},
   "source": [
    "Grab the searches by the anonymobusIds that viewed page.query.id:mg56yqa4."
   ]
  },
  {
   "cell_type": "code",
   "execution_count": null,
   "metadata": {},
   "outputs": [],
   "source": [
    "searches = df.loc[\n",
    "    (df[\"page.name\"].isin([\"images\", \"works\"]))\n",
    "    & (df[\"page.query.query\"].notnull())\n",
    "    & (df[\"properties.totalResults\"].notnull())\n",
    "    & ((df[\"page.query.page\"].isnull()) | (df[\"page.query.page\"] == 1))\n",
    "]\n",
    "\n",
    "result = searches[searches.anonymousId.isin(unique_viewers)]\n",
    "result"
   ]
  },
  {
   "cell_type": "markdown",
   "metadata": {},
   "source": [
    "Looks like none of the users actually submitted a query. Let's check all of their activity."
   ]
  },
  {
   "cell_type": "code",
   "execution_count": null,
   "metadata": {},
   "outputs": [],
   "source": [
    "check = df[df.anonymousId.isin(unique_viewers)]\n",
    "details = [\n",
    "    \"anonymousId\",\n",
    "    \"page.name\",\n",
    "    \"page.query.workId\",\n",
    "    \"page.query.query\",\n",
    "    \"source\",\n",
    "    \"page.query.id\",\n",
    "]\n",
    "check[details]"
   ]
  },
  {
   "cell_type": "markdown",
   "metadata": {},
   "source": [
    "All users who viewed https://wellcomecollection.org/works/mg56yqa4 appear to have arrived at this page by clicking on a link on another website."
   ]
  },
  {
   "cell_type": "code",
   "execution_count": null,
   "metadata": {},
   "outputs": [],
   "source": []
  }
 ],
 "metadata": {
  "kernelspec": {
   "display_name": "Python 3 (ipykernel)",
   "language": "python",
   "name": "python3"
  },
  "language_info": {
   "codemirror_mode": {
    "name": "ipython",
    "version": 3
   },
   "file_extension": ".py",
   "mimetype": "text/x-python",
   "name": "python",
   "nbconvert_exporter": "python",
   "pygments_lexer": "ipython3",
   "version": "3.8.8"
  }
 },
 "nbformat": 4,
 "nbformat_minor": 4
}

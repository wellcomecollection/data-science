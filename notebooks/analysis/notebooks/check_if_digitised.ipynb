{
 "cells": [
  {
   "cell_type": "markdown",
   "id": "9e50ec9d-8376-4bd5-9a6b-babf772f4c9d",
   "metadata": {},
   "source": [
    "## This notebook produces a listing of items requested online March - July 2023 which are also available to view online. The code exports the listing for use as a lookup table for a monthly graph of % requested items online / total items requested  to investigate the hypothesis that digitisation encourages researchers to request the physical items."
   ]
  },
  {
   "cell_type": "markdown",
   "id": "6e39b3b5-be96-4c44-add8-4e709b98f023",
   "metadata": {},
   "source": [
    "## First we create a snapshot of the api"
   ]
  },
  {
   "cell_type": "code",
   "execution_count": null,
   "id": "a2323547-98b2-4140-a145-f68dbf13f7ff",
   "metadata": {},
   "outputs": [],
   "source": [
    "import requests\n",
    "import json\n",
    "from pathlib import Path\n",
    "from tqdm.auto import tqdm\n",
    "import gzip\n",
    "import io\n",
    "\n",
    "snapshot_url = \"https://data.wellcomecollection.org/catalogue/v2/works.json.gz\""
   ]
  },
  {
   "cell_type": "code",
   "execution_count": null,
   "id": "dab9290c-0efc-4faf-b2dd-272c4f352a1c",
   "metadata": {},
   "outputs": [],
   "source": [
    "data_dir = Path(\"./data\").resolve()\n",
    "data_dir.mkdir(exist_ok=True)\n",
    "\n",
    "file_name = Path(snapshot_url).parts[-1]\n",
    "zipped_path = data_dir / file_name\n",
    "unzipped_path = zipped_path.with_suffix(\"\")\n",
    "\n",
    "if not unzipped_path.exists():\n",
    "    if not zipped_path.exists():\n",
    "        r = requests.get(snapshot_url, stream=True)\n",
    "        download_progress_bar = tqdm(\n",
    "            unit=\"B\",\n",
    "            total=int(r.headers[\"Content-Length\"]),\n",
    "            desc=f\"downloading {file_name}\",\n",
    "        )\n",
    "        with open(zipped_path, \"wb\") as f:\n",
    "            for chunk in r.iter_content(chunk_size=1024):\n",
    "                if chunk:\n",
    "                    f.write(chunk)\n",
    "                    download_progress_bar.update(len(chunk))\n",
    "        download_progress_bar.close()\n",
    "        \n",
    "    with gzip.open(zipped_path, \"rb\") as f_in, open(unzipped_path, \"wb\") as f_out:\n",
    "        unzip_progress_bar = tqdm(\n",
    "            unit=\"B\",\n",
    "            total=f_in.seek(0, io.SEEK_END),\n",
    "            desc=f\"unzipping {file_name}\",\n",
    "        )\n",
    "        f_in.seek(0)\n",
    "        for chunk in iter(lambda: f_in.read(1024 * 1024), b\"\"):\n",
    "            f_out.write(chunk)\n",
    "            unzip_progress_bar.update(len(chunk))\n",
    "    \n",
    "        unzip_progress_bar.close()\n",
    "    zipped_path.unlink()"
   ]
  },
  {
   "cell_type": "markdown",
   "id": "2c9b1db8-2706-4421-a6e0-7f58293da6e4",
   "metadata": {},
   "source": [
    "## Either import data"
   ]
  },
  {
   "cell_type": "code",
   "execution_count": null,
   "id": "b67a288c-d652-4b21-809d-607dcc3005c3",
   "metadata": {},
   "outputs": [],
   "source": [
    "#import pandas as pd\n",
    "#data=pd.read_csv(\"data.csv\")\n",
    "#known_ids=data[\"id\"].tolist()"
   ]
  },
  {
   "cell_type": "markdown",
   "id": "a75b177a-10c0-410c-afc4-b0de445764c9",
   "metadata": {},
   "source": [
    "## Or to test code without importing, here are 8 ids: 4 online, 4 not online"
   ]
  },
  {
   "cell_type": "code",
   "execution_count": null,
   "id": "7d79b200-3468-4786-92ad-c1e669968b85",
   "metadata": {},
   "outputs": [],
   "source": [
    "#known_ids=['p8nhsgje', 'y5wp8u7m', 'bxb3fadt', 'u3w8qbrt', 'kt2maez6', 'n4jt2jvn', 'rubmryr7', 's9fa8dnw']"
   ]
  },
  {
   "cell_type": "code",
   "execution_count": null,
   "id": "4aae29a4-ed18-4ec0-9291-8cc7da1c9afe",
   "metadata": {},
   "outputs": [],
   "source": [
    "def iterate_dataset():\n",
    "    with open(unzipped_path, \"r\") as dataset:\n",
    "        for line in dataset:\n",
    "            yield json.loads(line)\n",
    "\n",
    "works = []\n",
    "for work in iterate_dataset():\n",
    "    if work['id'] in known_ids:\n",
    "        works.append(work)"
   ]
  },
  {
   "cell_type": "code",
   "execution_count": null,
   "id": "e3ea738b-7639-4789-9c24-40e4c2a75320",
   "metadata": {},
   "outputs": [],
   "source": [
    "df = pd.DataFrame(works)\n",
    "df=df.fillna(\" \") #to remove Nan's"
   ]
  },
  {
   "cell_type": "markdown",
   "id": "ab42837d-cfca-4d25-a497-1d1d313dbf0a",
   "metadata": {},
   "source": [
    "## \"availabilities\" is a dictionary within a list. In order to filter, it needs to be flattened"
   ]
  },
  {
   "cell_type": "code",
   "execution_count": null,
   "id": "b984ed5e-eed7-4b3b-be65-068cf157cd54",
   "metadata": {},
   "outputs": [],
   "source": [
    "df2=pd.DataFrame(df['availabilities'].to_list(), columns=['status','temp'])\n",
    "df3=df[[\"id\",\"availabilities\"]].join(\n",
    "    pd.DataFrame(df2['status']))\n",
    "df3=df3.dropna()\n",
    "df3['is_it_digitised?'] = df3['status'].apply(lambda x: x['id']==\"online\")\n",
    "df4=df3[[\"id\",\"is_it_digitised?\"]]"
   ]
  },
  {
   "cell_type": "code",
   "execution_count": null,
   "id": "d2b44590-ecf1-49d8-96ff-44428db0d9c5",
   "metadata": {},
   "outputs": [],
   "source": [
    "print(\"The number of unique items requested is\", len(df))"
   ]
  },
  {
   "cell_type": "code",
   "execution_count": null,
   "id": "3ee89b13-428d-4d6c-95be-e1c9050c682a",
   "metadata": {},
   "outputs": [],
   "source": [
    "print(\"The number of unique digitised items requested is\", len(df4.loc[(df4[\"is_it_digitised?\"]==True)]))"
   ]
  },
  {
   "cell_type": "code",
   "execution_count": null,
   "id": "aaf4cd2b-f937-4f0b-9918-aecae1881e0f",
   "metadata": {},
   "outputs": [],
   "source": [
    "df4.to_csv(\"df4.csv\")"
   ]
  },
  {
   "cell_type": "markdown",
   "id": "3e4f8d27-7893-4b0a-9219-f0b32cf511f6",
   "metadata": {},
   "source": [
    "## [Here is a link to the graph of the monthly data.] (https://wellcomecloud.sharepoint.com/:x:/r/sites/wcdigitalexperience/Shared%20Documents/Analytics/Q4%20202223/10113%20test%20request%20data.xlsx?d=w9de5dddcfdd745a18aa7e4755193e9ee&csf=1&web=1&e=ogn3eT)"
   ]
  }
 ],
 "metadata": {
  "kernelspec": {
   "display_name": "Python 3",
   "language": "python",
   "name": "python3"
  },
  "language_info": {
   "codemirror_mode": {
    "name": "ipython",
    "version": 3
   },
   "file_extension": ".py",
   "mimetype": "text/x-python",
   "name": "python",
   "nbconvert_exporter": "python",
   "pygments_lexer": "ipython3",
   "version": "3.8.8"
  }
 },
 "nbformat": 4,
 "nbformat_minor": 5
}

{
 "cells": [
  {
   "cell_type": "markdown",
   "id": "f8beba8d-8b44-46b9-a3e4-e7725764b750",
   "metadata": {},
   "source": [
    "### How useful do people find concepts? What do they do after they land?"
   ]
  },
  {
   "cell_type": "code",
   "execution_count": null,
   "id": "ac7f5756-4a05-4c2d-a130-3d35a5c16949",
   "metadata": {},
   "outputs": [],
   "source": [
    "import os, pandas as pd\n",
    "from weco_datascience.reporting import get_recent_data"
   ]
  },
  {
   "cell_type": "code",
   "execution_count": null,
   "id": "d1737ad9-142c-485c-b125-39fa10f732a1",
   "metadata": {},
   "outputs": [],
   "source": [
    "df = get_recent_data(config=os.environ, n=100000, index=\"metrics-conversion-prod\")\n",
    "df=df.loc[(~df[\"page.path\"].str.contains(\"cachebust\"))].fillna(\"\")"
   ]
  },
  {
   "cell_type": "markdown",
   "id": "eb637256-783e-4a6d-9e7d-4470ce5c0e54",
   "metadata": {},
   "source": [
    "### Date parameters"
   ]
  },
  {
   "cell_type": "code",
   "execution_count": null,
   "id": "657ac44e-0415-41d1-ab8e-8d461ece98f7",
   "metadata": {},
   "outputs": [],
   "source": [
    "print(\"Data has been taken from\", df.tail(1)[\"@timestamp\"])"
   ]
  },
  {
   "cell_type": "code",
   "execution_count": null,
   "id": "6a1e4fdc-3854-4951-81e6-f57880204e60",
   "metadata": {},
   "outputs": [],
   "source": [
    "print(\"to\", df.head(1)[\"@timestamp\"]) "
   ]
  },
  {
   "cell_type": "code",
   "execution_count": null,
   "id": "7e12bb59-32b4-4dc1-9ab6-488c46ce9941",
   "metadata": {},
   "outputs": [],
   "source": [
    "df2=df[[\"@timestamp\", \"anonymousId\", \"page.name\", \"page.path\", \"page.query.workId\", \"page.query.query\", \"page.query.conceptId\", \"page.query.id\", \"source\", \"type\", \"properties.imageId\", \"properties.event\"]]\n",
    "df2.insert(0, \"check10\", df[\"page.path\"].str.strip().str[:10])\n",
    "df2.insert(0, \"check7\", df[\"page.path\"].str.strip().str[:7])\n",
    "df2.insert(0, \"sourcechop\", df[\"source\"].str.strip().str[-8:])\n",
    "df2.insert(0, \"pathchop\", df[\"page.path\"].str.strip().str[-8:])"
   ]
  },
  {
   "cell_type": "markdown",
   "id": "4ac92b89-aa83-4c64-8403-e939c89b5979",
   "metadata": {},
   "source": [
    "### Selecting actions of users who view Concepts pages"
   ]
  },
  {
   "cell_type": "code",
   "execution_count": null,
   "id": "14cdecbe-ce61-4157-9c0d-7824136e92bb",
   "metadata": {},
   "outputs": [],
   "source": [
    "concepts_users = df2.loc[(df[\"page.name\"]==\"concept\"), [\"anonymousId\"]].drop_duplicates()\n",
    "concepts_ids=concepts_users[\"anonymousId\"].astype(str).values.tolist()\n",
    "concepts_behaviour=df2.loc[(df[\"anonymousId\"].isin(concepts_ids))]\n",
    "sorted=concepts_behaviour.sort_values([\"anonymousId\", \"@timestamp\"]).reset_index()"
   ]
  },
  {
   "cell_type": "markdown",
   "id": "bb4d5919-37f0-42c2-b971-80a2bfc75254",
   "metadata": {},
   "source": [
    "### Identifying actions  "
   ]
  },
  {
   "cell_type": "code",
   "execution_count": null,
   "id": "df7b6ec0-6fa1-46ac-b199-a1587f3204ba",
   "metadata": {},
   "outputs": [],
   "source": [
    "concepts = sorted.loc[(sorted[\"page.name\"]==\"concept\") & (sorted[\"check10\"]==\"/concepts/\")]\n",
    "concepts.insert(0, \"action\", \"concepts\")"
   ]
  },
  {
   "cell_type": "code",
   "execution_count": null,
   "id": "0aafb754-d7b7-4302-a6b0-f37252174acf",
   "metadata": {},
   "outputs": [],
   "source": [
    "works =  sorted.loc[(sorted[\"page.name\"]==\"work\") & (sorted[\"page.query.workId\"].notnull()) & (sorted[\"check7\"]==\"/works/\") & (sorted[\"source\"].str.contains(\"/concepts/\")==True) ]\n",
    "works.insert(0, \"action\", \"works\")"
   ]
  },
  {
   "cell_type": "code",
   "execution_count": null,
   "id": "a8f2a1e2-8761-4930-81c6-51cb4bc81907",
   "metadata": {},
   "outputs": [],
   "source": [
    "item_view = sorted.loc[(sorted[\"page.name\"]==\"item\") & (sorted[\"check7\"]==\"/works/\") & (sorted[\"page.path\"].str.contains(\"canvas\")==False) & (\n",
    "    sorted[\"source\"].str.contains(\"work_/works/\")==True) ]\n",
    "item_view.insert(0, \"action\", \"item_view\")"
   ]
  },
  {
   "cell_type": "code",
   "execution_count": null,
   "id": "6e379faf-a004-434d-9f77-8399bd796aca",
   "metadata": {},
   "outputs": [],
   "source": [
    "image_view =  sorted.loc[(sorted[\"page.name\"]==\"image\") & (sorted[\"type\"]==\"pageview\") & (sorted[\"page.query.id\"].notnull()) & (sorted[\"source\"].str.contains(\"/concepts/\")==True)]\n",
    "image_view.insert(0, \"action\", \"image_view\")"
   ]
  },
  {
   "cell_type": "code",
   "execution_count": null,
   "id": "f569a12e-6649-4778-bbba-212ead28e4aa",
   "metadata": {},
   "outputs": [],
   "source": [
    "image_modal = sorted.loc[(sorted[\"page.name\"]==\"concept\") & (\n",
    "    sorted[\"properties.event\"]==\"Open image modal\") & (sorted[\"check10\"]==\"/concepts/\") & (sorted[\"page.path\"].str.contains(\"#\")==False)] \n",
    "image_modal.insert(0, \"action\", \"image_modal\")"
   ]
  },
  {
   "cell_type": "code",
   "execution_count": null,
   "id": "77834eef-6c09-4d6b-b0c1-1237b36cb2ad",
   "metadata": {},
   "outputs": [],
   "source": [
    "###Do we have less than 1,000 nodes?\n",
    "print(len(concepts)+len(works)+len(item_view)+len(image_view)+len(image_modal))"
   ]
  },
  {
   "cell_type": "markdown",
   "id": "f2f89c93-af00-42ef-81a3-a7f79fa9e179",
   "metadata": {},
   "source": [
    "### Creating nodes for Neo4j"
   ]
  },
  {
   "cell_type": "code",
   "execution_count": null,
   "id": "4c154c33-1127-4177-9c38-980f05edc255",
   "metadata": {},
   "outputs": [],
   "source": [
    "### CONCEPTS\n",
    "concepts[\"cypher_code\"]= \"(\" + concepts[\"page.query.conceptId\"] + \":\" + concepts[\"action\"] + \"),\"\n",
    "check=concepts[\"cypher_code\"].drop_duplicates()\n",
    "len(check)\n"
   ]
  },
  {
   "cell_type": "code",
   "execution_count": null,
   "id": "fb834404-a787-4b65-9900-635836bdf6cd",
   "metadata": {},
   "outputs": [],
   "source": [
    "### WORKS\n",
    "works[\"cypher_code\"]= \"(\" + works[\"page.query.workId\"] + \":\" + works[\"action\"] + \"),\"\n",
    "check=works[\"cypher_code\"].drop_duplicates()\n",
    "len(check)"
   ]
  },
  {
   "cell_type": "code",
   "execution_count": null,
   "id": "1e0800c4-c098-46b5-998c-807b2811da3a",
   "metadata": {},
   "outputs": [],
   "source": [
    "### ITEM_VIEW\n",
    "item_view[\"cypher_code\"]= \"(\" + item_view[\"page.path\"] + \":\" + item_view[\"action\"] + \"),\"\n",
    "item_view[\"cypher_code\"]=item_view[\"cypher_code\"].str.replace(r\"\\/\", \"\", regex=True)\n",
    "check=item_view[\"cypher_code\"].drop_duplicates()\n",
    "len(check)"
   ]
  },
  {
   "cell_type": "code",
   "execution_count": null,
   "id": "75e9d1ad-4e0a-4d43-b852-d047fe738262",
   "metadata": {},
   "outputs": [],
   "source": [
    "### IMAGE MODAL\n",
    "image_modal[\"cypher_code\"]= \"(M\" + image_modal[\"page.query.conceptId\"] + \":\" + image_modal[\"action\"] + \"),\"\n",
    "check=image_modal[\"cypher_code\"].drop_duplicates()\n",
    "len(check)"
   ]
  },
  {
   "cell_type": "code",
   "execution_count": null,
   "id": "952f7764-5597-45a6-8bb4-43a407d87be6",
   "metadata": {},
   "outputs": [],
   "source": [
    "### IMAGE VIEW\n",
    "image_view[\"cypher_code\"]= \"(\" + image_view[\"page.query.id\"] + \":\" + image_view[\"action\"] + \"),\"\n",
    "check=image_view[\"cypher_code\"].drop_duplicates()\n",
    "len(check)"
   ]
  },
  {
   "cell_type": "markdown",
   "id": "6631b353-cf8e-41de-8fd9-f644026db446",
   "metadata": {},
   "source": [
    "### Creating relationships in Neo4j"
   ]
  },
  {
   "cell_type": "code",
   "execution_count": null,
   "id": "270c6426-5279-492f-b693-9586f7a8442f",
   "metadata": {},
   "outputs": [],
   "source": [
    "concepts2works=\"(\" + works[\"sourcechop\"] + \")-[:clicked_on]->(\" + works[\"page.query.workId\"] + \"),\"\n",
    "works2item_view=\"(\" + item_view[\"sourcechop\"] + \")-[:clicked_on]->(\" + item_view[\"page.path\"].str.replace(r\"\\/\", \"\", regex=True) + \"),\"\n",
    "concepts2image_modal=\"(\" + image_modal[\"page.query.conceptId\"] + \")-[:clicked_on]->(M\" + image_modal[\"page.query.conceptId\"] + \"),\"\n",
    "image_modal2image_view=\"(M\" + image_view[\"sourcechop\"] + \")-[:clicked_on]->(\" + image_view[\"page.query.id\"] + \"),\""
   ]
  },
  {
   "cell_type": "code",
   "execution_count": null,
   "id": "49bf9ff6-a341-4c34-af56-fe21913c78eb",
   "metadata": {},
   "outputs": [],
   "source": [
    "cypher_code=pd.concat([ concepts[\"cypher_code\"], works[\"cypher_code\"], item_view[\n",
    "                  \"cypher_code\"], image_modal[\"cypher_code\"], image_view[\n",
    "                       \"cypher_code\"], concepts2works, works2item_view, concepts2image_modal, image_modal2image_view.drop_duplicates()])\n",
    "cypher_code.to_csv(\"cypher_code.csv\", index=False)"
   ]
  },
  {
   "cell_type": "markdown",
   "id": "3c936f4f-66c9-4ee9-9602-3e4963809bf5",
   "metadata": {},
   "source": [
    "### Download cypher_code. Change A1 to \"CREATE\". Finish last row with \";\"."
   ]
  },
  {
   "cell_type": "markdown",
   "id": "607874ed-2340-464d-8041-4c399265a525",
   "metadata": {},
   "source": [
    "### What do the users look like who didn't click any concepts links after viewing?"
   ]
  },
  {
   "cell_type": "markdown",
   "id": "efca276e-1d13-4e21-a4f1-260c3dba89ff",
   "metadata": {},
   "source": [
    "### Here are all the records for users who viewed a concept and didn't click any links"
   ]
  },
  {
   "cell_type": "code",
   "execution_count": null,
   "id": "2cbb7231-645b-4bc9-988e-ace18ca2d8fe",
   "metadata": {},
   "outputs": [],
   "source": [
    "concepts_clicked=pd.concat([works[\"sourcechop\"], image_modal[\"page.query.conceptId\"]]).drop_duplicates()\n",
    "concepts_clicked2=concepts_clicked.tolist()\n",
    "concepts_not_clicked=concepts.loc[(~concepts[\"page.query.conceptId\"].isin(concepts_clicked2))].drop_duplicates()\n",
    "concepts_not_clicked2=concepts_not_clicked[\"page.query.conceptId\"].tolist()\n",
    "single_concept_users=df2.loc[(df2[\"page.query.conceptId\"].isin(concepts_not_clicked2))]\n",
    "single_concept_users2=single_concept_users[\"anonymousId\"].tolist()\n",
    "single_concept_users2=df2.loc[(df2[\"anonymousId\"].isin(single_concept_users2))]"
   ]
  },
  {
   "cell_type": "markdown",
   "id": "cd4ebd69-4690-4a64-b5b1-24d9721990aa",
   "metadata": {},
   "source": [
    "### Identifying all actions including search and paging through "
   ]
  },
  {
   "cell_type": "code",
   "execution_count": null,
   "id": "97c72a15-5c37-4064-a343-ae6204e8b040",
   "metadata": {},
   "outputs": [],
   "source": [
    "search = single_concept_users2.loc[(single_concept_users2[\"page.name\"].isin([\"works\", \"search\", \"images\"]) & (\n",
    "        single_concept_users2[\"page.query.query\"].notnull()))]\n",
    "search.insert(0, \"action\", \"search\")\n",
    "search.head(1)"
   ]
  },
  {
   "cell_type": "code",
   "execution_count": null,
   "id": "47cd5070-01dc-4601-99d2-3ffa8a2e8cc7",
   "metadata": {},
   "outputs": [],
   "source": [
    "concepts = single_concept_users2.loc[(single_concept_users2[\"page.name\"]==\"concept\")]\n",
    "concepts.insert(0, \"action\", \"concepts\")"
   ]
  },
  {
   "cell_type": "code",
   "execution_count": null,
   "id": "0f5b17fe-3bdb-4b3f-8b57-b0cf4a22d60d",
   "metadata": {},
   "outputs": [],
   "source": [
    "works =  single_concept_users2.loc[(single_concept_users2[\"page.name\"]==\"work\") & (\n",
    "    single_concept_users2[\"page.query.workId\"].notnull())]\n",
    "works.insert(0, \"action\", \"works\")"
   ]
  },
  {
   "cell_type": "code",
   "execution_count": null,
   "id": "dcb674fa-ee6d-462b-b265-e020746ea4d5",
   "metadata": {},
   "outputs": [],
   "source": [
    "item_view = single_concept_users2.loc[(single_concept_users2[\"page.name\"]==\"item\") & (\n",
    "    single_concept_users2[\"properties.event\"]!=\"download\")]\n",
    "item_view.insert(0, \"action\", \"item_view\")"
   ]
  },
  {
   "cell_type": "code",
   "execution_count": null,
   "id": "4e333916-7fa1-4309-a418-54352bf41364",
   "metadata": {},
   "outputs": [],
   "source": [
    "image_view =  single_concept_users2.loc[(single_concept_users2[\"page.name\"]==\"image\") & (single_concept_users2[\"type\"]==\"pageview\") & (single_concept_users2[\"page.query.id\"].notnull())]\n",
    "image_view.insert(0, \"action\", \"image_view\")"
   ]
  },
  {
   "cell_type": "code",
   "execution_count": null,
   "id": "f0a324ff-8222-426d-8934-713258536ce1",
   "metadata": {},
   "outputs": [],
   "source": [
    "image_modal = single_concept_users2.loc[(single_concept_users2[\"properties.event\"]==\"Open image modal\")] \n",
    "image_modal.insert(0, \"action\", \"image_modal\")"
   ]
  },
  {
   "cell_type": "code",
   "execution_count": null,
   "id": "594139e2-f1b0-4b99-a3a3-4d019ad6eb99",
   "metadata": {},
   "outputs": [],
   "source": [
    "all=pd.concat([search[[\"anonymousId\", \"action\"]], concepts[[\"anonymousId\", \"action\"]], works[[\n",
    "    \"anonymousId\", \"action\"]], item_view[[\"anonymousId\", \"action\"]], image_view[[\"anonymousId\", \"action\"]],image_modal[[\"anonymousId\", \"action\"]] ])"
   ]
  },
  {
   "cell_type": "code",
   "execution_count": null,
   "id": "f8e3fddc-53f7-403d-8dad-a50f62a32f8d",
   "metadata": {},
   "outputs": [],
   "source": [
    "all[\"count_actions\"]=1"
   ]
  },
  {
   "cell_type": "code",
   "execution_count": null,
   "id": "2d44766c-ab69-4ac1-8597-bb842b42dea1",
   "metadata": {},
   "outputs": [],
   "source": [
    "all2=all.groupby([\"anonymousId\", \"action\"]).agg({'count_actions': ['sum']})"
   ]
  },
  {
   "cell_type": "code",
   "execution_count": null,
   "id": "7cf9c545-7f19-48cf-9b75-59b210eecba7",
   "metadata": {},
   "outputs": [],
   "source": [
    "all2.to_csv(\"all2.csv\")"
   ]
  }
 ],
 "metadata": {
  "kernelspec": {
   "display_name": "Python 3 (ipykernel)",
   "language": "python",
   "name": "python3"
  },
  "language_info": {
   "codemirror_mode": {
    "name": "ipython",
    "version": 3
   },
   "file_extension": ".py",
   "mimetype": "text/x-python",
   "name": "python",
   "nbconvert_exporter": "python",
   "pygments_lexer": "ipython3",
   "version": "3.11.5"
  }
 },
 "nbformat": 4,
 "nbformat_minor": 5
}

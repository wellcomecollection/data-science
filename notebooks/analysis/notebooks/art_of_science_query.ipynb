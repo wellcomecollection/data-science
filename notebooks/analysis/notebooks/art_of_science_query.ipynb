{
 "cells": [
  {
   "cell_type": "code",
   "execution_count": null,
   "metadata": {},
   "outputs": [],
   "source": [
    "import os"
   ]
  },
  {
   "cell_type": "code",
   "execution_count": null,
   "metadata": {},
   "outputs": [],
   "source": [
    "import weco_datascience\n",
    "from weco_datascience.reporting import get_recent_data\n",
    "\n",
    "df = get_recent_data(\n",
    "    config={\n",
    "        \"password\": os.environ[\"PASSWORD\"],\n",
    "        \"username\": os.environ[\"USER_NAME\"],\n",
    "        \"host\": os.environ[\"HOST\"],\n",
    "        \"index\": os.environ[\"INDEX\"],\n",
    "    },\n",
    "    n=10000,\n",
    "    index=os.environ[\"INDEX\"],\n",
    ")"
   ]
  },
  {
   "cell_type": "code",
   "execution_count": null,
   "metadata": {},
   "outputs": [],
   "source": [
    "df.head()"
   ]
  },
  {
   "cell_type": "markdown",
   "metadata": {},
   "source": [
    "Which anonymousIds viewed page.query.id:fuc864rh?"
   ]
  },
  {
   "cell_type": "code",
   "execution_count": null,
   "metadata": {},
   "outputs": [],
   "source": [
    "viewed = df.loc[(df[\"page.query.workId\"] == \"fuc864rh\")]\n",
    "\n",
    "unique_viewers = viewed[\"anonymousId\"].unique()\n",
    "unique_viewers"
   ]
  },
  {
   "cell_type": "markdown",
   "metadata": {},
   "source": [
    "Grab the searches by the anonymousIds that viewed page.query.id:fuc864rh."
   ]
  },
  {
   "cell_type": "code",
   "execution_count": null,
   "metadata": {},
   "outputs": [],
   "source": [
    "searches = df.loc[\n",
    "    (df[\"page.name\"].isin([\"images\", \"works\"]))\n",
    "    & (df[\"page.query.query\"].notnull())\n",
    "    & (df[\"properties.totalResults\"].notnull())\n",
    "    & ((df[\"page.query.page\"].isnull()) | (df[\"page.query.page\"] == 1))\n",
    "]\n",
    "\n",
    "result = searches[searches.anonymousId.isin(unique_viewers)]"
   ]
  },
  {
   "cell_type": "markdown",
   "metadata": {},
   "source": [
    "What did people query and how many times?"
   ]
  },
  {
   "cell_type": "code",
   "execution_count": null,
   "metadata": {},
   "outputs": [],
   "source": [
    "count = result.groupby(\"page.query.query\").count()[[\"anonymousId\"]]\n",
    "count"
   ]
  },
  {
   "cell_type": "markdown",
   "metadata": {},
   "source": [
    "All users conducted an image search with query, \"art of science,\" selected the red filter, \n",
    "then clicked to view the image https://wellcomecollection.org/works/fuc864rh"
   ]
  }
 ],
 "metadata": {
  "kernelspec": {
   "display_name": "Python 3 (ipykernel)",
   "language": "python",
   "name": "python3"
  },
  "language_info": {
   "codemirror_mode": {
    "name": "ipython",
    "version": 3
   },
   "file_extension": ".py",
   "mimetype": "text/x-python",
   "name": "python",
   "nbconvert_exporter": "python",
   "pygments_lexer": "ipython3",
   "version": "3.8.8"
  }
 },
 "nbformat": 4,
 "nbformat_minor": 4
}

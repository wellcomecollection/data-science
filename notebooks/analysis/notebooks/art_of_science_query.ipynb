{
 "cells": [
  {
   "cell_type": "code",
   "execution_count": null,
   "metadata": {},
   "outputs": [],
   "source": [
    "import json\n",
    "\n",
    "with open(\"passwords.json\", \"r\") as f:\n",
    "    sensitive_data = json.load(f)"
   ]
  },
  {
   "cell_type": "code",
   "execution_count": null,
   "metadata": {},
   "outputs": [],
   "source": [
    "import weco_datascience\n",
    "from weco_datascience.reporting import get_recent_data\n",
    "\n",
    "df = get_recent_data(config=sensitive_data, n=100000, index=\"conversion*\")\n",
    "df.head()"
   ]
  },
  {
   "cell_type": "markdown",
   "metadata": {},
   "source": [
    "Grab searches"
   ]
  },
  {
   "cell_type": "code",
   "execution_count": null,
   "metadata": {},
   "outputs": [],
   "source": [
    "searches = df.loc[\n",
    "    (df[\"page.name\"] == \"images\")\n",
    "    | (df[\"page.name\"] == \"works\")\n",
    "    & (df[\"page.query.query\"].notnull())\n",
    "    & (df[\"properties.totalResults\"].notnull())\n",
    "    & (df[\"page.query.page\"] == 1)\n",
    "    | (df[\"page.query.page\"].notnull())\n",
    "]"
   ]
  },
  {
   "cell_type": "markdown",
   "metadata": {},
   "source": [
    "Which anonymousIds viewed page.query.id:fuc864rh?"
   ]
  },
  {
   "cell_type": "code",
   "execution_count": null,
   "metadata": {},
   "outputs": [],
   "source": [
    "viewed = df.loc[(df[\"page.query.workId\"] == \"fuc864rh\")]\n",
    "keepers = [\"anonymousId\"]\n",
    "viewed = viewed[keepers]\n",
    "\n",
    "viewed.nunique()\n",
    "# there were 39 anonymousIds"
   ]
  },
  {
   "cell_type": "code",
   "execution_count": null,
   "metadata": {},
   "outputs": [],
   "source": [
    "searched = [\"page.query.query\", \"anonymousId\"]\n",
    "searches2 = searches[searched]\n",
    "searches2.head()"
   ]
  },
  {
   "cell_type": "markdown",
   "metadata": {},
   "source": [
    "Grab the searches by the anonymousIds that viewed page.query.id:fuc864rh."
   ]
  },
  {
   "cell_type": "code",
   "execution_count": null,
   "metadata": {},
   "outputs": [],
   "source": [
    "result = viewed.merge(searches2, how=\"left\", on=\"anonymousId\")"
   ]
  },
  {
   "cell_type": "markdown",
   "metadata": {},
   "source": [
    "What did people query and how many times?"
   ]
  },
  {
   "cell_type": "code",
   "execution_count": null,
   "metadata": {},
   "outputs": [],
   "source": [
    "count = result.groupby(\"page.query.query\").count()[[\"anonymousId\"]]\n",
    "count"
   ]
  },
  {
   "cell_type": "markdown",
   "metadata": {},
   "source": [
    "Users queried, \"art of science\"\n",
    "\n",
    "Did they query anything else?"
   ]
  },
  {
   "cell_type": "code",
   "execution_count": null,
   "metadata": {},
   "outputs": [],
   "source": [
    "result2 = viewed.merge(searches, how=\"left\", on=\"anonymousId\")\n",
    "result2 = result2.loc[(result2[\"page.query.query\"].notnull())]\n",
    "count = result2.groupby(\"page.query.query\").count()[[\"anonymousId\"]]\n",
    "count"
   ]
  },
  {
   "cell_type": "markdown",
   "metadata": {},
   "source": [
    "Apparently not!\n",
    "\n",
    "Output data to csv to check other activity"
   ]
  },
  {
   "cell_type": "code",
   "execution_count": null,
   "metadata": {},
   "outputs": [],
   "source": [
    "other_searches = df.loc[(df[\"page.query.query\"] == \"art of science\")]\n",
    "keeper = [\"anonymousId\"]\n",
    "other_searches = other_searches[keeper]\n",
    "\n",
    "other_results = other_searches.merge(df, on=\"anonymousId\", how=\"left\")\n",
    "count = other_results.groupby(\"page.query.id\").count()[[\"anonymousId\"]]\n",
    "count"
   ]
  },
  {
   "cell_type": "code",
   "execution_count": null,
   "metadata": {},
   "outputs": [],
   "source": [
    "other_results.to_csv(\"results.csv\")"
   ]
  },
  {
   "cell_type": "markdown",
   "metadata": {},
   "source": [
    "All users conducted an image search with query, \"art of science,\" selected the red filter, \n",
    "then clicked to view the image https://wellcomecollection.org/works/fuc864rh"
   ]
  }
 ],
 "metadata": {
  "kernelspec": {
   "display_name": "Python 3 (ipykernel)",
   "language": "python",
   "name": "python3"
  },
  "language_info": {
   "codemirror_mode": {
    "name": "ipython",
    "version": 3
   },
   "file_extension": ".py",
   "mimetype": "text/x-python",
   "name": "python",
   "nbconvert_exporter": "python",
   "pygments_lexer": "ipython3",
   "version": "3.9.5"
  }
 },
 "nbformat": 4,
 "nbformat_minor": 4
}

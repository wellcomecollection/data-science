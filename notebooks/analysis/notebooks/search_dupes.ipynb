{
 "cells": [
  {
   "cell_type": "markdown",
   "metadata": {},
   "source": [
    "Investigating prevalence of duplicate searches caused by filtering"
   ]
  },
  {
   "cell_type": "code",
   "execution_count": null,
   "metadata": {},
   "outputs": [],
   "source": [
    "import json\n",
    "\n",
    "with open(\"passwords.json\", \"r\") as f:\n",
    "    sensitive_data = json.load(f)"
   ]
  },
  {
   "cell_type": "code",
   "execution_count": null,
   "metadata": {},
   "outputs": [],
   "source": [
    "import weco_datascience\n",
    "from weco_datascience.reporting import get_recent_data\n",
    "\n",
    "df = get_recent_data(config=sensitive_data, n=100000, index=\"conversion*\")\n",
    "df.head()"
   ]
  },
  {
   "cell_type": "code",
   "execution_count": null,
   "metadata": {},
   "outputs": [],
   "source": [
    "# df.dtypes"
   ]
  },
  {
   "cell_type": "code",
   "execution_count": null,
   "metadata": {},
   "outputs": [],
   "source": [
    "# what time period does this start from?\n",
    "df = df.sort_values(\"@timestamp\")\n",
    "df.head()"
   ]
  },
  {
   "cell_type": "code",
   "execution_count": null,
   "metadata": {},
   "outputs": [],
   "source": [
    "# How many searches are there?\n",
    "\n",
    "# searches=df.loc[(df(['page.name']=='images') | df(['page.name']=='works'))]\n",
    "searches = df.loc[\n",
    "    (df[\"page.name\"] == \"images\")\n",
    "    | (df[\"page.name\"] == \"works\")\n",
    "    & (df[\"page.query.query\"].notnull())\n",
    "    & (df[\"properties.totalResults\"].notnull())\n",
    "    & (df[\"page.query.page\"].isnull())\n",
    "]\n",
    "len(searches)"
   ]
  },
  {
   "cell_type": "code",
   "execution_count": null,
   "metadata": {},
   "outputs": [],
   "source": [
    "# How many searches unique to users are there?\n",
    "\n",
    "searches.sort_values(\n",
    "    by=[\n",
    "        \"session.id\",\n",
    "        \"page.query.query\",\n",
    "    ]\n",
    ")\n",
    "dedup = searches.drop_duplicates(\n",
    "    subset=[\"session.id\", \"page.query.query\"], keep=\"first\"\n",
    ")\n",
    "len(dedup)"
   ]
  },
  {
   "cell_type": "markdown",
   "metadata": {},
   "source": [
    "Of 28,500 search events from the period 23-26/5/21, sorting by session.id and query term revealed only 11,182 \n",
    "unique session-specific queries. That's 39% of the total search figure that is used in the dashboards."
   ]
  }
 ],
 "metadata": {
  "kernelspec": {
   "display_name": "Python 3 (ipykernel)",
   "language": "python",
   "name": "python3"
  },
  "language_info": {
   "codemirror_mode": {
    "name": "ipython",
    "version": 3
   },
   "file_extension": ".py",
   "mimetype": "text/x-python",
   "name": "python",
   "nbconvert_exporter": "python",
   "pygments_lexer": "ipython3",
   "version": "3.9.5"
  }
 },
 "nbformat": 4,
 "nbformat_minor": 4
}

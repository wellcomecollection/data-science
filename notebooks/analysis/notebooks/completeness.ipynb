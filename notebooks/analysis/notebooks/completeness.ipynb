{
 "cells": [
  {
   "cell_type": "markdown",
   "id": "bc9ddea2-d199-401a-836a-7c722a45f7df",
   "metadata": {},
   "source": [
    "# comparing works' completeness vs clicks\n",
    "\n",
    "is there a correlation between how well described a work is (the number of fields filled out, the number of tokens in those fields, etc) and how many times they're accessed? Can we see patterns in where cataloguing effort is being spent vs the 'reward' of access?"
   ]
  },
  {
   "cell_type": "code",
   "execution_count": null,
   "id": "c1f6ba12-15eb-4551-ba0f-5d0d10281ebd",
   "metadata": {},
   "outputs": [],
   "source": [
    "import gzip\n",
    "import json\n",
    "import os\n",
    "import shutil\n",
    "from pathlib import Path\n",
    "\n",
    "import httpx\n",
    "import pandas as pd\n",
    "import seaborn as sns\n",
    "from tqdm.notebook import tqdm\n",
    "from weco_datascience import reporting"
   ]
  },
  {
   "cell_type": "markdown",
   "id": "5326e2c7-c5e0-4a39-85be-9e9448e61426",
   "metadata": {},
   "source": [
    "## start by collecting the data we'll use for the analysis"
   ]
  },
  {
   "cell_type": "code",
   "execution_count": null,
   "id": "4d59871e-e9ed-400c-b036-40ba5107960e",
   "metadata": {},
   "outputs": [],
   "source": [
    "data_dir = Path(\"../data\")\n",
    "\n",
    "if not data_dir.exists():\n",
    "    data_dir.mkdir()"
   ]
  },
  {
   "cell_type": "markdown",
   "id": "70bbe51e-f02f-457a-bd29-23f79d3dcdf4",
   "metadata": {
    "tags": []
   },
   "source": [
    "### clicks\n",
    "\n",
    "This data comes from our reporting cluster. We just want clicks on works in search results for now. Could expand this to look at images if we needed to."
   ]
  },
  {
   "cell_type": "code",
   "execution_count": null,
   "id": "743cb8ae-b225-43ee-88be-d98eb469682c",
   "metadata": {},
   "outputs": [],
   "source": [
    "clicks = reporting.query_es(\n",
    "    config=os.environ,\n",
    "    index=\"metrics-conversion-prod\",\n",
    "    query={\n",
    "        \"size\": 100000,\n",
    "        \"sort\": [{\"@timestamp\": {\"order\": \"desc\"}}],\n",
    "        \"query\": {\n",
    "            \"bool\": {\n",
    "                \"must\": [\n",
    "                    {\"range\": {\"@timestamp\": {\"lte\": \"2021-10-01T00:00:00.000Z\"}}},\n",
    "                    {\n",
    "                        \"term\": {\n",
    "                            \"page.name\": {\n",
    "                                \"value\": \"work\",\n",
    "                            }\n",
    "                        }\n",
    "                    }\n",
    "                    # {\n",
    "                    #     \"term\": {\n",
    "                    #         \"page.name\": {\n",
    "                    #             \"value\": \"image\",\n",
    "                    #         }\n",
    "                    #     }\n",
    "                    # },\n",
    "                ],\n",
    "            }\n",
    "        },\n",
    "    },\n",
    ")\n",
    "\n",
    "clicks.to_json(data_dir / \"searches.json\")"
   ]
  },
  {
   "cell_type": "code",
   "execution_count": null,
   "id": "b23e8796-0745-43aa-9199-d445ddefe8e5",
   "metadata": {},
   "outputs": [],
   "source": [
    "clicks.head()"
   ]
  },
  {
   "cell_type": "markdown",
   "id": "f3776292-3bec-48fb-ada7-bf287d46dd1a",
   "metadata": {},
   "source": [
    "get the counts of how many times each work is clicked on."
   ]
  },
  {
   "cell_type": "code",
   "execution_count": null,
   "id": "62622d5d-a69b-41b1-be21-960b279fe046",
   "metadata": {},
   "outputs": [],
   "source": [
    "click_counts = clicks[\"page.query.id\"].value_counts()\n",
    "click_counts"
   ]
  },
  {
   "cell_type": "code",
   "execution_count": null,
   "id": "850703b9-fd98-4271-b371-bbadf0f04857",
   "metadata": {},
   "outputs": [],
   "source": [
    "click_counts.plot();"
   ]
  },
  {
   "cell_type": "markdown",
   "id": "a33879bd-405c-4c86-823c-549fe970d05c",
   "metadata": {
    "tags": []
   },
   "source": [
    "Most works are almost never clicked on, and some works are clicked on a lot. unsurprisingly, most of the most-clicked works are images of naked people and genitals etc.\n",
    "\n",
    "# catalogue\n",
    "To compare how popular each work is with how complete its data is, we need to load in the full catalogue."
   ]
  },
  {
   "cell_type": "code",
   "execution_count": null,
   "id": "cf9ec233-c0cb-406e-b119-7befb24e3724",
   "metadata": {},
   "outputs": [],
   "source": [
    "url = \"https://data.wellcomecollection.org/catalogue/v2/works.json.gz\"\n",
    "filename = Path(url).name\n",
    "zipped_works_file_path = data_dir / filename\n",
    "works_file_path = data_dir / zipped_works_file_path.stem"
   ]
  },
  {
   "cell_type": "code",
   "execution_count": null,
   "id": "a1feb713-d666-482c-ae9d-8f7da3521195",
   "metadata": {},
   "outputs": [],
   "source": [
    "if not works_file_path.exists():\n",
    "    if not zipped_works_file_path.exists():\n",
    "        with open(zipped_works_file_path, \"wb\") as download_file:\n",
    "            with httpx.stream(\"GET\", url, timeout=999999) as response:\n",
    "                total = int(response.headers[\"Content-Length\"])\n",
    "                with tqdm(\n",
    "                    total=total,\n",
    "                    unit_scale=True,\n",
    "                    unit_divisor=1024,\n",
    "                    unit=\"B\",\n",
    "                    desc=filename,\n",
    "                ) as progress:\n",
    "                    num_bytes_downloaded = response.num_bytes_downloaded\n",
    "                    for chunk in response.iter_bytes():\n",
    "                        download_file.write(chunk)\n",
    "                        progress.update(\n",
    "                            response.num_bytes_downloaded - num_bytes_downloaded\n",
    "                        )\n",
    "                        num_bytes_downloaded = response.num_bytes_downloaded\n",
    "\n",
    "\n",
    "    with gzip.open(zipped_works_file_path, \"rb\") as f_in:\n",
    "        with open(works_file_path, \"wb\") as f_out:\n",
    "            shutil.copyfileobj(f_in, f_out)"
   ]
  },
  {
   "cell_type": "code",
   "execution_count": null,
   "id": "698f4b69-75a4-4095-9af5-c5872b0dd0d9",
   "metadata": {},
   "outputs": [],
   "source": [
    "def load_records(path):\n",
    "    with open(path) as f:\n",
    "        while line := f.readline():\n",
    "            yield json.loads(line)"
   ]
  },
  {
   "cell_type": "code",
   "execution_count": null,
   "id": "ada92317-e6f5-4f8a-bd79-3b156f9083d0",
   "metadata": {},
   "outputs": [],
   "source": [
    "n_records = sum([1 for _ in load_records(works_file_path)])"
   ]
  },
  {
   "cell_type": "code",
   "execution_count": null,
   "id": "dc7ce2d5-8f29-4a3e-96cb-195c8aed0e3f",
   "metadata": {},
   "outputs": [],
   "source": [
    "n_records"
   ]
  },
  {
   "cell_type": "markdown",
   "id": "f9c2dee0-aeea-4d44-9d51-57c71ca0aeb1",
   "metadata": {},
   "source": [
    "## completeness\n",
    "### number of fields\n",
    "In my mind, the simplest measure of a work's completeness is the number of fields which exist on the record."
   ]
  },
  {
   "cell_type": "code",
   "execution_count": null,
   "id": "f7256364-d545-435c-b5cf-22d01bd02e80",
   "metadata": {},
   "outputs": [],
   "source": [
    "completeness = {\n",
    "    record[\"id\"]: {key: bool(record[key]) for key in record}\n",
    "    for record in tqdm(load_records(works_file_path), total=n_records)\n",
    "}"
   ]
  },
  {
   "cell_type": "markdown",
   "id": "e51b6e8a-80c9-4bd0-8819-6f1096042eae",
   "metadata": {},
   "source": [
    "Get the count of existing fields on each record"
   ]
  },
  {
   "cell_type": "code",
   "execution_count": null,
   "id": "fe4b1d61-8e9f-4bd1-94fe-f54bb7ad8448",
   "metadata": {},
   "outputs": [],
   "source": [
    "completeness_counts = {id: sum(record.values()) for id, record in completeness.items()}"
   ]
  },
  {
   "cell_type": "markdown",
   "id": "f5bf3bad-4329-4c5e-b7d2-f4cc2b00934e",
   "metadata": {},
   "source": [
    "count the frequency of complete-field-counts across the whole catalogue"
   ]
  },
  {
   "cell_type": "code",
   "execution_count": null,
   "id": "73f86c59-109d-4384-b8d9-aba5281c5cf0",
   "metadata": {},
   "outputs": [],
   "source": [
    "pd.Series(completeness_counts).value_counts().sort_index()"
   ]
  },
  {
   "cell_type": "code",
   "execution_count": null,
   "id": "14ac9e38-ad2e-4bd0-bd08-c40fd67b3a7b",
   "metadata": {},
   "outputs": [],
   "source": [
    "pd.Series(completeness_counts).value_counts().sort_index().plot();"
   ]
  },
  {
   "cell_type": "markdown",
   "id": "d62cd590-e1a6-4b9a-b8a6-754536604b9e",
   "metadata": {
    "tags": []
   },
   "source": [
    "looks like most records have betwene 13-15 fields. Do those counts correlate with how many times a work is clicked on?"
   ]
  },
  {
   "cell_type": "code",
   "execution_count": null,
   "id": "cff4e18e-3b19-4d8f-b534-4631d4f5bae3",
   "metadata": {},
   "outputs": [],
   "source": [
    "df = pd.DataFrame(\n",
    "    {\n",
    "        id: {\"clicks\": clicks, \"completeness\": completeness_counts[id]}\n",
    "        for id, clicks in click_counts.items()\n",
    "        if id in completeness_counts\n",
    "    }\n",
    ").T\n",
    "\n",
    "df.plot.scatter(x=\"clicks\", y=\"completeness\", alpha=0.1);"
   ]
  },
  {
   "cell_type": "markdown",
   "id": "8ab0a7d8-3d86-4c86-801c-b7c2bd797075",
   "metadata": {},
   "source": [
    "Apparently not. I can't see any kind of clear correlation there"
   ]
  },
  {
   "cell_type": "code",
   "execution_count": null,
   "id": "6b8ba7c6-eaa3-4d2d-b55c-dd07882499d3",
   "metadata": {},
   "outputs": [],
   "source": [
    "df.plot.scatter(x=\"clicks\", y=\"completeness\", alpha=0.1, xlim=[0, 50]);"
   ]
  },
  {
   "cell_type": "markdown",
   "id": "5079d84d-7fb6-4c44-b1c9-1a5a1a7ee6c8",
   "metadata": {},
   "source": [
    "Even within the most concentrated section of the click data, a correlation is very hard to pick out.\n",
    "\n",
    "### token counts\n",
    "Going one step further, we could see a works completeness as the number of tokens it has in its most important fields. Surely works with more words attached to them are going to perform better in search than works which are poorly described?\n",
    "\n",
    "Let's look at the number of words (split by whitespace) in each work's title, description, subject and contributor fields."
   ]
  },
  {
   "cell_type": "code",
   "execution_count": null,
   "id": "2e7ce3ce-92c0-41c8-823a-2738bb528c93",
   "metadata": {},
   "outputs": [],
   "source": [
    "def count_tokens(record):\n",
    "    count = 0\n",
    "    count += sum(\n",
    "        [\n",
    "            len(record[field].split())\n",
    "            for field in [\"title\", \"description\"]\n",
    "            if field in record\n",
    "        ]\n",
    "    )\n",
    "    count += sum([\n",
    "        len(contributor['agent']['label'].split())\n",
    "        for contributor in record['contributors']\n",
    "    ])\n",
    "    count += sum([\n",
    "        len(subject['label'].split())\n",
    "        for subject in record['subjects']\n",
    "    ])\n",
    "    return count"
   ]
  },
  {
   "cell_type": "code",
   "execution_count": null,
   "id": "f7d297f8-502e-4a76-813d-3c1d6b5c46c7",
   "metadata": {},
   "outputs": [],
   "source": [
    "completeness = {\n",
    "    record[\"id\"]: count_tokens(record)\n",
    "    for record in tqdm(load_records(works_file_path), total=n_records)\n",
    "}"
   ]
  },
  {
   "cell_type": "code",
   "execution_count": null,
   "id": "1f4d8a1a-8c01-4c30-98fe-4e94d8e70131",
   "metadata": {},
   "outputs": [],
   "source": [
    "df = pd.DataFrame(\n",
    "    {\n",
    "        id: {\"clicks\": clicks, \"completeness\": completeness[id]}\n",
    "        for id, clicks in click_counts.items()\n",
    "        if id in completeness\n",
    "    }\n",
    ").T"
   ]
  },
  {
   "cell_type": "code",
   "execution_count": null,
   "id": "f6cc6a45-669d-4749-8915-b7b1a882ec0b",
   "metadata": {},
   "outputs": [],
   "source": [
    "df.plot.scatter(x=\"clicks\", y=\"completeness\", alpha=0.1);"
   ]
  },
  {
   "cell_type": "markdown",
   "id": "d8e90cf0-9fd2-4ba4-88f0-feec133cd716",
   "metadata": {},
   "source": [
    "Again, no sign of any correlation.\n",
    "\n",
    "We can try it on a log scale instead, to diminish the visual effect of those extreme works."
   ]
  },
  {
   "cell_type": "code",
   "execution_count": null,
   "id": "552ab91e-4a00-4008-8f83-7d68e77f1667",
   "metadata": {},
   "outputs": [],
   "source": [
    "df.plot.scatter(x=\"clicks\", y=\"completeness\", alpha=0.1, logx=True, logy=True);"
   ]
  },
  {
   "cell_type": "markdown",
   "id": "aea92d03-ae5e-4433-ba67-cdc6b3b0eff3",
   "metadata": {},
   "source": [
    "This makes a lot of sense really. Elasticsearch normalises token counts, ie diminishing the effect of each additional word in a field. Works which contain a term from a user's query once in a 4-word title are probably strongly linked to that topic, while works which mention the same term once in a 500 word description are probably not so strongly related to the topic. The lack of correlation here is in part affected by that normalisation.\n",
    "\n",
    "## further work\n",
    "\n",
    "had we found a strong correlation here, we could expand on this work by\n",
    "- using random forests to determine which fields contribute most to the views on a work\n",
    "- figuring out which individual unique terms which are most clicky\n",
    "- refining the tokenisation processes etc to match elasticsearch's approach more closely."
   ]
  }
 ],
 "metadata": {
  "kernelspec": {
   "display_name": "Python 3 (ipykernel)",
   "language": "python",
   "name": "python3"
  },
  "language_info": {
   "codemirror_mode": {
    "name": "ipython",
    "version": 3
   },
   "file_extension": ".py",
   "mimetype": "text/x-python",
   "name": "python",
   "nbconvert_exporter": "python",
   "pygments_lexer": "ipython3",
   "version": "3.8.8"
  }
 },
 "nbformat": 4,
 "nbformat_minor": 5
}

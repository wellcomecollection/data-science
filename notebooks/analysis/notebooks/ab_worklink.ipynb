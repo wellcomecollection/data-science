{
 "cells": [
  {
   "cell_type": "code",
   "execution_count": null,
   "id": "bc70794e-ddb1-4d6c-a46a-f224a573a37f",
   "metadata": {},
   "outputs": [],
   "source": [
    "import os\n",
    "\n",
    "from weco_datascience.reporting import get_recent_data"
   ]
  },
  {
   "cell_type": "code",
   "execution_count": null,
   "id": "d57332bc-036c-4fb4-a8e5-8247db3fd3e8",
   "metadata": {},
   "outputs": [],
   "source": [
    "df = get_recent_data(config=os.environ, n=200000, index=\"metrics-conversion-prod\")"
   ]
  },
  {
   "cell_type": "code",
   "execution_count": null,
   "id": "f5abd338-3fbc-4dce-9579-bb604f61a6d6",
   "metadata": {},
   "outputs": [],
   "source": [
    "print(df[\"@timestamp\"].head(1))"
   ]
  },
  {
   "cell_type": "code",
   "execution_count": null,
   "id": "cbf3f5d0-82e6-4426-874d-630cd5b36f47",
   "metadata": {},
   "outputs": [],
   "source": [
    "print(df[\"@timestamp\"].tail(1))"
   ]
  },
  {
   "cell_type": "code",
   "execution_count": null,
   "id": "be6d87c8-7fed-4bb3-93f6-90f4f6e9ec20",
   "metadata": {},
   "outputs": [],
   "source": [
    "keepers=[\"anonymousId\",\"page.name\",\"properties.toggles\",\"source\",\"@timestamp\"]\n",
    "df2=df[(keepers)]\n",
    "df3=df2.astype(str)"
   ]
  },
  {
   "cell_type": "markdown",
   "id": "338bd510-55a2-4072-96b2-f7a9dbac49b5",
   "metadata": {},
   "source": [
    "How many item views are in the A group?"
   ]
  },
  {
   "cell_type": "code",
   "execution_count": null,
   "id": "cbae19fd-b236-41c9-8ea6-ecaae4672ef2",
   "metadata": {},
   "outputs": [],
   "source": [
    "a=df3.loc[\n",
    "    (df3[\"properties.toggles\"].apply(lambda x: 'itemWorkLink' not in x)) & \n",
    "    (df3[\"page.name\"]==\"item\")\n",
    "]\n",
    "len(a)"
   ]
  },
  {
   "cell_type": "markdown",
   "id": "26ce6cb0-4709-453d-9cd4-0d5c0f21a244",
   "metadata": {},
   "source": [
    "How many item views are in the B group?"
   ]
  },
  {
   "cell_type": "code",
   "execution_count": null,
   "id": "46832533-52c0-49b0-9722-77876184772e",
   "metadata": {},
   "outputs": [],
   "source": [
    "b=df3.loc[\n",
    "    (df3[\"properties.toggles\"].apply(lambda x: 'itemWorkLink' in x)) & \n",
    "    (df3[\"page.name\"]==\"item\")\n",
    "]\n",
    "len(b)"
   ]
  },
  {
   "cell_type": "markdown",
   "id": "975f60ca-f585-4f30-8369-e57302fefd4a",
   "metadata": {},
   "source": [
    "How many unique anonymousIds are in the A's and B's?"
   ]
  },
  {
   "cell_type": "code",
   "execution_count": null,
   "id": "645b1077-a99c-4efc-9c52-1b547767771f",
   "metadata": {},
   "outputs": [],
   "source": [
    "print(\"There are\", a[\"anonymousId\"].nunique(), \"unique A's and\", (\n",
    "    b[\"anonymousId\"].nunique()), \"unique B's.\")"
   ]
  },
  {
   "cell_type": "markdown",
   "id": "8e1503d3-5281-4e33-a253-2ac4244d9cc2",
   "metadata": {},
   "source": [
    "How many unique successes are in the A and B groups?"
   ]
  },
  {
   "cell_type": "code",
   "execution_count": null,
   "id": "1acdb621-6547-4e6c-8bd6-c20bccb6b0e2",
   "metadata": {},
   "outputs": [],
   "source": [
    "a_successes=df3.loc[(df3[\"source\"].apply(lambda x: \"viewer_back_link\" in x))]\n",
    "b_successes=df3.loc[(df3[\"source\"].apply(lambda x: \"button_back_link\" in x))]\n",
    "\n",
    "print(\"There are\", a_successes[\"anonymousId\"].nunique(), \"successes in the A's and\", (\n",
    "    b_successes[\"anonymousId\"].nunique()), \"successes in the B's.\")"
   ]
  }
 ],
 "metadata": {
  "kernelspec": {
   "display_name": "Python 3 (ipykernel)",
   "language": "python",
   "name": "python3"
  },
  "language_info": {
   "codemirror_mode": {
    "name": "ipython",
    "version": 3
   },
   "file_extension": ".py",
   "mimetype": "text/x-python",
   "name": "python",
   "nbconvert_exporter": "python",
   "pygments_lexer": "ipython3",
   "version": "3.8.8"
  }
 },
 "nbformat": 4,
 "nbformat_minor": 5
}

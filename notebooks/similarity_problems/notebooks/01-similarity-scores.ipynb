{
 "cells": [
  {
   "cell_type": "code",
   "execution_count": null,
   "id": "6f9bd2d9-26a3-46de-888e-638d6f3944bb",
   "metadata": {},
   "outputs": [],
   "source": [
    "import os\n",
    "import random as random\n",
    "from tqdm.notebook import tqdm\n",
    "from elasticsearch import Elasticsearch\n",
    "import pandas as pd"
   ]
  },
  {
   "cell_type": "code",
   "execution_count": null,
   "id": "a4139bb6-e795-4aeb-8f1b-fef163a1dfc8",
   "metadata": {
    "tags": []
   },
   "outputs": [],
   "source": [
    "client = Elasticsearch(\n",
    "    os.environ[\"ELASTIC_PIPELINE_HOST\"],\n",
    "    basic_auth=(\n",
    "        os.environ[\"ELASTIC_PIPELINE_USERNAME\"],\n",
    "        os.environ[\"ELASTIC_PIPELINE_PASSWORD\"],\n",
    "    ),\n",
    ")"
   ]
  },
  {
   "cell_type": "code",
   "execution_count": null,
   "id": "68161364-ad64-4c9b-a702-b9910cf22489",
   "metadata": {},
   "outputs": [],
   "source": [
    "work_doc = client.get(index=\"works-indexed-2022-07-04\", id=\"df3sedyg\")\n",
    "image_doc = client.get(index=\"images-indexed-2022-07-04\", id=\"fdgrjrwb\")"
   ]
  },
  {
   "cell_type": "code",
   "execution_count": null,
   "id": "7337e3f1",
   "metadata": {},
   "outputs": [],
   "source": [
    "bad_image_matches = [\n",
    "    {\"source_id\": \"fdgrjrwb\", \"target_id\": \"v75jmdmc\"},\n",
    "    {\"source_id\": \"dwhuv3ph\", \"target_id\": \"cg7hzgv8\"},\n",
    "]"
   ]
  },
  {
   "cell_type": "code",
   "execution_count": null,
   "id": "b8e2721f",
   "metadata": {},
   "outputs": [],
   "source": [
    "def get_similar_images(\n",
    "    image_id: str, features: bool = True, colors: bool = True, size: int = 6\n",
    ") -> list:\n",
    "    fields = []\n",
    "    if features:\n",
    "        fields.append(\n",
    "            \"state.inferredData.lshEncodedFeatures\",\n",
    "        )\n",
    "    if colors:\n",
    "        fields.append(\"state.inferredData.palette\")\n",
    "\n",
    "    similar_images = client.search(\n",
    "        index=\"images-indexed-2022-07-04\",\n",
    "        query={\n",
    "            \"more_like_this\": {\n",
    "                \"fields\": fields,\n",
    "                \"like\": [\n",
    "                    {\n",
    "                        \"_index\": \"images-indexed-2022-07-04\",\n",
    "                        \"_id\": image_id,\n",
    "                    }\n",
    "                ],\n",
    "                \"min_term_freq\": 1,\n",
    "                \"min_doc_freq\": 1,\n",
    "                \"max_query_terms\": 1000,\n",
    "                \"minimum_should_match\": \"1\",\n",
    "            }\n",
    "        },\n",
    "        size=size,\n",
    "        _source=[\"_id\"],\n",
    "    )\n",
    "    return similar_images[\"hits\"][\"hits\"]"
   ]
  },
  {
   "cell_type": "code",
   "execution_count": null,
   "id": "08e355b3",
   "metadata": {},
   "outputs": [],
   "source": [
    "get_similar_images(bad_image_matches[0][\"source_id\"])"
   ]
  },
  {
   "cell_type": "code",
   "execution_count": null,
   "id": "4b8f0b0f",
   "metadata": {},
   "outputs": [],
   "source": [
    "def get_random_image_id():\n",
    "    random_image = client.search(\n",
    "        index=\"images-indexed-2022-07-04\",\n",
    "        query={\n",
    "            \"function_score\": {\n",
    "                \"random_score\": {\n",
    "                    \"seed\": random.randint(0, 1000000),\n",
    "                    \"field\": \"_id\",\n",
    "                }\n",
    "            }\n",
    "        },\n",
    "        size=1,\n",
    "        _source=[\"_id\"],\n",
    "    )\n",
    "\n",
    "    return random_image[\"hits\"][\"hits\"][0][\"_id\"]"
   ]
  },
  {
   "cell_type": "code",
   "execution_count": null,
   "id": "5380e6d3",
   "metadata": {},
   "outputs": [],
   "source": [
    "random_image_id = get_random_image_id()\n",
    "print(\n",
    "    f\"https://api.wellcomecollection.org/catalogue/v2/images/{random_image_id}\"\n",
    ")\n",
    "\n",
    "similar_images = get_similar_images(random_image_id)"
   ]
  },
  {
   "cell_type": "code",
   "execution_count": null,
   "id": "dd638e4f",
   "metadata": {},
   "outputs": [],
   "source": [
    "[\n",
    "    (match[\"_id\"], match[\"_score\"]) for match in similar_images\n",
    "]"
   ]
  },
  {
   "cell_type": "code",
   "execution_count": null,
   "id": "e336965b",
   "metadata": {},
   "outputs": [],
   "source": [
    "scores = []\n",
    "\n",
    "for i in tqdm(range(1000)):\n",
    "    random_image_id = get_random_image_id()\n",
    "    similar_images = get_similar_images(random_image_id)\n",
    "    scores.append(\n",
    "        {i: match[\"_score\"] for i, match in enumerate(similar_images)}\n",
    "    )"
   ]
  },
  {
   "cell_type": "code",
   "execution_count": null,
   "id": "4adf1566",
   "metadata": {},
   "outputs": [],
   "source": [
    "scores = pd.DataFrame(scores)\n",
    "scores"
   ]
  },
  {
   "cell_type": "code",
   "execution_count": null,
   "id": "c77afb8b",
   "metadata": {},
   "outputs": [],
   "source": [
    "scores.to_json(\"data/top-6-scores.json\", orient=\"records\")"
   ]
  },
  {
   "cell_type": "code",
   "execution_count": null,
   "id": "b3514c9f",
   "metadata": {},
   "outputs": [],
   "source": [
    "scores.describe()"
   ]
  },
  {
   "cell_type": "code",
   "execution_count": null,
   "id": "c11e16fc",
   "metadata": {},
   "outputs": [],
   "source": [
    "import seaborn as sns\n",
    "import matplotlib.pyplot as plt\n",
    "sns.set(style=\"darkgrid\")\n",
    "\n",
    "sns.histplot(data=scores, x=0, color=\"blue\", label=0, alpha=0.05, kde=True, binwidth=20)\n",
    "sns.histplot(data=scores, x=1, color=\"red\", label=1, alpha=0.05, kde=True, binwidth=20)\n",
    "sns.histplot(data=scores, x=2, color=\"green\", label=2, alpha=0.05, kde=True, binwidth=20)\n",
    "sns.histplot(data=scores, x=3, color=\"purple\", label=3, alpha=0.05, kde=True, binwidth=20)\n",
    "sns.histplot(data=scores, x=4, color=\"orange\", label=4, alpha=0.05, kde=True, binwidth=20)\n",
    "sns.histplot(data=scores, x=5, color=\"black\", label=5, alpha=0.05, kde=True, binwidth=20)\n",
    "\n",
    "plt.legend() \n",
    "plt.show()"
   ]
  },
  {
   "cell_type": "code",
   "execution_count": null,
   "id": "77883726",
   "metadata": {},
   "outputs": [],
   "source": [
    "scores.hist(bins=100)"
   ]
  },
  {
   "cell_type": "code",
   "execution_count": null,
   "id": "73886ceb",
   "metadata": {},
   "outputs": [],
   "source": [
    "match = bad_image_matches[1]\n",
    "\n",
    "explanation = client.explain(\n",
    "    index=\"images-indexed-2022-07-04\",\n",
    "    id=match[\"target_id\"],\n",
    "    query={\n",
    "        \"more_like_this\": {\n",
    "            \"fields\": [\n",
    "                \"state.inferredData.lshEncodedFeatures\",\n",
    "                \"state.inferredData.palette\"\n",
    "            ],\n",
    "            \"like\": [\n",
    "                {\n",
    "                    \"_index\": \"images-indexed-2022-07-04\",\n",
    "                    \"_id\": match[\"source_id\"],\n",
    "                }\n",
    "            ],\n",
    "            \"min_term_freq\": 1,\n",
    "            \"min_doc_freq\": 1,\n",
    "            \"max_query_terms\": 1000,\n",
    "            \"minimum_should_match\": \"1\",\n",
    "        }\n",
    "    },\n",
    "    _source=[\"_id\"],\n",
    ")\n",
    "import json\n",
    "print(json.dumps(explanation['explanation'], indent=2))"
   ]
  },
  {
   "cell_type": "code",
   "execution_count": null,
   "id": "3e3710f6",
   "metadata": {},
   "outputs": [],
   "source": []
  }
 ],
 "metadata": {
  "kernelspec": {
   "display_name": "Python 3 (ipykernel)",
   "language": "python",
   "name": "python3"
  },
  "vscode": {
   "interpreter": {
    "hash": "767d51c1340bd893661ea55ea3124f6de3c7a262a8b4abca0554b478b1e2ff90"
   }
  }
 },
 "nbformat": 4,
 "nbformat_minor": 5
}

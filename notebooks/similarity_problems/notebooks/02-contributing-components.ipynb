{
 "cells": [
  {
   "cell_type": "code",
   "execution_count": null,
   "id": "6f9bd2d9-26a3-46de-888e-638d6f3944bb",
   "metadata": {},
   "outputs": [],
   "source": [
    "import os\n",
    "import random as random\n",
    "from tqdm.notebook import tqdm\n",
    "from elasticsearch import Elasticsearch\n",
    "import pandas as pd\n",
    "import json"
   ]
  },
  {
   "cell_type": "code",
   "execution_count": null,
   "id": "a4139bb6-e795-4aeb-8f1b-fef163a1dfc8",
   "metadata": {
    "tags": []
   },
   "outputs": [],
   "source": [
    "client = Elasticsearch(\n",
    "    os.environ[\"ELASTIC_PIPELINE_HOST\"],\n",
    "    basic_auth=(\n",
    "        os.environ[\"ELASTIC_PIPELINE_USERNAME\"],\n",
    "        os.environ[\"ELASTIC_PIPELINE_PASSWORD\"],\n",
    "    ),\n",
    ")"
   ]
  },
  {
   "cell_type": "code",
   "execution_count": null,
   "metadata": {},
   "outputs": [],
   "source": [
    "bad_image_matches = [\n",
    "    {\"source_id\": \"fdgrjrwb\", \"target_id\": \"v75jmdmc\"},\n",
    "    {\"source_id\": \"dwhuv3ph\", \"target_id\": \"cg7hzgv8\"},\n",
    "]"
   ]
  },
  {
   "cell_type": "code",
   "execution_count": null,
   "metadata": {},
   "outputs": [],
   "source": [
    "image_id = bad_image_matches[0][\"source_id\"]"
   ]
  },
  {
   "cell_type": "code",
   "execution_count": null,
   "metadata": {},
   "outputs": [],
   "source": [
    "similar_images = client.search(\n",
    "    index=\"images-indexed-2022-07-04\",\n",
    "    query={\n",
    "        \"more_like_this\": {\n",
    "            \"fields\": [\n",
    "                \"state.inferredData.lshEncodedFeatures\",\n",
    "                \"state.inferredData.palette\"\n",
    "            ],\n",
    "            \"like\": [\n",
    "                {\n",
    "                    \"_index\": \"images-indexed-2022-07-04\",\n",
    "                    \"_id\": image_id,\n",
    "                }\n",
    "            ],\n",
    "            \"min_term_freq\": 1,\n",
    "            \"min_doc_freq\": 1,\n",
    "            \"max_query_terms\": 1000,\n",
    "            \"minimum_should_match\": \"1\",\n",
    "        }\n",
    "    },\n",
    "    size=6,\n",
    "    _source=[\"_id\"],\n",
    ")\n",
    "results = similar_images[\"hits\"][\"hits\"]"
   ]
  },
  {
   "cell_type": "code",
   "execution_count": null,
   "metadata": {},
   "outputs": [],
   "source": [
    "match = bad_image_matches[0]\n",
    "\n",
    "response = client.explain(\n",
    "    index=\"images-indexed-2022-07-04\",\n",
    "    id=match[\"target_id\"],\n",
    "    query={\n",
    "        \"more_like_this\": {\n",
    "            \"fields\": [\n",
    "                \"state.inferredData.lshEncodedFeatures\",\n",
    "                \"state.inferredData.palette\"\n",
    "            ],\n",
    "            \"like\": [\n",
    "                {\n",
    "                    \"_index\": \"images-indexed-2022-07-04\",\n",
    "                    \"_id\": match[\"source_id\"],\n",
    "                }\n",
    "            ],\n",
    "            \"min_term_freq\": 1,\n",
    "            \"min_doc_freq\": 1,\n",
    "            \"max_query_terms\": 1000,\n",
    "            \"minimum_should_match\": \"1\",\n",
    "        }\n",
    "    },\n",
    "    _source=[\"_id\"],\n",
    ")\n",
    "explanation = json.dumps(response['explanation'], indent=2)\n",
    "print(explanation)"
   ]
  },
  {
   "cell_type": "code",
   "execution_count": null,
   "metadata": {},
   "outputs": [],
   "source": []
  }
 ],
 "metadata": {
  "kernelspec": {
   "display_name": "Python 3 (ipykernel)",
   "language": "python",
   "name": "python3"
  },
  "vscode": {
   "interpreter": {
    "hash": "25a19fbe0a9132dfb9279d48d161753c6352f8f9478c2e74383d340069b907c3"
   }
  }
 },
 "nbformat": 4,
 "nbformat_minor": 2
}

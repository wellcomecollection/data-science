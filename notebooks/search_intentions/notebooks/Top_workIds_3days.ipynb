{
 "cells": [
  {
   "cell_type": "code",
   "execution_count": null,
   "metadata": {},
   "outputs": [],
   "source": [
    "from elasticsearch import helpers\n",
    "from collections import MutableMapping\n",
    "import pandas as pd\n",
    "import numpy as np\n",
    "\n",
    "\n",
    "def flatten(nested_dict, parent_key=\"\"):\n",
    "    items = []\n",
    "    for k, v in nested_dict.items():\n",
    "        if isinstance(v, MutableMapping):\n",
    "            items.extend(flatten(v, k).items())\n",
    "        else:\n",
    "            items.append((k, v))\n",
    "    return dict(items)\n",
    "\n",
    "\n",
    "query = {\n",
    "    \"sort\": [{\"timestamp\": \"desc\"}],\n",
    "    \"query\": {\"match_phrase\": {\"event\": \"Search result selected\"}},\n",
    "    \"size\": 10000,\n",
    "}\n",
    "\n",
    "response = es.search(body=query, index=\"search_relevance_implicit\")\n",
    "\n",
    "df = pd.DataFrame([flatten(event[\"_source\"]) for event in response[\"hits\"][\"hits\"]])"
   ]
  },
  {
   "cell_type": "code",
   "execution_count": null,
   "metadata": {},
   "outputs": [],
   "source": [
    "# note: Python client automatically indexes from latest to earliest.  To check start date:\n",
    "\n",
    "sorted = df.sort_values(by=[\"timestamp\"], ascending=True)\n",
    "sorted.head()"
   ]
  },
  {
   "cell_type": "code",
   "execution_count": null,
   "metadata": {},
   "outputs": [],
   "source": [
    "# data cleansing\n",
    "\n",
    "df = df.loc[df[\"network\"] != \"StaffCorporateDevices\"]  # remove staff usage\n",
    "# df=df.loc[df['timestamp'] > '2019-11-07 00:00:00']  #only use searches after AND implemented\n",
    "# df=df.loc[df['event'] != 'Search landing']\n",
    "\n",
    "df2 = df.loc[\n",
    "    df[\"timestamp\"] >= \"2020-03-01 00:00:00\"\n",
    "]  # grabs 2 days' of data, ie from 1/3/20\n",
    "\n",
    "\n",
    "df2.head(5)"
   ]
  },
  {
   "cell_type": "code",
   "execution_count": null,
   "metadata": {},
   "outputs": [],
   "source": [
    "df.sort_values(by=[\"anonymousId\", \"timestamp\"])\n",
    "unique_selects = df.drop_duplicates(subset=\"anonymousId\", keep=\"first\")\n",
    "unique_selects.head(5)"
   ]
  },
  {
   "cell_type": "code",
   "execution_count": null,
   "metadata": {},
   "outputs": [],
   "source": [
    "#How many workIds?\n",
    "summary = unique_selects.groupby(\"id\").count()[[\"anonymousId\"]]\n",
    "summary"
   ]
  },
  {
   "cell_type": "code",
   "execution_count": null,
   "metadata": {},
   "outputs": [],
   "source": [
    "#How many workIds viewed once?\n",
    "viewed_once = summary.loc[summary[\"anonymousId\"] <= 1]\n",
    "count = viewed_once[\"anonymousId\"].count()\n",
    "print(count)"
   ]
  },
  {
   "cell_type": "code",
   "execution_count": null,
   "metadata": {},
   "outputs": [],
   "source": [
    "#How many workIds viewed twice?\n",
    "viewed_twice = summary.loc[summary[\"anonymousId\"] == 2]\n",
    "count = viewed_twice[\"anonymousId\"].count()\n",
    "print(count)"
   ]
  },
  {
   "cell_type": "code",
   "execution_count": null,
   "metadata": {},
   "outputs": [],
   "source": [
    "# Create bar chart for workIds viewed more than twice.\n",
    "\n",
    "summary.sort_values(by=\"anonymousId\", ascending=False)[:20].plot.bar(legend=False)"
   ]
  },
  {
   "cell_type": "code",
   "execution_count": null,
   "metadata": {},
   "outputs": [],
   "source": [
    "# calculate skewness\n",
    "\n",
    "skew = summary.skew()\n",
    "print(skew)"
   ]
  },
  {
   "cell_type": "code",
   "execution_count": null,
   "metadata": {},
   "outputs": [],
   "source": [
    "# output data to csv to check\n",
    "\n",
    "summary.to_csv(\"skew_for_2_days.csv\")"
   ]
  }
 ],
 "metadata": {
  "kernelspec": {
   "display_name": "Python 3",
   "language": "python",
   "name": "python3"
  },
  "language_info": {
   "codemirror_mode": {
    "name": "ipython",
    "version": 3
   },
   "file_extension": ".py",
   "mimetype": "text/x-python",
   "name": "python",
   "nbconvert_exporter": "python",
   "pygments_lexer": "ipython3",
   "version": "3.7.4"
  }
 },
 "nbformat": 4,
 "nbformat_minor": 4
}

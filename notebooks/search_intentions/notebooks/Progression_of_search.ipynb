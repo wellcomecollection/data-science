{
 "cells": [
  {
   "cell_type": "code",
   "execution_count": null,
   "metadata": {},
   "outputs": [],
   "source": [
    "import pandas as pd\n",
    "import numpy as np\n",
    "\n",
    "from elasticsearch import helpers\n",
    "from collections.abc import MutableMapping"
   ]
  },
  {
   "cell_type": "code",
   "execution_count": null,
   "metadata": {},
   "outputs": [],
   "source": [
    "def flatten(nested_dict, parent_key=\"\"):\n",
    "    items = []\n",
    "    for k, v in nested_dict.items():\n",
    "        if isinstance(v, MutableMapping):\n",
    "            items.extend(flatten(v, k).items())\n",
    "        else:\n",
    "            items.append((k, v))\n",
    "    return dict(items)\n",
    "\n",
    "\n",
    "query = {\n",
    "    \"sort\": [{\"timestamp\": \"desc\"}],\n",
    "    \"query\": {\"match_phrase\": {\"event\": \"Search\"}},\n",
    "    \"size\": 100000,\n",
    "}\n",
    "\n",
    "response = es.search(body=query, index=\"search_relevance_implicit\")\n",
    "\n",
    "df = pd.DataFrame([flatten(event[\"_source\"]) for event in response[\"hits\"][\"hits\"]])"
   ]
  },
  {
   "cell_type": "code",
   "execution_count": null,
   "metadata": {},
   "outputs": [],
   "source": [
    "for col in df.columns:\n",
    "    print(col)"
   ]
  },
  {
   "cell_type": "code",
   "execution_count": null,
   "metadata": {},
   "outputs": [],
   "source": [
    "# grab only the columns needed\n",
    "df2 = df[[\"query\", \"timestamp\", \"anonymousId\", \"network\", \"event\"]]\n",
    "\n",
    "# note: Python client automatically indexes from latest to earliest.  To check start date:\n",
    "\n",
    "sorted = df2.sort_values(by=[\"timestamp\"], ascending=True)\n",
    "sorted.head(2)"
   ]
  },
  {
   "cell_type": "code",
   "execution_count": null,
   "metadata": {},
   "outputs": [],
   "source": [
    "# data cleansing\n",
    "df3 = df2.loc[(df2[\"network\"] != \"StaffCorporateDevices\") & (df2[\"event\"] == \"Search\")]\n",
    "\n",
    "# note: Python client automatically indexes from latest to earliest.  To check start date:  'Search result selected']\n",
    "df3.head()"
   ]
  },
  {
   "cell_type": "code",
   "execution_count": null,
   "metadata": {},
   "outputs": [],
   "source": [
    "# count searches and only keep data for users who search 3 times or more\n",
    "counts = df3.groupby(\"anonymousId\").count()[[\"query\"]]\n",
    "counts2 = counts.loc[(counts[\"query\"] > 3)]\n",
    "# counts2.head()"
   ]
  },
  {
   "cell_type": "code",
   "execution_count": null,
   "metadata": {},
   "outputs": [],
   "source": [
    "counts3 = counts2.drop(columns=[\"query\"])\n",
    "# counts3.head()"
   ]
  },
  {
   "cell_type": "code",
   "execution_count": null,
   "metadata": {},
   "outputs": [],
   "source": [
    "# merge\n",
    "searches_3plus = counts3.merge(df3, how=\"left\", on=\"anonymousId\")\n",
    "\n",
    "\n",
    "pd.to_datetime(stamps, format=\"%Y%m%d:%H:%M:%S.%f\").sort_values()\n",
    "\n",
    "searches_3plus.sort_values(by=\"timestamp\", ascending=False)\n",
    "searches_3plus.head()"
   ]
  },
  {
   "cell_type": "code",
   "execution_count": null,
   "metadata": {},
   "outputs": [],
   "source": [
    "# output data to csv to check\n",
    "\n",
    "searches_3plus.to_csv(\"searches_3plus.csv\")"
   ]
  }
 ],
 "metadata": {
  "kernelspec": {
   "display_name": "Python 3",
   "language": "python",
   "name": "python3"
  },
  "language_info": {
   "codemirror_mode": {
    "name": "ipython",
    "version": 3
   },
   "file_extension": ".py",
   "mimetype": "text/x-python",
   "name": "python",
   "nbconvert_exporter": "python",
   "pygments_lexer": "ipython3",
   "version": "3.7.4"
  }
 },
 "nbformat": 4,
 "nbformat_minor": 4
}

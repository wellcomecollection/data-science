{
 "cells": [
  {
   "cell_type": "markdown",
   "id": "e9a385f8-2c89-48f3-94e5-dafb1e459e91",
   "metadata": {},
   "source": [
    "# Time travel\n",
    "Using the rank cluster, we can run our collection of real search terms against the new mapping with the new query structure. We can then analyse the results according to the same set of metrics as we used for the data which was collected in real time. In other words, we can look at how search _would have_ performed if we had made these changes earlier. It's a time-travelling A/B test."
   ]
  },
  {
   "cell_type": "code",
   "execution_count": null,
   "id": "f3f11655-b6ee-4290-b909-1a0709b80f97",
   "metadata": {},
   "outputs": [],
   "source": [
    "import os\n",
    "import json\n",
    "from elasticsearch import Elasticsearch\n",
    "import numpy as np\n",
    "import pandas as pd\n",
    "from tqdm.notebook import tqdm\n",
    "from scipy import stats"
   ]
  },
  {
   "cell_type": "markdown",
   "id": "d22dfd16-bb6c-4e08-aebe-f3d282d98aec",
   "metadata": {},
   "source": [
    "## Getting queries\n",
    "Because the queries are written and tested in typescript, we need to export a json version of them before they can be used in these python notebooks. Running `yarn getQueryJSON <query_name>` will generate a `.json` version of the query alongside the `.ts` original.\n",
    "\n",
    "We can then import the query as follows:"
   ]
  },
  {
   "cell_type": "code",
   "execution_count": null,
   "id": "d5cf853e-f7ff-437b-9dd1-18ca90495393",
   "metadata": {},
   "outputs": [],
   "source": [
    "query_name = \"works-with-search-fields\""
   ]
  },
  {
   "cell_type": "code",
   "execution_count": null,
   "id": "b2909c27-30f1-479e-acaa-8e5e24da3371",
   "metadata": {},
   "outputs": [],
   "source": [
    "with open(f\"data/queries/{query_name}.json\", \"r\") as f:\n",
    "    query = json.load(f)"
   ]
  },
  {
   "cell_type": "markdown",
   "id": "587af83c-9f6c-4d69-8f57-02aec63d4d82",
   "metadata": {},
   "source": [
    "we can now open a connection to our rank cluster and run our query against it"
   ]
  },
  {
   "cell_type": "code",
   "execution_count": null,
   "id": "7a2c8071-effc-4e18-a7e2-36a3b4ee3cb7",
   "metadata": {},
   "outputs": [],
   "source": [
    "secret = lambda name: os.environ[name][1:-1]\n",
    "\n",
    "es = Elasticsearch(\n",
    "    cloud_id=secret(\"ES_RANK_CLOUD_ID\"),\n",
    "    http_auth=(secret(\"ES_RANK_USER\"), secret(\"ES_RANK_PASSWORD\")),\n",
    ")\n",
    "\n",
    "es.indices.exists(index=query_name)"
   ]
  },
  {
   "cell_type": "code",
   "execution_count": null,
   "id": "03830c8b-b852-42e4-bb88-4514c396f6e9",
   "metadata": {},
   "outputs": [],
   "source": [
    "def format_query(search_term):\n",
    "    return {\n",
    "        \"query\": json.loads(\n",
    "            json.dumps(query).replace(\n",
    "                \"{{query}}\", search_term.replace(\"'\", \"\").replace('\"', \"\")\n",
    "            )\n",
    "        )\n",
    "    }"
   ]
  },
  {
   "cell_type": "code",
   "execution_count": null,
   "id": "9598a68a-b23f-4ffd-a8c3-24329a8ae06e",
   "metadata": {},
   "outputs": [],
   "source": [
    "df = pd.read_csv(\"./searches.csv\")"
   ]
  },
  {
   "cell_type": "code",
   "execution_count": null,
   "id": "baa49208-5eb4-4ebf-ae85-1edfc2f511cf",
   "metadata": {},
   "outputs": [],
   "source": [
    "terms = df[\"search_terms\"].unique()"
   ]
  },
  {
   "cell_type": "code",
   "execution_count": null,
   "id": "c313c7c7-c542-4cc4-be3d-7bdc9b8dc017",
   "metadata": {},
   "outputs": [],
   "source": [
    "n = 5000"
   ]
  },
  {
   "cell_type": "code",
   "execution_count": null,
   "id": "99866714-e5d1-4b5d-b4ce-c188e57026ec",
   "metadata": {},
   "outputs": [],
   "source": [
    "result_totals = []"
   ]
  },
  {
   "cell_type": "code",
   "execution_count": null,
   "id": "47b142a2-bc03-4e97-8c59-e79b0666deb3",
   "metadata": {},
   "outputs": [],
   "source": [
    "for term in tqdm(terms[:n]):\n",
    "    try:\n",
    "        response = es.search(index=query_name, body=format_query(term))\n",
    "        result_totals.append(response[\"hits\"][\"total\"][\"value\"])\n",
    "    except:\n",
    "        pass"
   ]
  },
  {
   "cell_type": "code",
   "execution_count": null,
   "id": "f0269dad-d5a6-413f-bd86-aa006402d784",
   "metadata": {},
   "outputs": [],
   "source": [
    "pd.Series(result_totals).hist(bins=200);"
   ]
  },
  {
   "cell_type": "code",
   "execution_count": null,
   "id": "b7c10bb2-118e-4d6d-9ff5-13a1cf7e38cb",
   "metadata": {},
   "outputs": [],
   "source": [
    "count_2, division_2 = np.histogram(pd.Series(result_totals), bins=500)"
   ]
  },
  {
   "cell_type": "markdown",
   "id": "0b03f50c-c4af-4dd1-9dbd-de261d811609",
   "metadata": {},
   "source": [
    "Elastic limits the number of `totalResults`, which leads to a spike in at 10,000 (the max value). Instead of trying to fit an exponential to that weirdly shaped data, we just crop out the last bin from the histogram and fit to the data within the reliable range."
   ]
  },
  {
   "cell_type": "code",
   "execution_count": null,
   "id": "5d09ee32-cfe7-400e-ab46-e08b94eb66b0",
   "metadata": {},
   "outputs": [],
   "source": [
    "count_1, division_1 = np.histogram(df[\"n_results\"], bins=division_2)"
   ]
  },
  {
   "cell_type": "code",
   "execution_count": null,
   "id": "d0b81ec0-afea-408f-b192-efb7c71c8bfb",
   "metadata": {},
   "outputs": [],
   "source": []
  },
  {
   "cell_type": "code",
   "execution_count": null,
   "id": "b492329e-8f8e-4fbb-b689-d472c8a6ad31",
   "metadata": {},
   "outputs": [],
   "source": [
    "simple_result_totals = []\n",
    "for term in tqdm(terms[:n]):\n",
    "    try:\n",
    "        response = es.search(\n",
    "            index=query_name,\n",
    "            body={\n",
    "                \"query\": {\n",
    "                    \"simple_query_string\": {\n",
    "                        \"query\": term,\n",
    "                        \"fields\": [\"*\"],\n",
    "                        \"default_operator\": \"or\",\n",
    "                    }\n",
    "                }\n",
    "            },\n",
    "        )\n",
    "        simple_result_totals.append(response[\"hits\"][\"total\"][\"value\"])\n",
    "    except:\n",
    "        pass"
   ]
  },
  {
   "cell_type": "code",
   "execution_count": null,
   "id": "6bd23bbb-5754-4093-bfd2-563b3017ea00",
   "metadata": {},
   "outputs": [],
   "source": [
    "count_3, division_3 = np.histogram(pd.Series(simple_result_totals), bins=division_2)"
   ]
  },
  {
   "cell_type": "code",
   "execution_count": null,
   "id": "7a7d1859-e301-4dfb-9895-87ef90d1ef4c",
   "metadata": {},
   "outputs": [],
   "source": [
    "data = pd.DataFrame()\n",
    "data[\"old\"] = pd.Series(dict(zip(division_1, count_1)))[:9900]\n",
    "data[\"new\"] = pd.Series(dict(zip(division_2, count_2)))[:9900]\n",
    "data[\"oldest\"] = pd.Series(dict(zip(division_3, count_3)))[:9900]"
   ]
  },
  {
   "cell_type": "code",
   "execution_count": null,
   "id": "d86329bc-27ae-4d44-b0d7-94424c3f5c12",
   "metadata": {},
   "outputs": [],
   "source": [
    "data"
   ]
  },
  {
   "cell_type": "code",
   "execution_count": null,
   "id": "1cda5b08-cb6e-436d-a720-5f812c8af511",
   "metadata": {},
   "outputs": [],
   "source": [
    "data.to_csv(\"counts.csv\")"
   ]
  },
  {
   "cell_type": "code",
   "execution_count": null,
   "id": "e34261b2-26cb-4fec-b8ec-25377c3ba791",
   "metadata": {},
   "outputs": [],
   "source": [
    "from sklearn.preprocessing import MaxAbsScaler"
   ]
  },
  {
   "cell_type": "code",
   "execution_count": null,
   "id": "709155b4-d35f-4ad4-bbca-b7196966163c",
   "metadata": {},
   "outputs": [],
   "source": [
    "data[[\"old\", \"new\", \"oldest\"]] = MaxAbsScaler().fit_transform(data)"
   ]
  },
  {
   "cell_type": "code",
   "execution_count": null,
   "id": "62311100-4dfb-450d-ade9-52d35e8ee179",
   "metadata": {},
   "outputs": [],
   "source": [
    "data"
   ]
  },
  {
   "cell_type": "code",
   "execution_count": null,
   "id": "89ee5d63-c001-49ea-b290-c0ad25166c34",
   "metadata": {},
   "outputs": [],
   "source": [
    "old_fit = stats.expon.fit(data[\"old\"])\n",
    "new_fit = stats.expon.fit(data[\"new\"])\n",
    "oldest_fit = stats.expon.fit(data[\"oldest\"])\n",
    "\n",
    "old_fit, new_fit, oldest_fit"
   ]
  },
  {
   "cell_type": "code",
   "execution_count": null,
   "id": "a387ad47-9a13-4b4b-8eee-077e593f335c",
   "metadata": {},
   "outputs": [],
   "source": [
    "a = data.plot()\n",
    "a.set_xlim(0, 750)"
   ]
  },
  {
   "cell_type": "code",
   "execution_count": null,
   "id": "107b8840-c759-4d89-b460-397705da8116",
   "metadata": {},
   "outputs": [],
   "source": []
  },
  {
   "cell_type": "code",
   "execution_count": null,
   "id": "fca31d24-659e-44a2-9f42-454458330a3b",
   "metadata": {},
   "outputs": [],
   "source": []
  }
 ],
 "metadata": {
  "kernelspec": {
   "display_name": "Python 3",
   "language": "python",
   "name": "python3"
  },
  "language_info": {
   "codemirror_mode": {
    "name": "ipython",
    "version": 3
   },
   "file_extension": ".py",
   "mimetype": "text/x-python",
   "name": "python",
   "nbconvert_exporter": "python",
   "pygments_lexer": "ipython3",
   "version": "3.9.2"
  }
 },
 "nbformat": 4,
 "nbformat_minor": 5
}

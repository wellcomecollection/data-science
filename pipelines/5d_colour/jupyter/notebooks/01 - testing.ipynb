{
 "cells": [
  {
   "cell_type": "code",
   "execution_count": null,
   "id": "6f5dddca-3606-4ae6-b88e-61e565222957",
   "metadata": {},
   "outputs": [],
   "source": [
    "import json\n",
    "import httpx\n",
    "from PIL import Image\n",
    "from io import BytesIO\n",
    "import numpy as np\n",
    "from sklearn.cluster import KMeans\n",
    "from skimage.color import rgb2lab, lab2rgb"
   ]
  },
  {
   "cell_type": "code",
   "execution_count": null,
   "id": "aba79f78-6093-4421-b7bb-f282882363e8",
   "metadata": {},
   "outputs": [],
   "source": [
    "with open(\"../data/image_urls.json\", 'r') as f:\n",
    "    image_urls = json.load(f)"
   ]
  },
  {
   "cell_type": "code",
   "execution_count": null,
   "id": "6df95d4c-6fa9-4af0-b020-2c7cd5b2917d",
   "metadata": {},
   "outputs": [],
   "source": [
    "def rgb_to_palette_visualisation(rgb_colours, size=50):\n",
    "    pixels = np.concatenate([\n",
    "        np.array([colour] * size**2).reshape(size,size,3) \n",
    "        for colour in rgb_colours\n",
    "    ], axis=1)\n",
    "    return Image.fromarray(pixels)"
   ]
  },
  {
   "cell_type": "code",
   "execution_count": null,
   "id": "de3ff505-2ad2-48d9-a3f0-5dcf14fb5569",
   "metadata": {},
   "outputs": [],
   "source": [
    "def get_5d_coordinates(image):\n",
    "    rgb_colour_coords = np.array(image).reshape(-1, 3)\n",
    "    lab_colour_coords = rgb2lab(rgb_colour_coords)\n",
    "    spatial_coords = [\n",
    "        [i/image.width, j/image.height]\n",
    "        for i in range(image.width)\n",
    "        for j in range(image.height)\n",
    "    ]\n",
    "    coords = np.concatenate([lab_colour_coords, spatial_coords], axis=1)\n",
    "    return coords\n",
    "\n",
    "def cluster(coords):\n",
    "    clusterer = KMeans(n_clusters=6).fit(coords)\n",
    "    return clusterer.cluster_centers_\n",
    "\n",
    "def get_palette(image):\n",
    "    coords = get_5d_coordinates(image)\n",
    "    dominant_points = cluster(coords)\n",
    "    lab_colour_centres = dominant_points[:, :3]\n",
    "    colour_centres = (lab2rgb(lab_colour_centres)*255).astype(np.uint8)\n",
    "    return colour_centres"
   ]
  },
  {
   "cell_type": "code",
   "execution_count": null,
   "id": "3b815c61-6058-48bd-a7d4-848bdec0f6c8",
   "metadata": {},
   "outputs": [],
   "source": [
    "image_url = np.random.choice(image_urls)\n",
    "image = Image.open(BytesIO(\n",
    "    httpx.get(image_url).content\n",
    "))\n",
    "\n",
    "image"
   ]
  },
  {
   "cell_type": "code",
   "execution_count": null,
   "id": "ec8cc086-8ddb-40fe-a5ce-b3556ac030a4",
   "metadata": {},
   "outputs": [],
   "source": [
    "palette = get_palette(image)"
   ]
  },
  {
   "cell_type": "code",
   "execution_count": null,
   "id": "378d5506-b27d-4d7a-803e-c495dc0f705e",
   "metadata": {},
   "outputs": [],
   "source": [
    "rgb_to_palette_visualisation(palette)"
   ]
  },
  {
   "cell_type": "markdown",
   "id": "b8304cdd-bcb8-45c3-b64b-d57186bcfdfe",
   "metadata": {},
   "source": [
    "## try the same thing without the two spatial dimensions"
   ]
  },
  {
   "cell_type": "code",
   "execution_count": null,
   "id": "5709ad5e-1273-48d4-a5d2-e39e356ef345",
   "metadata": {},
   "outputs": [],
   "source": [
    "only_colour_centres = clusterer.fit(\n",
    "    np.array(image).reshape(-1,3)).cluster_centers_.astype(np.uint8)"
   ]
  },
  {
   "cell_type": "code",
   "execution_count": null,
   "id": "e674ae5a-3be1-40b6-9e18-7e5f85df3b4f",
   "metadata": {},
   "outputs": [],
   "source": [
    "rgb_to_palette_visualisation(only_colour_centres)"
   ]
  },
  {
   "cell_type": "code",
   "execution_count": null,
   "id": "96c62b10-140a-43f3-b36c-2e57e4f03fc5",
   "metadata": {},
   "outputs": [],
   "source": []
  }
 ],
 "metadata": {
  "kernelspec": {
   "display_name": "Python 3",
   "language": "python",
   "name": "python3"
  },
  "language_info": {
   "codemirror_mode": {
    "name": "ipython",
    "version": 3
   },
   "file_extension": ".py",
   "mimetype": "text/x-python",
   "name": "python",
   "nbconvert_exporter": "python",
   "pygments_lexer": "ipython3",
   "version": "3.9.4"
  }
 },
 "nbformat": 4,
 "nbformat_minor": 5
}
